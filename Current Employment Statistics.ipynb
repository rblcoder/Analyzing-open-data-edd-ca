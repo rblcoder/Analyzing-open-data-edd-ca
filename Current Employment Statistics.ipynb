{
 "cells": [
  {
   "cell_type": "markdown",
   "metadata": {},
   "source": [
    "Data : https://data.edd.ca.gov/Industry-Information-/Current-Employment-Statistics-CES-/r4zm-kdcg"
   ]
  },
  {
   "cell_type": "code",
   "execution_count": 1,
   "metadata": {},
   "outputs": [],
   "source": [
    "from utils import common_utils\n",
    "import ipywidgets as widgets"
   ]
  },
  {
   "cell_type": "code",
   "execution_count": 2,
   "metadata": {},
   "outputs": [],
   "source": [
    "#import utils.common_utils"
   ]
  },
  {
   "cell_type": "code",
   "execution_count": 3,
   "metadata": {},
   "outputs": [
    {
     "data": {
      "text/plain": [
       "['__init__.py', 'common_utils.py', '__pycache__', '.ipynb_checkpoints']"
      ]
     },
     "execution_count": 3,
     "metadata": {},
     "output_type": "execute_result"
    }
   ],
   "source": [
    "import os\n",
    "os.listdir('./utils/')"
   ]
  },
  {
   "cell_type": "code",
   "execution_count": 4,
   "metadata": {},
   "outputs": [
    {
     "name": "stdout",
     "output_type": "stream",
     "text": [
      "********** info **********\n",
      "<class 'pandas.core.frame.DataFrame'>\n",
      "RangeIndex: 1428738 entries, 0 to 1428737\n",
      "Data columns (total 9 columns):\n",
      "area type              1428738 non-null object\n",
      "area name              1428738 non-null object\n",
      "year                   1428738 non-null int64\n",
      "month                  1428738 non-null object\n",
      "date                   1428738 non-null object\n",
      "series code            1428738 non-null int64\n",
      "industry title         1428738 non-null object\n",
      "seasonally adjusted    1428738 non-null object\n",
      "current employment     1428738 non-null int64\n",
      "dtypes: int64(3), object(6)\n",
      "memory usage: 98.1+ MB\n",
      "None\n",
      "********** columns **********\n",
      "Index(['area type', 'area name', 'year', 'month', 'date', 'series code',\n",
      "       'industry title', 'seasonally adjusted', 'current employment'],\n",
      "      dtype='object')\n",
      "********** number of duplicated rows **********\n",
      "0\n",
      "********** number of nulls in columns **********\n",
      "area type              0\n",
      "area name              0\n",
      "year                   0\n",
      "month                  0\n",
      "date                   0\n",
      "series code            0\n",
      "industry title         0\n",
      "seasonally adjusted    0\n",
      "current employment     0\n",
      "dtype: int64\n",
      "********** describe **********\n",
      "               year   series code  current employment\n",
      "count  1.428738e+06  1.428738e+06        1.428738e+06\n",
      "mean   2.004255e+03  4.980974e+07        9.982315e+04\n",
      "std    8.495331e+00  2.886326e+07        6.106782e+05\n",
      "min    1.990000e+03  0.000000e+00       -9.000000e+02\n",
      "25%    1.997000e+03  3.100000e+07        3.800000e+03\n",
      "50%    2.004000e+03  5.051500e+07        1.290000e+04\n",
      "75%    2.012000e+03  7.071320e+07        4.090000e+04\n",
      "max    2.019000e+03  9.094000e+07        1.801640e+07\n"
     ]
    }
   ],
   "source": [
    "df_em = common_utils.load_and_describe_data('./Current_Employment_Statistics__CES_.csv')"
   ]
  },
  {
   "cell_type": "code",
   "execution_count": 5,
   "metadata": {},
   "outputs": [
    {
     "data": {
      "text/plain": [
       "[]"
      ]
     },
     "execution_count": 5,
     "metadata": {},
     "output_type": "execute_result"
    }
   ],
   "source": [
    "common_utils.check_for_constant_columns(df_em)"
   ]
  },
  {
   "cell_type": "code",
   "execution_count": 6,
   "metadata": {},
   "outputs": [
    {
     "data": {
      "application/vnd.jupyter.widget-view+json": {
       "model_id": "01d3aff7c47f40cea9064b04ed98f368",
       "version_major": 2,
       "version_minor": 0
      },
      "text/plain": [
       "Dropdown(description='Columns', index=1, options=('area type', 'area name', 'year', 'month', 'date', 'series c…"
      ]
     },
     "metadata": {},
     "output_type": "display_data"
    },
    {
     "name": "stdout",
     "output_type": "stream",
     "text": [
      "California                                           111864\n",
      "Los Angeles-Long Beach-Glendale MD                    63720\n",
      "Los Angeles County                                    63720\n",
      "Orange County                                         35754\n",
      "Anaheim-Santa Ana-Irvine MD                           35754\n",
      "San Diego County                                      35514\n",
      "San Diego-Carlsbad MSA                                35514\n",
      "Riverside-San Bernardino-Ontario MSA                  33120\n",
      "San Francisco-Redwood City-South San Francisco MD     31506\n",
      "Oakland-Hayward-Berkeley MD                           30798\n",
      "San Jose-Sunnyvale-Santa Clara MSA                    29142\n",
      "Sacramento--Roseville--Arden-Arcade MSA               29028\n",
      "Fresno MSA                                            19824\n",
      "Fresno County                                         19824\n",
      "Kern County                                           19584\n",
      "Bakersfield MSA                                       19584\n",
      "Oxnard-Thousand Oaks-Ventura MSA                      19470\n",
      "Ventura County                                        19470\n",
      "Stockton-Lodi MSA                                     18762\n",
      "San Joaquin County                                    18762\n",
      "Santa Barbara County                                  16836\n",
      "Santa Maria-Santa Barbara MSA                         16836\n",
      "Santa Rosa MSA                                        16638\n",
      "Sonoma County                                         16638\n",
      "Vallejo-Fairfield MSA                                 15654\n",
      "Solano County                                         15654\n",
      "Stanislaus County                                     14514\n",
      "Modesto MSA                                           14514\n",
      "Monterey County                                       14514\n",
      "Salinas MSA                                           14514\n",
      "                                                      ...  \n",
      "Redding MSA                                           10266\n",
      "El Centro MSA                                         10242\n",
      "Imperial County                                       10242\n",
      "Butte County                                          10194\n",
      "Chico MSA                                             10194\n",
      "Mendocino County                                       9912\n",
      "Amador County                                          9912\n",
      "Tehama County                                          9888\n",
      "Siskiyou County                                        9888\n",
      "Tuolumne County                                        9888\n",
      "Kings County                                           9558\n",
      "Yuba City MSA                                          9558\n",
      "Hanford-Corcoran MSA                                   9558\n",
      "Inyo County                                            9240\n",
      "Calaveras County                                       9204\n",
      "Plumas County                                          9204\n",
      "Lake County                                            9180\n",
      "Lassen County                                          9180\n",
      "Colusa County                                          8496\n",
      "Mariposa County                                        8472\n",
      "Glenn County                                           8472\n",
      "Nevada County                                          8472\n",
      "Del Norte County                                       7410\n",
      "Yuba County                                            7308\n",
      "Sutter County                                          7308\n",
      "Mono County                                            7260\n",
      "Trinity County                                         6372\n",
      "Modoc County                                           6018\n",
      "Sierra County                                          4224\n",
      "Alpine County                                          3714\n",
      "Name: area name, Length: 88, dtype: int64\n"
     ]
    }
   ],
   "source": [
    "common_utils.view_column_value_counts(df_em)"
   ]
  },
  {
   "cell_type": "code",
   "execution_count": 31,
   "metadata": {},
   "outputs": [
    {
     "name": "stdout",
     "output_type": "stream",
     "text": [
      "Cardinality of data\n",
      "area type : 3\n",
      "area name : 88\n",
      "year : 30\n",
      "month : 12\n",
      "date : 354\n",
      "series code : 289\n",
      "industry title : 288\n",
      "seasonally adjusted : 2\n",
      "current employment : 25753\n"
     ]
    }
   ],
   "source": [
    "common_utils.check_cardinality_of_data(df_em)"
   ]
  },
  {
   "cell_type": "code",
   "execution_count": 50,
   "metadata": {},
   "outputs": [],
   "source": [
    "#_=df_em['current employment'].plot(kind='box', logy=True)"
   ]
  },
  {
   "cell_type": "code",
   "execution_count": 49,
   "metadata": {},
   "outputs": [],
   "source": [
    "#_=df_em[['year', 'current employment']].pivot(columns='year',values='current employment').plot(kind='box', logy=True)"
   ]
  },
  {
   "cell_type": "code",
   "execution_count": 58,
   "metadata": {},
   "outputs": [],
   "source": [
    "years = df_em['year'].unique()\n",
    "#months = df_em['month'].unique()\n",
    "months = ['January', 'February', 'March', 'April', 'May', 'June', 'July',\n",
    "       'August', 'September', 'October', 'November', 'December']\n",
    "area_types = df_em['area type'].unique()\n",
    "industry_titles = df_em['industry title'].unique()"
   ]
  },
  {
   "cell_type": "code",
   "execution_count": 55,
   "metadata": {},
   "outputs": [
    {
     "data": {
      "image/png": "[encoded data removed]",
      "text/plain": [
       "<Figure size 432x288 with 1 Axes>"
      ]
     },
     "metadata": {
      "needs_background": "light"
     },
     "output_type": "display_data"
    }
   ],
   "source": [
    "_=df_em.pivot(columns='area type',values='current employment').plot(kind='box', logy=True)"
   ]
  },
  {
   "cell_type": "code",
   "execution_count": 62,
   "metadata": {},
   "outputs": [
    {
     "data": {
      "application/vnd.jupyter.widget-view+json": {
       "model_id": "7aa9f02534474c6c901ac4bbbcafc0a2",
       "version_major": 2,
       "version_minor": 0
      },
      "text/plain": [
       "interactive(children=(Dropdown(description='industry_title', options=('Total Nonfarm', 'Total Wage and Salary'…"
      ]
     },
     "metadata": {},
     "output_type": "display_data"
    }
   ],
   "source": [
    "@widgets.interact_manual(industry_title=industry_titles, area_type=area_types)\n",
    "def filter_by_year_month(industry_title=industry_titles[0], area_type=area_types[0]):\n",
    "    data=df_em.loc[(df_em['industry title']==industry_title) & (df_em['area type']==area_type)]\n",
    "    #print(data)\n",
    "    if len(data) > 0:\n",
    "        data['current employment'].plot(kind='box')"
   ]
  },
  {
   "cell_type": "code",
   "execution_count": 70,
   "metadata": {},
   "outputs": [
    {
     "data": {
      "application/vnd.jupyter.widget-view+json": {
       "model_id": "7b7759f7d9b24d2daa4ebae12bacb082",
       "version_major": 2,
       "version_minor": 0
      },
      "text/plain": [
       "interactive(children=(Dropdown(description='industry_title', options=('Total Nonfarm', 'Total Wage and Salary'…"
      ]
     },
     "metadata": {},
     "output_type": "display_data"
    }
   ],
   "source": [
    "@widgets.interact_manual(year=years, industry_title=industry_titles, area_type=area_types)\n",
    "def filter_by_year_month(industry_title=industry_titles[0], area_type=area_types[0]):\n",
    "    data=df_em.loc[(df_em['industry title']==industry_title) & (df_em['area type']==area_type)]\n",
    "    #print(data)\n",
    "    print(industry_title)\n",
    "    if len(data) > 0:\n",
    "        data[['current employment', 'year']].pivot(columns='year', values='current employment').plot(kind='box',figsize=(16,10))"
   ]
  },
  {
   "cell_type": "code",
   "execution_count": 78,
   "metadata": {},
   "outputs": [
    {
     "data": {
      "application/vnd.jupyter.widget-view+json": {
       "model_id": "4f323f1924e342148cc4fa97b30b1666",
       "version_major": 2,
       "version_minor": 0
      },
      "text/plain": [
       "interactive(children=(Dropdown(description='industry_title', options=('Total Nonfarm', 'Total Wage and Salary'…"
      ]
     },
     "metadata": {},
     "output_type": "display_data"
    }
   ],
   "source": [
    "@widgets.interact_manual(year=years, industry_title=industry_titles, area_type=area_types)\n",
    "def filter_by_year_month(industry_title=industry_titles[0], area_type=area_types[0]):\n",
    "    data=df_em.loc[(df_em['industry title']==industry_title) & (df_em['area type']==area_type)]\n",
    "    #print(data)\n",
    "    print(industry_title)\n",
    "    if len(data) > 0:\n",
    "        data_pivot = data[['current employment', 'month']].pivot(columns='month', values='current employment')\n",
    "        data_pivot = data_pivot[months]\n",
    "        data_pivot.plot(kind='box',figsize=(16,10))"
   ]
  },
  {
   "cell_type": "code",
   "execution_count": 52,
   "metadata": {},
   "outputs": [
    {
     "data": {
      "application/vnd.jupyter.widget-view+json": {
       "model_id": "46367b6502b34e7c92c2b5ea36023bfb",
       "version_major": 2,
       "version_minor": 0
      },
      "text/plain": [
       "interactive(children=(Dropdown(description='year', options=(2019, 2018, 2017, 2016, 2015, 2014, 2013, 2012, 20…"
      ]
     },
     "metadata": {},
     "output_type": "display_data"
    }
   ],
   "source": [
    "@widgets.interact_manual(year=years, month=months, area_type=area_types)\n",
    "def filter_by_year_month(year=years[0], month=months[0], area_type=area_types[0]):\n",
    "    data=df_em.loc[(df_em['year']==year) & (df_em['month']==month) & (df_em['area type']==area_type)]\n",
    "    #print(data)\n",
    "    data['current employment'].plot(kind='box', logy=True)"
   ]
  },
  {
   "cell_type": "code",
   "execution_count": null,
   "metadata": {},
   "outputs": [],
   "source": []
  }
 ],
 "metadata": {
  "kernelspec": {
   "display_name": "Python 3",
   "language": "python",
   "name": "python3"
  },
  "language_info": {
   "codemirror_mode": {
    "name": "ipython",
    "version": 3
   },
   "file_extension": ".py",
   "mimetype": "text/x-python",
   "name": "python",
   "nbconvert_exporter": "python",
   "pygments_lexer": "ipython3",
   "version": "3.6.6"
  },
  "widgets": {
   "application/vnd.jupyter.widget-state+json": {
    "state": {
     "0019ec03907d412eaeaef9f5a252c50c": {
      "model_module": "@jupyter-widgets/controls",
      "model_module_version": "1.4.0",
      "model_name": "ButtonModel",
      "state": {
       "description": "Run Interact",
       "layout": "IPY_MODEL_964d06dd06f1403a856d7b1bba0d3c0f",
       "style": "IPY_MODEL_55744e50a69c41ef8d09043398146a8e"
      }
     },
     "0087f8bc3632411cad0b8be673717c01": {
      "model_module": "@jupyter-widgets/output",
      "model_module_version": "1.0.0",
      "model_name": "OutputModel",
      "state": {
       "layout": "IPY_MODEL_ad90c76259ae426a9401230cdcd93370",
       "outputs": [
        {
         "data": {
          "image/png": "iVBORw0KGgoAAAANSUhEUgAAAUQAAAE6CAYAAABuwit3AAAABHNCSVQICAgIfAhkiAAAAAlwSFlzAAALEgAACxIB0t1+/AAAADl0RVh0U29mdHdhcmUAbWF0cGxvdGxpYiB2ZXJzaW9uIDIuMi4zLCBodHRwOi8vbWF0cGxvdGxpYi5vcmcvIxREBQAAIABJREFUeJzt3X18HNV97/HPz4/CxoEQO08Q2zQhiSwlQK0mba7aYNLmhgYS0lxukX1bclEhDrXubU1ApLotpYnAIqVPSqmKKxeSVtteAiEJ5IE0cnCUkKYmIbGxUkiLcV0ebGJiGxtbsv3rH+estDtaadfSane1+32/XvuyNXt2ztnZmd+cM+fMGXN3REQEZpW7ACIilUIBUUQkUkAUEYkUEEVEIgVEEZFIAVFEJCprQDSzTWa2x8y2F5D2T83s0fh63Mx+WooyikjtsHKOQzSzXwJeBD7t7o0n8bk24Hx3v3LaCiciNaesNUR33wLsy1xmZq83s6+Y2SNm9k0ze3OOj7YAqZIUUkRqxpxyFyCHO4C17v6Emb0duB24MP2mmS0Dzgb6y1Q+EalSFRUQzexU4B3A3WaWXjw/kexy4LPufryUZROR6ldRAZHQhP+pu583QZrLgd8uUXlEpIZU1LAbdz8APGlmlwFYcG76/Xg98eXAw2UqoohUsXIPu0kRgtubzGy3mbUCa4BWM/sB8Bjw/oyPXA78g2uKHhGZBmUddiMiUkkqqsksIlJOCogiIlHZepkXL17sy5cvL1f2IlKlHnnkkefdfclkPlu2gLh8+XK2bt1aruxFpEqZ2VOT/ayazCIikQKiiEikgCgiEikgiohECogiIpECoohIpIAoIhIpIIqIRAqIIiKRAqKISFRpM2aLiBQk4zEjABRjKkPVEEWkorS1tVFXV4eZUVdXR1tbW8507o67s6z9/qIEQ1BAFJEK0tbWRk9PDzfffDOHDh3i5ptvpqenZ9ygWGwKiCJSMTZu3EhXVxfr169nwYIFrF+/nq6uLjZu3FiS/BUQRaRiHD16lLVr12YtW7t2LUePHi1J/upUEZGKMX/+fHp6eli/fv3Isp6eHubPz348+7k3Pcj+l4ZH/l5+wwOcdspcfnDju6eUvwKiiFSMq666ivb2diDUDHt6emhvbx9Ta9z/0jA7N7w3a9nyGx6Ycv5le+peU1OTa8ZsEUlqa2tj48aNHD16lPnz53PVVVfR3d2dleYtd70l52e3XbENM3vE3Zsmk7cCoohUnMwxhrli1PIbHshZQ9y54b1TCojqVBGRilPs8YWF0jVEEZmRktcMTztl7pTXqYAoIjNOZnM5V/N5stRkFhGJVEMUkYqSOcYw3SwuxhjDQiggikhFma4xhoVQQBSRkso3pKacFBBFpKTcfcKOkEX1N/CWu25ILAMoTsfJRBQQRaSiHBzcoCaziMjJyGx6W1dxmt8KiCJScQoZdD0d1x/zBkQz2wRcDOxx98Yc718HrMlYXz2wxN33FbOgIlIb0s3lYg64LlQhA7PvBN4z3pvu/kl3P8/dzwM+BjykYCgiM1HegOjuW4BCA1wLkJpSiUREyqRo1xDNbAGhJrmuWOsUkdqU7jApVmdJoYp5L/MlwLcmai6b2dVmttXMtu7du7eIWYtINUk/YrTUA7eLGRAvJ09z2d3vcPcmd29asmRJEbMWEZm6ogREMzsNeCfw+WKsT0RqVyqVorGxkdmzZ9PY2EgqVbpuiUKG3aSAC4DFZrYbuBGYC+DuPTHZB4AH3f3QNJVTRKpAciab5Cw2qVSKjo4Oent7aW5uZmBggNbWVgBaWlqmv4CZbfVSvlauXOkiUluWtd8/4d8NDQ3e39+ftay/v98bGhoKzgPY6pOMS5ogVkQqxuDgIM3NzVnLmpubGRwcLEn+CogiUjHq6+sZGBjIWjYwMEB9fX1J8te9zCJSMsmpvZLTenV0dNDa2jrmGmJnZ2dJyqeAKCIlk5zaKzmJQ7rjpK2tjcHBQerr6+ns7CxNhwoKiCJSJJnTccHk7zBpaWkpWQBM0jVEESmKdE9tOR4wXywKiCIikZrMIlJSmdcNc038Wk4KiCJSMuWc/LUQajKLiEQKiCIikQKiiEikgCgiEikgiohE6mUWkSnLnOcQcs91OBMoIIrIlO1/aXjMMJrkfcozgZrMIiKRAqKISKQms4hMWXKew7AMMuc6TCvXM5cLoYAoInnlm9orOc8hjH8NsdKCYCY1mUUkr8xpvSo5oE2VAqKISKQms4gURbKJXGlTexVCAVFEpiz5nJRKnNqrEGoyi4hECogiIpECoohIpIAoIhIpIIqIRAqIIiKRAqKISKRxiCIyoczJX9ODr2fi5K+FUEAUkQkVOvlr5gQQlTiTTSEUEEWkKGZiAEzSNUQRkShvQDSzTWa2x8y2T5DmAjN71MweM7OHiltEEZHSKKSGeCfwnvHeNLPTgduB97l7A3BZcYomIlJaeQOiu28B9k2QZDVwr7vviun3FKlsIiIlVYxOlTcCc83sG8Ai4M/d/dNFWK+IVICTeV7KTFeMgDgHWAm8CzgFeNjMvuPujycTmtnVwNUAS5cuLULWIjLdTuZ5KTNdMXqZdwNfdfdD7v48sAU4N1dCd7/D3ZvcvWnJkiVFyFpEpHiKERA/DzSb2RwzWwC8HRgswnpFpATMbORV6woZdpMCHgbeZGa7zazVzNaa2VoAdx8EvgL8EPgu8DfuPu4QHRGpLJlP1Kt1ea8huntLAWk+CXyyKCUSkYpTDQ+QKoRu3RORCaU7VGbyw6MKpVv3REQiBUQRkUgBUUQkUkAUEYkUEEVEIgVEEZFIAVFqViqVorGxkdmzZ9PY2EgqlSp3kaTMNA5RalIqlaKjo4Pe3l6am5sZGBigtbUVgJaWvPciSJVSQJSa1NnZyerVq2lra2NwcJD6+npWr15NZ2dnTQXE5BP1qvVpeoVSQJSatGPHDg4fPjymhrhz585yF62kkk/UG29ar/TED9YV/q7W+551DVFq0rx581i3bh2rVq1i7ty5rFq1inXr1jFv3rxyF60iuXvWq1opIEpNGhoaoru7m82bNzM8PMzmzZvp7u5maGio3EWTMlKTWWrSihUruPTSS7OuIa5Zs4b77ruv3EWTMlJAlKqUnOw02czr6OjI2cvc2dlZymKWXfJ5KdX6rJRCKSBKVUoHwPGmrEr3JF944YUjy/r6+mqqhxnGPi+lWp+VUihdQ5Sa1dLSkjVbdK0FQxlLNUSpWbUwBi/z0kE19w4XiwKi1KwTy69lUebfAGwrT2GmibvXxEzXxaKAKDWr0Otn1V7Lyvze1fqslEIpIEpNKyQYVHMtq5ael1IIBUSpWYUEg+R1RqAqrzVKoIAoM06+MYaZQQzG7zBJpVKsXr06rLMr97Cb5L2+6fVJdVJAlBknXxO2kCCWnv6rv79f03/JCAVEqTrJuy/CMsi8A6Ozs5Pe3l5WrVoFwKpVq+jt7aWtrU0BsYYpIErVSfYew9ga4uDgIM3NzVnLmpubGRwczFpWSHCV6qGAKDWpvr6em266ifvuu29kcodLL72U+vr6rHSFBFepHrp1T2rSqlWr6Orq4sorr+TgwYNceeWVdHV1jTShpTaphihVKVmLS44x3Lx5M+3t7WzatInrrruO+vp62tvbc07/lW9dUj2sXCPvm5qafOvWrWXJW2a+QgcSj5du9uzZHDlyhLlzR4Pb8PAwdXV1HD9+fNL5VYrk0CMYf/xktd2JY2aPuHvTZD6rGqLUpPr6egYGBrKayAMDA2OuIc5UJzN+shqCYLHoGqLUpI6ODlpbW7MeIdDa2kpHR0e5iyZlpBqizCjFupUuPdYw8xEC1fQIUg0XmhwFRJlRCm0KZl4Xs67czcKWlpaqCYBJGi40OQqIUpV0XUwmI+81RDPbZGZ7zGz7OO9fYGb7zezR+PqD4hdT5OSkUikaGxuZPXs2jY2NpFKpchepqMws6yXFUUinyp3Ae/Kk+aa7nxdffzT1YolMXnrihu7ubo4cOUJ3dzcdHR2TDopmxlNdF1dU4Ml8Foxqw8WTt8ns7lvMbPn0F0Ukv1JP3JBKpWhoaBjpeEmlUjPmuqMGlE9C+gwz0QtYDmwf570LgJ8APwC+DDQUss6VK1e6SBIw8splWfv9eZfNmjXLh4aGspYNDQ35rFmzTqosfX19fvbZZ3t/f78PDQ15f3+/n3322d7X13dS65kuubbFVNJVC2CrFxCDcr2KMQ7xe8Aydz8X6AbG3vsUmdnVZrbVzLbu3bu3CFlLtfGMpuBkpQddZ5rMoOvMmubcuXNHapq19jD7WjLlgOjuB9z9xfj/LwFzzWzxOGnvcPcmd29asmTJVLMWyalYg64LnSJMqseUh92Y2auB59zdzexthCD7kymXTKbdTL2HNd+1sWINuq722/tkrLwB0cxShOuEi81sN3AjMBfA3XuA/wF8xMyOAS8Bl/tMOrpqmM/Ap8kV+pS4Ygy6Ttc0e3t7sx4zoCZz9Sqkl3nCvcrdPwV8qmglEqkQ1X57n4ylO1VEJlDNt/fJWAqIMqGZep2x1PI9GlVmBk3/JRMqxjCYWpAex1aKbXXuTQ+OdCwtv+EBlt/wAOfe9OC05lkrFBBlSgq9Z7iQdMkDXQd5bukZfzJfydmxZXLUZJZxJeceTM47mEql+PCHP8yRI0c4ceIEjz/+OB/+8IeB7Ie9p+8tTvbWJtMlp/bSdFVTl27KjzcFmmRTDVHGlayJJGsh69at4/Dhw2zYsIFDhw6xYcMGDh8+zLp167LS6Y6P4gr3c78l67Wo/oacaTNvS5P8FBBl0vbt28ctt9zC+vXrWbBgAevXr+eWW25h3759WekGBwe5++67qaurw8yoq6vj7rvvHueh8PkP8mpWyKWFg4Mb2HbFtqzXwcENZSht9VGTuUblaw4XqrGxccK/AU4//XTuuOMObr31VtauXUtPTw/XX389p59+ela65CzPtdZkLvTSgkwfBcQaVcj1uuRUW8lptubMmcOaNWu45557Rg7gNWvWMGdO9m514MAB6urq6O7u5rrrrmPp0qXU1dVx4MCBon+vmayY05bJ5Cggyrjy1djWrl3L7bffzoUXXpi1PHkN8dixYyO1wfS1rFNOOYVDhw5NqlyZHQWZ65zpNJlE+SkgyoQyg2ByEoXu7m4ANm7cyNGjR5k/fz5XXXXVyPI0M+Oyyy7j9ttvH1l2zTXX0NPTc1L5pVVLAExKTyaReYLp7+/POZmEJn+dJpOdSHGqL00QW17JSUMnmkS0kAlGJ0oD+Jw5c/y2227zQ4cO+W233eZz5sw5qUlgZ4qplD1zQtqlH70v74S0M3k7TSemMEGsaog1Kt/1wUIV8pzkhoYGzjnnHK699lquvfZaAC699FKeeOKJyX+BKpQ5mcSuHYO0fVmTSZSaAmKNKlaP7onl17IouQyAbSN/H3jzJdz/T3/Lqy6/mflnreDo7h186St/wZ23/8mk8qxm6ckklt/wANtn0LRs1UIBUSaU706H35v3e3R2dvLYjkEaVtTT0dExpkZz2iX3c9olS4C+sKARlrxncdXUfDJryTC1YUxSXgqIMqFcQTAtPW7uySefBOCxxx5j9erVQPa4uYODGzi04yH2P/yPDP9kN3NfcRavfudquGLsOmfirWbJIUxQe2Moq4XuVJFJ6+zsZPXq1TQ0NDBr1iwaGhro6OgYc0veLecewL5zJ8PP7wI/wfDzuziypTfnXRiZF7hFSk0BUSZtx44d9PX1ZT0Qvq+vjx07dmSlu/7665kzZw79/f0MDQ3R39/PnDlzuP7667PSFTpzzkxmZiMvqTwKiFUo86CbzgNv3rx5rFu3LmvShnXr1jFv3rysdLt37+auu+7KSnfXXXexe/fukTTp5ndmcO3o6Ki6oOh55kzUFGjlpYBYhdJNznyTlaYnF013ApysoaEhuru7sx732d3dzdDQ0Ji0mzdvzqr9bd68Oet9zYgT5JthSKaXOlVqVKFPr5vIihUrOOecc7joootG7lS56KKLWLhwYVa6M844g1tvvXXM5A5nnHHGSBrdthYUOj60Wm9fLDcFRJm0VatW0dPTQ1dX10iga29vZ+3atVnpFixYwPHjx+nu7uajH/0oy5Yt49RTT2XBggUjaWbyM5CTQSwsg8kMdC90fKgC4PRQk1kmbfPmzbS3t7Np0yYWLVrEpk2baG9vH9Mcfvrpp+nu7mbhwoWYGQsXLqS7u5unn356JE36GciZze/W1lY6OjpK/bVOmuYnrB6qIcqkDQ4O8v3vf59PfOITI8uGh4e55ZZbstLV19dz1llnsX379pFlmzdvzqr96RnIowqZ4EKmhwKiTFqhzdx07S858Wmyw6Tan4FcyKS8xbi2K5OngCiTdjKBDlT700O0Kp8CokzayQS6aq/9SXVQQJQpUaALCpmwtZAhNalUauR+cOuCvr4+bd8SUkAUmaJkM3i8a3/5htSk79bp7+/XQ6bKRAGxymgqqplLD5kqPwXEKqOpqMoj857xiaYum2hIje7WKT8FRJEiKOTOkXxDamby3TrVQneqiFSImXy3TrVQDbGGzcTZqauZxmuWnwJiDVMQrDwaxlReeQOimW0CLgb2uHvjBOl+DngYuNzdP1u8IsrJKObMKyK1ppAa4p3Ap4BPj5fAzGYDXYCm9y2z5Fg3UC+zSKHyBkR332Jmy/MkawPuAX6uCGWSCWQO71CTd+bRddvKNuVeZjM7E/gA8FdTL47kU8ijAaRy6amCla0Yw27+DGh39xP5EprZ1Wa21cy27t27twhZi4gUTzF6mZuAf4hNgcXAr5rZMXe/L5nQ3e8A7gBoamrSKVJEKsqUA6K7n53+v5ndCdyfKxhK6RQy84qIjFXIsJsUcAGw2Mx2AzcCcwHcvWdaSycnrdCZV0RkrEJ6mQseJeruH5pSaUREykj3MouIRAqIIiKR7mWeQZJPbQM0+atIESkgziCa/FVkeqnJLCISKSCKiEQKiCIikQKiiEikgCgiEqmXeQYpdDbsQh+JKSLZFBBnkEJnw1YAFJkcNZlFRCIFRBGRSAFRRCRSQBQRidSpUkEKeaKeZsMWmT4KiBXE3Sec5Tq9XDNhi0wPNZlFRCIFRBGRSAFRRCRSQBQRiRQQRUQiBUQRkUgBUUQkUkAUEYk0MLtCJB8xqseLipSeAmKFSD5iVI8XFSk9BcQZJn2/s2bCFik+BcQZRkFQZPqoU0VEJFINsUIkHyCV6+FRIjK9FBArRPIBUupUESk9NZlFRCIFRBGRSAFRRCTSNcQSyHxWChT2vBQ9K0Wk9PLWEM1sk5ntMbPt47z/fjP7oZk9amZbzay5+MWc2dwdd2dZ+/3jBsOdG9470qmyc8N7ddueSBkU0mS+E3jPBO9/HTjX3c8DrgT+pgjlEhEpubwB0d23APsmeP9FH632LAR0K4WIzEhF6VQxsw+Y2Y+ABwi1xPHSXR2b1Vv37t1bjKxFRIqmKAHR3T/n7m8GLgU+PkG6O9y9yd2blixZUoysRUSKpqjDbmLz+mfMbHEx1ysiUgpTDohm9gaL40rM7GeB+cBPprpeEZFSyzsO0cxSwAXAYjPbDdwIzAVw9x7gg8Bvmtkw8BLw6645qkZkzoQNmg1bpJLlDYju3pLn/S6gq2glqjLJmbBBEzeIVCrduiciEikgiohECogiIpEmd5hmyZmwwzLQbNgilUcBcZolZ8KG8TtV9EQ9kfJSQJyiQqf2KoSCoEh56RriFGVO66WAJjKzqYZYAskmsiZ/FalMCojTLPkkveT1RBGpHBUTEDOvxanpKSLlUDHXEPNNsS8iMt0qJiCKiJSbAqKISFQR1xAzp8iaSdNjJcsNzJiyi8hYFREQTyy/lkWZfwOwrTyFOQma2kukulREk/ng4Aa2XbFt5HVwcEPOdGY28ppuqVSKxsZGZs+eTWNjI6lUatrzFJHyqogaImTXrMYbuOzuJRnLl0ql6OjooLe3l+bmZgYGBmhtbQWgpWXC+XJFZAariICYDnCVMnC5s7OT3t5eVq1aBcCqVavo7e2lra1NAVGkilVEQKw0g4ODNDc3Zy1rbm5mcHAwa1mhU3tlNvE1k41I5ZoxAbGUPdH19fUMDAyM1BABBgYGqK+vz0pX6NReCoAiM8OMCYil7Inu6OigtbV1zDXEzs7OaclPRCpDRQTEVCrF6tWrgdCk7OvrG3OtLlkbm87hLem8L7zwwpFlucqUqxyayUZk5ip7QEz36Pb39+ft0S2kJ7pYWlpaaGlpmbCjp9I6g0RkasoeEAvt0VXwEZHpVvaB2YX26IqITLeyB8R0j26mXD26EIavPNV18ZTvVNFdKCKSS9mbzCfTo1vI8JV8D30q9C6UmTrhhIhMQfrhSKV+rVy50tP6+vq8oaHBZ82a5Q0NDd7X1+dTsaz9/nHfa2ho8P7+/qxl/f393tDQMOE6JlrnRO+JSGkBW32ScansNUQY7dGdqkKm49I1SxEZT0UExGJJDt6GsQO4C70LRURqT1UFxEJupSv0mmXyPuVc9yiLSHWpqoAI+e8cKfQulFLeGSMilcG8TBMPNDU1+datW6dl3YUO3p4oXa7AmquXOV+vtoiUlpk94u5Nk/ls1dUQ88nseIHxh9QUemeMAqBI9ai6gJiusVlX+DsZsPQcFBEZT96AaGabgIuBPe7emOP9NUA7YMBB4CPu/oNiF7RQ+WpshU7qKiK1p5Aa4p3Ap4BPj/P+k8A73f0FM7sIuAN4e3GKV3y5HmClKbtEBAoIiO6+xcyWT/D+tzP+/A5w1tSLNX2SPccTXR/MbH7rWqFI9Sv25A6twJeLvM6ySKVSNDQ0MGvWLBoaGjQBhEgNKFqnipmtIgTE5gnSXA1cDbB06dJiZT0pE9X+9BhSkdpU0DjE2GS+P1enSnz/rcDngIvc/fFCMp7OcYhT1djYSHd3d9btfZs3b6atrY3t27eXsWQiks9UxiFOuclsZkuBe4HfKDQYVjpNACFSm/IGRDNLAQ8DbzKz3WbWamZrzWxtTPIHwCuA283sUTOrzGrfSTiZSWtFpHoU0ss84UUzd/8t4LeKVqIKoMeQitSmqrtTpRjSHSdtbW0MDg5SX19PZ2enOlREqlxVTu4gIrWrrJ0qIiLVQgFRRCRSQBQRiRQQRUQiBUQRkUgBUUQkUkAUEYkUEEVEorINzDazvcBTicWLgefzfLRYaZRf9Zep2vOrxDJVQn7L3H1JAZ8by90r5gVsLVUa5Vf9Zar2/CqxTJWaX6EvNZlFRCIFRBGRqNIC4h0lTKP8Sp9G+ZU+jfI7CWXrVBERqTSVVkMUESmbaZ0g1sw2ARcDezw+oMrMzgV6gFOBncAa4M9iurnAbuAE8BeEmbhPBV4A3gIsAvYDXwCagHnAsZh+J7AcWBGz/3SONP8BvBV4dVz2OGA51lMHrAReBhyP6ZJl2gn8FPifgAOpccr0c4RhAcPAYeA5YHYizYeAbwFviOXZHdedzu9lhOddH4/bwIB/jZ9P5vcN4CbCbzsb+EnM8/8B/yduo2PA0vj+i8BjwJnAUeAg4ZEQO4HN8XOzY/lfAp6J6+mI63pFLN9LwC7C8Ifkug4A58SyAvx7/H9mmn1AA6P75C7CCTtZpt8Fbgd+IW6PgznK9AbgUFzXEPD9HGV6hvA7ryDsd8eAvfFz6TT7Cb/1mTHN/PhdnkrkVwecEfN7Edg+Tn5nA0vi77cfOA34BPBLcT07gc8Cf5qxHWYBNwCbgH+M6RbF/NL79BzgtYl17QPeBJwS1/Ni/C6ZaZ4Dzo3fzQj754IcZfpdoBt4R8zLc5TpdfH3mB3zeyZHmZ6Jn2+M2yzt4xlp9sTtdSZhH5kXv2d7Ir8T8XU8lnExcD7Q4e5/nF6xmf1f4Kr4/Ta6+58xgemuId4JvCex7G+AG9z9LYQn9V0X020CiMt/hRAMPhb/Pgv4NvA2YCFwZlx+mLCBz43r2gVcRPjy5EjzBcLO+jbCDvNK4Poc6/kecCnwx3FdnTnK9LlYrn7iTjBOmRy4ghDUv+DuK3KkuRf4bszvACEYZ+bXQNgpvwi8nbAjPJUjv88Tdq73AdcSAvlc4LeBjbGsP0/YUb/g7nXAtrg93he/92vd/Zy4vduBXwV+g7Cv7AduBvqAr8d0XyIE4YcIz9dpyrGu7wJfi/mtA95MOBFmpukH7o1priQEtdZEmq8DawknjG8RDp4XcpRpCPhsXNf/HqdM3yQcxB8AVhP8WiLNZ4F/At4J/CbhpLAnM7/42xLTLiCcEHJtz6fjNjwV+FlCMPx74MKMcvcDXcCvE4LnU4RA9kpCAEqnexD4CvBj4N1xvXcm1vUdYIu7z2f05H5fIs1DwOfjdmqM5X8gkSa9zb8H3A/8c9wPkmU6wug+VT9Omb5JOCGsJwTrZ3Nsgy9mbPNlhOP0QGZ+wAVxPV+KFa3jwFcJx88IM2skBMO3EY6Pi83sDUxgWgOiu28hfKFMbwS2xP9/DfhgTPdawo+Pu+8hnI0Pm9lrCAHg7LiuYUbPnj9DODia4rrOJgQBCDtXMs0DhJrRvrj+HxCCWnI9l8QypWtlnlmmuN5vEYLTbYSgmSu/rxF2xAPxs+OleQfwkfQ2cPfnc+T3NUJt8zRCAE7lWNfXCWfUfyPUfJ4l1CBOIdQqHo3pf0g4KCEE7IOEM/LbgKG4zZ+N3/sbwLsIAfKnhBrnYuDL8fPXEX5TCAfnYI51/RHhgCN+hyOEgyYzzV/E7ZlezzChJp+Z5i5CS2JWLPdgfCXLdIxQg5yoTF8FTnP3r2WkeUWO/H7F3b9HCOTfBXYk8nPC/vQL8fc6I27/ZH6PA/Pd/Zi7Pxa37+sJteK7Ylm3AXPd/Yvu/p+ESsIw4Td/f0a69vg53P1Jwu96SmJdGwhBB3ffTgjUZyTSfCr+HgD/Sajl1yXS3EWoZJwH/GX8rntzlOlgel0TlOkuQpDrjWm+T9iXk2nS2/ytwI8INdlkfi8B7zOzdEvoW3FbZaoH/tndD7v7McIJ4NeYQDmuIT5G+GIAlxHO0hB2yJeZ2RwzOzsu+yBhxzqRke4I8Oa4IX5MqPG8LrEuGN1Y46UZAv4boXYzJo2ZfZWw8WYDn0urmXgGAAAHzUlEQVSUCULPlsXy+AT5zQc+SQiM7TnS/EbM4+OEM+Wrzey1OfJLl/0SQpDMld8HCDvFNkIN7DzCQfAs4ey/IKY/G3hN/HwjYWf7Z+BVhFrJmYSa+PyY95mEg+D1MZ0Rap7EdZ8R//+GWI7kup6Nf0MIxPMINeNkmleb2Q/jNjlKCDiZaZ4jnKQ+CrycsF+cn6NM84HXm9l3MrZNskxnAHPN7F6ghXDw/MsE5V5BqOFk5efuDxNOVucQmoQvEmovyfwGgNPNbIGZnR+XDQOL3P2ZmEcd2ZexjhD2m13AqzLSPRvzSD8z/XxCQFuUSPOqmKY5pv9hrjRm9ijh951FqCQk07yO0JI6QQhyr8lRpmPAcjN7xMw+Nk6ZFsQ8/tbMHiOcaJ8br9zA5YQTV1Z+8WRxK2F/ewbY7+4PMtZ24BfN7BVmtoDQ2nldjnQjyhEQrwSuMbNHCLWWobj8/xN2kK2Ea4rfIpy5P0MIGOl0LxJ2lK2EGsthQjMjc11OqDWNl2Y2oemyFbg7Vxp3/++EpoYTagUjZTKzHYQfLV17Oz5BfgcJlw2eiH//WyLNaYSD69uEZsIQ4YfMzC9zW11CaLblyu80wgF1PuFMnK4ZfoKwwx539xcItdEFcf2nAT929wO5fy6I2+uXCc2rrHQehil4TLMS+PPx0pjZ6wkBcaO778+R5gShtnyI0Cw7hWzXEH6b3YR99+eB38lR9mWE7f5bhGvPn8mRZk58/UEs/5OMnnyS5X4NYTv+WjK/2ASrJ/wObyQccLm204OE/fs7hJrKtwm/SU5mdirhOuUuwslhTLniNrgH+J3x0pjZqwhB5ba4TXKtp5mwfz5F2B8yvRc44e6PEH6PlYTm+tFEuua4/g8Cv0+oMCTTpGtzdxKO4W8QatG5yj2PcNnhg8n8zOzlhErVfkKraqGZ/a9EXrj7IOG4SF9ieJRwrI6r5AHR3X/k7u9295WEZt+/xbeOA8+6+3nu/n7C2X4NodZERro5hOtR57n7uwg/5PsS68Ldf3eCNLcQDqwL8qznJcKZ8yuJMnUTaiinEgLqPOD8cdb1RFzXCeBG4IuJNL3xvXvjNvgP4JnM/DK21dOEHeqlcb7fDwnBcRfhBLMJeDiu6xijly+2MhqYdxM6OSCcrZcRzuyHgKNmNpdQi3yBcGBBOIiGAWKweIFwoOwgBJasdcU0zxOaSD9m9JJJMs0ewgG+PZbvFxNlWkWo1e0kNLMWMnpAjZQpbs89hCDwPKMX+jPX9VJ83UZotTxECNa5ynR5XPd33f3eRH4fiOXdQ+jIezqWK9f320Wo0fxh3O4/AQ7G9yAEiWNxm98Tt2f6fv/n0ukytufrgL/PKNPBRJo98bv9k7u3T5Dmnlj2uwm1rswyvRuYHbf5fYQTafoB5c9lpEtv878m1KSPJPMjnNCPAR8jXDvsItT+cpXp4viZuwitx8z8fplQk3zO3YcJx847yMHde919pbv/EmE/fTxXurSSB0Qze2X8dxahB7MnvlVH7Awxs18hjJHcwej1g3SV+HRCtMfMLiNs4B8l1oWZLRwnzXOEs/2z46T5Q0avzy2MaX+UKNNfE4LDRwhN2SHCmTS5rt8H/i6uaxbhrLY9R5m2Ei4U18X8dmTml7GtdhE6hmycsl9OOFD/jhAkXwQG47qeZ3SnuYZwMP973OYvMzMjNBnnx+bLq2PazxCa4GcBXzWznyccyBfF968gBPIXCZ1Pv5ljXVcSdvzvEy6o50rTFtczCPw54XrUvybS/AuhB3YLoWn3DPCxzDLF2sOV8fs9Gf9dmSO/t8bvvjOW+/2EAJSZ5gpCR9XvEWoXiy3I3Aa7CDXHY7G8+4A35cjvQ4SgMUjoNHgrIejvYLRj5q2xvP8Y13VW/Jf4u6fTXRHzO+ruf8KoHYk0rwT+I54Qc6W5JqNMf0XoyHs+kebpjG3+RcJxmA7AXwCuiPviVbHs6ZbQ9hz5/SrhWHk2lvtdhApHstyfJ5yovpf4fultsCt+9oG4nd/FaNDMkhFvlhJ+p75c6UbS+zQOzDazFOFAX0wIRDcSalW/HZPcSzhb9BG+1BLCD/0EoYaT7v37NqHX91RCYDlO2JAHGR0ycS+hlvQmRgP9i4QfNJ3ma4Sd4Bij12r2x7Kl03yFcIH8nJhfeohMskz3Es7+meVOlumLhF7ORYwOV3g2R7n/inDwvDymGy+/dYQa4MvjslzbYDbhGtvRuHyYsLN8CPgTQqfSGfF1NJZnYfz8C3GbvZxQM9lGaI4Nxdc8QhBqJQSJpYRLB4vidztGqHUdTqxrNuG6ZbrWMDe+vzcjzQlCkzOd5lh8L1mm2wg927sJ+9WsRJneSOgcOSWua2/8f/L7/ZTQEZXOz+L7yfw+Q2jibSME9Zfl2AanEfaBo4QONMuR3wFCDfRo/K7p32aYcM3zPwkB/CFCJ9QwozXbl+LnH2f0+mf6uu2xmN9QYl1DhN789PebH5cdzUhzhHBt9Aij12CP5ihTeps/Fb+vJ8q0jLAfnBI/vz9+52OJde2L2/yl+LvNi3kn8/tLwr78r4ROwNk5tkH6uBwi7N+/EH+bE3Gbr3D3A2b2TcL+MAysd/evMwHdqSIiEulOFRGRSAFRRCRSQBQRiRQQRUQiBUQRkUgBUUQkUkAUEYkUEEVEov8CEJTq/NXE25wAAAAASUVORK5CYII=\n",
          "text/plain": "<Figure size 360x360 with 1 Axes>"
         },
         "metadata": {
          "needs_background": "light"
         },
         "output_type": "display_data"
        }
       ]
      }
     },
     "0102202e544d485ab1c10ac0f941841d": {
      "model_module": "@jupyter-widgets/controls",
      "model_module_version": "1.4.0",
      "model_name": "DescriptionStyleModel",
      "state": {
       "description_width": ""
      }
     },
     "014e79564d31464a8f7e45751d999a59": {
      "model_module": "@jupyter-widgets/controls",
      "model_module_version": "1.4.0",
      "model_name": "VBoxModel",
      "state": {
       "_dom_classes": [
        "widget-interact"
       ],
       "children": [
        "IPY_MODEL_bf4f0948fbb74052afd96f01c2c1a5ad",
        "IPY_MODEL_a3b4a740b2304d0987e7e6b6994d7a85",
        "IPY_MODEL_4cd24c7e0d754e6cba51efbd7a371043",
        "IPY_MODEL_6a7292d9a0e749d18e0bd2e3cb096572"
       ],
       "layout": "IPY_MODEL_3ebbd6dbe96842d1aeb585d8156d7a15"
      }
     },
     "015ff7e2b89942268bd040f430046f89": {
      "model_module": "@jupyter-widgets/base",
      "model_module_version": "1.1.0",
      "model_name": "LayoutModel",
      "state": {}
     },
     "016f9aac3c7e4a678bff5d9412e80a07": {
      "model_module": "@jupyter-widgets/controls",
      "model_module_version": "1.4.0",
      "model_name": "VBoxModel",
      "state": {
       "_dom_classes": [
        "widget-interact"
       ],
       "children": [
        "IPY_MODEL_5285bda5a60f486ab5efbdc70533bd40",
        "IPY_MODEL_e0d3cee400c04128b4788f9b43a00f16",
        "IPY_MODEL_9f3c4c3216c44dd488242738ff20038f",
        "IPY_MODEL_085578754f9d43e5bec45c99f51caa02"
       ],
       "layout": "IPY_MODEL_40287aef1421455cb72d4e8bf6fb60e4"
      }
     },
     "01d3aff7c47f40cea9064b04ed98f368": {
      "model_module": "@jupyter-widgets/controls",
      "model_module_version": "1.4.0",
      "model_name": "DropdownModel",
      "state": {
       "_options_labels": [
        "area type",
        "area name",
        "year",
        "month",
        "date",
        "series code",
        "industry title",
        "seasonally adjusted",
        "current employment"
       ],
       "description": "Columns",
       "index": 1,
       "layout": "IPY_MODEL_f95773b55f1749c19694d19d05b674e3",
       "style": "IPY_MODEL_c14e56bb9cf34096acbb57e363a32b28"
      }
     },
     "02e54d8c244743348dfa84fbaa5c821d": {
      "model_module": "@jupyter-widgets/controls",
      "model_module_version": "1.4.0",
      "model_name": "DescriptionStyleModel",
      "state": {
       "description_width": ""
      }
     },
     "03087a96af25464688c7454d5963c188": {
      "model_module": "@jupyter-widgets/base",
      "model_module_version": "1.1.0",
      "model_name": "LayoutModel",
      "state": {}
     },
     "032caa0fb8e84038850ba051f17dc033": {
      "model_module": "@jupyter-widgets/base",
      "model_module_version": "1.1.0",
      "model_name": "LayoutModel",
      "state": {}
     },
     "033af7363e284c1cbfc5d1a6a20dfc24": {
      "model_module": "@jupyter-widgets/controls",
      "model_module_version": "1.4.0",
      "model_name": "DescriptionStyleModel",
      "state": {
       "description_width": ""
      }
     },
     "0497ec5dab8e41869556b50bb6ba3cc6": {
      "model_module": "@jupyter-widgets/controls",
      "model_module_version": "1.4.0",
      "model_name": "VBoxModel",
      "state": {
       "_dom_classes": [
        "widget-interact"
       ],
       "children": [
        "IPY_MODEL_8a6fc87bf91b48d4ad1c1097ccc6a4aa",
        "IPY_MODEL_696ad5e11dfc4e47acf6d2d70bf45ec2",
        "IPY_MODEL_d7853847989144b5bcb7016be6c4a298",
        "IPY_MODEL_b286be5e746845629848a68f2bbcf703",
        "IPY_MODEL_4f312463ca3645ee9648efbae052aa71",
        "IPY_MODEL_1c63e82e79444f4a8cd0d9feaa97b87a"
       ],
       "layout": "IPY_MODEL_f9769289f9d94edead002ef41296a334"
      }
     },
     "04a043ed713249c496ac74eceb1cc70c": {
      "model_module": "@jupyter-widgets/base",
      "model_module_version": "1.1.0",
      "model_name": "LayoutModel",
      "state": {}
     },
     "04f6b66769134b48ad1fc8b475d556b2": {
      "model_module": "@jupyter-widgets/controls",
      "model_module_version": "1.4.0",
      "model_name": "DescriptionStyleModel",
      "state": {
       "description_width": ""
      }
     },
     "05a2999b50f44ba6a2548977de182a31": {
      "model_module": "@jupyter-widgets/controls",
      "model_module_version": "1.4.0",
      "model_name": "DescriptionStyleModel",
      "state": {
       "description_width": ""
      }
     },
     "060e7da1399644a38a112c7cce36559f": {
      "model_module": "@jupyter-widgets/controls",
      "model_module_version": "1.4.0",
      "model_name": "DropdownModel",
      "state": {
       "_options_labels": [
        "Total Nonfarm",
        "Total Wage and Salary",
        "Total Private",
        "Goods Producing",
        "Service Providing",
        "Private Service Providing",
        "Mining and Logging",
        "Logging",
        "Mining",
        "Oil & Gas Extraction",
        "Mining, except Oil & Gas",
        "Support Activities for Mining",
        "Total Farm",
        "Natural Resources, Mining and Constructi",
        "Construction",
        "Construction of Buildings",
        "Residential Building Construction",
        "Nonresidential Building Construction",
        "Heavy and Civil Engineering Construction",
        "Utility System Const.",
        "L& Subdivision",
        "Highway, Street, and Bridge Const",
        "Other Heavy & Civil Engineer",
        "Specialty Trade Contractors",
        "Building Foundation and Exterior Contrac",
        "Building Equipment Contractors",
        "Building Finishing Contractors",
        "Other Specialty Trade Contract",
        "Manufacturing",
        "Durable Goods",
        "Wood Product Manufacturing",
        "Other Wood Product Mfg.",
        "Nonmetallic Mineral Product Mfg.",
        "Primary Metal Manufacturing",
        "Fabricated Metal Product Mfg",
        "Architectural & Structural Metals Mfg.",
        "Machine Shops & Threaded Product Mfg.",
        "Other Fabricated Metal Product Mfg.",
        "Machinery Manufacturing",
        "Industrial Machinery Manufacturing",
        "Commercial and Service Industry Manufact",
        "Metalworking Machinery Mfg.",
        "ResidualOther General Purpose Machinery",
        "Computer and Electronic Product Manufact",
        "Computer and Peripheral Equipment Manufa",
        "Electronic Computer Manufacturing",
        "Communications Equipment Manufacturing",
        "Semiconductor and Electronic Component M",
        "Bare Printed Circuit Board Manufacturing",
        "Semiconductor and Related Devices Manufa",
        "Electronic Instrument Manufacturing",
        "Electrical Equipment and Appliance Manuf",
        "Transportation Equipment Manufacturing",
        "Motor Vehicle Mfg.",
        "Aerospace Product and Parts Manufacturin",
        "Ship and Boat Building",
        "Furniture and Related Product Manufactur",
        "Household and Institutional Furniture Ma",
        "Miscellaneous Durable Goods Manufacturing",
        "Medical Equipment & Supplies Mfg.",
        "Other Miscellaneous Durable Goods Mfg.",
        "Nondurable Goods",
        "Food Manufacturing",
        "Fruit & Vegetable Preserving & Specialty",
        "Dairy Product Manufacturing",
        "Animal Slaughtering and Processing",
        "Bakeries and Tortilla Manufacturing",
        "Other Food Mfg.",
        "Beverage and Tobacco Product Mfg",
        "ResidualTextile Mills",
        "Textile Product Mills",
        "Apparel Manufacturing",
        "Apparel Knitting Mills",
        "Cut and Sew Apparel Manufacturing",
        "Paper Manufacturing",
        "Converted Paper Product Mfg.",
        "Printing and Related Support Activities",
        "Petroleum and Coal Products Manufacturin",
        "Chemical Manufacturing",
        "Pharmaceutical and Medicine Manufacturin",
        "Soap, Cleaning Compound & Toiletry Mfg.",
        "Plastics and Rubber Products Manufacturi",
        "Trade, Transportation and Utilities",
        "Wholesale Trade",
        "Merchant Wholesalers, Durable Goods",
        "Motor Vehicle and Motor Vehicle Parts Me",
        "Furniture & Home Furnish Merch whole",
        "Lumber & Other Const. Mat Merch whole",
        "Professional and Commercial Equipment Me",
        "Electrical and Electronic Goods Merchant",
        "Hdwr, Plumb & Heating Merchant whole",
        "Machinery, Equipment and Supplies Mercha",
        "Merchant Wholesalers, Nondurable Goods",
        "Paper & Paper Products Merchant whole",
        "Apparel, Piece Gds & Notions Merch whole",
        "Grocery & Related Products Merchant whol",
        "Chemical & Allied Products Merchant whol",
        "Misc Nondurable Merchant Wholesalers",
        "Wholesale Electronic Markets and Agents",
        "Retail Trade",
        "Motor Vehicle and Parts Dealer",
        "Automobile Dealers",
        "Other Motor Vehicle Dealers",
        "Automotive Parts, Accessories and Tire S",
        "Furniture and Home Furnishings Stores",
        "Furniture Stores",
        "Home Furnishings Stores",
        "Electronics and Appliance Stores",
        "Building Material and Garden Equipment S",
        "Building Material and Supplies Dealers",
        "Food and Beverage Stores",
        "Grocery Stores",
        "Specialty Food Stores",
        "Beer, Wine, & Liquor Stores",
        "Health and Personal Care Stores",
        "Gasoline Stations",
        "Clothing and Clothing Accessories Stores",
        "Clothing Stores",
        "Jewelry, Luggage & Leather Gds Stores",
        "Sporting Goods, Hobby, Book and Music St",
        "Sporting Goods, Hobby and Musical Instru",
        "Book, Periodical and Music Stores",
        "General Merchandise Stores",
        "Department Stores",
        "Miscellaneous Store Retailers",
        "Office Supplies, Stationery & Gift Store",
        "Used Merch&ise Stores",
        "Other Miscellaneous Store Retailers",
        "Nonstore Retailers",
        "Electronic Shopping & Mail-Order",
        "Transportation, Warehousing and Utilitie",
        "Utilities",
        "Electric Power Gen, Trans & Distribution",
        "Natural Gas Distribution",
        "Transportation and Warehousing",
        "Air Transportation",
        "Scheduled Air transp.",
        "Truck Transportation",
        "General Freight Trucking",
        "Specialized Freight Trucking",
        "Transit and Ground Passenger Transportat",
        "Support Activities for Transportation",
        "Support Activities for Water transp.",
        "Support Activities for Road transp.",
        "Freight transp. Arrangement",
        "Couriers and Messengers",
        "Warehousing and Storage",
        "Information",
        "Publishing Industries (except Internet)",
        "Newspaper, Periodical, Book and Director",
        "Software Publishers",
        "Motion Picture and Sound Recording",
        "Motion Picture & Video Industries",
        "Motion Picture & Video Production",
        "Broadcasting (except Internet)",
        "Radio and Television Broadcasting",
        "Cable and Other Subscription Programming",
        "Telecommunications",
        "Wired Telecommunications Carriers",
        "Data Processing, Hosting & Related Services",
        "Other Information Serv.",
        "Financial Activities",
        "Finance and Insurance",
        "Credit Intermediation and Related Activi",
        "Depository Credit Intermediation",
        "Nondepository Credit Intermediation",
        "Activities Related to Credit Intermediat",
        "Securities, Commodity Contracts and Inve",
        "Securities & Commodity Contracts",
        "Other Financial Investment Activities",
        "Insurance Carriers and Related",
        "Insurance Carriers",
        "Agencies, Brokerages, and Other Insuranc",
        "Real Estate and Rental and Leasing",
        "Real Estate",
        "Lessors of Real Estate",
        "Offices of Real Estate Agents and Broker",
        "Activities Related to Real Estate",
        "Rental and Leasing Services",
        "Automotive Equipment Rental and Leasing",
        "Consumer Goods Rental",
        "General Rental Centers",
        "Comm & Industrial Mach Rental & Leasing",
        "Professional and Business Services",
        "Professional, Scientific and Technical S",
        "Legal Services",
        "Accounting, Tax Preparation and Bookkeep",
        "Architectural, Engineering and Related S",
        "Specialized Design Services",
        "Computer Systems Design and Related Serv",
        "Management, Scientific and Technical Con",
        "Scientific Research and Development Serv",
        "Advertising and Related Services",
        "Other Professional, Scientific and Techn",
        "Management of Companies and Enterprises",
        "Administrative and Support and Waste Ser",
        "Administrative and Support Services",
        "Office Administrative Services",
        "Facilities Support Serv.",
        "Employment Services",
        "Business Support Services",
        "Travel Arrangement and Reservation Servi",
        "Investigation and Security Services",
        "Services to Buildings and Dwellings",
        "ResidualOther Support Services",
        "Waste Management and Remediation Service",
        "Educational and Health Services",
        "Educational Services",
        "Elementary and Secondary Schools",
        "Junior Colleges",
        "Colleges, Universities and Professional",
        "Other Schools & Instruction",
        "Health Care and Social Assistance",
        "Ambulatory Health Care Services",
        "Offices of Physicians",
        "Offices of Dentists",
        "Offices of Other Health Practitioners",
        "Outpatient Care Centers",
        "Medical & Diagnostic Laboratories",
        "Home Health Care Serv.",
        "Other Ambulatory Health Care Serv.",
        "Hospitals",
        "General Medical & Surgical Hosp.s",
        "Psychiatric & Substance Abuse Hosp",
        "Specialty (not Psych, Sub Abuse) Hosp.",
        "Nursing and Residential Care Facilities",
        "Nursing Care Facilities",
        "Residential Mental Retardation, Mental a",
        "Comm Care Facilities for the Elderly",
        "Other Residential Care Facilities",
        "Social Assistance",
        "Individual and Family Services",
        "Community Food & Housing, & Emergency &",
        "Vocational Rehabilitation Services",
        "Child Day Care Services",
        "Leisure and Hospitality",
        "Arts, Entertainment, and Recreation",
        "Performing Arts, Spectator Sports",
        "Performing Arts Companies",
        "Spectator Sports",
        "Independent Artists, Writers, and Perfor",
        "Museums, Historical Sites, and Similar I",
        "Amusement, Gambling, and Recreation",
        "Amusement Parks and Arcades",
        "Gambling Industries",
        "Other Amusement and Recreation",
        "Accommodation and Food Service",
        "Accommodation",
        "Food Services and Drinking Places",
        "Special Food Services",
        "Drinking Places (Alcoholic Beverages)",
        "Full-Service Restaurants",
        "Limited-Service Eating Places",
        "Other Services",
        "Repair and Maintenance",
        "Auto Repair & Maintenance",
        "Commercial & Industrial Machinery",
        "Personal & Household Goods Repair",
        "Personal and Laundry Services",
        "Personal Care Serv.",
        "Drycleaning & Laundry Serv.",
        "Other Personal Services",
        "Religious, Grantmaking, Civic, Professio",
        "Religious Organizations",
        "Grantmaking & Giving Serv.",
        "Social Advocacy Organizations",
        "Civic & Social Organizations",
        "Bus,Labor, Political & Other like Org.",
        "Government",
        "Federal Government",
        "Federal Government excluding Department of Defense",
        "Department of Defense",
        "State Government",
        "State Government Education",
        "State Government Excluding Education",
        "Local Government",
        "Indian Tribes",
        "Local Government Education",
        "Local Government Excluding Education",
        "County",
        "City",
        "Special Districts",
        "State and Local Government",
        "Miscellaneous Durable Goods Merchant Who",
        "Real Estate and Rental and Leasing - Residual",
        "Restaurants",
        "Special Districts plus Indian Tribes",
        "Private Service Providing - Residual"
       ],
       "description": "industry_title",
       "index": 0,
       "layout": "IPY_MODEL_c3036d37509d4ebc8ed03d80a0788170",
       "style": "IPY_MODEL_90b953be378d401593b4fe286708ac80"
      }
     },
     "061b07f6e9e34b8c88b674a3f755a926": {
      "model_module": "@jupyter-widgets/base",
      "model_module_version": "1.1.0",
      "model_name": "LayoutModel",
      "state": {}
     },
     "078fd2e93bb14dc282a83254ecbb776d": {
      "model_module": "@jupyter-widgets/base",
      "model_module_version": "1.1.0",
      "model_name": "LayoutModel",
      "state": {}
     },
     "079503a51cb54c8aa5e21e0bd2397f88": {
      "model_module": "@jupyter-widgets/controls",
      "model_module_version": "1.4.0",
      "model_name": "DescriptionStyleModel",
      "state": {
       "description_width": ""
      }
     },
     "07a2a100f1974ad6a52067017806397e": {
      "model_module": "@jupyter-widgets/controls",
      "model_module_version": "1.4.0",
      "model_name": "ButtonStyleModel",
      "state": {}
     },
     "07aab0e04cc74544ba641ac4ef6a7dcf": {
      "model_module": "@jupyter-widgets/controls",
      "model_module_version": "1.4.0",
      "model_name": "IntSliderModel",
      "state": {
       "description": "x",
       "layout": "IPY_MODEL_4280e4cb1a8545a0bba4cf713309cf90",
       "max": 15,
       "min": -5,
       "style": "IPY_MODEL_884f17fa2f554f4d8ac6e62a3c2f600b",
       "value": 5
      }
     },
     "07ed6effe9c14d519415f3cafd244c46": {
      "model_module": "@jupyter-widgets/base",
      "model_module_version": "1.1.0",
      "model_name": "LayoutModel",
      "state": {}
     },
     "081be684b5444002943fe3dd13eb9bb1": {
      "model_module": "@jupyter-widgets/base",
      "model_module_version": "1.1.0",
      "model_name": "LayoutModel",
      "state": {}
     },
     "085578754f9d43e5bec45c99f51caa02": {
      "model_module": "@jupyter-widgets/output",
      "model_module_version": "1.0.0",
      "model_name": "OutputModel",
      "state": {
       "layout": "IPY_MODEL_0f5118f22ab343a6a2a5bd6532b55eb9",
       "outputs": [
        {
         "ename": "KeyError",
         "evalue": "'area_type'",
         "output_type": "error",
         "traceback": [
          "\u001b[0;31m---------------------------------------------------------------------------\u001b[0m",
          "\u001b[0;31mKeyError\u001b[0m                                  Traceback (most recent call last)",
          "\u001b[0;32m/opt/conda/lib/python3.6/site-packages/pandas/core/indexes/base.py\u001b[0m in \u001b[0;36mget_loc\u001b[0;34m(self, key, method, tolerance)\u001b[0m\n\u001b[1;32m   3077\u001b[0m             \u001b[0;32mtry\u001b[0m\u001b[0;34m:\u001b[0m\u001b[0;34m\u001b[0m\u001b[0m\n\u001b[0;32m-> 3078\u001b[0;31m                 \u001b[0;32mreturn\u001b[0m \u001b[0mself\u001b[0m\u001b[0;34m.\u001b[0m\u001b[0m_engine\u001b[0m\u001b[0;34m.\u001b[0m\u001b[0mget_loc\u001b[0m\u001b[0;34m(\u001b[0m\u001b[0mkey\u001b[0m\u001b[0;34m)\u001b[0m\u001b[0;34m\u001b[0m\u001b[0m\n\u001b[0m\u001b[1;32m   3079\u001b[0m             \u001b[0;32mexcept\u001b[0m \u001b[0mKeyError\u001b[0m\u001b[0;34m:\u001b[0m\u001b[0;34m\u001b[0m\u001b[0m\n",
          "\u001b[0;32mpandas/_libs/index.pyx\u001b[0m in \u001b[0;36mpandas._libs.index.IndexEngine.get_loc\u001b[0;34m()\u001b[0m\n",
          "\u001b[0;32mpandas/_libs/index.pyx\u001b[0m in \u001b[0;36mpandas._libs.index.IndexEngine.get_loc\u001b[0;34m()\u001b[0m\n",
          "\u001b[0;32mpandas/_libs/hashtable_class_helper.pxi\u001b[0m in \u001b[0;36mpandas._libs.hashtable.PyObjectHashTable.get_item\u001b[0;34m()\u001b[0m\n",
          "\u001b[0;32mpandas/_libs/hashtable_class_helper.pxi\u001b[0m in \u001b[0;36mpandas._libs.hashtable.PyObjectHashTable.get_item\u001b[0;34m()\u001b[0m\n",
          "\u001b[0;31mKeyError\u001b[0m: 'area_type'",
          "\nDuring handling of the above exception, another exception occurred:\n",
          "\u001b[0;31mKeyError\u001b[0m                                  Traceback (most recent call last)",
          "\u001b[0;32m/opt/conda/lib/python3.6/site-packages/ipywidgets/widgets/interaction.py\u001b[0m in \u001b[0;36mupdate\u001b[0;34m(self, *args)\u001b[0m\n\u001b[1;32m    249\u001b[0m                     \u001b[0mvalue\u001b[0m \u001b[0;34m=\u001b[0m \u001b[0mwidget\u001b[0m\u001b[0;34m.\u001b[0m\u001b[0mget_interact_value\u001b[0m\u001b[0;34m(\u001b[0m\u001b[0;34m)\u001b[0m\u001b[0;34m\u001b[0m\u001b[0m\n\u001b[1;32m    250\u001b[0m                     \u001b[0mself\u001b[0m\u001b[0;34m.\u001b[0m\u001b[0mkwargs\u001b[0m\u001b[0;34m[\u001b[0m\u001b[0mwidget\u001b[0m\u001b[0;34m.\u001b[0m\u001b[0m_kwarg\u001b[0m\u001b[0;34m]\u001b[0m \u001b[0;34m=\u001b[0m \u001b[0mvalue\u001b[0m\u001b[0;34m\u001b[0m\u001b[0m\n\u001b[0;32m--> 251\u001b[0;31m                 \u001b[0mself\u001b[0m\u001b[0;34m.\u001b[0m\u001b[0mresult\u001b[0m \u001b[0;34m=\u001b[0m \u001b[0mself\u001b[0m\u001b[0;34m.\u001b[0m\u001b[0mf\u001b[0m\u001b[0;34m(\u001b[0m\u001b[0;34m**\u001b[0m\u001b[0mself\u001b[0m\u001b[0;34m.\u001b[0m\u001b[0mkwargs\u001b[0m\u001b[0;34m)\u001b[0m\u001b[0;34m\u001b[0m\u001b[0m\n\u001b[0m\u001b[1;32m    252\u001b[0m                 \u001b[0mshow_inline_matplotlib_plots\u001b[0m\u001b[0;34m(\u001b[0m\u001b[0;34m)\u001b[0m\u001b[0;34m\u001b[0m\u001b[0m\n\u001b[1;32m    253\u001b[0m                 \u001b[0;32mif\u001b[0m \u001b[0mself\u001b[0m\u001b[0;34m.\u001b[0m\u001b[0mauto_display\u001b[0m \u001b[0;32mand\u001b[0m \u001b[0mself\u001b[0m\u001b[0;34m.\u001b[0m\u001b[0mresult\u001b[0m \u001b[0;32mis\u001b[0m \u001b[0;32mnot\u001b[0m \u001b[0;32mNone\u001b[0m\u001b[0;34m:\u001b[0m\u001b[0;34m\u001b[0m\u001b[0m\n",
          "\u001b[0;32m<ipython-input-37-4b15409bc881>\u001b[0m in \u001b[0;36mfilter_by_year_month\u001b[0;34m(year, month)\u001b[0m\n\u001b[1;32m      1\u001b[0m \u001b[0;34m@\u001b[0m\u001b[0mwidgets\u001b[0m\u001b[0;34m.\u001b[0m\u001b[0minteract_manual\u001b[0m\u001b[0;34m(\u001b[0m\u001b[0myear\u001b[0m\u001b[0;34m=\u001b[0m\u001b[0myears\u001b[0m\u001b[0;34m,\u001b[0m \u001b[0mmonth\u001b[0m\u001b[0;34m=\u001b[0m\u001b[0mmonths\u001b[0m\u001b[0;34m,\u001b[0m \u001b[0marea_type\u001b[0m\u001b[0;34m=\u001b[0m\u001b[0marea_types\u001b[0m\u001b[0;34m)\u001b[0m\u001b[0;34m\u001b[0m\u001b[0m\n\u001b[1;32m      2\u001b[0m \u001b[0;32mdef\u001b[0m \u001b[0mfilter_by_year_month\u001b[0m\u001b[0;34m(\u001b[0m\u001b[0myear\u001b[0m\u001b[0;34m=\u001b[0m\u001b[0myears\u001b[0m\u001b[0;34m[\u001b[0m\u001b[0;36m0\u001b[0m\u001b[0;34m]\u001b[0m\u001b[0;34m,\u001b[0m \u001b[0mmonth\u001b[0m\u001b[0;34m=\u001b[0m\u001b[0mmonths\u001b[0m\u001b[0;34m[\u001b[0m\u001b[0;36m0\u001b[0m\u001b[0;34m]\u001b[0m\u001b[0;34m)\u001b[0m\u001b[0;34m:\u001b[0m\u001b[0;34m\u001b[0m\u001b[0m\n\u001b[0;32m----> 3\u001b[0;31m     \u001b[0mdata\u001b[0m\u001b[0;34m=\u001b[0m\u001b[0mdf_em\u001b[0m\u001b[0;34m.\u001b[0m\u001b[0mloc\u001b[0m\u001b[0;34m[\u001b[0m\u001b[0;34m(\u001b[0m\u001b[0mdf_em\u001b[0m\u001b[0;34m[\u001b[0m\u001b[0;34m'year'\u001b[0m\u001b[0;34m]\u001b[0m\u001b[0;34m==\u001b[0m\u001b[0myear\u001b[0m\u001b[0;34m)\u001b[0m \u001b[0;34m&\u001b[0m \u001b[0;34m(\u001b[0m\u001b[0mdf_em\u001b[0m\u001b[0;34m[\u001b[0m\u001b[0;34m'month'\u001b[0m\u001b[0;34m]\u001b[0m\u001b[0;34m==\u001b[0m\u001b[0mmonth\u001b[0m\u001b[0;34m)\u001b[0m \u001b[0;34m&\u001b[0m \u001b[0;34m(\u001b[0m\u001b[0mdf_em\u001b[0m\u001b[0;34m[\u001b[0m\u001b[0;34m'area_type'\u001b[0m\u001b[0;34m]\u001b[0m\u001b[0;34m==\u001b[0m\u001b[0marea_type\u001b[0m\u001b[0;34m)\u001b[0m\u001b[0;34m]\u001b[0m\u001b[0;34m\u001b[0m\u001b[0m\n\u001b[0m\u001b[1;32m      4\u001b[0m     \u001b[0mdata\u001b[0m\u001b[0;34m[\u001b[0m\u001b[0;34m[\u001b[0m\u001b[0;34m'year'\u001b[0m\u001b[0;34m,\u001b[0m \u001b[0;34m'area type'\u001b[0m\u001b[0;34m,\u001b[0m \u001b[0;34m'current employment'\u001b[0m\u001b[0;34m]\u001b[0m\u001b[0;34m]\u001b[0m\u001b[0;34m.\u001b[0m\u001b[0mpivot\u001b[0m\u001b[0;34m(\u001b[0m\u001b[0mcolumns\u001b[0m\u001b[0;34m=\u001b[0m\u001b[0;34m'area type'\u001b[0m\u001b[0;34m,\u001b[0m\u001b[0mvalues\u001b[0m\u001b[0;34m=\u001b[0m\u001b[0;34m'current employment'\u001b[0m\u001b[0;34m)\u001b[0m\u001b[0;34m.\u001b[0m\u001b[0mplot\u001b[0m\u001b[0;34m(\u001b[0m\u001b[0mkind\u001b[0m\u001b[0;34m=\u001b[0m\u001b[0;34m'box'\u001b[0m\u001b[0;34m,\u001b[0m \u001b[0mlogy\u001b[0m\u001b[0;34m=\u001b[0m\u001b[0;32mTrue\u001b[0m\u001b[0;34m)\u001b[0m\u001b[0;34m\u001b[0m\u001b[0m\n",
          "\u001b[0;32m/opt/conda/lib/python3.6/site-packages/pandas/core/frame.py\u001b[0m in \u001b[0;36m__getitem__\u001b[0;34m(self, key)\u001b[0m\n\u001b[1;32m   2686\u001b[0m             \u001b[0;32mreturn\u001b[0m \u001b[0mself\u001b[0m\u001b[0;34m.\u001b[0m\u001b[0m_getitem_multilevel\u001b[0m\u001b[0;34m(\u001b[0m\u001b[0mkey\u001b[0m\u001b[0;34m)\u001b[0m\u001b[0;34m\u001b[0m\u001b[0m\n\u001b[1;32m   2687\u001b[0m         \u001b[0;32melse\u001b[0m\u001b[0;34m:\u001b[0m\u001b[0;34m\u001b[0m\u001b[0m\n\u001b[0;32m-> 2688\u001b[0;31m             \u001b[0;32mreturn\u001b[0m \u001b[0mself\u001b[0m\u001b[0;34m.\u001b[0m\u001b[0m_getitem_column\u001b[0m\u001b[0;34m(\u001b[0m\u001b[0mkey\u001b[0m\u001b[0;34m)\u001b[0m\u001b[0;34m\u001b[0m\u001b[0m\n\u001b[0m\u001b[1;32m   2689\u001b[0m \u001b[0;34m\u001b[0m\u001b[0m\n\u001b[1;32m   2690\u001b[0m     \u001b[0;32mdef\u001b[0m \u001b[0m_getitem_column\u001b[0m\u001b[0;34m(\u001b[0m\u001b[0mself\u001b[0m\u001b[0;34m,\u001b[0m \u001b[0mkey\u001b[0m\u001b[0;34m)\u001b[0m\u001b[0;34m:\u001b[0m\u001b[0;34m\u001b[0m\u001b[0m\n",
          "\u001b[0;32m/opt/conda/lib/python3.6/site-packages/pandas/core/frame.py\u001b[0m in \u001b[0;36m_getitem_column\u001b[0;34m(self, key)\u001b[0m\n\u001b[1;32m   2693\u001b[0m         \u001b[0;31m# get column\u001b[0m\u001b[0;34m\u001b[0m\u001b[0;34m\u001b[0m\u001b[0m\n\u001b[1;32m   2694\u001b[0m         \u001b[0;32mif\u001b[0m \u001b[0mself\u001b[0m\u001b[0;34m.\u001b[0m\u001b[0mcolumns\u001b[0m\u001b[0;34m.\u001b[0m\u001b[0mis_unique\u001b[0m\u001b[0;34m:\u001b[0m\u001b[0;34m\u001b[0m\u001b[0m\n\u001b[0;32m-> 2695\u001b[0;31m             \u001b[0;32mreturn\u001b[0m \u001b[0mself\u001b[0m\u001b[0;34m.\u001b[0m\u001b[0m_get_item_cache\u001b[0m\u001b[0;34m(\u001b[0m\u001b[0mkey\u001b[0m\u001b[0;34m)\u001b[0m\u001b[0;34m\u001b[0m\u001b[0m\n\u001b[0m\u001b[1;32m   2696\u001b[0m \u001b[0;34m\u001b[0m\u001b[0m\n\u001b[1;32m   2697\u001b[0m         \u001b[0;31m# duplicate columns & possible reduce dimensionality\u001b[0m\u001b[0;34m\u001b[0m\u001b[0;34m\u001b[0m\u001b[0m\n",
          "\u001b[0;32m/opt/conda/lib/python3.6/site-packages/pandas/core/generic.py\u001b[0m in \u001b[0;36m_get_item_cache\u001b[0;34m(self, item)\u001b[0m\n\u001b[1;32m   2487\u001b[0m         \u001b[0mres\u001b[0m \u001b[0;34m=\u001b[0m \u001b[0mcache\u001b[0m\u001b[0;34m.\u001b[0m\u001b[0mget\u001b[0m\u001b[0;34m(\u001b[0m\u001b[0mitem\u001b[0m\u001b[0;34m)\u001b[0m\u001b[0;34m\u001b[0m\u001b[0m\n\u001b[1;32m   2488\u001b[0m         \u001b[0;32mif\u001b[0m \u001b[0mres\u001b[0m \u001b[0;32mis\u001b[0m \u001b[0;32mNone\u001b[0m\u001b[0;34m:\u001b[0m\u001b[0;34m\u001b[0m\u001b[0m\n\u001b[0;32m-> 2489\u001b[0;31m             \u001b[0mvalues\u001b[0m \u001b[0;34m=\u001b[0m \u001b[0mself\u001b[0m\u001b[0;34m.\u001b[0m\u001b[0m_data\u001b[0m\u001b[0;34m.\u001b[0m\u001b[0mget\u001b[0m\u001b[0;34m(\u001b[0m\u001b[0mitem\u001b[0m\u001b[0;34m)\u001b[0m\u001b[0;34m\u001b[0m\u001b[0m\n\u001b[0m\u001b[1;32m   2490\u001b[0m             \u001b[0mres\u001b[0m \u001b[0;34m=\u001b[0m \u001b[0mself\u001b[0m\u001b[0;34m.\u001b[0m\u001b[0m_box_item_values\u001b[0m\u001b[0;34m(\u001b[0m\u001b[0mitem\u001b[0m\u001b[0;34m,\u001b[0m \u001b[0mvalues\u001b[0m\u001b[0;34m)\u001b[0m\u001b[0;34m\u001b[0m\u001b[0m\n\u001b[1;32m   2491\u001b[0m             \u001b[0mcache\u001b[0m\u001b[0;34m[\u001b[0m\u001b[0mitem\u001b[0m\u001b[0;34m]\u001b[0m \u001b[0;34m=\u001b[0m \u001b[0mres\u001b[0m\u001b[0;34m\u001b[0m\u001b[0m\n",
          "\u001b[0;32m/opt/conda/lib/python3.6/site-packages/pandas/core/internals.py\u001b[0m in \u001b[0;36mget\u001b[0;34m(self, item, fastpath)\u001b[0m\n\u001b[1;32m   4113\u001b[0m \u001b[0;34m\u001b[0m\u001b[0m\n\u001b[1;32m   4114\u001b[0m             \u001b[0;32mif\u001b[0m \u001b[0;32mnot\u001b[0m \u001b[0misna\u001b[0m\u001b[0;34m(\u001b[0m\u001b[0mitem\u001b[0m\u001b[0;34m)\u001b[0m\u001b[0;34m:\u001b[0m\u001b[0;34m\u001b[0m\u001b[0m\n\u001b[0;32m-> 4115\u001b[0;31m                 \u001b[0mloc\u001b[0m \u001b[0;34m=\u001b[0m \u001b[0mself\u001b[0m\u001b[0;34m.\u001b[0m\u001b[0mitems\u001b[0m\u001b[0;34m.\u001b[0m\u001b[0mget_loc\u001b[0m\u001b[0;34m(\u001b[0m\u001b[0mitem\u001b[0m\u001b[0;34m)\u001b[0m\u001b[0;34m\u001b[0m\u001b[0m\n\u001b[0m\u001b[1;32m   4116\u001b[0m             \u001b[0;32melse\u001b[0m\u001b[0;34m:\u001b[0m\u001b[0;34m\u001b[0m\u001b[0m\n\u001b[1;32m   4117\u001b[0m                 \u001b[0mindexer\u001b[0m \u001b[0;34m=\u001b[0m \u001b[0mnp\u001b[0m\u001b[0;34m.\u001b[0m\u001b[0marange\u001b[0m\u001b[0;34m(\u001b[0m\u001b[0mlen\u001b[0m\u001b[0;34m(\u001b[0m\u001b[0mself\u001b[0m\u001b[0;34m.\u001b[0m\u001b[0mitems\u001b[0m\u001b[0;34m)\u001b[0m\u001b[0;34m)\u001b[0m\u001b[0;34m[\u001b[0m\u001b[0misna\u001b[0m\u001b[0;34m(\u001b[0m\u001b[0mself\u001b[0m\u001b[0;34m.\u001b[0m\u001b[0mitems\u001b[0m\u001b[0;34m)\u001b[0m\u001b[0;34m]\u001b[0m\u001b[0;34m\u001b[0m\u001b[0m\n",
          "\u001b[0;32m/opt/conda/lib/python3.6/site-packages/pandas/core/indexes/base.py\u001b[0m in \u001b[0;36mget_loc\u001b[0;34m(self, key, method, tolerance)\u001b[0m\n\u001b[1;32m   3078\u001b[0m                 \u001b[0;32mreturn\u001b[0m \u001b[0mself\u001b[0m\u001b[0;34m.\u001b[0m\u001b[0m_engine\u001b[0m\u001b[0;34m.\u001b[0m\u001b[0mget_loc\u001b[0m\u001b[0;34m(\u001b[0m\u001b[0mkey\u001b[0m\u001b[0;34m)\u001b[0m\u001b[0;34m\u001b[0m\u001b[0m\n\u001b[1;32m   3079\u001b[0m             \u001b[0;32mexcept\u001b[0m \u001b[0mKeyError\u001b[0m\u001b[0;34m:\u001b[0m\u001b[0;34m\u001b[0m\u001b[0m\n\u001b[0;32m-> 3080\u001b[0;31m                 \u001b[0;32mreturn\u001b[0m \u001b[0mself\u001b[0m\u001b[0;34m.\u001b[0m\u001b[0m_engine\u001b[0m\u001b[0;34m.\u001b[0m\u001b[0mget_loc\u001b[0m\u001b[0;34m(\u001b[0m\u001b[0mself\u001b[0m\u001b[0;34m.\u001b[0m\u001b[0m_maybe_cast_indexer\u001b[0m\u001b[0;34m(\u001b[0m\u001b[0mkey\u001b[0m\u001b[0;34m)\u001b[0m\u001b[0;34m)\u001b[0m\u001b[0;34m\u001b[0m\u001b[0m\n\u001b[0m\u001b[1;32m   3081\u001b[0m \u001b[0;34m\u001b[0m\u001b[0m\n\u001b[1;32m   3082\u001b[0m         \u001b[0mindexer\u001b[0m \u001b[0;34m=\u001b[0m \u001b[0mself\u001b[0m\u001b[0;34m.\u001b[0m\u001b[0mget_indexer\u001b[0m\u001b[0;34m(\u001b[0m\u001b[0;34m[\u001b[0m\u001b[0mkey\u001b[0m\u001b[0;34m]\u001b[0m\u001b[0;34m,\u001b[0m \u001b[0mmethod\u001b[0m\u001b[0;34m=\u001b[0m\u001b[0mmethod\u001b[0m\u001b[0;34m,\u001b[0m \u001b[0mtolerance\u001b[0m\u001b[0;34m=\u001b[0m\u001b[0mtolerance\u001b[0m\u001b[0;34m)\u001b[0m\u001b[0;34m\u001b[0m\u001b[0m\n",
          "\u001b[0;32mpandas/_libs/index.pyx\u001b[0m in \u001b[0;36mpandas._libs.index.IndexEngine.get_loc\u001b[0;34m()\u001b[0m\n",
          "\u001b[0;32mpandas/_libs/index.pyx\u001b[0m in \u001b[0;36mpandas._libs.index.IndexEngine.get_loc\u001b[0;34m()\u001b[0m\n",
          "\u001b[0;32mpandas/_libs/hashtable_class_helper.pxi\u001b[0m in \u001b[0;36mpandas._libs.hashtable.PyObjectHashTable.get_item\u001b[0;34m()\u001b[0m\n",
          "\u001b[0;32mpandas/_libs/hashtable_class_helper.pxi\u001b[0m in \u001b[0;36mpandas._libs.hashtable.PyObjectHashTable.get_item\u001b[0;34m()\u001b[0m\n",
          "\u001b[0;31mKeyError\u001b[0m: 'area_type'"
         ]
        }
       ]
      }
     },
     "0909dccbee7f4e2e8feda3d5d73f92f8": {
      "model_module": "@jupyter-widgets/controls",
      "model_module_version": "1.4.0",
      "model_name": "VBoxModel",
      "state": {
       "_dom_classes": [
        "widget-interact"
       ],
       "children": [
        "IPY_MODEL_a785e1be10e94c0883368c0725f6d64a",
        "IPY_MODEL_42000e31ff9b407abc2e35389bd44882",
        "IPY_MODEL_5ac9a2a0a78344bcb7725e22595fae8b"
       ],
       "layout": "IPY_MODEL_cc63f56643e347ab96267bdb6edcc1eb"
      }
     },
     "091819b197d54a7caf7c10914a913bee": {
      "model_module": "@jupyter-widgets/controls",
      "model_module_version": "1.4.0",
      "model_name": "VBoxModel",
      "state": {
       "_dom_classes": [
        "widget-interact"
       ],
       "children": [
        "IPY_MODEL_606ade28d5d84c81b3e3dd67d49def0c",
        "IPY_MODEL_d23d9969833044c3b8aec27fa09c569b",
        "IPY_MODEL_82309c0dade1447c9d84a47a94631aa2",
        "IPY_MODEL_4790a23ebe1d4546a9d34fc2e2e4b52c"
       ],
       "layout": "IPY_MODEL_6de4145c0f1648c4854769d0af7fd135"
      }
     },
     "097931d1f22e4d9a92fbb6ed3e6855b0": {
      "model_module": "@jupyter-widgets/controls",
      "model_module_version": "1.4.0",
      "model_name": "DropdownModel",
      "state": {
       "_options_labels": [
        "2019",
        "2018",
        "2017",
        "2016",
        "2015",
        "2014",
        "2013",
        "2012",
        "2011",
        "2010",
        "2009",
        "2008",
        "2007",
        "2006",
        "2005",
        "2004",
        "2003",
        "2002",
        "2001",
        "2000",
        "1999",
        "1998",
        "1997",
        "1996",
        "1995",
        "1994",
        "1993",
        "1992",
        "1991",
        "1990"
       ],
       "description": "year",
       "index": 2,
       "layout": "IPY_MODEL_3ccada7360e44b16ad703a678c25a495",
       "style": "IPY_MODEL_944e37c367b64693ad94465b60875a5c"
      }
     },
     "09e303080f084d5fbcfbce20dff1cedf": {
      "model_module": "@jupyter-widgets/base",
      "model_module_version": "1.1.0",
      "model_name": "LayoutModel",
      "state": {}
     },
     "0b474e1b39f049b9972ee25d049da686": {
      "model_module": "@jupyter-widgets/base",
      "model_module_version": "1.1.0",
      "model_name": "LayoutModel",
      "state": {}
     },
     "0b83315a63124d729f406dcf94209f4d": {
      "model_module": "@jupyter-widgets/controls",
      "model_module_version": "1.4.0",
      "model_name": "DropdownModel",
      "state": {
       "_options_labels": [
        "Total Nonfarm",
        "Total Wage and Salary",
        "Total Private",
        "Goods Producing",
        "Service Providing",
        "Private Service Providing",
        "Mining and Logging",
        "Logging",
        "Mining",
        "Oil & Gas Extraction",
        "Mining, except Oil & Gas",
        "Support Activities for Mining",
        "Total Farm",
        "Natural Resources, Mining and Constructi",
        "Construction",
        "Construction of Buildings",
        "Residential Building Construction",
        "Nonresidential Building Construction",
        "Heavy and Civil Engineering Construction",
        "Utility System Const.",
        "L& Subdivision",
        "Highway, Street, and Bridge Const",
        "Other Heavy & Civil Engineer",
        "Specialty Trade Contractors",
        "Building Foundation and Exterior Contrac",
        "Building Equipment Contractors",
        "Building Finishing Contractors",
        "Other Specialty Trade Contract",
        "Manufacturing",
        "Durable Goods",
        "Wood Product Manufacturing",
        "Other Wood Product Mfg.",
        "Nonmetallic Mineral Product Mfg.",
        "Primary Metal Manufacturing",
        "Fabricated Metal Product Mfg",
        "Architectural & Structural Metals Mfg.",
        "Machine Shops & Threaded Product Mfg.",
        "Other Fabricated Metal Product Mfg.",
        "Machinery Manufacturing",
        "Industrial Machinery Manufacturing",
        "Commercial and Service Industry Manufact",
        "Metalworking Machinery Mfg.",
        "ResidualOther General Purpose Machinery",
        "Computer and Electronic Product Manufact",
        "Computer and Peripheral Equipment Manufa",
        "Electronic Computer Manufacturing",
        "Communications Equipment Manufacturing",
        "Semiconductor and Electronic Component M",
        "Bare Printed Circuit Board Manufacturing",
        "Semiconductor and Related Devices Manufa",
        "Electronic Instrument Manufacturing",
        "Electrical Equipment and Appliance Manuf",
        "Transportation Equipment Manufacturing",
        "Motor Vehicle Mfg.",
        "Aerospace Product and Parts Manufacturin",
        "Ship and Boat Building",
        "Furniture and Related Product Manufactur",
        "Household and Institutional Furniture Ma",
        "Miscellaneous Durable Goods Manufacturing",
        "Medical Equipment & Supplies Mfg.",
        "Other Miscellaneous Durable Goods Mfg.",
        "Nondurable Goods",
        "Food Manufacturing",
        "Fruit & Vegetable Preserving & Specialty",
        "Dairy Product Manufacturing",
        "Animal Slaughtering and Processing",
        "Bakeries and Tortilla Manufacturing",
        "Other Food Mfg.",
        "Beverage and Tobacco Product Mfg",
        "ResidualTextile Mills",
        "Textile Product Mills",
        "Apparel Manufacturing",
        "Apparel Knitting Mills",
        "Cut and Sew Apparel Manufacturing",
        "Paper Manufacturing",
        "Converted Paper Product Mfg.",
        "Printing and Related Support Activities",
        "Petroleum and Coal Products Manufacturin",
        "Chemical Manufacturing",
        "Pharmaceutical and Medicine Manufacturin",
        "Soap, Cleaning Compound & Toiletry Mfg.",
        "Plastics and Rubber Products Manufacturi",
        "Trade, Transportation and Utilities",
        "Wholesale Trade",
        "Merchant Wholesalers, Durable Goods",
        "Motor Vehicle and Motor Vehicle Parts Me",
        "Furniture & Home Furnish Merch whole",
        "Lumber & Other Const. Mat Merch whole",
        "Professional and Commercial Equipment Me",
        "Electrical and Electronic Goods Merchant",
        "Hdwr, Plumb & Heating Merchant whole",
        "Machinery, Equipment and Supplies Mercha",
        "Merchant Wholesalers, Nondurable Goods",
        "Paper & Paper Products Merchant whole",
        "Apparel, Piece Gds & Notions Merch whole",
        "Grocery & Related Products Merchant whol",
        "Chemical & Allied Products Merchant whol",
        "Misc Nondurable Merchant Wholesalers",
        "Wholesale Electronic Markets and Agents",
        "Retail Trade",
        "Motor Vehicle and Parts Dealer",
        "Automobile Dealers",
        "Other Motor Vehicle Dealers",
        "Automotive Parts, Accessories and Tire S",
        "Furniture and Home Furnishings Stores",
        "Furniture Stores",
        "Home Furnishings Stores",
        "Electronics and Appliance Stores",
        "Building Material and Garden Equipment S",
        "Building Material and Supplies Dealers",
        "Food and Beverage Stores",
        "Grocery Stores",
        "Specialty Food Stores",
        "Beer, Wine, & Liquor Stores",
        "Health and Personal Care Stores",
        "Gasoline Stations",
        "Clothing and Clothing Accessories Stores",
        "Clothing Stores",
        "Jewelry, Luggage & Leather Gds Stores",
        "Sporting Goods, Hobby, Book and Music St",
        "Sporting Goods, Hobby and Musical Instru",
        "Book, Periodical and Music Stores",
        "General Merchandise Stores",
        "Department Stores",
        "Miscellaneous Store Retailers",
        "Office Supplies, Stationery & Gift Store",
        "Used Merch&ise Stores",
        "Other Miscellaneous Store Retailers",
        "Nonstore Retailers",
        "Electronic Shopping & Mail-Order",
        "Transportation, Warehousing and Utilitie",
        "Utilities",
        "Electric Power Gen, Trans & Distribution",
        "Natural Gas Distribution",
        "Transportation and Warehousing",
        "Air Transportation",
        "Scheduled Air transp.",
        "Truck Transportation",
        "General Freight Trucking",
        "Specialized Freight Trucking",
        "Transit and Ground Passenger Transportat",
        "Support Activities for Transportation",
        "Support Activities for Water transp.",
        "Support Activities for Road transp.",
        "Freight transp. Arrangement",
        "Couriers and Messengers",
        "Warehousing and Storage",
        "Information",
        "Publishing Industries (except Internet)",
        "Newspaper, Periodical, Book and Director",
        "Software Publishers",
        "Motion Picture and Sound Recording",
        "Motion Picture & Video Industries",
        "Motion Picture & Video Production",
        "Broadcasting (except Internet)",
        "Radio and Television Broadcasting",
        "Cable and Other Subscription Programming",
        "Telecommunications",
        "Wired Telecommunications Carriers",
        "Data Processing, Hosting & Related Services",
        "Other Information Serv.",
        "Financial Activities",
        "Finance and Insurance",
        "Credit Intermediation and Related Activi",
        "Depository Credit Intermediation",
        "Nondepository Credit Intermediation",
        "Activities Related to Credit Intermediat",
        "Securities, Commodity Contracts and Inve",
        "Securities & Commodity Contracts",
        "Other Financial Investment Activities",
        "Insurance Carriers and Related",
        "Insurance Carriers",
        "Agencies, Brokerages, and Other Insuranc",
        "Real Estate and Rental and Leasing",
        "Real Estate",
        "Lessors of Real Estate",
        "Offices of Real Estate Agents and Broker",
        "Activities Related to Real Estate",
        "Rental and Leasing Services",
        "Automotive Equipment Rental and Leasing",
        "Consumer Goods Rental",
        "General Rental Centers",
        "Comm & Industrial Mach Rental & Leasing",
        "Professional and Business Services",
        "Professional, Scientific and Technical S",
        "Legal Services",
        "Accounting, Tax Preparation and Bookkeep",
        "Architectural, Engineering and Related S",
        "Specialized Design Services",
        "Computer Systems Design and Related Serv",
        "Management, Scientific and Technical Con",
        "Scientific Research and Development Serv",
        "Advertising and Related Services",
        "Other Professional, Scientific and Techn",
        "Management of Companies and Enterprises",
        "Administrative and Support and Waste Ser",
        "Administrative and Support Services",
        "Office Administrative Services",
        "Facilities Support Serv.",
        "Employment Services",
        "Business Support Services",
        "Travel Arrangement and Reservation Servi",
        "Investigation and Security Services",
        "Services to Buildings and Dwellings",
        "ResidualOther Support Services",
        "Waste Management and Remediation Service",
        "Educational and Health Services",
        "Educational Services",
        "Elementary and Secondary Schools",
        "Junior Colleges",
        "Colleges, Universities and Professional",
        "Other Schools & Instruction",
        "Health Care and Social Assistance",
        "Ambulatory Health Care Services",
        "Offices of Physicians",
        "Offices of Dentists",
        "Offices of Other Health Practitioners",
        "Outpatient Care Centers",
        "Medical & Diagnostic Laboratories",
        "Home Health Care Serv.",
        "Other Ambulatory Health Care Serv.",
        "Hospitals",
        "General Medical & Surgical Hosp.s",
        "Psychiatric & Substance Abuse Hosp",
        "Specialty (not Psych, Sub Abuse) Hosp.",
        "Nursing and Residential Care Facilities",
        "Nursing Care Facilities",
        "Residential Mental Retardation, Mental a",
        "Comm Care Facilities for the Elderly",
        "Other Residential Care Facilities",
        "Social Assistance",
        "Individual and Family Services",
        "Community Food & Housing, & Emergency &",
        "Vocational Rehabilitation Services",
        "Child Day Care Services",
        "Leisure and Hospitality",
        "Arts, Entertainment, and Recreation",
        "Performing Arts, Spectator Sports",
        "Performing Arts Companies",
        "Spectator Sports",
        "Independent Artists, Writers, and Perfor",
        "Museums, Historical Sites, and Similar I",
        "Amusement, Gambling, and Recreation",
        "Amusement Parks and Arcades",
        "Gambling Industries",
        "Other Amusement and Recreation",
        "Accommodation and Food Service",
        "Accommodation",
        "Food Services and Drinking Places",
        "Special Food Services",
        "Drinking Places (Alcoholic Beverages)",
        "Full-Service Restaurants",
        "Limited-Service Eating Places",
        "Other Services",
        "Repair and Maintenance",
        "Auto Repair & Maintenance",
        "Commercial & Industrial Machinery",
        "Personal & Household Goods Repair",
        "Personal and Laundry Services",
        "Personal Care Serv.",
        "Drycleaning & Laundry Serv.",
        "Other Personal Services",
        "Religious, Grantmaking, Civic, Professio",
        "Religious Organizations",
        "Grantmaking & Giving Serv.",
        "Social Advocacy Organizations",
        "Civic & Social Organizations",
        "Bus,Labor, Political & Other like Org.",
        "Government",
        "Federal Government",
        "Federal Government excluding Department of Defense",
        "Department of Defense",
        "State Government",
        "State Government Education",
        "State Government Excluding Education",
        "Local Government",
        "Indian Tribes",
        "Local Government Education",
        "Local Government Excluding Education",
        "County",
        "City",
        "Special Districts",
        "State and Local Government",
        "Miscellaneous Durable Goods Merchant Who",
        "Real Estate and Rental and Leasing - Residual",
        "Restaurants",
        "Special Districts plus Indian Tribes",
        "Private Service Providing - Residual"
       ],
       "description": "industry_title",
       "index": 0,
       "layout": "IPY_MODEL_f2e4bdc5a9ff4f3892a668500526be54",
       "style": "IPY_MODEL_551f63e36cd94969b7f6572b3980b895"
      }
     },
     "0c5c204e795649c4a1ba471226c18c9e": {
      "model_module": "@jupyter-widgets/base",
      "model_module_version": "1.1.0",
      "model_name": "LayoutModel",
      "state": {}
     },
     "0c9561713e8346ffbeab26d20bb07577": {
      "model_module": "@jupyter-widgets/output",
      "model_module_version": "1.0.0",
      "model_name": "OutputModel",
      "state": {
       "layout": "IPY_MODEL_a613c73e859449ed8fcbed03b6ac96b3",
       "outputs": [
        {
         "name": "stdout",
         "output_type": "stream",
         "text": "Natural Resources, Mining and Constructi\n"
        },
        {
         "data": {
          "image/png": "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\n",
          "text/plain": "<Figure size 1152x720 with 1 Axes>"
         },
         "metadata": {
          "needs_background": "light"
         },
         "output_type": "display_data"
        }
       ]
      }
     },
     "0d738f47cfd1415b9b6e81403382780f": {
      "model_module": "@jupyter-widgets/base",
      "model_module_version": "1.1.0",
      "model_name": "LayoutModel",
      "state": {}
     },
     "0f5118f22ab343a6a2a5bd6532b55eb9": {
      "model_module": "@jupyter-widgets/base",
      "model_module_version": "1.1.0",
      "model_name": "LayoutModel",
      "state": {}
     },
     "0f8c814796af4daaa808278697ff9541": {
      "model_module": "@jupyter-widgets/output",
      "model_module_version": "1.0.0",
      "model_name": "OutputModel",
      "state": {
       "layout": "IPY_MODEL_e74af5985c2d4acfb8254bf9f7502132",
       "outputs": [
        {
         "name": "stdout",
         "output_type": "stream",
         "text": "    area type   area name  year month        ...         series code                                     industry title seasonally adjusted current employment\n0       State  California  2019  June        ...                   0                                      Total Nonfarm                   Y           17473900\n1       State  California  2019  June        ...                   0                                      Total Nonfarm                   N           17526300\n2       State  California  2019  June        ...             1000000                              Total Wage and Salary                   N           18016400\n3       State  California  2019  June        ...             5000000                                      Total Private                   N           14861900\n4       State  California  2019  June        ...             6000000                                    Goods Producing                   Y            2261000\n5       State  California  2019  June        ...             6000000                                    Goods Producing                   N            2270700\n6       State  California  2019  June        ...             7000000                                  Service Providing                   N           15255600\n7       State  California  2019  June        ...             7000000                                  Service Providing                   Y           15212900\n8       State  California  2019  June        ...             8000000                          Private Service Providing                   N           12591200\n9       State  California  2019  June        ...            10000000                                 Mining and Logging                   N              23300\n10      State  California  2019  June        ...            10000000                                 Mining and Logging                   Y              22900\n11      State  California  2019  June        ...            10113300                                            Logging                   N               2200\n12      State  California  2019  June        ...            10210000                                             Mining                   N              21100\n13      State  California  2019  June        ...            10211000                               Oil & Gas Extraction                   N               5400\n14      State  California  2019  June        ...            10212000                           Mining, except Oil & Gas                   N               5900\n15      State  California  2019  June        ...            10213000                      Support Activities for Mining                   N               9800\n16      State  California  2019  June        ...            11000000                                         Total Farm                   Y             429300\n17      State  California  2019  June        ...            11000000                                         Total Farm                   N             490100\n18      State  California  2019  June        ...            15000000           Natural Resources, Mining and Constructi                   N             930400\n19      State  California  2019  June        ...            20000000                                       Construction                   Y             901200\n20      State  California  2019  June        ...            20000000                                       Construction                   N             907100\n21      State  California  2019  June        ...            20236000                          Construction of Buildings                   N             206100\n22      State  California  2019  June        ...            20236100                  Residential Building Construction                   N             119900\n23      State  California  2019  June        ...            20236200               Nonresidential Building Construction                   N              86200\n24      State  California  2019  June        ...            20237000           Heavy and Civil Engineering Construction                   N              95400\n25      State  California  2019  June        ...            20237100                              Utility System Const.                   N              48800\n26      State  California  2019  June        ...            20237200                                     L& Subdivision                   N               7700\n27      State  California  2019  June        ...            20237300                  Highway, Street, and Bridge Const                   N              28300\n28      State  California  2019  June        ...            20237900                       Other Heavy & Civil Engineer                   N              10600\n29      State  California  2019  June        ...            20238000                        Specialty Trade Contractors                   N             605600\n..        ...         ...   ...   ...        ...                 ...                                                ...                 ...                ...\n286     State  California  2019  June        ...            80811400                  Personal & Household Goods Repair                   N              10300\n287     State  California  2019  June        ...            80812000                      Personal and Laundry Services                   N             188900\n288     State  California  2019  June        ...            80812100                                Personal Care Serv.                   N              86300\n289     State  California  2019  June        ...            80812300                        Drycleaning & Laundry Serv.                   N              35700\n290     State  California  2019  June        ...            80812900                            Other Personal Services                   N              54200\n291     State  California  2019  June        ...            80813000           Religious, Grantmaking, Civic, Professio                   N             236800\n292     State  California  2019  June        ...            80813100                            Religious Organizations                   N              96100\n293     State  California  2019  June        ...            80813200                         Grantmaking & Giving Serv.                   N              26400\n294     State  California  2019  June        ...            80813300                      Social Advocacy Organizations                   N              28300\n295     State  California  2019  June        ...            80813400                       Civic & Social Organizations                   N              43800\n296     State  California  2019  June        ...            80813900             Bus,Labor, Political & Other like Org.                   N              42200\n297     State  California  2019  June        ...            90000000                                         Government                   N            2664400\n298     State  California  2019  June        ...            90000000                                         Government                   Y            2621700\n299     State  California  2019  June        ...            90910000                                 Federal Government                   N             250100\n300     State  California  2019  June        ...            90910000                                 Federal Government                   Y             247700\n301     State  California  2019  June        ...            90912991  Federal Government excluding Department of Def...                   N             189400\n302     State  California  2019  June        ...            90919110                              Department of Defense                   N              60700\n303     State  California  2019  June        ...            90920000                                   State Government                   N             556400\n304     State  California  2019  June        ...            90920000                                   State Government                   Y             548700\n305     State  California  2019  June        ...            90921611                         State Government Education                   N             279000\n306     State  California  2019  June        ...            90922000               State Government Excluding Education                   N             277400\n307     State  California  2019  June        ...            90930000                                   Local Government                   Y            1825300\n308     State  California  2019  June        ...            90930000                                   Local Government                   N            1857900\n309     State  California  2019  June        ...            90931150                                      Indian Tribes                   N              66100\n310     State  California  2019  June        ...            90931611                         Local Government Education                   N            1015200\n311     State  California  2019  June        ...            90932000               Local Government Excluding Education                   N             842700\n312     State  California  2019  June        ...            90939012                                             County                   N             360900\n313     State  California  2019  June        ...            90939022                                               City                   N             282200\n314     State  California  2019  June        ...            90939032                                  Special Districts                   N             133500\n315     State  California  2019  June        ...            90940000                         State and Local Government                   N            2414300\n\n[316 rows x 9 columns]\n"
        }
       ]
      }
     },
     "0fe74a008dba4c64a96c2e591f2259f5": {
      "model_module": "@jupyter-widgets/output",
      "model_module_version": "1.0.0",
      "model_name": "OutputModel",
      "state": {
       "layout": "IPY_MODEL_884b45785caa4876b78fad8a4ae4bcaf",
       "outputs": [
        {
         "ename": "KeyError",
         "evalue": "'area type'",
         "output_type": "error",
         "traceback": [
          "\u001b[0;31m---------------------------------------------------------------------------\u001b[0m",
          "\u001b[0;31mKeyError\u001b[0m                                  Traceback (most recent call last)",
          "\u001b[0;32m/opt/conda/lib/python3.6/site-packages/pandas/core/indexes/base.py\u001b[0m in \u001b[0;36mget_loc\u001b[0;34m(self, key, method, tolerance)\u001b[0m\n\u001b[1;32m   3077\u001b[0m             \u001b[0;32mtry\u001b[0m\u001b[0;34m:\u001b[0m\u001b[0;34m\u001b[0m\u001b[0m\n\u001b[0;32m-> 3078\u001b[0;31m                 \u001b[0;32mreturn\u001b[0m \u001b[0mself\u001b[0m\u001b[0;34m.\u001b[0m\u001b[0m_engine\u001b[0m\u001b[0;34m.\u001b[0m\u001b[0mget_loc\u001b[0m\u001b[0;34m(\u001b[0m\u001b[0mkey\u001b[0m\u001b[0;34m)\u001b[0m\u001b[0;34m\u001b[0m\u001b[0m\n\u001b[0m\u001b[1;32m   3079\u001b[0m             \u001b[0;32mexcept\u001b[0m \u001b[0mKeyError\u001b[0m\u001b[0;34m:\u001b[0m\u001b[0;34m\u001b[0m\u001b[0m\n",
          "\u001b[0;32mpandas/_libs/index.pyx\u001b[0m in \u001b[0;36mpandas._libs.index.IndexEngine.get_loc\u001b[0;34m()\u001b[0m\n",
          "\u001b[0;32mpandas/_libs/index.pyx\u001b[0m in \u001b[0;36mpandas._libs.index.IndexEngine.get_loc\u001b[0;34m()\u001b[0m\n",
          "\u001b[0;32mpandas/_libs/hashtable_class_helper.pxi\u001b[0m in \u001b[0;36mpandas._libs.hashtable.PyObjectHashTable.get_item\u001b[0;34m()\u001b[0m\n",
          "\u001b[0;32mpandas/_libs/hashtable_class_helper.pxi\u001b[0m in \u001b[0;36mpandas._libs.hashtable.PyObjectHashTable.get_item\u001b[0;34m()\u001b[0m\n",
          "\u001b[0;31mKeyError\u001b[0m: 'area type'",
          "\nDuring handling of the above exception, another exception occurred:\n",
          "\u001b[0;31mKeyError\u001b[0m                                  Traceback (most recent call last)",
          "\u001b[0;32m/opt/conda/lib/python3.6/site-packages/ipywidgets/widgets/interaction.py\u001b[0m in \u001b[0;36mupdate\u001b[0;34m(self, *args)\u001b[0m\n\u001b[1;32m    249\u001b[0m                     \u001b[0mvalue\u001b[0m \u001b[0;34m=\u001b[0m \u001b[0mwidget\u001b[0m\u001b[0;34m.\u001b[0m\u001b[0mget_interact_value\u001b[0m\u001b[0;34m(\u001b[0m\u001b[0;34m)\u001b[0m\u001b[0;34m\u001b[0m\u001b[0m\n\u001b[1;32m    250\u001b[0m                     \u001b[0mself\u001b[0m\u001b[0;34m.\u001b[0m\u001b[0mkwargs\u001b[0m\u001b[0;34m[\u001b[0m\u001b[0mwidget\u001b[0m\u001b[0;34m.\u001b[0m\u001b[0m_kwarg\u001b[0m\u001b[0;34m]\u001b[0m \u001b[0;34m=\u001b[0m \u001b[0mvalue\u001b[0m\u001b[0;34m\u001b[0m\u001b[0m\n\u001b[0;32m--> 251\u001b[0;31m                 \u001b[0mself\u001b[0m\u001b[0;34m.\u001b[0m\u001b[0mresult\u001b[0m \u001b[0;34m=\u001b[0m \u001b[0mself\u001b[0m\u001b[0;34m.\u001b[0m\u001b[0mf\u001b[0m\u001b[0;34m(\u001b[0m\u001b[0;34m**\u001b[0m\u001b[0mself\u001b[0m\u001b[0;34m.\u001b[0m\u001b[0mkwargs\u001b[0m\u001b[0;34m)\u001b[0m\u001b[0;34m\u001b[0m\u001b[0m\n\u001b[0m\u001b[1;32m    252\u001b[0m                 \u001b[0mshow_inline_matplotlib_plots\u001b[0m\u001b[0;34m(\u001b[0m\u001b[0;34m)\u001b[0m\u001b[0;34m\u001b[0m\u001b[0m\n\u001b[1;32m    253\u001b[0m                 \u001b[0;32mif\u001b[0m \u001b[0mself\u001b[0m\u001b[0;34m.\u001b[0m\u001b[0mauto_display\u001b[0m \u001b[0;32mand\u001b[0m \u001b[0mself\u001b[0m\u001b[0;34m.\u001b[0m\u001b[0mresult\u001b[0m \u001b[0;32mis\u001b[0m \u001b[0;32mnot\u001b[0m \u001b[0;32mNone\u001b[0m\u001b[0;34m:\u001b[0m\u001b[0;34m\u001b[0m\u001b[0m\n",
          "\u001b[0;32m<ipython-input-32-ac190296162c>\u001b[0m in \u001b[0;36mfilter_by_year_month\u001b[0;34m(year, month)\u001b[0m\n\u001b[1;32m      2\u001b[0m \u001b[0;32mdef\u001b[0m \u001b[0mfilter_by_year_month\u001b[0m\u001b[0;34m(\u001b[0m\u001b[0myear\u001b[0m\u001b[0;34m=\u001b[0m\u001b[0myears\u001b[0m\u001b[0;34m[\u001b[0m\u001b[0;36m0\u001b[0m\u001b[0;34m]\u001b[0m\u001b[0;34m,\u001b[0m \u001b[0mmonth\u001b[0m\u001b[0;34m=\u001b[0m\u001b[0mmonths\u001b[0m\u001b[0;34m[\u001b[0m\u001b[0;36m0\u001b[0m\u001b[0;34m]\u001b[0m\u001b[0;34m)\u001b[0m\u001b[0;34m:\u001b[0m\u001b[0;34m\u001b[0m\u001b[0m\n\u001b[1;32m      3\u001b[0m     \u001b[0mdata\u001b[0m\u001b[0;34m=\u001b[0m\u001b[0mdf_em\u001b[0m\u001b[0;34m.\u001b[0m\u001b[0mloc\u001b[0m\u001b[0;34m[\u001b[0m\u001b[0;34m(\u001b[0m\u001b[0mdf_em\u001b[0m\u001b[0;34m[\u001b[0m\u001b[0;34m'year'\u001b[0m\u001b[0;34m]\u001b[0m\u001b[0;34m==\u001b[0m\u001b[0myear\u001b[0m\u001b[0;34m)\u001b[0m \u001b[0;34m&\u001b[0m \u001b[0;34m(\u001b[0m\u001b[0mdf_em\u001b[0m\u001b[0;34m[\u001b[0m\u001b[0;34m'month'\u001b[0m\u001b[0;34m]\u001b[0m\u001b[0;34m==\u001b[0m\u001b[0mmonth\u001b[0m\u001b[0;34m)\u001b[0m\u001b[0;34m]\u001b[0m\u001b[0;34m\u001b[0m\u001b[0m\n\u001b[0;32m----> 4\u001b[0;31m     \u001b[0mdata\u001b[0m\u001b[0;34m[\u001b[0m\u001b[0;34m[\u001b[0m\u001b[0;34m'year'\u001b[0m\u001b[0;34m,\u001b[0m \u001b[0;34m'current employment'\u001b[0m\u001b[0;34m]\u001b[0m\u001b[0;34m]\u001b[0m\u001b[0;34m.\u001b[0m\u001b[0mpivot\u001b[0m\u001b[0;34m(\u001b[0m\u001b[0mcolumns\u001b[0m\u001b[0;34m=\u001b[0m\u001b[0;34m'area type'\u001b[0m\u001b[0;34m,\u001b[0m\u001b[0mvalues\u001b[0m\u001b[0;34m=\u001b[0m\u001b[0;34m'current employment'\u001b[0m\u001b[0;34m)\u001b[0m\u001b[0;34m.\u001b[0m\u001b[0mplot\u001b[0m\u001b[0;34m(\u001b[0m\u001b[0mkind\u001b[0m\u001b[0;34m=\u001b[0m\u001b[0;34m'box'\u001b[0m\u001b[0;34m,\u001b[0m \u001b[0mlogy\u001b[0m\u001b[0;34m=\u001b[0m\u001b[0;32mTrue\u001b[0m\u001b[0;34m)\u001b[0m\u001b[0;34m\u001b[0m\u001b[0m\n\u001b[0m",
          "\u001b[0;32m/opt/conda/lib/python3.6/site-packages/pandas/core/frame.py\u001b[0m in \u001b[0;36mpivot\u001b[0;34m(self, index, columns, values)\u001b[0m\n\u001b[1;32m   5192\u001b[0m         \"\"\"\n\u001b[1;32m   5193\u001b[0m         \u001b[0;32mfrom\u001b[0m \u001b[0mpandas\u001b[0m\u001b[0;34m.\u001b[0m\u001b[0mcore\u001b[0m\u001b[0;34m.\u001b[0m\u001b[0mreshape\u001b[0m\u001b[0;34m.\u001b[0m\u001b[0mreshape\u001b[0m \u001b[0;32mimport\u001b[0m \u001b[0mpivot\u001b[0m\u001b[0;34m\u001b[0m\u001b[0m\n\u001b[0;32m-> 5194\u001b[0;31m         \u001b[0;32mreturn\u001b[0m \u001b[0mpivot\u001b[0m\u001b[0;34m(\u001b[0m\u001b[0mself\u001b[0m\u001b[0;34m,\u001b[0m \u001b[0mindex\u001b[0m\u001b[0;34m=\u001b[0m\u001b[0mindex\u001b[0m\u001b[0;34m,\u001b[0m \u001b[0mcolumns\u001b[0m\u001b[0;34m=\u001b[0m\u001b[0mcolumns\u001b[0m\u001b[0;34m,\u001b[0m \u001b[0mvalues\u001b[0m\u001b[0;34m=\u001b[0m\u001b[0mvalues\u001b[0m\u001b[0;34m)\u001b[0m\u001b[0;34m\u001b[0m\u001b[0m\n\u001b[0m\u001b[1;32m   5195\u001b[0m \u001b[0;34m\u001b[0m\u001b[0m\n\u001b[1;32m   5196\u001b[0m     _shared_docs['pivot_table'] = \"\"\"\n",
          "\u001b[0;32m/opt/conda/lib/python3.6/site-packages/pandas/core/reshape/reshape.py\u001b[0m in \u001b[0;36mpivot\u001b[0;34m(self, index, columns, values)\u001b[0m\n\u001b[1;32m    404\u001b[0m         \u001b[0;32melse\u001b[0m\u001b[0;34m:\u001b[0m\u001b[0;34m\u001b[0m\u001b[0m\n\u001b[1;32m    405\u001b[0m             \u001b[0mindex\u001b[0m \u001b[0;34m=\u001b[0m \u001b[0mself\u001b[0m\u001b[0;34m[\u001b[0m\u001b[0mindex\u001b[0m\u001b[0;34m]\u001b[0m\u001b[0;34m\u001b[0m\u001b[0m\n\u001b[0;32m--> 406\u001b[0;31m         \u001b[0mindex\u001b[0m \u001b[0;34m=\u001b[0m \u001b[0mMultiIndex\u001b[0m\u001b[0;34m.\u001b[0m\u001b[0mfrom_arrays\u001b[0m\u001b[0;34m(\u001b[0m\u001b[0;34m[\u001b[0m\u001b[0mindex\u001b[0m\u001b[0;34m,\u001b[0m \u001b[0mself\u001b[0m\u001b[0;34m[\u001b[0m\u001b[0mcolumns\u001b[0m\u001b[0;34m]\u001b[0m\u001b[0;34m]\u001b[0m\u001b[0;34m)\u001b[0m\u001b[0;34m\u001b[0m\u001b[0m\n\u001b[0m\u001b[1;32m    407\u001b[0m \u001b[0;34m\u001b[0m\u001b[0m\n\u001b[1;32m    408\u001b[0m         \u001b[0;32mif\u001b[0m \u001b[0mis_list_like\u001b[0m\u001b[0;34m(\u001b[0m\u001b[0mvalues\u001b[0m\u001b[0;34m)\u001b[0m \u001b[0;32mand\u001b[0m \u001b[0;32mnot\u001b[0m \u001b[0misinstance\u001b[0m\u001b[0;34m(\u001b[0m\u001b[0mvalues\u001b[0m\u001b[0;34m,\u001b[0m \u001b[0mtuple\u001b[0m\u001b[0;34m)\u001b[0m\u001b[0;34m:\u001b[0m\u001b[0;34m\u001b[0m\u001b[0m\n",
          "\u001b[0;32m/opt/conda/lib/python3.6/site-packages/pandas/core/frame.py\u001b[0m in \u001b[0;36m__getitem__\u001b[0;34m(self, key)\u001b[0m\n\u001b[1;32m   2686\u001b[0m             \u001b[0;32mreturn\u001b[0m \u001b[0mself\u001b[0m\u001b[0;34m.\u001b[0m\u001b[0m_getitem_multilevel\u001b[0m\u001b[0;34m(\u001b[0m\u001b[0mkey\u001b[0m\u001b[0;34m)\u001b[0m\u001b[0;34m\u001b[0m\u001b[0m\n\u001b[1;32m   2687\u001b[0m         \u001b[0;32melse\u001b[0m\u001b[0;34m:\u001b[0m\u001b[0;34m\u001b[0m\u001b[0m\n\u001b[0;32m-> 2688\u001b[0;31m             \u001b[0;32mreturn\u001b[0m \u001b[0mself\u001b[0m\u001b[0;34m.\u001b[0m\u001b[0m_getitem_column\u001b[0m\u001b[0;34m(\u001b[0m\u001b[0mkey\u001b[0m\u001b[0;34m)\u001b[0m\u001b[0;34m\u001b[0m\u001b[0m\n\u001b[0m\u001b[1;32m   2689\u001b[0m \u001b[0;34m\u001b[0m\u001b[0m\n\u001b[1;32m   2690\u001b[0m     \u001b[0;32mdef\u001b[0m \u001b[0m_getitem_column\u001b[0m\u001b[0;34m(\u001b[0m\u001b[0mself\u001b[0m\u001b[0;34m,\u001b[0m \u001b[0mkey\u001b[0m\u001b[0;34m)\u001b[0m\u001b[0;34m:\u001b[0m\u001b[0;34m\u001b[0m\u001b[0m\n",
          "\u001b[0;32m/opt/conda/lib/python3.6/site-packages/pandas/core/frame.py\u001b[0m in \u001b[0;36m_getitem_column\u001b[0;34m(self, key)\u001b[0m\n\u001b[1;32m   2693\u001b[0m         \u001b[0;31m# get column\u001b[0m\u001b[0;34m\u001b[0m\u001b[0;34m\u001b[0m\u001b[0m\n\u001b[1;32m   2694\u001b[0m         \u001b[0;32mif\u001b[0m \u001b[0mself\u001b[0m\u001b[0;34m.\u001b[0m\u001b[0mcolumns\u001b[0m\u001b[0;34m.\u001b[0m\u001b[0mis_unique\u001b[0m\u001b[0;34m:\u001b[0m\u001b[0;34m\u001b[0m\u001b[0m\n\u001b[0;32m-> 2695\u001b[0;31m             \u001b[0;32mreturn\u001b[0m \u001b[0mself\u001b[0m\u001b[0;34m.\u001b[0m\u001b[0m_get_item_cache\u001b[0m\u001b[0;34m(\u001b[0m\u001b[0mkey\u001b[0m\u001b[0;34m)\u001b[0m\u001b[0;34m\u001b[0m\u001b[0m\n\u001b[0m\u001b[1;32m   2696\u001b[0m \u001b[0;34m\u001b[0m\u001b[0m\n\u001b[1;32m   2697\u001b[0m         \u001b[0;31m# duplicate columns & possible reduce dimensionality\u001b[0m\u001b[0;34m\u001b[0m\u001b[0;34m\u001b[0m\u001b[0m\n",
          "\u001b[0;32m/opt/conda/lib/python3.6/site-packages/pandas/core/generic.py\u001b[0m in \u001b[0;36m_get_item_cache\u001b[0;34m(self, item)\u001b[0m\n\u001b[1;32m   2487\u001b[0m         \u001b[0mres\u001b[0m \u001b[0;34m=\u001b[0m \u001b[0mcache\u001b[0m\u001b[0;34m.\u001b[0m\u001b[0mget\u001b[0m\u001b[0;34m(\u001b[0m\u001b[0mitem\u001b[0m\u001b[0;34m)\u001b[0m\u001b[0;34m\u001b[0m\u001b[0m\n\u001b[1;32m   2488\u001b[0m         \u001b[0;32mif\u001b[0m \u001b[0mres\u001b[0m \u001b[0;32mis\u001b[0m \u001b[0;32mNone\u001b[0m\u001b[0;34m:\u001b[0m\u001b[0;34m\u001b[0m\u001b[0m\n\u001b[0;32m-> 2489\u001b[0;31m             \u001b[0mvalues\u001b[0m \u001b[0;34m=\u001b[0m \u001b[0mself\u001b[0m\u001b[0;34m.\u001b[0m\u001b[0m_data\u001b[0m\u001b[0;34m.\u001b[0m\u001b[0mget\u001b[0m\u001b[0;34m(\u001b[0m\u001b[0mitem\u001b[0m\u001b[0;34m)\u001b[0m\u001b[0;34m\u001b[0m\u001b[0m\n\u001b[0m\u001b[1;32m   2490\u001b[0m             \u001b[0mres\u001b[0m \u001b[0;34m=\u001b[0m \u001b[0mself\u001b[0m\u001b[0;34m.\u001b[0m\u001b[0m_box_item_values\u001b[0m\u001b[0;34m(\u001b[0m\u001b[0mitem\u001b[0m\u001b[0;34m,\u001b[0m \u001b[0mvalues\u001b[0m\u001b[0;34m)\u001b[0m\u001b[0;34m\u001b[0m\u001b[0m\n\u001b[1;32m   2491\u001b[0m             \u001b[0mcache\u001b[0m\u001b[0;34m[\u001b[0m\u001b[0mitem\u001b[0m\u001b[0;34m]\u001b[0m \u001b[0;34m=\u001b[0m \u001b[0mres\u001b[0m\u001b[0;34m\u001b[0m\u001b[0m\n",
          "\u001b[0;32m/opt/conda/lib/python3.6/site-packages/pandas/core/internals.py\u001b[0m in \u001b[0;36mget\u001b[0;34m(self, item, fastpath)\u001b[0m\n\u001b[1;32m   4113\u001b[0m \u001b[0;34m\u001b[0m\u001b[0m\n\u001b[1;32m   4114\u001b[0m             \u001b[0;32mif\u001b[0m \u001b[0;32mnot\u001b[0m \u001b[0misna\u001b[0m\u001b[0;34m(\u001b[0m\u001b[0mitem\u001b[0m\u001b[0;34m)\u001b[0m\u001b[0;34m:\u001b[0m\u001b[0;34m\u001b[0m\u001b[0m\n\u001b[0;32m-> 4115\u001b[0;31m                 \u001b[0mloc\u001b[0m \u001b[0;34m=\u001b[0m \u001b[0mself\u001b[0m\u001b[0;34m.\u001b[0m\u001b[0mitems\u001b[0m\u001b[0;34m.\u001b[0m\u001b[0mget_loc\u001b[0m\u001b[0;34m(\u001b[0m\u001b[0mitem\u001b[0m\u001b[0;34m)\u001b[0m\u001b[0;34m\u001b[0m\u001b[0m\n\u001b[0m\u001b[1;32m   4116\u001b[0m             \u001b[0;32melse\u001b[0m\u001b[0;34m:\u001b[0m\u001b[0;34m\u001b[0m\u001b[0m\n\u001b[1;32m   4117\u001b[0m                 \u001b[0mindexer\u001b[0m \u001b[0;34m=\u001b[0m \u001b[0mnp\u001b[0m\u001b[0;34m.\u001b[0m\u001b[0marange\u001b[0m\u001b[0;34m(\u001b[0m\u001b[0mlen\u001b[0m\u001b[0;34m(\u001b[0m\u001b[0mself\u001b[0m\u001b[0;34m.\u001b[0m\u001b[0mitems\u001b[0m\u001b[0;34m)\u001b[0m\u001b[0;34m)\u001b[0m\u001b[0;34m[\u001b[0m\u001b[0misna\u001b[0m\u001b[0;34m(\u001b[0m\u001b[0mself\u001b[0m\u001b[0;34m.\u001b[0m\u001b[0mitems\u001b[0m\u001b[0;34m)\u001b[0m\u001b[0;34m]\u001b[0m\u001b[0;34m\u001b[0m\u001b[0m\n",
          "\u001b[0;32m/opt/conda/lib/python3.6/site-packages/pandas/core/indexes/base.py\u001b[0m in \u001b[0;36mget_loc\u001b[0;34m(self, key, method, tolerance)\u001b[0m\n\u001b[1;32m   3078\u001b[0m                 \u001b[0;32mreturn\u001b[0m \u001b[0mself\u001b[0m\u001b[0;34m.\u001b[0m\u001b[0m_engine\u001b[0m\u001b[0;34m.\u001b[0m\u001b[0mget_loc\u001b[0m\u001b[0;34m(\u001b[0m\u001b[0mkey\u001b[0m\u001b[0;34m)\u001b[0m\u001b[0;34m\u001b[0m\u001b[0m\n\u001b[1;32m   3079\u001b[0m             \u001b[0;32mexcept\u001b[0m \u001b[0mKeyError\u001b[0m\u001b[0;34m:\u001b[0m\u001b[0;34m\u001b[0m\u001b[0m\n\u001b[0;32m-> 3080\u001b[0;31m                 \u001b[0;32mreturn\u001b[0m \u001b[0mself\u001b[0m\u001b[0;34m.\u001b[0m\u001b[0m_engine\u001b[0m\u001b[0;34m.\u001b[0m\u001b[0mget_loc\u001b[0m\u001b[0;34m(\u001b[0m\u001b[0mself\u001b[0m\u001b[0;34m.\u001b[0m\u001b[0m_maybe_cast_indexer\u001b[0m\u001b[0;34m(\u001b[0m\u001b[0mkey\u001b[0m\u001b[0;34m)\u001b[0m\u001b[0;34m)\u001b[0m\u001b[0;34m\u001b[0m\u001b[0m\n\u001b[0m\u001b[1;32m   3081\u001b[0m \u001b[0;34m\u001b[0m\u001b[0m\n\u001b[1;32m   3082\u001b[0m         \u001b[0mindexer\u001b[0m \u001b[0;34m=\u001b[0m \u001b[0mself\u001b[0m\u001b[0;34m.\u001b[0m\u001b[0mget_indexer\u001b[0m\u001b[0;34m(\u001b[0m\u001b[0;34m[\u001b[0m\u001b[0mkey\u001b[0m\u001b[0;34m]\u001b[0m\u001b[0;34m,\u001b[0m \u001b[0mmethod\u001b[0m\u001b[0;34m=\u001b[0m\u001b[0mmethod\u001b[0m\u001b[0;34m,\u001b[0m \u001b[0mtolerance\u001b[0m\u001b[0;34m=\u001b[0m\u001b[0mtolerance\u001b[0m\u001b[0;34m)\u001b[0m\u001b[0;34m\u001b[0m\u001b[0m\n",
          "\u001b[0;32mpandas/_libs/index.pyx\u001b[0m in \u001b[0;36mpandas._libs.index.IndexEngine.get_loc\u001b[0;34m()\u001b[0m\n",
          "\u001b[0;32mpandas/_libs/index.pyx\u001b[0m in \u001b[0;36mpandas._libs.index.IndexEngine.get_loc\u001b[0;34m()\u001b[0m\n",
          "\u001b[0;32mpandas/_libs/hashtable_class_helper.pxi\u001b[0m in \u001b[0;36mpandas._libs.hashtable.PyObjectHashTable.get_item\u001b[0;34m()\u001b[0m\n",
          "\u001b[0;32mpandas/_libs/hashtable_class_helper.pxi\u001b[0m in \u001b[0;36mpandas._libs.hashtable.PyObjectHashTable.get_item\u001b[0;34m()\u001b[0m\n",
          "\u001b[0;31mKeyError\u001b[0m: 'area type'"
         ]
        }
       ]
      }
     },
     "1114d8556c5449abb1246e896b57b177": {
      "model_module": "@jupyter-widgets/controls",
      "model_module_version": "1.4.0",
      "model_name": "DropdownModel",
      "state": {
       "_options_labels": [
        "State",
        "Metropolitan Area",
        "County"
       ],
       "description": "area_type",
       "index": 0,
       "layout": "IPY_MODEL_bfa5daba98c64847b99a4fa1887f9bb7",
       "style": "IPY_MODEL_bff8f056f669429ebc5b18fd596eba2f"
      }
     },
     "113865af36f24cb9b8d494ff9e20897d": {
      "model_module": "@jupyter-widgets/base",
      "model_module_version": "1.1.0",
      "model_name": "LayoutModel",
      "state": {}
     },
     "114f103bcf2b401baf558e1db8e1f7fe": {
      "model_module": "@jupyter-widgets/controls",
      "model_module_version": "1.4.0",
      "model_name": "ButtonStyleModel",
      "state": {}
     },
     "11b6bece64524deebf93fd5c40ede01a": {
      "model_module": "@jupyter-widgets/base",
      "model_module_version": "1.1.0",
      "model_name": "LayoutModel",
      "state": {}
     },
     "11fcba7840c64c92a5f4ad3b37a74c1d": {
      "model_module": "@jupyter-widgets/base",
      "model_module_version": "1.1.0",
      "model_name": "LayoutModel",
      "state": {}
     },
     "123007703c5544e3ac41dff32f5c1729": {
      "model_module": "@jupyter-widgets/controls",
      "model_module_version": "1.4.0",
      "model_name": "DropdownModel",
      "state": {
       "_options_labels": [
        "State",
        "Metropolitan Area",
        "County"
       ],
       "description": "area_type",
       "index": 0,
       "layout": "IPY_MODEL_8c9ec7a6d3dd4d599692badf59a2dcb7",
       "style": "IPY_MODEL_86d68764890341b6ab4116bda5fb31c3"
      }
     },
     "128a602dba834fadbff49f6c06d24b24": {
      "model_module": "@jupyter-widgets/base",
      "model_module_version": "1.1.0",
      "model_name": "LayoutModel",
      "state": {}
     },
     "12f0a2985399448db11328fef4dcc978": {
      "model_module": "@jupyter-widgets/base",
      "model_module_version": "1.1.0",
      "model_name": "LayoutModel",
      "state": {}
     },
     "1311855ea25b4cea928cbc17f51eb80f": {
      "model_module": "@jupyter-widgets/output",
      "model_module_version": "1.0.0",
      "model_name": "OutputModel",
      "state": {
       "layout": "IPY_MODEL_cdd23a9cc42a4ed683e771baab71da65",
       "outputs": [
        {
         "ename": "TypeError",
         "evalue": "Empty 'DataFrame': no numeric data to plot",
         "output_type": "error",
         "traceback": [
          "\u001b[0;31m---------------------------------------------------------------------------\u001b[0m",
          "\u001b[0;31mTypeError\u001b[0m                                 Traceback (most recent call last)",
          "\u001b[0;32m/opt/conda/lib/python3.6/site-packages/ipywidgets/widgets/interaction.py\u001b[0m in \u001b[0;36mupdate\u001b[0;34m(self, *args)\u001b[0m\n\u001b[1;32m    249\u001b[0m                     \u001b[0mvalue\u001b[0m \u001b[0;34m=\u001b[0m \u001b[0mwidget\u001b[0m\u001b[0;34m.\u001b[0m\u001b[0mget_interact_value\u001b[0m\u001b[0;34m(\u001b[0m\u001b[0;34m)\u001b[0m\u001b[0;34m\u001b[0m\u001b[0m\n\u001b[1;32m    250\u001b[0m                     \u001b[0mself\u001b[0m\u001b[0;34m.\u001b[0m\u001b[0mkwargs\u001b[0m\u001b[0;34m[\u001b[0m\u001b[0mwidget\u001b[0m\u001b[0;34m.\u001b[0m\u001b[0m_kwarg\u001b[0m\u001b[0;34m]\u001b[0m \u001b[0;34m=\u001b[0m \u001b[0mvalue\u001b[0m\u001b[0;34m\u001b[0m\u001b[0m\n\u001b[0;32m--> 251\u001b[0;31m                 \u001b[0mself\u001b[0m\u001b[0;34m.\u001b[0m\u001b[0mresult\u001b[0m \u001b[0;34m=\u001b[0m \u001b[0mself\u001b[0m\u001b[0;34m.\u001b[0m\u001b[0mf\u001b[0m\u001b[0;34m(\u001b[0m\u001b[0;34m**\u001b[0m\u001b[0mself\u001b[0m\u001b[0;34m.\u001b[0m\u001b[0mkwargs\u001b[0m\u001b[0;34m)\u001b[0m\u001b[0;34m\u001b[0m\u001b[0m\n\u001b[0m\u001b[1;32m    252\u001b[0m                 \u001b[0mshow_inline_matplotlib_plots\u001b[0m\u001b[0;34m(\u001b[0m\u001b[0;34m)\u001b[0m\u001b[0;34m\u001b[0m\u001b[0m\n\u001b[1;32m    253\u001b[0m                 \u001b[0;32mif\u001b[0m \u001b[0mself\u001b[0m\u001b[0;34m.\u001b[0m\u001b[0mauto_display\u001b[0m \u001b[0;32mand\u001b[0m \u001b[0mself\u001b[0m\u001b[0;34m.\u001b[0m\u001b[0mresult\u001b[0m \u001b[0;32mis\u001b[0m \u001b[0;32mnot\u001b[0m \u001b[0;32mNone\u001b[0m\u001b[0;34m:\u001b[0m\u001b[0;34m\u001b[0m\u001b[0m\n",
          "\u001b[0;32m<ipython-input-61-f3b62ffb8092>\u001b[0m in \u001b[0;36mfilter_by_year_month\u001b[0;34m(industry_title, area_type)\u001b[0m\n\u001b[1;32m      3\u001b[0m     \u001b[0mdata\u001b[0m\u001b[0;34m=\u001b[0m\u001b[0mdf_em\u001b[0m\u001b[0;34m.\u001b[0m\u001b[0mloc\u001b[0m\u001b[0;34m[\u001b[0m\u001b[0;34m(\u001b[0m\u001b[0mdf_em\u001b[0m\u001b[0;34m[\u001b[0m\u001b[0;34m'industry title'\u001b[0m\u001b[0;34m]\u001b[0m\u001b[0;34m==\u001b[0m\u001b[0mindustry_title\u001b[0m\u001b[0;34m)\u001b[0m \u001b[0;34m&\u001b[0m \u001b[0;34m(\u001b[0m\u001b[0mdf_em\u001b[0m\u001b[0;34m[\u001b[0m\u001b[0;34m'area type'\u001b[0m\u001b[0;34m]\u001b[0m\u001b[0;34m==\u001b[0m\u001b[0marea_type\u001b[0m\u001b[0;34m)\u001b[0m\u001b[0;34m]\u001b[0m\u001b[0;34m\u001b[0m\u001b[0m\n\u001b[1;32m      4\u001b[0m     \u001b[0;31m#print(data)\u001b[0m\u001b[0;34m\u001b[0m\u001b[0;34m\u001b[0m\u001b[0m\n\u001b[0;32m----> 5\u001b[0;31m     \u001b[0mdata\u001b[0m\u001b[0;34m[\u001b[0m\u001b[0;34m'current employment'\u001b[0m\u001b[0;34m]\u001b[0m\u001b[0;34m.\u001b[0m\u001b[0mplot\u001b[0m\u001b[0;34m(\u001b[0m\u001b[0mkind\u001b[0m\u001b[0;34m=\u001b[0m\u001b[0;34m'box'\u001b[0m\u001b[0;34m)\u001b[0m\u001b[0;34m\u001b[0m\u001b[0m\n\u001b[0m",
          "\u001b[0;32m/opt/conda/lib/python3.6/site-packages/pandas/plotting/_core.py\u001b[0m in \u001b[0;36m__call__\u001b[0;34m(self, kind, ax, figsize, use_index, title, grid, legend, style, logx, logy, loglog, xticks, yticks, xlim, ylim, rot, fontsize, colormap, table, yerr, xerr, label, secondary_y, **kwds)\u001b[0m\n\u001b[1;32m   2739\u001b[0m                            \u001b[0mcolormap\u001b[0m\u001b[0;34m=\u001b[0m\u001b[0mcolormap\u001b[0m\u001b[0;34m,\u001b[0m \u001b[0mtable\u001b[0m\u001b[0;34m=\u001b[0m\u001b[0mtable\u001b[0m\u001b[0;34m,\u001b[0m \u001b[0myerr\u001b[0m\u001b[0;34m=\u001b[0m\u001b[0myerr\u001b[0m\u001b[0;34m,\u001b[0m\u001b[0;34m\u001b[0m\u001b[0m\n\u001b[1;32m   2740\u001b[0m                            \u001b[0mxerr\u001b[0m\u001b[0;34m=\u001b[0m\u001b[0mxerr\u001b[0m\u001b[0;34m,\u001b[0m \u001b[0mlabel\u001b[0m\u001b[0;34m=\u001b[0m\u001b[0mlabel\u001b[0m\u001b[0;34m,\u001b[0m \u001b[0msecondary_y\u001b[0m\u001b[0;34m=\u001b[0m\u001b[0msecondary_y\u001b[0m\u001b[0;34m,\u001b[0m\u001b[0;34m\u001b[0m\u001b[0m\n\u001b[0;32m-> 2741\u001b[0;31m                            **kwds)\n\u001b[0m\u001b[1;32m   2742\u001b[0m     \u001b[0m__call__\u001b[0m\u001b[0;34m.\u001b[0m\u001b[0m__doc__\u001b[0m \u001b[0;34m=\u001b[0m \u001b[0mplot_series\u001b[0m\u001b[0;34m.\u001b[0m\u001b[0m__doc__\u001b[0m\u001b[0;34m\u001b[0m\u001b[0m\n\u001b[1;32m   2743\u001b[0m \u001b[0;34m\u001b[0m\u001b[0m\n",
          "\u001b[0;32m/opt/conda/lib/python3.6/site-packages/pandas/plotting/_core.py\u001b[0m in \u001b[0;36mplot_series\u001b[0;34m(data, kind, ax, figsize, use_index, title, grid, legend, style, logx, logy, loglog, xticks, yticks, xlim, ylim, rot, fontsize, colormap, table, yerr, xerr, label, secondary_y, **kwds)\u001b[0m\n\u001b[1;32m   2000\u001b[0m                  \u001b[0myerr\u001b[0m\u001b[0;34m=\u001b[0m\u001b[0myerr\u001b[0m\u001b[0;34m,\u001b[0m \u001b[0mxerr\u001b[0m\u001b[0;34m=\u001b[0m\u001b[0mxerr\u001b[0m\u001b[0;34m,\u001b[0m\u001b[0;34m\u001b[0m\u001b[0m\n\u001b[1;32m   2001\u001b[0m                  \u001b[0mlabel\u001b[0m\u001b[0;34m=\u001b[0m\u001b[0mlabel\u001b[0m\u001b[0;34m,\u001b[0m \u001b[0msecondary_y\u001b[0m\u001b[0;34m=\u001b[0m\u001b[0msecondary_y\u001b[0m\u001b[0;34m,\u001b[0m\u001b[0;34m\u001b[0m\u001b[0m\n\u001b[0;32m-> 2002\u001b[0;31m                  **kwds)\n\u001b[0m\u001b[1;32m   2003\u001b[0m \u001b[0;34m\u001b[0m\u001b[0m\n\u001b[1;32m   2004\u001b[0m \u001b[0;34m\u001b[0m\u001b[0m\n",
          "\u001b[0;32m/opt/conda/lib/python3.6/site-packages/pandas/plotting/_core.py\u001b[0m in \u001b[0;36m_plot\u001b[0;34m(data, x, y, subplots, ax, kind, **kwds)\u001b[0m\n\u001b[1;32m   1802\u001b[0m         \u001b[0mplot_obj\u001b[0m \u001b[0;34m=\u001b[0m \u001b[0mklass\u001b[0m\u001b[0;34m(\u001b[0m\u001b[0mdata\u001b[0m\u001b[0;34m,\u001b[0m \u001b[0msubplots\u001b[0m\u001b[0;34m=\u001b[0m\u001b[0msubplots\u001b[0m\u001b[0;34m,\u001b[0m \u001b[0max\u001b[0m\u001b[0;34m=\u001b[0m\u001b[0max\u001b[0m\u001b[0;34m,\u001b[0m \u001b[0mkind\u001b[0m\u001b[0;34m=\u001b[0m\u001b[0mkind\u001b[0m\u001b[0;34m,\u001b[0m \u001b[0;34m**\u001b[0m\u001b[0mkwds\u001b[0m\u001b[0;34m)\u001b[0m\u001b[0;34m\u001b[0m\u001b[0m\n\u001b[1;32m   1803\u001b[0m \u001b[0;34m\u001b[0m\u001b[0m\n\u001b[0;32m-> 1804\u001b[0;31m     \u001b[0mplot_obj\u001b[0m\u001b[0;34m.\u001b[0m\u001b[0mgenerate\u001b[0m\u001b[0;34m(\u001b[0m\u001b[0;34m)\u001b[0m\u001b[0;34m\u001b[0m\u001b[0m\n\u001b[0m\u001b[1;32m   1805\u001b[0m     \u001b[0mplot_obj\u001b[0m\u001b[0;34m.\u001b[0m\u001b[0mdraw\u001b[0m\u001b[0;34m(\u001b[0m\u001b[0;34m)\u001b[0m\u001b[0;34m\u001b[0m\u001b[0m\n\u001b[1;32m   1806\u001b[0m     \u001b[0;32mreturn\u001b[0m \u001b[0mplot_obj\u001b[0m\u001b[0;34m.\u001b[0m\u001b[0mresult\u001b[0m\u001b[0;34m\u001b[0m\u001b[0m\n",
          "\u001b[0;32m/opt/conda/lib/python3.6/site-packages/pandas/plotting/_core.py\u001b[0m in \u001b[0;36mgenerate\u001b[0;34m(self)\u001b[0m\n\u001b[1;32m    256\u001b[0m     \u001b[0;32mdef\u001b[0m \u001b[0mgenerate\u001b[0m\u001b[0;34m(\u001b[0m\u001b[0mself\u001b[0m\u001b[0;34m)\u001b[0m\u001b[0;34m:\u001b[0m\u001b[0;34m\u001b[0m\u001b[0m\n\u001b[1;32m    257\u001b[0m         \u001b[0mself\u001b[0m\u001b[0;34m.\u001b[0m\u001b[0m_args_adjust\u001b[0m\u001b[0;34m(\u001b[0m\u001b[0;34m)\u001b[0m\u001b[0;34m\u001b[0m\u001b[0m\n\u001b[0;32m--> 258\u001b[0;31m         \u001b[0mself\u001b[0m\u001b[0;34m.\u001b[0m\u001b[0m_compute_plot_data\u001b[0m\u001b[0;34m(\u001b[0m\u001b[0;34m)\u001b[0m\u001b[0;34m\u001b[0m\u001b[0m\n\u001b[0m\u001b[1;32m    259\u001b[0m         \u001b[0mself\u001b[0m\u001b[0;34m.\u001b[0m\u001b[0m_setup_subplots\u001b[0m\u001b[0;34m(\u001b[0m\u001b[0;34m)\u001b[0m\u001b[0;34m\u001b[0m\u001b[0m\n\u001b[1;32m    260\u001b[0m         \u001b[0mself\u001b[0m\u001b[0;34m.\u001b[0m\u001b[0m_make_plot\u001b[0m\u001b[0;34m(\u001b[0m\u001b[0;34m)\u001b[0m\u001b[0;34m\u001b[0m\u001b[0m\n",
          "\u001b[0;32m/opt/conda/lib/python3.6/site-packages/pandas/plotting/_core.py\u001b[0m in \u001b[0;36m_compute_plot_data\u001b[0;34m(self)\u001b[0m\n\u001b[1;32m    371\u001b[0m         \u001b[0;32mif\u001b[0m \u001b[0mis_empty\u001b[0m\u001b[0;34m:\u001b[0m\u001b[0;34m\u001b[0m\u001b[0m\n\u001b[1;32m    372\u001b[0m             raise TypeError('Empty {0!r}: no numeric data to '\n\u001b[0;32m--> 373\u001b[0;31m                             'plot'.format(numeric_data.__class__.__name__))\n\u001b[0m\u001b[1;32m    374\u001b[0m \u001b[0;34m\u001b[0m\u001b[0m\n\u001b[1;32m    375\u001b[0m         \u001b[0mself\u001b[0m\u001b[0;34m.\u001b[0m\u001b[0mdata\u001b[0m \u001b[0;34m=\u001b[0m \u001b[0mnumeric_data\u001b[0m\u001b[0;34m\u001b[0m\u001b[0m\n",
          "\u001b[0;31mTypeError\u001b[0m: Empty 'DataFrame': no numeric data to plot"
         ]
        }
       ]
      }
     },
     "133fb8ab64244ee2893be8fabd72cfed": {
      "model_module": "@jupyter-widgets/controls",
      "model_module_version": "1.4.0",
      "model_name": "DescriptionStyleModel",
      "state": {
       "description_width": ""
      }
     },
     "134d3b6ae95d41b48f8238c5eec69577": {
      "model_module": "@jupyter-widgets/controls",
      "model_module_version": "1.4.0",
      "model_name": "ButtonStyleModel",
      "state": {}
     },
     "1362847f85594a7cb440251c4845e4ec": {
      "model_module": "@jupyter-widgets/controls",
      "model_module_version": "1.4.0",
      "model_name": "SliderStyleModel",
      "state": {
       "description_width": ""
      }
     },
     "136dc1b1fd2d4e74a7fc6fc1e6694b66": {
      "model_module": "@jupyter-widgets/controls",
      "model_module_version": "1.4.0",
      "model_name": "DescriptionStyleModel",
      "state": {
       "description_width": ""
      }
     },
     "13859b83830743db88249d25bb56fabc": {
      "model_module": "@jupyter-widgets/base",
      "model_module_version": "1.1.0",
      "model_name": "LayoutModel",
      "state": {}
     },
     "15b3b627a4804b9cb67d5e0b3136533e": {
      "model_module": "@jupyter-widgets/output",
      "model_module_version": "1.0.0",
      "model_name": "OutputModel",
      "state": {
       "layout": "IPY_MODEL_128a602dba834fadbff49f6c06d24b24"
      }
     },
     "15b87fdb22984fdeaf8e9f036dd0581f": {
      "model_module": "@jupyter-widgets/controls",
      "model_module_version": "1.4.0",
      "model_name": "VBoxModel",
      "state": {
       "_dom_classes": [
        "widget-interact"
       ],
       "children": [
        "IPY_MODEL_a50e38482dec4876a40dbcc9cfadd412",
        "IPY_MODEL_2d91244ea7a940cea677a672cc220932",
        "IPY_MODEL_f585c7aed2cc42d7969b61c260d67ea8",
        "IPY_MODEL_6c0306120ed64815b72482a18294f492"
       ],
       "layout": "IPY_MODEL_6a63ced7abf644f184eed99ad0f3c444"
      }
     },
     "15fd9ee888eb42119b0d424181ab74ac": {
      "model_module": "@jupyter-widgets/controls",
      "model_module_version": "1.4.0",
      "model_name": "ButtonModel",
      "state": {
       "description": "Run Interact",
       "layout": "IPY_MODEL_74d32e03c9664e79906976c7ff527303",
       "style": "IPY_MODEL_8ae4e16c480c4de99e97d33c1e5e8803"
      }
     },
     "165a42aa4aab4ae39b92c69edb195e72": {
      "model_module": "@jupyter-widgets/controls",
      "model_module_version": "1.4.0",
      "model_name": "DescriptionStyleModel",
      "state": {
       "description_width": ""
      }
     },
     "1726acb314a1455b82f5eae14b96a1f1": {
      "model_module": "@jupyter-widgets/controls",
      "model_module_version": "1.4.0",
      "model_name": "ButtonStyleModel",
      "state": {}
     },
     "176b08b65c4248b6a51a18e1d39a01cb": {
      "model_module": "@jupyter-widgets/controls",
      "model_module_version": "1.4.0",
      "model_name": "DropdownModel",
      "state": {
       "_options_labels": [
        "State",
        "Metropolitan Area",
        "County"
       ],
       "description": "area_type",
       "index": 0,
       "layout": "IPY_MODEL_5e3efe5fcf804846abf958aaec31f90d",
       "style": "IPY_MODEL_907155f28685437b827aa82c0ab46985"
      }
     },
     "1841f64538834dddbd8e9131d6ce763e": {
      "model_module": "@jupyter-widgets/controls",
      "model_module_version": "1.4.0",
      "model_name": "DescriptionStyleModel",
      "state": {
       "description_width": ""
      }
     },
     "1865a9b857674d3498c89a6251bb1310": {
      "model_module": "@jupyter-widgets/controls",
      "model_module_version": "1.4.0",
      "model_name": "DropdownModel",
      "state": {
       "_options_labels": [
        "2019",
        "2018",
        "2017",
        "2016",
        "2015",
        "2014",
        "2013",
        "2012",
        "2011",
        "2010",
        "2009",
        "2008",
        "2007",
        "2006",
        "2005",
        "2004",
        "2003",
        "2002",
        "2001",
        "2000",
        "1999",
        "1998",
        "1997",
        "1996",
        "1995",
        "1994",
        "1993",
        "1992",
        "1991",
        "1990"
       ],
       "description": "year",
       "index": 21,
       "layout": "IPY_MODEL_fb2fedcdfc31413e976df1670d218d8d",
       "style": "IPY_MODEL_62c6aa9ffade4645a09daf421e752279"
      }
     },
     "1875aa32f4554b8bbebc9df508b055e2": {
      "model_module": "@jupyter-widgets/controls",
      "model_module_version": "1.4.0",
      "model_name": "DropdownModel",
      "state": {
       "_options_labels": [
        "2019",
        "2018",
        "2017",
        "2016",
        "2015",
        "2014",
        "2013",
        "2012",
        "2011",
        "2010",
        "2009",
        "2008",
        "2007",
        "2006",
        "2005",
        "2004",
        "2003",
        "2002",
        "2001",
        "2000",
        "1999",
        "1998",
        "1997",
        "1996",
        "1995",
        "1994",
        "1993",
        "1992",
        "1991",
        "1990"
       ],
       "description": "color",
       "index": 0,
       "layout": "IPY_MODEL_84749d5944b14182b84a1ef6c2a48112",
       "style": "IPY_MODEL_55400b7c4a8e4f9aa2db99fc5975c005"
      }
     },
     "19dddd9d17674f08beca5d1bd50bc9d1": {
      "model_module": "@jupyter-widgets/controls",
      "model_module_version": "1.4.0",
      "model_name": "DropdownModel",
      "state": {
       "_options_labels": [
        "Total Nonfarm",
        "Total Wage and Salary",
        "Total Private",
        "Goods Producing",
        "Service Providing",
        "Private Service Providing",
        "Mining and Logging",
        "Logging",
        "Mining",
        "Oil & Gas Extraction",
        "Mining, except Oil & Gas",
        "Support Activities for Mining",
        "Total Farm",
        "Natural Resources, Mining and Constructi",
        "Construction",
        "Construction of Buildings",
        "Residential Building Construction",
        "Nonresidential Building Construction",
        "Heavy and Civil Engineering Construction",
        "Utility System Const.",
        "L& Subdivision",
        "Highway, Street, and Bridge Const",
        "Other Heavy & Civil Engineer",
        "Specialty Trade Contractors",
        "Building Foundation and Exterior Contrac",
        "Building Equipment Contractors",
        "Building Finishing Contractors",
        "Other Specialty Trade Contract",
        "Manufacturing",
        "Durable Goods",
        "Wood Product Manufacturing",
        "Other Wood Product Mfg.",
        "Nonmetallic Mineral Product Mfg.",
        "Primary Metal Manufacturing",
        "Fabricated Metal Product Mfg",
        "Architectural & Structural Metals Mfg.",
        "Machine Shops & Threaded Product Mfg.",
        "Other Fabricated Metal Product Mfg.",
        "Machinery Manufacturing",
        "Industrial Machinery Manufacturing",
        "Commercial and Service Industry Manufact",
        "Metalworking Machinery Mfg.",
        "ResidualOther General Purpose Machinery",
        "Computer and Electronic Product Manufact",
        "Computer and Peripheral Equipment Manufa",
        "Electronic Computer Manufacturing",
        "Communications Equipment Manufacturing",
        "Semiconductor and Electronic Component M",
        "Bare Printed Circuit Board Manufacturing",
        "Semiconductor and Related Devices Manufa",
        "Electronic Instrument Manufacturing",
        "Electrical Equipment and Appliance Manuf",
        "Transportation Equipment Manufacturing",
        "Motor Vehicle Mfg.",
        "Aerospace Product and Parts Manufacturin",
        "Ship and Boat Building",
        "Furniture and Related Product Manufactur",
        "Household and Institutional Furniture Ma",
        "Miscellaneous Durable Goods Manufacturing",
        "Medical Equipment & Supplies Mfg.",
        "Other Miscellaneous Durable Goods Mfg.",
        "Nondurable Goods",
        "Food Manufacturing",
        "Fruit & Vegetable Preserving & Specialty",
        "Dairy Product Manufacturing",
        "Animal Slaughtering and Processing",
        "Bakeries and Tortilla Manufacturing",
        "Other Food Mfg.",
        "Beverage and Tobacco Product Mfg",
        "ResidualTextile Mills",
        "Textile Product Mills",
        "Apparel Manufacturing",
        "Apparel Knitting Mills",
        "Cut and Sew Apparel Manufacturing",
        "Paper Manufacturing",
        "Converted Paper Product Mfg.",
        "Printing and Related Support Activities",
        "Petroleum and Coal Products Manufacturin",
        "Chemical Manufacturing",
        "Pharmaceutical and Medicine Manufacturin",
        "Soap, Cleaning Compound & Toiletry Mfg.",
        "Plastics and Rubber Products Manufacturi",
        "Trade, Transportation and Utilities",
        "Wholesale Trade",
        "Merchant Wholesalers, Durable Goods",
        "Motor Vehicle and Motor Vehicle Parts Me",
        "Furniture & Home Furnish Merch whole",
        "Lumber & Other Const. Mat Merch whole",
        "Professional and Commercial Equipment Me",
        "Electrical and Electronic Goods Merchant",
        "Hdwr, Plumb & Heating Merchant whole",
        "Machinery, Equipment and Supplies Mercha",
        "Merchant Wholesalers, Nondurable Goods",
        "Paper & Paper Products Merchant whole",
        "Apparel, Piece Gds & Notions Merch whole",
        "Grocery & Related Products Merchant whol",
        "Chemical & Allied Products Merchant whol",
        "Misc Nondurable Merchant Wholesalers",
        "Wholesale Electronic Markets and Agents",
        "Retail Trade",
        "Motor Vehicle and Parts Dealer",
        "Automobile Dealers",
        "Other Motor Vehicle Dealers",
        "Automotive Parts, Accessories and Tire S",
        "Furniture and Home Furnishings Stores",
        "Furniture Stores",
        "Home Furnishings Stores",
        "Electronics and Appliance Stores",
        "Building Material and Garden Equipment S",
        "Building Material and Supplies Dealers",
        "Food and Beverage Stores",
        "Grocery Stores",
        "Specialty Food Stores",
        "Beer, Wine, & Liquor Stores",
        "Health and Personal Care Stores",
        "Gasoline Stations",
        "Clothing and Clothing Accessories Stores",
        "Clothing Stores",
        "Jewelry, Luggage & Leather Gds Stores",
        "Sporting Goods, Hobby, Book and Music St",
        "Sporting Goods, Hobby and Musical Instru",
        "Book, Periodical and Music Stores",
        "General Merchandise Stores",
        "Department Stores",
        "Miscellaneous Store Retailers",
        "Office Supplies, Stationery & Gift Store",
        "Used Merch&ise Stores",
        "Other Miscellaneous Store Retailers",
        "Nonstore Retailers",
        "Electronic Shopping & Mail-Order",
        "Transportation, Warehousing and Utilitie",
        "Utilities",
        "Electric Power Gen, Trans & Distribution",
        "Natural Gas Distribution",
        "Transportation and Warehousing",
        "Air Transportation",
        "Scheduled Air transp.",
        "Truck Transportation",
        "General Freight Trucking",
        "Specialized Freight Trucking",
        "Transit and Ground Passenger Transportat",
        "Support Activities for Transportation",
        "Support Activities for Water transp.",
        "Support Activities for Road transp.",
        "Freight transp. Arrangement",
        "Couriers and Messengers",
        "Warehousing and Storage",
        "Information",
        "Publishing Industries (except Internet)",
        "Newspaper, Periodical, Book and Director",
        "Software Publishers",
        "Motion Picture and Sound Recording",
        "Motion Picture & Video Industries",
        "Motion Picture & Video Production",
        "Broadcasting (except Internet)",
        "Radio and Television Broadcasting",
        "Cable and Other Subscription Programming",
        "Telecommunications",
        "Wired Telecommunications Carriers",
        "Data Processing, Hosting & Related Services",
        "Other Information Serv.",
        "Financial Activities",
        "Finance and Insurance",
        "Credit Intermediation and Related Activi",
        "Depository Credit Intermediation",
        "Nondepository Credit Intermediation",
        "Activities Related to Credit Intermediat",
        "Securities, Commodity Contracts and Inve",
        "Securities & Commodity Contracts",
        "Other Financial Investment Activities",
        "Insurance Carriers and Related",
        "Insurance Carriers",
        "Agencies, Brokerages, and Other Insuranc",
        "Real Estate and Rental and Leasing",
        "Real Estate",
        "Lessors of Real Estate",
        "Offices of Real Estate Agents and Broker",
        "Activities Related to Real Estate",
        "Rental and Leasing Services",
        "Automotive Equipment Rental and Leasing",
        "Consumer Goods Rental",
        "General Rental Centers",
        "Comm & Industrial Mach Rental & Leasing",
        "Professional and Business Services",
        "Professional, Scientific and Technical S",
        "Legal Services",
        "Accounting, Tax Preparation and Bookkeep",
        "Architectural, Engineering and Related S",
        "Specialized Design Services",
        "Computer Systems Design and Related Serv",
        "Management, Scientific and Technical Con",
        "Scientific Research and Development Serv",
        "Advertising and Related Services",
        "Other Professional, Scientific and Techn",
        "Management of Companies and Enterprises",
        "Administrative and Support and Waste Ser",
        "Administrative and Support Services",
        "Office Administrative Services",
        "Facilities Support Serv.",
        "Employment Services",
        "Business Support Services",
        "Travel Arrangement and Reservation Servi",
        "Investigation and Security Services",
        "Services to Buildings and Dwellings",
        "ResidualOther Support Services",
        "Waste Management and Remediation Service",
        "Educational and Health Services",
        "Educational Services",
        "Elementary and Secondary Schools",
        "Junior Colleges",
        "Colleges, Universities and Professional",
        "Other Schools & Instruction",
        "Health Care and Social Assistance",
        "Ambulatory Health Care Services",
        "Offices of Physicians",
        "Offices of Dentists",
        "Offices of Other Health Practitioners",
        "Outpatient Care Centers",
        "Medical & Diagnostic Laboratories",
        "Home Health Care Serv.",
        "Other Ambulatory Health Care Serv.",
        "Hospitals",
        "General Medical & Surgical Hosp.s",
        "Psychiatric & Substance Abuse Hosp",
        "Specialty (not Psych, Sub Abuse) Hosp.",
        "Nursing and Residential Care Facilities",
        "Nursing Care Facilities",
        "Residential Mental Retardation, Mental a",
        "Comm Care Facilities for the Elderly",
        "Other Residential Care Facilities",
        "Social Assistance",
        "Individual and Family Services",
        "Community Food & Housing, & Emergency &",
        "Vocational Rehabilitation Services",
        "Child Day Care Services",
        "Leisure and Hospitality",
        "Arts, Entertainment, and Recreation",
        "Performing Arts, Spectator Sports",
        "Performing Arts Companies",
        "Spectator Sports",
        "Independent Artists, Writers, and Perfor",
        "Museums, Historical Sites, and Similar I",
        "Amusement, Gambling, and Recreation",
        "Amusement Parks and Arcades",
        "Gambling Industries",
        "Other Amusement and Recreation",
        "Accommodation and Food Service",
        "Accommodation",
        "Food Services and Drinking Places",
        "Special Food Services",
        "Drinking Places (Alcoholic Beverages)",
        "Full-Service Restaurants",
        "Limited-Service Eating Places",
        "Other Services",
        "Repair and Maintenance",
        "Auto Repair & Maintenance",
        "Commercial & Industrial Machinery",
        "Personal & Household Goods Repair",
        "Personal and Laundry Services",
        "Personal Care Serv.",
        "Drycleaning & Laundry Serv.",
        "Other Personal Services",
        "Religious, Grantmaking, Civic, Professio",
        "Religious Organizations",
        "Grantmaking & Giving Serv.",
        "Social Advocacy Organizations",
        "Civic & Social Organizations",
        "Bus,Labor, Political & Other like Org.",
        "Government",
        "Federal Government",
        "Federal Government excluding Department of Defense",
        "Department of Defense",
        "State Government",
        "State Government Education",
        "State Government Excluding Education",
        "Local Government",
        "Indian Tribes",
        "Local Government Education",
        "Local Government Excluding Education",
        "County",
        "City",
        "Special Districts",
        "State and Local Government",
        "Miscellaneous Durable Goods Merchant Who",
        "Real Estate and Rental and Leasing - Residual",
        "Restaurants",
        "Special Districts plus Indian Tribes",
        "Private Service Providing - Residual"
       ],
       "description": "industry_title",
       "index": 0,
       "layout": "IPY_MODEL_d974fdb3d5394ed7a91911683d8cdf0c",
       "style": "IPY_MODEL_df1ce72167144ae5ae544cc1f1571c75"
      }
     },
     "19e4989da4784cbfb41f89a232dfe519": {
      "model_module": "@jupyter-widgets/controls",
      "model_module_version": "1.4.0",
      "model_name": "ButtonStyleModel",
      "state": {}
     },
     "1a8b5910b34c49c7b2c55783775fbd98": {
      "model_module": "@jupyter-widgets/base",
      "model_module_version": "1.1.0",
      "model_name": "LayoutModel",
      "state": {}
     },
     "1aca75581cd3453799ccac993ace38e6": {
      "model_module": "@jupyter-widgets/controls",
      "model_module_version": "1.4.0",
      "model_name": "DropdownModel",
      "state": {
       "_options_labels": [
        "January",
        "February",
        "March",
        "April",
        "May",
        "June",
        "December",
        "November",
        "October",
        "September",
        "August",
        "July"
       ],
       "description": "month",
       "index": 0,
       "layout": "IPY_MODEL_c6fd8b4ee936447eb8a69cea68631f60",
       "style": "IPY_MODEL_5e946812eba948d1b23fc446bc9164e1"
      }
     },
     "1b2f293bbe51428892b2f071179a4911": {
      "model_module": "@jupyter-widgets/base",
      "model_module_version": "1.1.0",
      "model_name": "LayoutModel",
      "state": {}
     },
     "1bb0eeec01fd4741b5401d9fbc8febb6": {
      "model_module": "@jupyter-widgets/base",
      "model_module_version": "1.1.0",
      "model_name": "LayoutModel",
      "state": {}
     },
     "1bca73ed410f4910acc74a9d97a73044": {
      "model_module": "@jupyter-widgets/controls",
      "model_module_version": "1.4.0",
      "model_name": "SliderStyleModel",
      "state": {
       "description_width": ""
      }
     },
     "1c63e82e79444f4a8cd0d9feaa97b87a": {
      "model_module": "@jupyter-widgets/output",
      "model_module_version": "1.0.0",
      "model_name": "OutputModel",
      "state": {
       "layout": "IPY_MODEL_79adf2382e30478a8a0b1e61630f7555"
      }
     },
     "1cd121ccd1624a17b8ea4932352e3415": {
      "model_module": "@jupyter-widgets/base",
      "model_module_version": "1.1.0",
      "model_name": "LayoutModel",
      "state": {}
     },
     "1e514b5bc4764d5eb03e24123410877b": {
      "model_module": "@jupyter-widgets/controls",
      "model_module_version": "1.4.0",
      "model_name": "DescriptionStyleModel",
      "state": {
       "description_width": ""
      }
     },
     "1f60a9529fe14024af97b074d9122129": {
      "model_module": "@jupyter-widgets/controls",
      "model_module_version": "1.4.0",
      "model_name": "DropdownModel",
      "state": {
       "_options_labels": [
        "June",
        "May",
        "April",
        "March",
        "February",
        "January",
        "December",
        "November",
        "October",
        "September",
        "August",
        "July"
       ],
       "description": "month",
       "index": 0,
       "layout": "IPY_MODEL_f6827def799a4ab190ed5688b04ecb25",
       "style": "IPY_MODEL_71a3f780534a4e3c9ba041661f017e97"
      }
     },
     "1f7933909e7f4486be28b24c26592081": {
      "model_module": "@jupyter-widgets/controls",
      "model_module_version": "1.4.0",
      "model_name": "ButtonStyleModel",
      "state": {}
     },
     "1feed5fb46494f09be8f2d45cec87944": {
      "model_module": "@jupyter-widgets/controls",
      "model_module_version": "1.4.0",
      "model_name": "DescriptionStyleModel",
      "state": {
       "description_width": ""
      }
     },
     "20795c2a9ed447d2ac3b56977dc4f72c": {
      "model_module": "@jupyter-widgets/controls",
      "model_module_version": "1.4.0",
      "model_name": "VBoxModel",
      "state": {
       "_dom_classes": [
        "widget-interact"
       ],
       "children": [
        "IPY_MODEL_ae5d5fdb45034dd8821333b7840dbf6c",
        "IPY_MODEL_40800708aa6d49c2b18ea4f62fb82301",
        "IPY_MODEL_525e5d0b8aa8433d93e93048f4363387",
        "IPY_MODEL_ffcdac3da3a3489f89fa62d24f531f03",
        "IPY_MODEL_53c3950e5ae9433e91ef1251c859ad1d"
       ],
       "layout": "IPY_MODEL_d62bdcea750144bc910b2f403016e059"
      }
     },
     "2092bd135b784f03973cc1731b5fc3a0": {
      "model_module": "@jupyter-widgets/controls",
      "model_module_version": "1.4.0",
      "model_name": "DropdownModel",
      "state": {
       "_options_labels": [
        "2019",
        "2018",
        "2017",
        "2016",
        "2015",
        "2014",
        "2013",
        "2012",
        "2011",
        "2010",
        "2009",
        "2008",
        "2007",
        "2006",
        "2005",
        "2004",
        "2003",
        "2002",
        "2001",
        "2000",
        "1999",
        "1998",
        "1997",
        "1996",
        "1995",
        "1994",
        "1993",
        "1992",
        "1991",
        "1990"
       ],
       "description": "year",
       "index": 19,
       "layout": "IPY_MODEL_57ccbcd1af7d4c27bc716f613b79f7e0",
       "style": "IPY_MODEL_802e5d32460840a89e7883e2a5f8c148"
      }
     },
     "20d2228577e3446c879713267710a7fb": {
      "model_module": "@jupyter-widgets/controls",
      "model_module_version": "1.4.0",
      "model_name": "DescriptionStyleModel",
      "state": {
       "description_width": ""
      }
     },
     "212c59b176bb452dbe80b3a2ca78ed26": {
      "model_module": "@jupyter-widgets/base",
      "model_module_version": "1.1.0",
      "model_name": "LayoutModel",
      "state": {}
     },
     "217df13065b4495a8a4f90ccd9b2ec2c": {
      "model_module": "@jupyter-widgets/base",
      "model_module_version": "1.1.0",
      "model_name": "LayoutModel",
      "state": {}
     },
     "2215ddbf70244a0ab016767813f00f95": {
      "model_module": "@jupyter-widgets/output",
      "model_module_version": "1.0.0",
      "model_name": "OutputModel",
      "state": {
       "layout": "IPY_MODEL_11b6bece64524deebf93fd5c40ede01a",
       "outputs": [
        {
         "data": {
          "image/png": "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\n",
          "text/plain": "<Figure size 720x720 with 1 Axes>"
         },
         "metadata": {
          "needs_background": "light"
         },
         "output_type": "display_data"
        }
       ]
      }
     },
     "2243a919158943608604b0625948021b": {
      "model_module": "@jupyter-widgets/controls",
      "model_module_version": "1.4.0",
      "model_name": "VBoxModel",
      "state": {
       "_dom_classes": [
        "widget-interact"
       ],
       "children": [
        "IPY_MODEL_097931d1f22e4d9a92fbb6ed3e6855b0",
        "IPY_MODEL_94735ae359754e32b7ef5e507f0ddd82",
        "IPY_MODEL_c565631f2c85412188a6de6c8d0ce75f",
        "IPY_MODEL_d502066d59124a0699d19bfc9d3edf2f"
       ],
       "layout": "IPY_MODEL_7d3c67d5d7b447cfba0867d3a6ab9bd4"
      }
     },
     "22462374451b41988b217b84b4d42049": {
      "model_module": "@jupyter-widgets/controls",
      "model_module_version": "1.4.0",
      "model_name": "DropdownModel",
      "state": {
       "_options_labels": [
        "State",
        "Metropolitan Area",
        "County"
       ],
       "description": "area_type",
       "index": 0,
       "layout": "IPY_MODEL_d676981496194188899569a722103421",
       "style": "IPY_MODEL_3203ff2e2d5e43d795d7bc671cb08b53"
      }
     },
     "2256ab73b69b45399aed50a346c20117": {
      "model_module": "@jupyter-widgets/controls",
      "model_module_version": "1.4.0",
      "model_name": "SliderStyleModel",
      "state": {
       "description_width": ""
      }
     },
     "2288697ea52e4a48838195ebaaff6b4a": {
      "model_module": "@jupyter-widgets/controls",
      "model_module_version": "1.4.0",
      "model_name": "DropdownModel",
      "state": {
       "_options_labels": [
        "Total Nonfarm",
        "Total Wage and Salary",
        "Total Private",
        "Goods Producing",
        "Service Providing",
        "Private Service Providing",
        "Mining and Logging",
        "Logging",
        "Mining",
        "Oil & Gas Extraction",
        "Mining, except Oil & Gas",
        "Support Activities for Mining",
        "Total Farm",
        "Natural Resources, Mining and Constructi",
        "Construction",
        "Construction of Buildings",
        "Residential Building Construction",
        "Nonresidential Building Construction",
        "Heavy and Civil Engineering Construction",
        "Utility System Const.",
        "L& Subdivision",
        "Highway, Street, and Bridge Const",
        "Other Heavy & Civil Engineer",
        "Specialty Trade Contractors",
        "Building Foundation and Exterior Contrac",
        "Building Equipment Contractors",
        "Building Finishing Contractors",
        "Other Specialty Trade Contract",
        "Manufacturing",
        "Durable Goods",
        "Wood Product Manufacturing",
        "Other Wood Product Mfg.",
        "Nonmetallic Mineral Product Mfg.",
        "Primary Metal Manufacturing",
        "Fabricated Metal Product Mfg",
        "Architectural & Structural Metals Mfg.",
        "Machine Shops & Threaded Product Mfg.",
        "Other Fabricated Metal Product Mfg.",
        "Machinery Manufacturing",
        "Industrial Machinery Manufacturing",
        "Commercial and Service Industry Manufact",
        "Metalworking Machinery Mfg.",
        "ResidualOther General Purpose Machinery",
        "Computer and Electronic Product Manufact",
        "Computer and Peripheral Equipment Manufa",
        "Electronic Computer Manufacturing",
        "Communications Equipment Manufacturing",
        "Semiconductor and Electronic Component M",
        "Bare Printed Circuit Board Manufacturing",
        "Semiconductor and Related Devices Manufa",
        "Electronic Instrument Manufacturing",
        "Electrical Equipment and Appliance Manuf",
        "Transportation Equipment Manufacturing",
        "Motor Vehicle Mfg.",
        "Aerospace Product and Parts Manufacturin",
        "Ship and Boat Building",
        "Furniture and Related Product Manufactur",
        "Household and Institutional Furniture Ma",
        "Miscellaneous Durable Goods Manufacturing",
        "Medical Equipment & Supplies Mfg.",
        "Other Miscellaneous Durable Goods Mfg.",
        "Nondurable Goods",
        "Food Manufacturing",
        "Fruit & Vegetable Preserving & Specialty",
        "Dairy Product Manufacturing",
        "Animal Slaughtering and Processing",
        "Bakeries and Tortilla Manufacturing",
        "Other Food Mfg.",
        "Beverage and Tobacco Product Mfg",
        "ResidualTextile Mills",
        "Textile Product Mills",
        "Apparel Manufacturing",
        "Apparel Knitting Mills",
        "Cut and Sew Apparel Manufacturing",
        "Paper Manufacturing",
        "Converted Paper Product Mfg.",
        "Printing and Related Support Activities",
        "Petroleum and Coal Products Manufacturin",
        "Chemical Manufacturing",
        "Pharmaceutical and Medicine Manufacturin",
        "Soap, Cleaning Compound & Toiletry Mfg.",
        "Plastics and Rubber Products Manufacturi",
        "Trade, Transportation and Utilities",
        "Wholesale Trade",
        "Merchant Wholesalers, Durable Goods",
        "Motor Vehicle and Motor Vehicle Parts Me",
        "Furniture & Home Furnish Merch whole",
        "Lumber & Other Const. Mat Merch whole",
        "Professional and Commercial Equipment Me",
        "Electrical and Electronic Goods Merchant",
        "Hdwr, Plumb & Heating Merchant whole",
        "Machinery, Equipment and Supplies Mercha",
        "Merchant Wholesalers, Nondurable Goods",
        "Paper & Paper Products Merchant whole",
        "Apparel, Piece Gds & Notions Merch whole",
        "Grocery & Related Products Merchant whol",
        "Chemical & Allied Products Merchant whol",
        "Misc Nondurable Merchant Wholesalers",
        "Wholesale Electronic Markets and Agents",
        "Retail Trade",
        "Motor Vehicle and Parts Dealer",
        "Automobile Dealers",
        "Other Motor Vehicle Dealers",
        "Automotive Parts, Accessories and Tire S",
        "Furniture and Home Furnishings Stores",
        "Furniture Stores",
        "Home Furnishings Stores",
        "Electronics and Appliance Stores",
        "Building Material and Garden Equipment S",
        "Building Material and Supplies Dealers",
        "Food and Beverage Stores",
        "Grocery Stores",
        "Specialty Food Stores",
        "Beer, Wine, & Liquor Stores",
        "Health and Personal Care Stores",
        "Gasoline Stations",
        "Clothing and Clothing Accessories Stores",
        "Clothing Stores",
        "Jewelry, Luggage & Leather Gds Stores",
        "Sporting Goods, Hobby, Book and Music St",
        "Sporting Goods, Hobby and Musical Instru",
        "Book, Periodical and Music Stores",
        "General Merchandise Stores",
        "Department Stores",
        "Miscellaneous Store Retailers",
        "Office Supplies, Stationery & Gift Store",
        "Used Merch&ise Stores",
        "Other Miscellaneous Store Retailers",
        "Nonstore Retailers",
        "Electronic Shopping & Mail-Order",
        "Transportation, Warehousing and Utilitie",
        "Utilities",
        "Electric Power Gen, Trans & Distribution",
        "Natural Gas Distribution",
        "Transportation and Warehousing",
        "Air Transportation",
        "Scheduled Air transp.",
        "Truck Transportation",
        "General Freight Trucking",
        "Specialized Freight Trucking",
        "Transit and Ground Passenger Transportat",
        "Support Activities for Transportation",
        "Support Activities for Water transp.",
        "Support Activities for Road transp.",
        "Freight transp. Arrangement",
        "Couriers and Messengers",
        "Warehousing and Storage",
        "Information",
        "Publishing Industries (except Internet)",
        "Newspaper, Periodical, Book and Director",
        "Software Publishers",
        "Motion Picture and Sound Recording",
        "Motion Picture & Video Industries",
        "Motion Picture & Video Production",
        "Broadcasting (except Internet)",
        "Radio and Television Broadcasting",
        "Cable and Other Subscription Programming",
        "Telecommunications",
        "Wired Telecommunications Carriers",
        "Data Processing, Hosting & Related Services",
        "Other Information Serv.",
        "Financial Activities",
        "Finance and Insurance",
        "Credit Intermediation and Related Activi",
        "Depository Credit Intermediation",
        "Nondepository Credit Intermediation",
        "Activities Related to Credit Intermediat",
        "Securities, Commodity Contracts and Inve",
        "Securities & Commodity Contracts",
        "Other Financial Investment Activities",
        "Insurance Carriers and Related",
        "Insurance Carriers",
        "Agencies, Brokerages, and Other Insuranc",
        "Real Estate and Rental and Leasing",
        "Real Estate",
        "Lessors of Real Estate",
        "Offices of Real Estate Agents and Broker",
        "Activities Related to Real Estate",
        "Rental and Leasing Services",
        "Automotive Equipment Rental and Leasing",
        "Consumer Goods Rental",
        "General Rental Centers",
        "Comm & Industrial Mach Rental & Leasing",
        "Professional and Business Services",
        "Professional, Scientific and Technical S",
        "Legal Services",
        "Accounting, Tax Preparation and Bookkeep",
        "Architectural, Engineering and Related S",
        "Specialized Design Services",
        "Computer Systems Design and Related Serv",
        "Management, Scientific and Technical Con",
        "Scientific Research and Development Serv",
        "Advertising and Related Services",
        "Other Professional, Scientific and Techn",
        "Management of Companies and Enterprises",
        "Administrative and Support and Waste Ser",
        "Administrative and Support Services",
        "Office Administrative Services",
        "Facilities Support Serv.",
        "Employment Services",
        "Business Support Services",
        "Travel Arrangement and Reservation Servi",
        "Investigation and Security Services",
        "Services to Buildings and Dwellings",
        "ResidualOther Support Services",
        "Waste Management and Remediation Service",
        "Educational and Health Services",
        "Educational Services",
        "Elementary and Secondary Schools",
        "Junior Colleges",
        "Colleges, Universities and Professional",
        "Other Schools & Instruction",
        "Health Care and Social Assistance",
        "Ambulatory Health Care Services",
        "Offices of Physicians",
        "Offices of Dentists",
        "Offices of Other Health Practitioners",
        "Outpatient Care Centers",
        "Medical & Diagnostic Laboratories",
        "Home Health Care Serv.",
        "Other Ambulatory Health Care Serv.",
        "Hospitals",
        "General Medical & Surgical Hosp.s",
        "Psychiatric & Substance Abuse Hosp",
        "Specialty (not Psych, Sub Abuse) Hosp.",
        "Nursing and Residential Care Facilities",
        "Nursing Care Facilities",
        "Residential Mental Retardation, Mental a",
        "Comm Care Facilities for the Elderly",
        "Other Residential Care Facilities",
        "Social Assistance",
        "Individual and Family Services",
        "Community Food & Housing, & Emergency &",
        "Vocational Rehabilitation Services",
        "Child Day Care Services",
        "Leisure and Hospitality",
        "Arts, Entertainment, and Recreation",
        "Performing Arts, Spectator Sports",
        "Performing Arts Companies",
        "Spectator Sports",
        "Independent Artists, Writers, and Perfor",
        "Museums, Historical Sites, and Similar I",
        "Amusement, Gambling, and Recreation",
        "Amusement Parks and Arcades",
        "Gambling Industries",
        "Other Amusement and Recreation",
        "Accommodation and Food Service",
        "Accommodation",
        "Food Services and Drinking Places",
        "Special Food Services",
        "Drinking Places (Alcoholic Beverages)",
        "Full-Service Restaurants",
        "Limited-Service Eating Places",
        "Other Services",
        "Repair and Maintenance",
        "Auto Repair & Maintenance",
        "Commercial & Industrial Machinery",
        "Personal & Household Goods Repair",
        "Personal and Laundry Services",
        "Personal Care Serv.",
        "Drycleaning & Laundry Serv.",
        "Other Personal Services",
        "Religious, Grantmaking, Civic, Professio",
        "Religious Organizations",
        "Grantmaking & Giving Serv.",
        "Social Advocacy Organizations",
        "Civic & Social Organizations",
        "Bus,Labor, Political & Other like Org.",
        "Government",
        "Federal Government",
        "Federal Government excluding Department of Defense",
        "Department of Defense",
        "State Government",
        "State Government Education",
        "State Government Excluding Education",
        "Local Government",
        "Indian Tribes",
        "Local Government Education",
        "Local Government Excluding Education",
        "County",
        "City",
        "Special Districts",
        "State and Local Government",
        "Miscellaneous Durable Goods Merchant Who",
        "Real Estate and Rental and Leasing - Residual",
        "Restaurants",
        "Special Districts plus Indian Tribes",
        "Private Service Providing - Residual"
       ],
       "description": "industry_title",
       "index": 7,
       "layout": "IPY_MODEL_948134b1cf9a4831bc9b05010e819bda",
       "style": "IPY_MODEL_3599611b595a46cca69aa53039e98f8e"
      }
     },
     "22b1dd9a79ce4518baa8dae1a55129e0": {
      "model_module": "@jupyter-widgets/base",
      "model_module_version": "1.1.0",
      "model_name": "LayoutModel",
      "state": {}
     },
     "22fd2d784014442bbc13960d09e0481f": {
      "model_module": "@jupyter-widgets/base",
      "model_module_version": "1.1.0",
      "model_name": "LayoutModel",
      "state": {}
     },
     "233f9a8760824eaf92057d331081ecf7": {
      "model_module": "@jupyter-widgets/controls",
      "model_module_version": "1.4.0",
      "model_name": "DropdownModel",
      "state": {
       "_options_labels": [
        "2019",
        "2018",
        "2017",
        "2016",
        "2015",
        "2014",
        "2013",
        "2012",
        "2011",
        "2010",
        "2009",
        "2008",
        "2007",
        "2006",
        "2005",
        "2004",
        "2003",
        "2002",
        "2001",
        "2000",
        "1999",
        "1998",
        "1997",
        "1996",
        "1995",
        "1994",
        "1993",
        "1992",
        "1991",
        "1990"
       ],
       "description": "year",
       "index": 0,
       "layout": "IPY_MODEL_80e97c64085e41d99f0a2ea2f0c7b3dd",
       "style": "IPY_MODEL_52a133c74da44ad18938b24a6bcc4f25"
      }
     },
     "238423aee4044c2f98b85f5a22ef3b2b": {
      "model_module": "@jupyter-widgets/controls",
      "model_module_version": "1.4.0",
      "model_name": "DropdownModel",
      "state": {
       "_options_labels": [
        "Total Nonfarm",
        "Total Wage and Salary",
        "Total Private",
        "Goods Producing",
        "Service Providing",
        "Private Service Providing",
        "Mining and Logging",
        "Logging",
        "Mining",
        "Oil & Gas Extraction",
        "Mining, except Oil & Gas",
        "Support Activities for Mining",
        "Total Farm",
        "Natural Resources, Mining and Constructi",
        "Construction",
        "Construction of Buildings",
        "Residential Building Construction",
        "Nonresidential Building Construction",
        "Heavy and Civil Engineering Construction",
        "Utility System Const.",
        "L& Subdivision",
        "Highway, Street, and Bridge Const",
        "Other Heavy & Civil Engineer",
        "Specialty Trade Contractors",
        "Building Foundation and Exterior Contrac",
        "Building Equipment Contractors",
        "Building Finishing Contractors",
        "Other Specialty Trade Contract",
        "Manufacturing",
        "Durable Goods",
        "Wood Product Manufacturing",
        "Other Wood Product Mfg.",
        "Nonmetallic Mineral Product Mfg.",
        "Primary Metal Manufacturing",
        "Fabricated Metal Product Mfg",
        "Architectural & Structural Metals Mfg.",
        "Machine Shops & Threaded Product Mfg.",
        "Other Fabricated Metal Product Mfg.",
        "Machinery Manufacturing",
        "Industrial Machinery Manufacturing",
        "Commercial and Service Industry Manufact",
        "Metalworking Machinery Mfg.",
        "ResidualOther General Purpose Machinery",
        "Computer and Electronic Product Manufact",
        "Computer and Peripheral Equipment Manufa",
        "Electronic Computer Manufacturing",
        "Communications Equipment Manufacturing",
        "Semiconductor and Electronic Component M",
        "Bare Printed Circuit Board Manufacturing",
        "Semiconductor and Related Devices Manufa",
        "Electronic Instrument Manufacturing",
        "Electrical Equipment and Appliance Manuf",
        "Transportation Equipment Manufacturing",
        "Motor Vehicle Mfg.",
        "Aerospace Product and Parts Manufacturin",
        "Ship and Boat Building",
        "Furniture and Related Product Manufactur",
        "Household and Institutional Furniture Ma",
        "Miscellaneous Durable Goods Manufacturing",
        "Medical Equipment & Supplies Mfg.",
        "Other Miscellaneous Durable Goods Mfg.",
        "Nondurable Goods",
        "Food Manufacturing",
        "Fruit & Vegetable Preserving & Specialty",
        "Dairy Product Manufacturing",
        "Animal Slaughtering and Processing",
        "Bakeries and Tortilla Manufacturing",
        "Other Food Mfg.",
        "Beverage and Tobacco Product Mfg",
        "ResidualTextile Mills",
        "Textile Product Mills",
        "Apparel Manufacturing",
        "Apparel Knitting Mills",
        "Cut and Sew Apparel Manufacturing",
        "Paper Manufacturing",
        "Converted Paper Product Mfg.",
        "Printing and Related Support Activities",
        "Petroleum and Coal Products Manufacturin",
        "Chemical Manufacturing",
        "Pharmaceutical and Medicine Manufacturin",
        "Soap, Cleaning Compound & Toiletry Mfg.",
        "Plastics and Rubber Products Manufacturi",
        "Trade, Transportation and Utilities",
        "Wholesale Trade",
        "Merchant Wholesalers, Durable Goods",
        "Motor Vehicle and Motor Vehicle Parts Me",
        "Furniture & Home Furnish Merch whole",
        "Lumber & Other Const. Mat Merch whole",
        "Professional and Commercial Equipment Me",
        "Electrical and Electronic Goods Merchant",
        "Hdwr, Plumb & Heating Merchant whole",
        "Machinery, Equipment and Supplies Mercha",
        "Merchant Wholesalers, Nondurable Goods",
        "Paper & Paper Products Merchant whole",
        "Apparel, Piece Gds & Notions Merch whole",
        "Grocery & Related Products Merchant whol",
        "Chemical & Allied Products Merchant whol",
        "Misc Nondurable Merchant Wholesalers",
        "Wholesale Electronic Markets and Agents",
        "Retail Trade",
        "Motor Vehicle and Parts Dealer",
        "Automobile Dealers",
        "Other Motor Vehicle Dealers",
        "Automotive Parts, Accessories and Tire S",
        "Furniture and Home Furnishings Stores",
        "Furniture Stores",
        "Home Furnishings Stores",
        "Electronics and Appliance Stores",
        "Building Material and Garden Equipment S",
        "Building Material and Supplies Dealers",
        "Food and Beverage Stores",
        "Grocery Stores",
        "Specialty Food Stores",
        "Beer, Wine, & Liquor Stores",
        "Health and Personal Care Stores",
        "Gasoline Stations",
        "Clothing and Clothing Accessories Stores",
        "Clothing Stores",
        "Jewelry, Luggage & Leather Gds Stores",
        "Sporting Goods, Hobby, Book and Music St",
        "Sporting Goods, Hobby and Musical Instru",
        "Book, Periodical and Music Stores",
        "General Merchandise Stores",
        "Department Stores",
        "Miscellaneous Store Retailers",
        "Office Supplies, Stationery & Gift Store",
        "Used Merch&ise Stores",
        "Other Miscellaneous Store Retailers",
        "Nonstore Retailers",
        "Electronic Shopping & Mail-Order",
        "Transportation, Warehousing and Utilitie",
        "Utilities",
        "Electric Power Gen, Trans & Distribution",
        "Natural Gas Distribution",
        "Transportation and Warehousing",
        "Air Transportation",
        "Scheduled Air transp.",
        "Truck Transportation",
        "General Freight Trucking",
        "Specialized Freight Trucking",
        "Transit and Ground Passenger Transportat",
        "Support Activities for Transportation",
        "Support Activities for Water transp.",
        "Support Activities for Road transp.",
        "Freight transp. Arrangement",
        "Couriers and Messengers",
        "Warehousing and Storage",
        "Information",
        "Publishing Industries (except Internet)",
        "Newspaper, Periodical, Book and Director",
        "Software Publishers",
        "Motion Picture and Sound Recording",
        "Motion Picture & Video Industries",
        "Motion Picture & Video Production",
        "Broadcasting (except Internet)",
        "Radio and Television Broadcasting",
        "Cable and Other Subscription Programming",
        "Telecommunications",
        "Wired Telecommunications Carriers",
        "Data Processing, Hosting & Related Services",
        "Other Information Serv.",
        "Financial Activities",
        "Finance and Insurance",
        "Credit Intermediation and Related Activi",
        "Depository Credit Intermediation",
        "Nondepository Credit Intermediation",
        "Activities Related to Credit Intermediat",
        "Securities, Commodity Contracts and Inve",
        "Securities & Commodity Contracts",
        "Other Financial Investment Activities",
        "Insurance Carriers and Related",
        "Insurance Carriers",
        "Agencies, Brokerages, and Other Insuranc",
        "Real Estate and Rental and Leasing",
        "Real Estate",
        "Lessors of Real Estate",
        "Offices of Real Estate Agents and Broker",
        "Activities Related to Real Estate",
        "Rental and Leasing Services",
        "Automotive Equipment Rental and Leasing",
        "Consumer Goods Rental",
        "General Rental Centers",
        "Comm & Industrial Mach Rental & Leasing",
        "Professional and Business Services",
        "Professional, Scientific and Technical S",
        "Legal Services",
        "Accounting, Tax Preparation and Bookkeep",
        "Architectural, Engineering and Related S",
        "Specialized Design Services",
        "Computer Systems Design and Related Serv",
        "Management, Scientific and Technical Con",
        "Scientific Research and Development Serv",
        "Advertising and Related Services",
        "Other Professional, Scientific and Techn",
        "Management of Companies and Enterprises",
        "Administrative and Support and Waste Ser",
        "Administrative and Support Services",
        "Office Administrative Services",
        "Facilities Support Serv.",
        "Employment Services",
        "Business Support Services",
        "Travel Arrangement and Reservation Servi",
        "Investigation and Security Services",
        "Services to Buildings and Dwellings",
        "ResidualOther Support Services",
        "Waste Management and Remediation Service",
        "Educational and Health Services",
        "Educational Services",
        "Elementary and Secondary Schools",
        "Junior Colleges",
        "Colleges, Universities and Professional",
        "Other Schools & Instruction",
        "Health Care and Social Assistance",
        "Ambulatory Health Care Services",
        "Offices of Physicians",
        "Offices of Dentists",
        "Offices of Other Health Practitioners",
        "Outpatient Care Centers",
        "Medical & Diagnostic Laboratories",
        "Home Health Care Serv.",
        "Other Ambulatory Health Care Serv.",
        "Hospitals",
        "General Medical & Surgical Hosp.s",
        "Psychiatric & Substance Abuse Hosp",
        "Specialty (not Psych, Sub Abuse) Hosp.",
        "Nursing and Residential Care Facilities",
        "Nursing Care Facilities",
        "Residential Mental Retardation, Mental a",
        "Comm Care Facilities for the Elderly",
        "Other Residential Care Facilities",
        "Social Assistance",
        "Individual and Family Services",
        "Community Food & Housing, & Emergency &",
        "Vocational Rehabilitation Services",
        "Child Day Care Services",
        "Leisure and Hospitality",
        "Arts, Entertainment, and Recreation",
        "Performing Arts, Spectator Sports",
        "Performing Arts Companies",
        "Spectator Sports",
        "Independent Artists, Writers, and Perfor",
        "Museums, Historical Sites, and Similar I",
        "Amusement, Gambling, and Recreation",
        "Amusement Parks and Arcades",
        "Gambling Industries",
        "Other Amusement and Recreation",
        "Accommodation and Food Service",
        "Accommodation",
        "Food Services and Drinking Places",
        "Special Food Services",
        "Drinking Places (Alcoholic Beverages)",
        "Full-Service Restaurants",
        "Limited-Service Eating Places",
        "Other Services",
        "Repair and Maintenance",
        "Auto Repair & Maintenance",
        "Commercial & Industrial Machinery",
        "Personal & Household Goods Repair",
        "Personal and Laundry Services",
        "Personal Care Serv.",
        "Drycleaning & Laundry Serv.",
        "Other Personal Services",
        "Religious, Grantmaking, Civic, Professio",
        "Religious Organizations",
        "Grantmaking & Giving Serv.",
        "Social Advocacy Organizations",
        "Civic & Social Organizations",
        "Bus,Labor, Political & Other like Org.",
        "Government",
        "Federal Government",
        "Federal Government excluding Department of Defense",
        "Department of Defense",
        "State Government",
        "State Government Education",
        "State Government Excluding Education",
        "Local Government",
        "Indian Tribes",
        "Local Government Education",
        "Local Government Excluding Education",
        "County",
        "City",
        "Special Districts",
        "State and Local Government",
        "Miscellaneous Durable Goods Merchant Who",
        "Real Estate and Rental and Leasing - Residual",
        "Restaurants",
        "Special Districts plus Indian Tribes",
        "Private Service Providing - Residual"
       ],
       "description": "industry_title",
       "index": 13,
       "layout": "IPY_MODEL_7835592829d040228287c97ab55d6a1d",
       "style": "IPY_MODEL_35d42d9153c346ed967b0aae64f2fb6e"
      }
     },
     "23fa54e28384456e8e0838aefe110a38": {
      "model_module": "@jupyter-widgets/controls",
      "model_module_version": "1.4.0",
      "model_name": "ButtonModel",
      "state": {
       "description": "Run Interact",
       "layout": "IPY_MODEL_a828ffbfeb0345dd91fc4b9b9ee97cdc",
       "style": "IPY_MODEL_80061b23d1de40979217caece4b63f39"
      }
     },
     "2410dc916f01468585fefaf2f4311fb1": {
      "model_module": "@jupyter-widgets/controls",
      "model_module_version": "1.4.0",
      "model_name": "DescriptionStyleModel",
      "state": {
       "description_width": ""
      }
     },
     "2563dbd40b454e22996e1e9d5a620ab8": {
      "model_module": "@jupyter-widgets/controls",
      "model_module_version": "1.4.0",
      "model_name": "DescriptionStyleModel",
      "state": {
       "description_width": ""
      }
     },
     "257da1d1eb21453ca547a98eaa67eb7f": {
      "model_module": "@jupyter-widgets/controls",
      "model_module_version": "1.4.0",
      "model_name": "ButtonModel",
      "state": {
       "description": "Run Interact",
       "layout": "IPY_MODEL_46db80c6da6247c8896b205ed67c9fbb",
       "style": "IPY_MODEL_746ff358da5044cb9aeb83cedcb31921"
      }
     },
     "25e7182ef62740268a7424444be91d9d": {
      "model_module": "@jupyter-widgets/base",
      "model_module_version": "1.1.0",
      "model_name": "LayoutModel",
      "state": {}
     },
     "2600235b6ced432d836eeddcd18196d4": {
      "model_module": "@jupyter-widgets/output",
      "model_module_version": "1.0.0",
      "model_name": "OutputModel",
      "state": {
       "layout": "IPY_MODEL_94c9b136806d4d44beefa1d61cb840b8"
      }
     },
     "27c49369670a4ba1bab0587e55f69ce5": {
      "model_module": "@jupyter-widgets/controls",
      "model_module_version": "1.4.0",
      "model_name": "VBoxModel",
      "state": {
       "_dom_classes": [
        "widget-interact"
       ],
       "children": [
        "IPY_MODEL_a168f3c83c3d4421a48e089d9226a4ca",
        "IPY_MODEL_d1a65fce7fe8495c9f727906cc7a9ff4",
        "IPY_MODEL_e2dcfdb4d83840d4ac78d34ab4df952e",
        "IPY_MODEL_735285d7ef074ea19aa88948d260e2a3"
       ],
       "layout": "IPY_MODEL_7ad1ad3d57ba453ba6056f861accdc4c"
      }
     },
     "27d1e819c73d4439871e5aa33ce8ce29": {
      "model_module": "@jupyter-widgets/output",
      "model_module_version": "1.0.0",
      "model_name": "OutputModel",
      "state": {
       "layout": "IPY_MODEL_7a6fea17d59842eb8088c802ef3ecc6c",
       "outputs": [
        {
         "name": "stdout",
         "output_type": "stream",
         "text": "Logging\n"
        },
        {
         "data": {
          "image/png": "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\n",
          "text/plain": "<Figure size 1152x720 with 1 Axes>"
         },
         "metadata": {
          "needs_background": "light"
         },
         "output_type": "display_data"
        }
       ]
      }
     },
     "28c9e33b23484ca29e5f1f5a7c18a45b": {
      "model_module": "@jupyter-widgets/controls",
      "model_module_version": "1.4.0",
      "model_name": "ButtonModel",
      "state": {
       "description": "Run Interact",
       "layout": "IPY_MODEL_a0ab0a6fae7d4e47a9d9d653a66592f6",
       "style": "IPY_MODEL_d9bfa4f101034fe0aceb1c1cb5e8c5fc"
      }
     },
     "28d03854caa64c47bad14307375306e1": {
      "model_module": "@jupyter-widgets/base",
      "model_module_version": "1.1.0",
      "model_name": "LayoutModel",
      "state": {}
     },
     "29b10e1a3ab74a638b92c235e2907e61": {
      "model_module": "@jupyter-widgets/base",
      "model_module_version": "1.1.0",
      "model_name": "LayoutModel",
      "state": {}
     },
     "2ab7a352dc4f48aeba14610518a1541b": {
      "model_module": "@jupyter-widgets/base",
      "model_module_version": "1.1.0",
      "model_name": "LayoutModel",
      "state": {}
     },
     "2af608597998445f9f0b6807567a6a6a": {
      "model_module": "@jupyter-widgets/output",
      "model_module_version": "1.0.0",
      "model_name": "OutputModel",
      "state": {
       "layout": "IPY_MODEL_d3f606deae814cee8c167101b4d904a2"
      }
     },
     "2b4145225ec14c6c89e215a0fd664d83": {
      "model_module": "@jupyter-widgets/controls",
      "model_module_version": "1.4.0",
      "model_name": "DescriptionStyleModel",
      "state": {
       "description_width": ""
      }
     },
     "2c147c256f654b72977ac00b9f3368ca": {
      "model_module": "@jupyter-widgets/base",
      "model_module_version": "1.1.0",
      "model_name": "LayoutModel",
      "state": {}
     },
     "2c4d70a531544542aac923a85c03bc47": {
      "model_module": "@jupyter-widgets/base",
      "model_module_version": "1.1.0",
      "model_name": "LayoutModel",
      "state": {}
     },
     "2c732230e1e64c34831f5444032c1139": {
      "model_module": "@jupyter-widgets/base",
      "model_module_version": "1.1.0",
      "model_name": "LayoutModel",
      "state": {}
     },
     "2cbfe836fd954450a511fc1626abc3d5": {
      "model_module": "@jupyter-widgets/base",
      "model_module_version": "1.1.0",
      "model_name": "LayoutModel",
      "state": {}
     },
     "2d4cd1a5cba24266a12f119916c4c8df": {
      "model_module": "@jupyter-widgets/controls",
      "model_module_version": "1.4.0",
      "model_name": "DescriptionStyleModel",
      "state": {
       "description_width": ""
      }
     },
     "2d91244ea7a940cea677a672cc220932": {
      "model_module": "@jupyter-widgets/controls",
      "model_module_version": "1.4.0",
      "model_name": "DropdownModel",
      "state": {
       "_options_labels": [
        "State",
        "Metropolitan Area",
        "County"
       ],
       "description": "area_type",
       "index": 0,
       "layout": "IPY_MODEL_ad79a31006ca47c8aef10b8b38c559f0",
       "style": "IPY_MODEL_133fb8ab64244ee2893be8fabd72cfed"
      }
     },
     "2da7b73c9f574c349e02da9c868ebe67": {
      "model_module": "@jupyter-widgets/base",
      "model_module_version": "1.1.0",
      "model_name": "LayoutModel",
      "state": {}
     },
     "2e600c76b022401c80cbf768d53390d9": {
      "model_module": "@jupyter-widgets/base",
      "model_module_version": "1.1.0",
      "model_name": "LayoutModel",
      "state": {}
     },
     "2e64b74091f74fb7a5812750778ae54b": {
      "model_module": "@jupyter-widgets/base",
      "model_module_version": "1.1.0",
      "model_name": "LayoutModel",
      "state": {}
     },
     "2ea110994ae7400a996b45f4fdd928a3": {
      "model_module": "@jupyter-widgets/controls",
      "model_module_version": "1.4.0",
      "model_name": "DescriptionStyleModel",
      "state": {
       "description_width": ""
      }
     },
     "2f59a4a096464976a120514397b18ea6": {
      "model_module": "@jupyter-widgets/base",
      "model_module_version": "1.1.0",
      "model_name": "LayoutModel",
      "state": {}
     },
     "2fc942f3f7724f76a0887ed40164cff9": {
      "model_module": "@jupyter-widgets/controls",
      "model_module_version": "1.4.0",
      "model_name": "DropdownModel",
      "state": {
       "_options_labels": [
        "State",
        "Metropolitan Area",
        "County"
       ],
       "description": "area_type",
       "index": 2,
       "layout": "IPY_MODEL_9ef7039ef02a4774b17fe71bc2e25404",
       "style": "IPY_MODEL_351e9798e1b4416e90e51d9218a84f36"
      }
     },
     "3016ef035baa48b7a260711b23cbc273": {
      "model_module": "@jupyter-widgets/base",
      "model_module_version": "1.1.0",
      "model_name": "LayoutModel",
      "state": {}
     },
     "301dec84ff544c3b93eba74fcfb707b1": {
      "model_module": "@jupyter-widgets/base",
      "model_module_version": "1.1.0",
      "model_name": "LayoutModel",
      "state": {}
     },
     "3029b2f34bf9463b9e03516dc49dc50a": {
      "model_module": "@jupyter-widgets/controls",
      "model_module_version": "1.4.0",
      "model_name": "ButtonModel",
      "state": {
       "description": "Run Interact",
       "layout": "IPY_MODEL_3a70d8cd8f3841d78923b5ebf97e0107",
       "style": "IPY_MODEL_f7d84bea8426484baf023c2dbb509b82"
      }
     },
     "30f7af9b9ad446d8b1c8088a9cee782f": {
      "model_module": "@jupyter-widgets/controls",
      "model_module_version": "1.4.0",
      "model_name": "FloatSliderModel",
      "state": {
       "description": "freq",
       "layout": "IPY_MODEL_956e45b6ce19406ba0d808f747cb6bf0",
       "max": 3,
       "min": -1,
       "step": 0.1,
       "style": "IPY_MODEL_1362847f85594a7cb440251c4845e4ec",
       "value": 1
      }
     },
     "310d9fce7d5242cf8cafc88d6cef45e0": {
      "model_module": "@jupyter-widgets/base",
      "model_module_version": "1.1.0",
      "model_name": "LayoutModel",
      "state": {}
     },
     "315aa3cde0de4f40a4fddfadfcd84073": {
      "model_module": "@jupyter-widgets/output",
      "model_module_version": "1.0.0",
      "model_name": "OutputModel",
      "state": {
       "layout": "IPY_MODEL_5b5d102e910344beab26bf6fb050b14f",
       "outputs": [
        {
         "data": {
          "image/png": "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\n",
          "text/plain": "<Figure size 432x288 with 1 Axes>"
         },
         "metadata": {
          "needs_background": "light"
         },
         "output_type": "display_data"
        }
       ]
      }
     },
     "316c71083b8c41d6817a8f7d2b59e462": {
      "model_module": "@jupyter-widgets/base",
      "model_module_version": "1.1.0",
      "model_name": "LayoutModel",
      "state": {}
     },
     "3203ff2e2d5e43d795d7bc671cb08b53": {
      "model_module": "@jupyter-widgets/controls",
      "model_module_version": "1.4.0",
      "model_name": "DescriptionStyleModel",
      "state": {
       "description_width": ""
      }
     },
     "32a8fc3d273240bcbf73a6050216cd07": {
      "model_module": "@jupyter-widgets/controls",
      "model_module_version": "1.4.0",
      "model_name": "VBoxModel",
      "state": {
       "_dom_classes": [
        "widget-interact"
       ],
       "children": [
        "IPY_MODEL_19dddd9d17674f08beca5d1bd50bc9d1",
        "IPY_MODEL_75616d2079ce4dc4a2abb0a62d4dde41",
        "IPY_MODEL_52ac18996dbe4bee819b3a12fe0f037e",
        "IPY_MODEL_a522f7b2839c4fedb2dff5374b32ff72"
       ],
       "layout": "IPY_MODEL_466752c4369d4c12b5d8481d49c9ba75"
      }
     },
     "33fd457b55ee41199b78d9ae224b1149": {
      "model_module": "@jupyter-widgets/output",
      "model_module_version": "1.0.0",
      "model_name": "OutputModel",
      "state": {
       "layout": "IPY_MODEL_7394846555594cc89fc50b6f966d281e",
       "outputs": [
        {
         "data": {
          "image/png": "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\n",
          "text/plain": "<Figure size 432x288 with 1 Axes>"
         },
         "metadata": {
          "needs_background": "light"
         },
         "output_type": "display_data"
        }
       ]
      }
     },
     "3447f4dd53d5430391c42fb417990272": {
      "model_module": "@jupyter-widgets/controls",
      "model_module_version": "1.4.0",
      "model_name": "FloatSliderModel",
      "state": {
       "description": "lw",
       "layout": "IPY_MODEL_97117674793d4796b34cc21febc678e9",
       "max": 10,
       "min": 1,
       "step": 0.1,
       "style": "IPY_MODEL_e415c143ccd9407f91dbdf319faf2535",
       "value": 2
      }
     },
     "3487631771274d0c8e2c743fdb043449": {
      "model_module": "@jupyter-widgets/base",
      "model_module_version": "1.1.0",
      "model_name": "LayoutModel",
      "state": {}
     },
     "34b35f1407a1478bba36683076b62aab": {
      "model_module": "@jupyter-widgets/controls",
      "model_module_version": "1.4.0",
      "model_name": "DropdownModel",
      "state": {
       "_options_labels": [
        "Total Nonfarm",
        "Total Wage and Salary",
        "Total Private",
        "Goods Producing",
        "Service Providing",
        "Private Service Providing",
        "Mining and Logging",
        "Logging",
        "Mining",
        "Oil & Gas Extraction",
        "Mining, except Oil & Gas",
        "Support Activities for Mining",
        "Total Farm",
        "Natural Resources, Mining and Constructi",
        "Construction",
        "Construction of Buildings",
        "Residential Building Construction",
        "Nonresidential Building Construction",
        "Heavy and Civil Engineering Construction",
        "Utility System Const.",
        "L& Subdivision",
        "Highway, Street, and Bridge Const",
        "Other Heavy & Civil Engineer",
        "Specialty Trade Contractors",
        "Building Foundation and Exterior Contrac",
        "Building Equipment Contractors",
        "Building Finishing Contractors",
        "Other Specialty Trade Contract",
        "Manufacturing",
        "Durable Goods",
        "Wood Product Manufacturing",
        "Other Wood Product Mfg.",
        "Nonmetallic Mineral Product Mfg.",
        "Primary Metal Manufacturing",
        "Fabricated Metal Product Mfg",
        "Architectural & Structural Metals Mfg.",
        "Machine Shops & Threaded Product Mfg.",
        "Other Fabricated Metal Product Mfg.",
        "Machinery Manufacturing",
        "Industrial Machinery Manufacturing",
        "Commercial and Service Industry Manufact",
        "Metalworking Machinery Mfg.",
        "ResidualOther General Purpose Machinery",
        "Computer and Electronic Product Manufact",
        "Computer and Peripheral Equipment Manufa",
        "Electronic Computer Manufacturing",
        "Communications Equipment Manufacturing",
        "Semiconductor and Electronic Component M",
        "Bare Printed Circuit Board Manufacturing",
        "Semiconductor and Related Devices Manufa",
        "Electronic Instrument Manufacturing",
        "Electrical Equipment and Appliance Manuf",
        "Transportation Equipment Manufacturing",
        "Motor Vehicle Mfg.",
        "Aerospace Product and Parts Manufacturin",
        "Ship and Boat Building",
        "Furniture and Related Product Manufactur",
        "Household and Institutional Furniture Ma",
        "Miscellaneous Durable Goods Manufacturing",
        "Medical Equipment & Supplies Mfg.",
        "Other Miscellaneous Durable Goods Mfg.",
        "Nondurable Goods",
        "Food Manufacturing",
        "Fruit & Vegetable Preserving & Specialty",
        "Dairy Product Manufacturing",
        "Animal Slaughtering and Processing",
        "Bakeries and Tortilla Manufacturing",
        "Other Food Mfg.",
        "Beverage and Tobacco Product Mfg",
        "ResidualTextile Mills",
        "Textile Product Mills",
        "Apparel Manufacturing",
        "Apparel Knitting Mills",
        "Cut and Sew Apparel Manufacturing",
        "Paper Manufacturing",
        "Converted Paper Product Mfg.",
        "Printing and Related Support Activities",
        "Petroleum and Coal Products Manufacturin",
        "Chemical Manufacturing",
        "Pharmaceutical and Medicine Manufacturin",
        "Soap, Cleaning Compound & Toiletry Mfg.",
        "Plastics and Rubber Products Manufacturi",
        "Trade, Transportation and Utilities",
        "Wholesale Trade",
        "Merchant Wholesalers, Durable Goods",
        "Motor Vehicle and Motor Vehicle Parts Me",
        "Furniture & Home Furnish Merch whole",
        "Lumber & Other Const. Mat Merch whole",
        "Professional and Commercial Equipment Me",
        "Electrical and Electronic Goods Merchant",
        "Hdwr, Plumb & Heating Merchant whole",
        "Machinery, Equipment and Supplies Mercha",
        "Merchant Wholesalers, Nondurable Goods",
        "Paper & Paper Products Merchant whole",
        "Apparel, Piece Gds & Notions Merch whole",
        "Grocery & Related Products Merchant whol",
        "Chemical & Allied Products Merchant whol",
        "Misc Nondurable Merchant Wholesalers",
        "Wholesale Electronic Markets and Agents",
        "Retail Trade",
        "Motor Vehicle and Parts Dealer",
        "Automobile Dealers",
        "Other Motor Vehicle Dealers",
        "Automotive Parts, Accessories and Tire S",
        "Furniture and Home Furnishings Stores",
        "Furniture Stores",
        "Home Furnishings Stores",
        "Electronics and Appliance Stores",
        "Building Material and Garden Equipment S",
        "Building Material and Supplies Dealers",
        "Food and Beverage Stores",
        "Grocery Stores",
        "Specialty Food Stores",
        "Beer, Wine, & Liquor Stores",
        "Health and Personal Care Stores",
        "Gasoline Stations",
        "Clothing and Clothing Accessories Stores",
        "Clothing Stores",
        "Jewelry, Luggage & Leather Gds Stores",
        "Sporting Goods, Hobby, Book and Music St",
        "Sporting Goods, Hobby and Musical Instru",
        "Book, Periodical and Music Stores",
        "General Merchandise Stores",
        "Department Stores",
        "Miscellaneous Store Retailers",
        "Office Supplies, Stationery & Gift Store",
        "Used Merch&ise Stores",
        "Other Miscellaneous Store Retailers",
        "Nonstore Retailers",
        "Electronic Shopping & Mail-Order",
        "Transportation, Warehousing and Utilitie",
        "Utilities",
        "Electric Power Gen, Trans & Distribution",
        "Natural Gas Distribution",
        "Transportation and Warehousing",
        "Air Transportation",
        "Scheduled Air transp.",
        "Truck Transportation",
        "General Freight Trucking",
        "Specialized Freight Trucking",
        "Transit and Ground Passenger Transportat",
        "Support Activities for Transportation",
        "Support Activities for Water transp.",
        "Support Activities for Road transp.",
        "Freight transp. Arrangement",
        "Couriers and Messengers",
        "Warehousing and Storage",
        "Information",
        "Publishing Industries (except Internet)",
        "Newspaper, Periodical, Book and Director",
        "Software Publishers",
        "Motion Picture and Sound Recording",
        "Motion Picture & Video Industries",
        "Motion Picture & Video Production",
        "Broadcasting (except Internet)",
        "Radio and Television Broadcasting",
        "Cable and Other Subscription Programming",
        "Telecommunications",
        "Wired Telecommunications Carriers",
        "Data Processing, Hosting & Related Services",
        "Other Information Serv.",
        "Financial Activities",
        "Finance and Insurance",
        "Credit Intermediation and Related Activi",
        "Depository Credit Intermediation",
        "Nondepository Credit Intermediation",
        "Activities Related to Credit Intermediat",
        "Securities, Commodity Contracts and Inve",
        "Securities & Commodity Contracts",
        "Other Financial Investment Activities",
        "Insurance Carriers and Related",
        "Insurance Carriers",
        "Agencies, Brokerages, and Other Insuranc",
        "Real Estate and Rental and Leasing",
        "Real Estate",
        "Lessors of Real Estate",
        "Offices of Real Estate Agents and Broker",
        "Activities Related to Real Estate",
        "Rental and Leasing Services",
        "Automotive Equipment Rental and Leasing",
        "Consumer Goods Rental",
        "General Rental Centers",
        "Comm & Industrial Mach Rental & Leasing",
        "Professional and Business Services",
        "Professional, Scientific and Technical S",
        "Legal Services",
        "Accounting, Tax Preparation and Bookkeep",
        "Architectural, Engineering and Related S",
        "Specialized Design Services",
        "Computer Systems Design and Related Serv",
        "Management, Scientific and Technical Con",
        "Scientific Research and Development Serv",
        "Advertising and Related Services",
        "Other Professional, Scientific and Techn",
        "Management of Companies and Enterprises",
        "Administrative and Support and Waste Ser",
        "Administrative and Support Services",
        "Office Administrative Services",
        "Facilities Support Serv.",
        "Employment Services",
        "Business Support Services",
        "Travel Arrangement and Reservation Servi",
        "Investigation and Security Services",
        "Services to Buildings and Dwellings",
        "ResidualOther Support Services",
        "Waste Management and Remediation Service",
        "Educational and Health Services",
        "Educational Services",
        "Elementary and Secondary Schools",
        "Junior Colleges",
        "Colleges, Universities and Professional",
        "Other Schools & Instruction",
        "Health Care and Social Assistance",
        "Ambulatory Health Care Services",
        "Offices of Physicians",
        "Offices of Dentists",
        "Offices of Other Health Practitioners",
        "Outpatient Care Centers",
        "Medical & Diagnostic Laboratories",
        "Home Health Care Serv.",
        "Other Ambulatory Health Care Serv.",
        "Hospitals",
        "General Medical & Surgical Hosp.s",
        "Psychiatric & Substance Abuse Hosp",
        "Specialty (not Psych, Sub Abuse) Hosp.",
        "Nursing and Residential Care Facilities",
        "Nursing Care Facilities",
        "Residential Mental Retardation, Mental a",
        "Comm Care Facilities for the Elderly",
        "Other Residential Care Facilities",
        "Social Assistance",
        "Individual and Family Services",
        "Community Food & Housing, & Emergency &",
        "Vocational Rehabilitation Services",
        "Child Day Care Services",
        "Leisure and Hospitality",
        "Arts, Entertainment, and Recreation",
        "Performing Arts, Spectator Sports",
        "Performing Arts Companies",
        "Spectator Sports",
        "Independent Artists, Writers, and Perfor",
        "Museums, Historical Sites, and Similar I",
        "Amusement, Gambling, and Recreation",
        "Amusement Parks and Arcades",
        "Gambling Industries",
        "Other Amusement and Recreation",
        "Accommodation and Food Service",
        "Accommodation",
        "Food Services and Drinking Places",
        "Special Food Services",
        "Drinking Places (Alcoholic Beverages)",
        "Full-Service Restaurants",
        "Limited-Service Eating Places",
        "Other Services",
        "Repair and Maintenance",
        "Auto Repair & Maintenance",
        "Commercial & Industrial Machinery",
        "Personal & Household Goods Repair",
        "Personal and Laundry Services",
        "Personal Care Serv.",
        "Drycleaning & Laundry Serv.",
        "Other Personal Services",
        "Religious, Grantmaking, Civic, Professio",
        "Religious Organizations",
        "Grantmaking & Giving Serv.",
        "Social Advocacy Organizations",
        "Civic & Social Organizations",
        "Bus,Labor, Political & Other like Org.",
        "Government",
        "Federal Government",
        "Federal Government excluding Department of Defense",
        "Department of Defense",
        "State Government",
        "State Government Education",
        "State Government Excluding Education",
        "Local Government",
        "Indian Tribes",
        "Local Government Education",
        "Local Government Excluding Education",
        "County",
        "City",
        "Special Districts",
        "State and Local Government",
        "Miscellaneous Durable Goods Merchant Who",
        "Real Estate and Rental and Leasing - Residual",
        "Restaurants",
        "Special Districts plus Indian Tribes",
        "Private Service Providing - Residual"
       ],
       "description": "industry_title",
       "index": 17,
       "layout": "IPY_MODEL_8e1816920f7c4d1db4a90eece224c2f2",
       "style": "IPY_MODEL_136dc1b1fd2d4e74a7fc6fc1e6694b66"
      }
     },
     "351b4638216247db9479ea244a0fce92": {
      "model_module": "@jupyter-widgets/controls",
      "model_module_version": "1.4.0",
      "model_name": "DropdownModel",
      "state": {
       "_options_labels": [
        "Total Nonfarm",
        "Total Wage and Salary",
        "Total Private",
        "Goods Producing",
        "Service Providing",
        "Private Service Providing",
        "Mining and Logging",
        "Logging",
        "Mining",
        "Oil & Gas Extraction",
        "Mining, except Oil & Gas",
        "Support Activities for Mining",
        "Total Farm",
        "Natural Resources, Mining and Constructi",
        "Construction",
        "Construction of Buildings",
        "Residential Building Construction",
        "Nonresidential Building Construction",
        "Heavy and Civil Engineering Construction",
        "Utility System Const.",
        "L& Subdivision",
        "Highway, Street, and Bridge Const",
        "Other Heavy & Civil Engineer",
        "Specialty Trade Contractors",
        "Building Foundation and Exterior Contrac",
        "Building Equipment Contractors",
        "Building Finishing Contractors",
        "Other Specialty Trade Contract",
        "Manufacturing",
        "Durable Goods",
        "Wood Product Manufacturing",
        "Other Wood Product Mfg.",
        "Nonmetallic Mineral Product Mfg.",
        "Primary Metal Manufacturing",
        "Fabricated Metal Product Mfg",
        "Architectural & Structural Metals Mfg.",
        "Machine Shops & Threaded Product Mfg.",
        "Other Fabricated Metal Product Mfg.",
        "Machinery Manufacturing",
        "Industrial Machinery Manufacturing",
        "Commercial and Service Industry Manufact",
        "Metalworking Machinery Mfg.",
        "ResidualOther General Purpose Machinery",
        "Computer and Electronic Product Manufact",
        "Computer and Peripheral Equipment Manufa",
        "Electronic Computer Manufacturing",
        "Communications Equipment Manufacturing",
        "Semiconductor and Electronic Component M",
        "Bare Printed Circuit Board Manufacturing",
        "Semiconductor and Related Devices Manufa",
        "Electronic Instrument Manufacturing",
        "Electrical Equipment and Appliance Manuf",
        "Transportation Equipment Manufacturing",
        "Motor Vehicle Mfg.",
        "Aerospace Product and Parts Manufacturin",
        "Ship and Boat Building",
        "Furniture and Related Product Manufactur",
        "Household and Institutional Furniture Ma",
        "Miscellaneous Durable Goods Manufacturing",
        "Medical Equipment & Supplies Mfg.",
        "Other Miscellaneous Durable Goods Mfg.",
        "Nondurable Goods",
        "Food Manufacturing",
        "Fruit & Vegetable Preserving & Specialty",
        "Dairy Product Manufacturing",
        "Animal Slaughtering and Processing",
        "Bakeries and Tortilla Manufacturing",
        "Other Food Mfg.",
        "Beverage and Tobacco Product Mfg",
        "ResidualTextile Mills",
        "Textile Product Mills",
        "Apparel Manufacturing",
        "Apparel Knitting Mills",
        "Cut and Sew Apparel Manufacturing",
        "Paper Manufacturing",
        "Converted Paper Product Mfg.",
        "Printing and Related Support Activities",
        "Petroleum and Coal Products Manufacturin",
        "Chemical Manufacturing",
        "Pharmaceutical and Medicine Manufacturin",
        "Soap, Cleaning Compound & Toiletry Mfg.",
        "Plastics and Rubber Products Manufacturi",
        "Trade, Transportation and Utilities",
        "Wholesale Trade",
        "Merchant Wholesalers, Durable Goods",
        "Motor Vehicle and Motor Vehicle Parts Me",
        "Furniture & Home Furnish Merch whole",
        "Lumber & Other Const. Mat Merch whole",
        "Professional and Commercial Equipment Me",
        "Electrical and Electronic Goods Merchant",
        "Hdwr, Plumb & Heating Merchant whole",
        "Machinery, Equipment and Supplies Mercha",
        "Merchant Wholesalers, Nondurable Goods",
        "Paper & Paper Products Merchant whole",
        "Apparel, Piece Gds & Notions Merch whole",
        "Grocery & Related Products Merchant whol",
        "Chemical & Allied Products Merchant whol",
        "Misc Nondurable Merchant Wholesalers",
        "Wholesale Electronic Markets and Agents",
        "Retail Trade",
        "Motor Vehicle and Parts Dealer",
        "Automobile Dealers",
        "Other Motor Vehicle Dealers",
        "Automotive Parts, Accessories and Tire S",
        "Furniture and Home Furnishings Stores",
        "Furniture Stores",
        "Home Furnishings Stores",
        "Electronics and Appliance Stores",
        "Building Material and Garden Equipment S",
        "Building Material and Supplies Dealers",
        "Food and Beverage Stores",
        "Grocery Stores",
        "Specialty Food Stores",
        "Beer, Wine, & Liquor Stores",
        "Health and Personal Care Stores",
        "Gasoline Stations",
        "Clothing and Clothing Accessories Stores",
        "Clothing Stores",
        "Jewelry, Luggage & Leather Gds Stores",
        "Sporting Goods, Hobby, Book and Music St",
        "Sporting Goods, Hobby and Musical Instru",
        "Book, Periodical and Music Stores",
        "General Merchandise Stores",
        "Department Stores",
        "Miscellaneous Store Retailers",
        "Office Supplies, Stationery & Gift Store",
        "Used Merch&ise Stores",
        "Other Miscellaneous Store Retailers",
        "Nonstore Retailers",
        "Electronic Shopping & Mail-Order",
        "Transportation, Warehousing and Utilitie",
        "Utilities",
        "Electric Power Gen, Trans & Distribution",
        "Natural Gas Distribution",
        "Transportation and Warehousing",
        "Air Transportation",
        "Scheduled Air transp.",
        "Truck Transportation",
        "General Freight Trucking",
        "Specialized Freight Trucking",
        "Transit and Ground Passenger Transportat",
        "Support Activities for Transportation",
        "Support Activities for Water transp.",
        "Support Activities for Road transp.",
        "Freight transp. Arrangement",
        "Couriers and Messengers",
        "Warehousing and Storage",
        "Information",
        "Publishing Industries (except Internet)",
        "Newspaper, Periodical, Book and Director",
        "Software Publishers",
        "Motion Picture and Sound Recording",
        "Motion Picture & Video Industries",
        "Motion Picture & Video Production",
        "Broadcasting (except Internet)",
        "Radio and Television Broadcasting",
        "Cable and Other Subscription Programming",
        "Telecommunications",
        "Wired Telecommunications Carriers",
        "Data Processing, Hosting & Related Services",
        "Other Information Serv.",
        "Financial Activities",
        "Finance and Insurance",
        "Credit Intermediation and Related Activi",
        "Depository Credit Intermediation",
        "Nondepository Credit Intermediation",
        "Activities Related to Credit Intermediat",
        "Securities, Commodity Contracts and Inve",
        "Securities & Commodity Contracts",
        "Other Financial Investment Activities",
        "Insurance Carriers and Related",
        "Insurance Carriers",
        "Agencies, Brokerages, and Other Insuranc",
        "Real Estate and Rental and Leasing",
        "Real Estate",
        "Lessors of Real Estate",
        "Offices of Real Estate Agents and Broker",
        "Activities Related to Real Estate",
        "Rental and Leasing Services",
        "Automotive Equipment Rental and Leasing",
        "Consumer Goods Rental",
        "General Rental Centers",
        "Comm & Industrial Mach Rental & Leasing",
        "Professional and Business Services",
        "Professional, Scientific and Technical S",
        "Legal Services",
        "Accounting, Tax Preparation and Bookkeep",
        "Architectural, Engineering and Related S",
        "Specialized Design Services",
        "Computer Systems Design and Related Serv",
        "Management, Scientific and Technical Con",
        "Scientific Research and Development Serv",
        "Advertising and Related Services",
        "Other Professional, Scientific and Techn",
        "Management of Companies and Enterprises",
        "Administrative and Support and Waste Ser",
        "Administrative and Support Services",
        "Office Administrative Services",
        "Facilities Support Serv.",
        "Employment Services",
        "Business Support Services",
        "Travel Arrangement and Reservation Servi",
        "Investigation and Security Services",
        "Services to Buildings and Dwellings",
        "ResidualOther Support Services",
        "Waste Management and Remediation Service",
        "Educational and Health Services",
        "Educational Services",
        "Elementary and Secondary Schools",
        "Junior Colleges",
        "Colleges, Universities and Professional",
        "Other Schools & Instruction",
        "Health Care and Social Assistance",
        "Ambulatory Health Care Services",
        "Offices of Physicians",
        "Offices of Dentists",
        "Offices of Other Health Practitioners",
        "Outpatient Care Centers",
        "Medical & Diagnostic Laboratories",
        "Home Health Care Serv.",
        "Other Ambulatory Health Care Serv.",
        "Hospitals",
        "General Medical & Surgical Hosp.s",
        "Psychiatric & Substance Abuse Hosp",
        "Specialty (not Psych, Sub Abuse) Hosp.",
        "Nursing and Residential Care Facilities",
        "Nursing Care Facilities",
        "Residential Mental Retardation, Mental a",
        "Comm Care Facilities for the Elderly",
        "Other Residential Care Facilities",
        "Social Assistance",
        "Individual and Family Services",
        "Community Food & Housing, & Emergency &",
        "Vocational Rehabilitation Services",
        "Child Day Care Services",
        "Leisure and Hospitality",
        "Arts, Entertainment, and Recreation",
        "Performing Arts, Spectator Sports",
        "Performing Arts Companies",
        "Spectator Sports",
        "Independent Artists, Writers, and Perfor",
        "Museums, Historical Sites, and Similar I",
        "Amusement, Gambling, and Recreation",
        "Amusement Parks and Arcades",
        "Gambling Industries",
        "Other Amusement and Recreation",
        "Accommodation and Food Service",
        "Accommodation",
        "Food Services and Drinking Places",
        "Special Food Services",
        "Drinking Places (Alcoholic Beverages)",
        "Full-Service Restaurants",
        "Limited-Service Eating Places",
        "Other Services",
        "Repair and Maintenance",
        "Auto Repair & Maintenance",
        "Commercial & Industrial Machinery",
        "Personal & Household Goods Repair",
        "Personal and Laundry Services",
        "Personal Care Serv.",
        "Drycleaning & Laundry Serv.",
        "Other Personal Services",
        "Religious, Grantmaking, Civic, Professio",
        "Religious Organizations",
        "Grantmaking & Giving Serv.",
        "Social Advocacy Organizations",
        "Civic & Social Organizations",
        "Bus,Labor, Political & Other like Org.",
        "Government",
        "Federal Government",
        "Federal Government excluding Department of Defense",
        "Department of Defense",
        "State Government",
        "State Government Education",
        "State Government Excluding Education",
        "Local Government",
        "Indian Tribes",
        "Local Government Education",
        "Local Government Excluding Education",
        "County",
        "City",
        "Special Districts",
        "State and Local Government",
        "Miscellaneous Durable Goods Merchant Who",
        "Real Estate and Rental and Leasing - Residual",
        "Restaurants",
        "Special Districts plus Indian Tribes",
        "Private Service Providing - Residual"
       ],
       "description": "industry_title",
       "index": 7,
       "layout": "IPY_MODEL_032caa0fb8e84038850ba051f17dc033",
       "style": "IPY_MODEL_af89f8109fd24c69b96955e1f23c9eb8"
      }
     },
     "351e9798e1b4416e90e51d9218a84f36": {
      "model_module": "@jupyter-widgets/controls",
      "model_module_version": "1.4.0",
      "model_name": "DescriptionStyleModel",
      "state": {
       "description_width": ""
      }
     },
     "35927230cd8c4d4695459c7661b90c00": {
      "model_module": "@jupyter-widgets/base",
      "model_module_version": "1.1.0",
      "model_name": "LayoutModel",
      "state": {}
     },
     "3599611b595a46cca69aa53039e98f8e": {
      "model_module": "@jupyter-widgets/controls",
      "model_module_version": "1.4.0",
      "model_name": "DescriptionStyleModel",
      "state": {
       "description_width": ""
      }
     },
     "35d42d9153c346ed967b0aae64f2fb6e": {
      "model_module": "@jupyter-widgets/controls",
      "model_module_version": "1.4.0",
      "model_name": "DescriptionStyleModel",
      "state": {
       "description_width": ""
      }
     },
     "375dc89014eb48d497d351332e9fc0e2": {
      "model_module": "@jupyter-widgets/controls",
      "model_module_version": "1.4.0",
      "model_name": "DropdownModel",
      "state": {
       "_options_labels": [
        "State",
        "Metropolitan Area",
        "County"
       ],
       "description": "area_type",
       "index": 0,
       "layout": "IPY_MODEL_59cec87f1ef54f73a8af3b4e21498c4b",
       "style": "IPY_MODEL_2b4145225ec14c6c89e215a0fd664d83"
      }
     },
     "378bd28abcef40419e87e1c24065fe2f": {
      "model_module": "@jupyter-widgets/controls",
      "model_module_version": "1.4.0",
      "model_name": "DropdownModel",
      "state": {
       "_options_labels": [
        "June",
        "May",
        "April",
        "March",
        "February",
        "January",
        "December",
        "November",
        "October",
        "September",
        "August",
        "July"
       ],
       "description": "month",
       "index": 0,
       "layout": "IPY_MODEL_7e1e5b2f70f349a7a9ba5457544f57a3",
       "style": "IPY_MODEL_548792abbdbd405f80ed5f2774c003e3"
      }
     },
     "37bb1b85761a4fa9b8079a4fbd0a6392": {
      "model_module": "@jupyter-widgets/base",
      "model_module_version": "1.1.0",
      "model_name": "LayoutModel",
      "state": {}
     },
     "37cc057f0a9b408fbcb0df4aebdb7d67": {
      "model_module": "@jupyter-widgets/base",
      "model_module_version": "1.1.0",
      "model_name": "LayoutModel",
      "state": {}
     },
     "3816ec8aacd94d10b570f09c0a20d4d1": {
      "model_module": "@jupyter-widgets/controls",
      "model_module_version": "1.4.0",
      "model_name": "ButtonModel",
      "state": {
       "description": "Run Interact",
       "layout": "IPY_MODEL_d4f7535763f74af4bd54401fc4bcb7fb",
       "style": "IPY_MODEL_e6fccf1964234cb898b7d0d70f3f1796"
      }
     },
     "39934d4afe9647479368bdf07b3054a6": {
      "model_module": "@jupyter-widgets/controls",
      "model_module_version": "1.4.0",
      "model_name": "DescriptionStyleModel",
      "state": {
       "description_width": ""
      }
     },
     "3a54544996a043929f7351b61ce7a93f": {
      "model_module": "@jupyter-widgets/controls",
      "model_module_version": "1.4.0",
      "model_name": "ButtonModel",
      "state": {
       "description": "Run Interact",
       "layout": "IPY_MODEL_907dac24616a4ad08f86c6fb09236077",
       "style": "IPY_MODEL_19e4989da4784cbfb41f89a232dfe519"
      }
     },
     "3a70d8cd8f3841d78923b5ebf97e0107": {
      "model_module": "@jupyter-widgets/base",
      "model_module_version": "1.1.0",
      "model_name": "LayoutModel",
      "state": {}
     },
     "3af0ad4a736a421a8d9f05f9e408a8fc": {
      "model_module": "@jupyter-widgets/controls",
      "model_module_version": "1.4.0",
      "model_name": "ButtonModel",
      "state": {
       "description": "Run Interact",
       "layout": "IPY_MODEL_9862f6c59dac41df843af1d77c868455",
       "style": "IPY_MODEL_e652982e293644a3883545e3d7861fd4"
      }
     },
     "3b5c6da77a62457488b45eb0ec97b8a8": {
      "model_module": "@jupyter-widgets/controls",
      "model_module_version": "1.4.0",
      "model_name": "DropdownModel",
      "state": {
       "_options_labels": [
        "2019",
        "2018",
        "2017",
        "2016",
        "2015",
        "2014",
        "2013",
        "2012",
        "2011",
        "2010",
        "2009",
        "2008",
        "2007",
        "2006",
        "2005",
        "2004",
        "2003",
        "2002",
        "2001",
        "2000",
        "1999",
        "1998",
        "1997",
        "1996",
        "1995",
        "1994",
        "1993",
        "1992",
        "1991",
        "1990"
       ],
       "description": "year",
       "index": 0,
       "layout": "IPY_MODEL_a232731f0b3b4789bf98249dd6ca980b",
       "style": "IPY_MODEL_e4ce2804e39444418c04ce70a5f5e86f"
      }
     },
     "3b6dcb11380b441aa2c812f2014ffe98": {
      "model_module": "@jupyter-widgets/controls",
      "model_module_version": "1.4.0",
      "model_name": "DescriptionStyleModel",
      "state": {
       "description_width": ""
      }
     },
     "3beba024b9d14ce89bcc419db2b27b84": {
      "model_module": "@jupyter-widgets/controls",
      "model_module_version": "1.4.0",
      "model_name": "ButtonModel",
      "state": {
       "description": "Run Interact",
       "layout": "IPY_MODEL_caabeb2aef1847728bc8e5905e769451",
       "style": "IPY_MODEL_72e9555b2e19434aac113555fcc368bb"
      }
     },
     "3c0e2f87fc8d46b2869dbc1bb8fcecdc": {
      "model_module": "@jupyter-widgets/controls",
      "model_module_version": "1.4.0",
      "model_name": "ButtonStyleModel",
      "state": {}
     },
     "3c1f38d76f6043bb9178652314178125": {
      "model_module": "@jupyter-widgets/controls",
      "model_module_version": "1.4.0",
      "model_name": "DropdownModel",
      "state": {
       "_options_labels": [
        "2019",
        "2018",
        "2017",
        "2016",
        "2015",
        "2014",
        "2013",
        "2012",
        "2011",
        "2010",
        "2009",
        "2008",
        "2007",
        "2006",
        "2005",
        "2004",
        "2003",
        "2002",
        "2001",
        "2000",
        "1999",
        "1998",
        "1997",
        "1996",
        "1995",
        "1994",
        "1993",
        "1992",
        "1991",
        "1990"
       ],
       "description": "color",
       "index": 0,
       "layout": "IPY_MODEL_824606c577cf4db982018d75e9cc73f5",
       "style": "IPY_MODEL_e0d3f08d01624882896f20ca4a1a705b"
      }
     },
     "3c3a9aecbf184109ad872c4a0e5d70ff": {
      "model_module": "@jupyter-widgets/controls",
      "model_module_version": "1.4.0",
      "model_name": "ButtonModel",
      "state": {
       "description": "Run Interact",
       "layout": "IPY_MODEL_403321f8651a45ad838eec9fa8a95990",
       "style": "IPY_MODEL_ba95ba38e154490295ea9828e887be0f"
      }
     },
     "3cbdeae002ef4dbda817c0c19316364e": {
      "model_module": "@jupyter-widgets/output",
      "model_module_version": "1.0.0",
      "model_name": "OutputModel",
      "state": {
       "layout": "IPY_MODEL_03087a96af25464688c7454d5963c188",
       "outputs": [
        {
         "data": {
          "image/png": "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\n",
          "text/plain": "<Figure size 432x288 with 1 Axes>"
         },
         "metadata": {
          "needs_background": "light"
         },
         "output_type": "display_data"
        }
       ]
      }
     },
     "3ccada7360e44b16ad703a678c25a495": {
      "model_module": "@jupyter-widgets/base",
      "model_module_version": "1.1.0",
      "model_name": "LayoutModel",
      "state": {}
     },
     "3cf160b1e0b94a59ba82acf1b5b9d355": {
      "model_module": "@jupyter-widgets/controls",
      "model_module_version": "1.4.0",
      "model_name": "DropdownModel",
      "state": {
       "_options_labels": [
        "Total Nonfarm",
        "Total Wage and Salary",
        "Total Private",
        "Goods Producing",
        "Service Providing",
        "Private Service Providing",
        "Mining and Logging",
        "Logging",
        "Mining",
        "Oil & Gas Extraction",
        "Mining, except Oil & Gas",
        "Support Activities for Mining",
        "Total Farm",
        "Natural Resources, Mining and Constructi",
        "Construction",
        "Construction of Buildings",
        "Residential Building Construction",
        "Nonresidential Building Construction",
        "Heavy and Civil Engineering Construction",
        "Utility System Const.",
        "L& Subdivision",
        "Highway, Street, and Bridge Const",
        "Other Heavy & Civil Engineer",
        "Specialty Trade Contractors",
        "Building Foundation and Exterior Contrac",
        "Building Equipment Contractors",
        "Building Finishing Contractors",
        "Other Specialty Trade Contract",
        "Manufacturing",
        "Durable Goods",
        "Wood Product Manufacturing",
        "Other Wood Product Mfg.",
        "Nonmetallic Mineral Product Mfg.",
        "Primary Metal Manufacturing",
        "Fabricated Metal Product Mfg",
        "Architectural & Structural Metals Mfg.",
        "Machine Shops & Threaded Product Mfg.",
        "Other Fabricated Metal Product Mfg.",
        "Machinery Manufacturing",
        "Industrial Machinery Manufacturing",
        "Commercial and Service Industry Manufact",
        "Metalworking Machinery Mfg.",
        "ResidualOther General Purpose Machinery",
        "Computer and Electronic Product Manufact",
        "Computer and Peripheral Equipment Manufa",
        "Electronic Computer Manufacturing",
        "Communications Equipment Manufacturing",
        "Semiconductor and Electronic Component M",
        "Bare Printed Circuit Board Manufacturing",
        "Semiconductor and Related Devices Manufa",
        "Electronic Instrument Manufacturing",
        "Electrical Equipment and Appliance Manuf",
        "Transportation Equipment Manufacturing",
        "Motor Vehicle Mfg.",
        "Aerospace Product and Parts Manufacturin",
        "Ship and Boat Building",
        "Furniture and Related Product Manufactur",
        "Household and Institutional Furniture Ma",
        "Miscellaneous Durable Goods Manufacturing",
        "Medical Equipment & Supplies Mfg.",
        "Other Miscellaneous Durable Goods Mfg.",
        "Nondurable Goods",
        "Food Manufacturing",
        "Fruit & Vegetable Preserving & Specialty",
        "Dairy Product Manufacturing",
        "Animal Slaughtering and Processing",
        "Bakeries and Tortilla Manufacturing",
        "Other Food Mfg.",
        "Beverage and Tobacco Product Mfg",
        "ResidualTextile Mills",
        "Textile Product Mills",
        "Apparel Manufacturing",
        "Apparel Knitting Mills",
        "Cut and Sew Apparel Manufacturing",
        "Paper Manufacturing",
        "Converted Paper Product Mfg.",
        "Printing and Related Support Activities",
        "Petroleum and Coal Products Manufacturin",
        "Chemical Manufacturing",
        "Pharmaceutical and Medicine Manufacturin",
        "Soap, Cleaning Compound & Toiletry Mfg.",
        "Plastics and Rubber Products Manufacturi",
        "Trade, Transportation and Utilities",
        "Wholesale Trade",
        "Merchant Wholesalers, Durable Goods",
        "Motor Vehicle and Motor Vehicle Parts Me",
        "Furniture & Home Furnish Merch whole",
        "Lumber & Other Const. Mat Merch whole",
        "Professional and Commercial Equipment Me",
        "Electrical and Electronic Goods Merchant",
        "Hdwr, Plumb & Heating Merchant whole",
        "Machinery, Equipment and Supplies Mercha",
        "Merchant Wholesalers, Nondurable Goods",
        "Paper & Paper Products Merchant whole",
        "Apparel, Piece Gds & Notions Merch whole",
        "Grocery & Related Products Merchant whol",
        "Chemical & Allied Products Merchant whol",
        "Misc Nondurable Merchant Wholesalers",
        "Wholesale Electronic Markets and Agents",
        "Retail Trade",
        "Motor Vehicle and Parts Dealer",
        "Automobile Dealers",
        "Other Motor Vehicle Dealers",
        "Automotive Parts, Accessories and Tire S",
        "Furniture and Home Furnishings Stores",
        "Furniture Stores",
        "Home Furnishings Stores",
        "Electronics and Appliance Stores",
        "Building Material and Garden Equipment S",
        "Building Material and Supplies Dealers",
        "Food and Beverage Stores",
        "Grocery Stores",
        "Specialty Food Stores",
        "Beer, Wine, & Liquor Stores",
        "Health and Personal Care Stores",
        "Gasoline Stations",
        "Clothing and Clothing Accessories Stores",
        "Clothing Stores",
        "Jewelry, Luggage & Leather Gds Stores",
        "Sporting Goods, Hobby, Book and Music St",
        "Sporting Goods, Hobby and Musical Instru",
        "Book, Periodical and Music Stores",
        "General Merchandise Stores",
        "Department Stores",
        "Miscellaneous Store Retailers",
        "Office Supplies, Stationery & Gift Store",
        "Used Merch&ise Stores",
        "Other Miscellaneous Store Retailers",
        "Nonstore Retailers",
        "Electronic Shopping & Mail-Order",
        "Transportation, Warehousing and Utilitie",
        "Utilities",
        "Electric Power Gen, Trans & Distribution",
        "Natural Gas Distribution",
        "Transportation and Warehousing",
        "Air Transportation",
        "Scheduled Air transp.",
        "Truck Transportation",
        "General Freight Trucking",
        "Specialized Freight Trucking",
        "Transit and Ground Passenger Transportat",
        "Support Activities for Transportation",
        "Support Activities for Water transp.",
        "Support Activities for Road transp.",
        "Freight transp. Arrangement",
        "Couriers and Messengers",
        "Warehousing and Storage",
        "Information",
        "Publishing Industries (except Internet)",
        "Newspaper, Periodical, Book and Director",
        "Software Publishers",
        "Motion Picture and Sound Recording",
        "Motion Picture & Video Industries",
        "Motion Picture & Video Production",
        "Broadcasting (except Internet)",
        "Radio and Television Broadcasting",
        "Cable and Other Subscription Programming",
        "Telecommunications",
        "Wired Telecommunications Carriers",
        "Data Processing, Hosting & Related Services",
        "Other Information Serv.",
        "Financial Activities",
        "Finance and Insurance",
        "Credit Intermediation and Related Activi",
        "Depository Credit Intermediation",
        "Nondepository Credit Intermediation",
        "Activities Related to Credit Intermediat",
        "Securities, Commodity Contracts and Inve",
        "Securities & Commodity Contracts",
        "Other Financial Investment Activities",
        "Insurance Carriers and Related",
        "Insurance Carriers",
        "Agencies, Brokerages, and Other Insuranc",
        "Real Estate and Rental and Leasing",
        "Real Estate",
        "Lessors of Real Estate",
        "Offices of Real Estate Agents and Broker",
        "Activities Related to Real Estate",
        "Rental and Leasing Services",
        "Automotive Equipment Rental and Leasing",
        "Consumer Goods Rental",
        "General Rental Centers",
        "Comm & Industrial Mach Rental & Leasing",
        "Professional and Business Services",
        "Professional, Scientific and Technical S",
        "Legal Services",
        "Accounting, Tax Preparation and Bookkeep",
        "Architectural, Engineering and Related S",
        "Specialized Design Services",
        "Computer Systems Design and Related Serv",
        "Management, Scientific and Technical Con",
        "Scientific Research and Development Serv",
        "Advertising and Related Services",
        "Other Professional, Scientific and Techn",
        "Management of Companies and Enterprises",
        "Administrative and Support and Waste Ser",
        "Administrative and Support Services",
        "Office Administrative Services",
        "Facilities Support Serv.",
        "Employment Services",
        "Business Support Services",
        "Travel Arrangement and Reservation Servi",
        "Investigation and Security Services",
        "Services to Buildings and Dwellings",
        "ResidualOther Support Services",
        "Waste Management and Remediation Service",
        "Educational and Health Services",
        "Educational Services",
        "Elementary and Secondary Schools",
        "Junior Colleges",
        "Colleges, Universities and Professional",
        "Other Schools & Instruction",
        "Health Care and Social Assistance",
        "Ambulatory Health Care Services",
        "Offices of Physicians",
        "Offices of Dentists",
        "Offices of Other Health Practitioners",
        "Outpatient Care Centers",
        "Medical & Diagnostic Laboratories",
        "Home Health Care Serv.",
        "Other Ambulatory Health Care Serv.",
        "Hospitals",
        "General Medical & Surgical Hosp.s",
        "Psychiatric & Substance Abuse Hosp",
        "Specialty (not Psych, Sub Abuse) Hosp.",
        "Nursing and Residential Care Facilities",
        "Nursing Care Facilities",
        "Residential Mental Retardation, Mental a",
        "Comm Care Facilities for the Elderly",
        "Other Residential Care Facilities",
        "Social Assistance",
        "Individual and Family Services",
        "Community Food & Housing, & Emergency &",
        "Vocational Rehabilitation Services",
        "Child Day Care Services",
        "Leisure and Hospitality",
        "Arts, Entertainment, and Recreation",
        "Performing Arts, Spectator Sports",
        "Performing Arts Companies",
        "Spectator Sports",
        "Independent Artists, Writers, and Perfor",
        "Museums, Historical Sites, and Similar I",
        "Amusement, Gambling, and Recreation",
        "Amusement Parks and Arcades",
        "Gambling Industries",
        "Other Amusement and Recreation",
        "Accommodation and Food Service",
        "Accommodation",
        "Food Services and Drinking Places",
        "Special Food Services",
        "Drinking Places (Alcoholic Beverages)",
        "Full-Service Restaurants",
        "Limited-Service Eating Places",
        "Other Services",
        "Repair and Maintenance",
        "Auto Repair & Maintenance",
        "Commercial & Industrial Machinery",
        "Personal & Household Goods Repair",
        "Personal and Laundry Services",
        "Personal Care Serv.",
        "Drycleaning & Laundry Serv.",
        "Other Personal Services",
        "Religious, Grantmaking, Civic, Professio",
        "Religious Organizations",
        "Grantmaking & Giving Serv.",
        "Social Advocacy Organizations",
        "Civic & Social Organizations",
        "Bus,Labor, Political & Other like Org.",
        "Government",
        "Federal Government",
        "Federal Government excluding Department of Defense",
        "Department of Defense",
        "State Government",
        "State Government Education",
        "State Government Excluding Education",
        "Local Government",
        "Indian Tribes",
        "Local Government Education",
        "Local Government Excluding Education",
        "County",
        "City",
        "Special Districts",
        "State and Local Government",
        "Miscellaneous Durable Goods Merchant Who",
        "Real Estate and Rental and Leasing - Residual",
        "Restaurants",
        "Special Districts plus Indian Tribes",
        "Private Service Providing - Residual"
       ],
       "description": "industry_title",
       "index": 0,
       "layout": "IPY_MODEL_2f59a4a096464976a120514397b18ea6",
       "style": "IPY_MODEL_2d4cd1a5cba24266a12f119916c4c8df"
      }
     },
     "3d2e09ca231f48448164351e944acad8": {
      "model_module": "@jupyter-widgets/controls",
      "model_module_version": "1.4.0",
      "model_name": "ButtonStyleModel",
      "state": {}
     },
     "3e2f3425433e462e8e002038bffb75cc": {
      "model_module": "@jupyter-widgets/controls",
      "model_module_version": "1.4.0",
      "model_name": "ButtonStyleModel",
      "state": {}
     },
     "3e6237a7346f41f1aff9393df29d4cd9": {
      "model_module": "@jupyter-widgets/base",
      "model_module_version": "1.1.0",
      "model_name": "LayoutModel",
      "state": {}
     },
     "3ebbd6dbe96842d1aeb585d8156d7a15": {
      "model_module": "@jupyter-widgets/base",
      "model_module_version": "1.1.0",
      "model_name": "LayoutModel",
      "state": {}
     },
     "40287aef1421455cb72d4e8bf6fb60e4": {
      "model_module": "@jupyter-widgets/base",
      "model_module_version": "1.1.0",
      "model_name": "LayoutModel",
      "state": {}
     },
     "403321f8651a45ad838eec9fa8a95990": {
      "model_module": "@jupyter-widgets/base",
      "model_module_version": "1.1.0",
      "model_name": "LayoutModel",
      "state": {}
     },
     "40800708aa6d49c2b18ea4f62fb82301": {
      "model_module": "@jupyter-widgets/controls",
      "model_module_version": "1.4.0",
      "model_name": "DropdownModel",
      "state": {
       "_options_labels": [
        "June",
        "May",
        "April",
        "March",
        "February",
        "January",
        "December",
        "November",
        "October",
        "September",
        "August",
        "July"
       ],
       "description": "month",
       "index": 0,
       "layout": "IPY_MODEL_f968f897411341c382eb0c692da1a40f",
       "style": "IPY_MODEL_60f28a51d8ca40e681fc25fb0adf6c2c"
      }
     },
     "40952c4bd780488c9099e1bbc7c1024b": {
      "model_module": "@jupyter-widgets/base",
      "model_module_version": "1.1.0",
      "model_name": "LayoutModel",
      "state": {}
     },
     "409aa0c3c65a42f7a2c086a2621753d2": {
      "model_module": "@jupyter-widgets/controls",
      "model_module_version": "1.4.0",
      "model_name": "DescriptionStyleModel",
      "state": {
       "description_width": ""
      }
     },
     "40b9d719e8c949a3aaa87e95a84736f1": {
      "model_module": "@jupyter-widgets/controls",
      "model_module_version": "1.4.0",
      "model_name": "DropdownModel",
      "state": {
       "_options_labels": [
        "2019",
        "2018",
        "2017",
        "2016",
        "2015",
        "2014",
        "2013",
        "2012",
        "2011",
        "2010",
        "2009",
        "2008",
        "2007",
        "2006",
        "2005",
        "2004",
        "2003",
        "2002",
        "2001",
        "2000",
        "1999",
        "1998",
        "1997",
        "1996",
        "1995",
        "1994",
        "1993",
        "1992",
        "1991",
        "1990"
       ],
       "description": "year",
       "index": 0,
       "layout": "IPY_MODEL_a36fd13ee3024612a763431c57f3eb11",
       "style": "IPY_MODEL_6ff5fb65349e420cb9e4c0fc6c550ad2"
      }
     },
     "40e018b5a00b4fbd84211387e64100ab": {
      "model_module": "@jupyter-widgets/controls",
      "model_module_version": "1.4.0",
      "model_name": "DropdownModel",
      "state": {
       "_options_labels": [
        "Total Nonfarm",
        "Total Wage and Salary",
        "Total Private",
        "Goods Producing",
        "Service Providing",
        "Private Service Providing",
        "Mining and Logging",
        "Logging",
        "Mining",
        "Oil & Gas Extraction",
        "Mining, except Oil & Gas",
        "Support Activities for Mining",
        "Total Farm",
        "Natural Resources, Mining and Constructi",
        "Construction",
        "Construction of Buildings",
        "Residential Building Construction",
        "Nonresidential Building Construction",
        "Heavy and Civil Engineering Construction",
        "Utility System Const.",
        "L& Subdivision",
        "Highway, Street, and Bridge Const",
        "Other Heavy & Civil Engineer",
        "Specialty Trade Contractors",
        "Building Foundation and Exterior Contrac",
        "Building Equipment Contractors",
        "Building Finishing Contractors",
        "Other Specialty Trade Contract",
        "Manufacturing",
        "Durable Goods",
        "Wood Product Manufacturing",
        "Other Wood Product Mfg.",
        "Nonmetallic Mineral Product Mfg.",
        "Primary Metal Manufacturing",
        "Fabricated Metal Product Mfg",
        "Architectural & Structural Metals Mfg.",
        "Machine Shops & Threaded Product Mfg.",
        "Other Fabricated Metal Product Mfg.",
        "Machinery Manufacturing",
        "Industrial Machinery Manufacturing",
        "Commercial and Service Industry Manufact",
        "Metalworking Machinery Mfg.",
        "ResidualOther General Purpose Machinery",
        "Computer and Electronic Product Manufact",
        "Computer and Peripheral Equipment Manufa",
        "Electronic Computer Manufacturing",
        "Communications Equipment Manufacturing",
        "Semiconductor and Electronic Component M",
        "Bare Printed Circuit Board Manufacturing",
        "Semiconductor and Related Devices Manufa",
        "Electronic Instrument Manufacturing",
        "Electrical Equipment and Appliance Manuf",
        "Transportation Equipment Manufacturing",
        "Motor Vehicle Mfg.",
        "Aerospace Product and Parts Manufacturin",
        "Ship and Boat Building",
        "Furniture and Related Product Manufactur",
        "Household and Institutional Furniture Ma",
        "Miscellaneous Durable Goods Manufacturing",
        "Medical Equipment & Supplies Mfg.",
        "Other Miscellaneous Durable Goods Mfg.",
        "Nondurable Goods",
        "Food Manufacturing",
        "Fruit & Vegetable Preserving & Specialty",
        "Dairy Product Manufacturing",
        "Animal Slaughtering and Processing",
        "Bakeries and Tortilla Manufacturing",
        "Other Food Mfg.",
        "Beverage and Tobacco Product Mfg",
        "ResidualTextile Mills",
        "Textile Product Mills",
        "Apparel Manufacturing",
        "Apparel Knitting Mills",
        "Cut and Sew Apparel Manufacturing",
        "Paper Manufacturing",
        "Converted Paper Product Mfg.",
        "Printing and Related Support Activities",
        "Petroleum and Coal Products Manufacturin",
        "Chemical Manufacturing",
        "Pharmaceutical and Medicine Manufacturin",
        "Soap, Cleaning Compound & Toiletry Mfg.",
        "Plastics and Rubber Products Manufacturi",
        "Trade, Transportation and Utilities",
        "Wholesale Trade",
        "Merchant Wholesalers, Durable Goods",
        "Motor Vehicle and Motor Vehicle Parts Me",
        "Furniture & Home Furnish Merch whole",
        "Lumber & Other Const. Mat Merch whole",
        "Professional and Commercial Equipment Me",
        "Electrical and Electronic Goods Merchant",
        "Hdwr, Plumb & Heating Merchant whole",
        "Machinery, Equipment and Supplies Mercha",
        "Merchant Wholesalers, Nondurable Goods",
        "Paper & Paper Products Merchant whole",
        "Apparel, Piece Gds & Notions Merch whole",
        "Grocery & Related Products Merchant whol",
        "Chemical & Allied Products Merchant whol",
        "Misc Nondurable Merchant Wholesalers",
        "Wholesale Electronic Markets and Agents",
        "Retail Trade",
        "Motor Vehicle and Parts Dealer",
        "Automobile Dealers",
        "Other Motor Vehicle Dealers",
        "Automotive Parts, Accessories and Tire S",
        "Furniture and Home Furnishings Stores",
        "Furniture Stores",
        "Home Furnishings Stores",
        "Electronics and Appliance Stores",
        "Building Material and Garden Equipment S",
        "Building Material and Supplies Dealers",
        "Food and Beverage Stores",
        "Grocery Stores",
        "Specialty Food Stores",
        "Beer, Wine, & Liquor Stores",
        "Health and Personal Care Stores",
        "Gasoline Stations",
        "Clothing and Clothing Accessories Stores",
        "Clothing Stores",
        "Jewelry, Luggage & Leather Gds Stores",
        "Sporting Goods, Hobby, Book and Music St",
        "Sporting Goods, Hobby and Musical Instru",
        "Book, Periodical and Music Stores",
        "General Merchandise Stores",
        "Department Stores",
        "Miscellaneous Store Retailers",
        "Office Supplies, Stationery & Gift Store",
        "Used Merch&ise Stores",
        "Other Miscellaneous Store Retailers",
        "Nonstore Retailers",
        "Electronic Shopping & Mail-Order",
        "Transportation, Warehousing and Utilitie",
        "Utilities",
        "Electric Power Gen, Trans & Distribution",
        "Natural Gas Distribution",
        "Transportation and Warehousing",
        "Air Transportation",
        "Scheduled Air transp.",
        "Truck Transportation",
        "General Freight Trucking",
        "Specialized Freight Trucking",
        "Transit and Ground Passenger Transportat",
        "Support Activities for Transportation",
        "Support Activities for Water transp.",
        "Support Activities for Road transp.",
        "Freight transp. Arrangement",
        "Couriers and Messengers",
        "Warehousing and Storage",
        "Information",
        "Publishing Industries (except Internet)",
        "Newspaper, Periodical, Book and Director",
        "Software Publishers",
        "Motion Picture and Sound Recording",
        "Motion Picture & Video Industries",
        "Motion Picture & Video Production",
        "Broadcasting (except Internet)",
        "Radio and Television Broadcasting",
        "Cable and Other Subscription Programming",
        "Telecommunications",
        "Wired Telecommunications Carriers",
        "Data Processing, Hosting & Related Services",
        "Other Information Serv.",
        "Financial Activities",
        "Finance and Insurance",
        "Credit Intermediation and Related Activi",
        "Depository Credit Intermediation",
        "Nondepository Credit Intermediation",
        "Activities Related to Credit Intermediat",
        "Securities, Commodity Contracts and Inve",
        "Securities & Commodity Contracts",
        "Other Financial Investment Activities",
        "Insurance Carriers and Related",
        "Insurance Carriers",
        "Agencies, Brokerages, and Other Insuranc",
        "Real Estate and Rental and Leasing",
        "Real Estate",
        "Lessors of Real Estate",
        "Offices of Real Estate Agents and Broker",
        "Activities Related to Real Estate",
        "Rental and Leasing Services",
        "Automotive Equipment Rental and Leasing",
        "Consumer Goods Rental",
        "General Rental Centers",
        "Comm & Industrial Mach Rental & Leasing",
        "Professional and Business Services",
        "Professional, Scientific and Technical S",
        "Legal Services",
        "Accounting, Tax Preparation and Bookkeep",
        "Architectural, Engineering and Related S",
        "Specialized Design Services",
        "Computer Systems Design and Related Serv",
        "Management, Scientific and Technical Con",
        "Scientific Research and Development Serv",
        "Advertising and Related Services",
        "Other Professional, Scientific and Techn",
        "Management of Companies and Enterprises",
        "Administrative and Support and Waste Ser",
        "Administrative and Support Services",
        "Office Administrative Services",
        "Facilities Support Serv.",
        "Employment Services",
        "Business Support Services",
        "Travel Arrangement and Reservation Servi",
        "Investigation and Security Services",
        "Services to Buildings and Dwellings",
        "ResidualOther Support Services",
        "Waste Management and Remediation Service",
        "Educational and Health Services",
        "Educational Services",
        "Elementary and Secondary Schools",
        "Junior Colleges",
        "Colleges, Universities and Professional",
        "Other Schools & Instruction",
        "Health Care and Social Assistance",
        "Ambulatory Health Care Services",
        "Offices of Physicians",
        "Offices of Dentists",
        "Offices of Other Health Practitioners",
        "Outpatient Care Centers",
        "Medical & Diagnostic Laboratories",
        "Home Health Care Serv.",
        "Other Ambulatory Health Care Serv.",
        "Hospitals",
        "General Medical & Surgical Hosp.s",
        "Psychiatric & Substance Abuse Hosp",
        "Specialty (not Psych, Sub Abuse) Hosp.",
        "Nursing and Residential Care Facilities",
        "Nursing Care Facilities",
        "Residential Mental Retardation, Mental a",
        "Comm Care Facilities for the Elderly",
        "Other Residential Care Facilities",
        "Social Assistance",
        "Individual and Family Services",
        "Community Food & Housing, & Emergency &",
        "Vocational Rehabilitation Services",
        "Child Day Care Services",
        "Leisure and Hospitality",
        "Arts, Entertainment, and Recreation",
        "Performing Arts, Spectator Sports",
        "Performing Arts Companies",
        "Spectator Sports",
        "Independent Artists, Writers, and Perfor",
        "Museums, Historical Sites, and Similar I",
        "Amusement, Gambling, and Recreation",
        "Amusement Parks and Arcades",
        "Gambling Industries",
        "Other Amusement and Recreation",
        "Accommodation and Food Service",
        "Accommodation",
        "Food Services and Drinking Places",
        "Special Food Services",
        "Drinking Places (Alcoholic Beverages)",
        "Full-Service Restaurants",
        "Limited-Service Eating Places",
        "Other Services",
        "Repair and Maintenance",
        "Auto Repair & Maintenance",
        "Commercial & Industrial Machinery",
        "Personal & Household Goods Repair",
        "Personal and Laundry Services",
        "Personal Care Serv.",
        "Drycleaning & Laundry Serv.",
        "Other Personal Services",
        "Religious, Grantmaking, Civic, Professio",
        "Religious Organizations",
        "Grantmaking & Giving Serv.",
        "Social Advocacy Organizations",
        "Civic & Social Organizations",
        "Bus,Labor, Political & Other like Org.",
        "Government",
        "Federal Government",
        "Federal Government excluding Department of Defense",
        "Department of Defense",
        "State Government",
        "State Government Education",
        "State Government Excluding Education",
        "Local Government",
        "Indian Tribes",
        "Local Government Education",
        "Local Government Excluding Education",
        "County",
        "City",
        "Special Districts",
        "State and Local Government",
        "Miscellaneous Durable Goods Merchant Who",
        "Real Estate and Rental and Leasing - Residual",
        "Restaurants",
        "Special Districts plus Indian Tribes",
        "Private Service Providing - Residual"
       ],
       "description": "industry_title",
       "index": 0,
       "layout": "IPY_MODEL_0b474e1b39f049b9972ee25d049da686",
       "style": "IPY_MODEL_bf232a40ab164f57a3ff8c4e046d2d44"
      }
     },
     "41040e92ed034c88a3809dc1681ce994": {
      "model_module": "@jupyter-widgets/base",
      "model_module_version": "1.1.0",
      "model_name": "LayoutModel",
      "state": {}
     },
     "42000e31ff9b407abc2e35389bd44882": {
      "model_module": "@jupyter-widgets/controls",
      "model_module_version": "1.4.0",
      "model_name": "ButtonModel",
      "state": {
       "description": "Run Interact",
       "layout": "IPY_MODEL_0c5c204e795649c4a1ba471226c18c9e",
       "style": "IPY_MODEL_7096b9470d1f4c06890f41e5ba1b4bbe"
      }
     },
     "4280e4cb1a8545a0bba4cf713309cf90": {
      "model_module": "@jupyter-widgets/base",
      "model_module_version": "1.1.0",
      "model_name": "LayoutModel",
      "state": {}
     },
     "42a555d842f2475580a4efe665a28d13": {
      "model_module": "@jupyter-widgets/base",
      "model_module_version": "1.1.0",
      "model_name": "LayoutModel",
      "state": {}
     },
     "430bb618a1fc45e9beec9f5c58d3ffef": {
      "model_module": "@jupyter-widgets/controls",
      "model_module_version": "1.4.0",
      "model_name": "DescriptionStyleModel",
      "state": {
       "description_width": ""
      }
     },
     "43fb741e62ae468d957833c20f0db886": {
      "model_module": "@jupyter-widgets/base",
      "model_module_version": "1.1.0",
      "model_name": "LayoutModel",
      "state": {}
     },
     "45088724c76d41b89871ab82025f05a7": {
      "model_module": "@jupyter-widgets/controls",
      "model_module_version": "1.4.0",
      "model_name": "VBoxModel",
      "state": {
       "_dom_classes": [
        "widget-interact"
       ],
       "children": [
        "IPY_MODEL_40b9d719e8c949a3aaa87e95a84736f1",
        "IPY_MODEL_1f60a9529fe14024af97b074d9122129",
        "IPY_MODEL_70ee5730a5c64eea8295eda4595df06a",
        "IPY_MODEL_2af608597998445f9f0b6807567a6a6a"
       ],
       "layout": "IPY_MODEL_43fb741e62ae468d957833c20f0db886"
      }
     },
     "45399c2207614bdfa902c9c9f50fc4a6": {
      "model_module": "@jupyter-widgets/controls",
      "model_module_version": "1.4.0",
      "model_name": "DropdownModel",
      "state": {
       "_options_labels": [
        "2019",
        "2018",
        "2017",
        "2016",
        "2015",
        "2014",
        "2013",
        "2012",
        "2011",
        "2010",
        "2009",
        "2008",
        "2007",
        "2006",
        "2005",
        "2004",
        "2003",
        "2002",
        "2001",
        "2000",
        "1999",
        "1998",
        "1997",
        "1996",
        "1995",
        "1994",
        "1993",
        "1992",
        "1991",
        "1990"
       ],
       "description": "year",
       "index": 29,
       "layout": "IPY_MODEL_5997f7ab5e874d3a863744222aaac94e",
       "style": "IPY_MODEL_430bb618a1fc45e9beec9f5c58d3ffef"
      }
     },
     "4546160b561244848083af2f48575264": {
      "model_module": "@jupyter-widgets/base",
      "model_module_version": "1.1.0",
      "model_name": "LayoutModel",
      "state": {}
     },
     "458f3e17dd9b464d989042d7edc47574": {
      "model_module": "@jupyter-widgets/controls",
      "model_module_version": "1.4.0",
      "model_name": "ButtonStyleModel",
      "state": {}
     },
     "459abcdf6b15413f80582833a26b6a84": {
      "model_module": "@jupyter-widgets/controls",
      "model_module_version": "1.4.0",
      "model_name": "DescriptionStyleModel",
      "state": {
       "description_width": ""
      }
     },
     "45f8195912df40178f84d5bd2a8d07d0": {
      "model_module": "@jupyter-widgets/controls",
      "model_module_version": "1.4.0",
      "model_name": "DescriptionStyleModel",
      "state": {
       "description_width": ""
      }
     },
     "46123dffeb074f6a888f321b7209ef01": {
      "model_module": "@jupyter-widgets/output",
      "model_module_version": "1.0.0",
      "model_name": "OutputModel",
      "state": {
       "layout": "IPY_MODEL_41040e92ed034c88a3809dc1681ce994"
      }
     },
     "46210d656cd34c79829168922ebbc953": {
      "model_module": "@jupyter-widgets/controls",
      "model_module_version": "1.4.0",
      "model_name": "VBoxModel",
      "state": {
       "_dom_classes": [
        "widget-interact"
       ],
       "children": [
        "IPY_MODEL_3b5c6da77a62457488b45eb0ec97b8a8",
        "IPY_MODEL_378bd28abcef40419e87e1c24065fe2f",
        "IPY_MODEL_1114d8556c5449abb1246e896b57b177",
        "IPY_MODEL_3af0ad4a736a421a8d9f05f9e408a8fc",
        "IPY_MODEL_f342a8295b1945ba91973f3764529cda"
       ],
       "layout": "IPY_MODEL_c3341b771ac54d7f84f887ac44c31f2e"
      }
     },
     "462190bc77cb4d5b93d4f5c9dfd21fe8": {
      "model_module": "@jupyter-widgets/output",
      "model_module_version": "1.0.0",
      "model_name": "OutputModel",
      "state": {
       "layout": "IPY_MODEL_d67513f900914830bf35e58587b7be9a",
       "outputs": [
        {
         "data": {
          "image/png": "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\n",
          "text/plain": "<Figure size 432x288 with 1 Axes>"
         },
         "metadata": {
          "needs_background": "light"
         },
         "output_type": "display_data"
        }
       ]
      }
     },
     "46367b6502b34e7c92c2b5ea36023bfb": {
      "model_module": "@jupyter-widgets/controls",
      "model_module_version": "1.4.0",
      "model_name": "VBoxModel",
      "state": {
       "_dom_classes": [
        "widget-interact"
       ],
       "children": [
        "IPY_MODEL_45399c2207614bdfa902c9c9f50fc4a6",
        "IPY_MODEL_d502eccb5a7844ddbd51697dc7367c50",
        "IPY_MODEL_f31dace9119c43ca861808eaeb8d6314",
        "IPY_MODEL_c7c4811c24764764aa6651fb975fa291",
        "IPY_MODEL_462190bc77cb4d5b93d4f5c9dfd21fe8"
       ],
       "layout": "IPY_MODEL_310d9fce7d5242cf8cafc88d6cef45e0"
      }
     },
     "464d52b9b6aa4fd5b7243e08c9896c43": {
      "model_module": "@jupyter-widgets/base",
      "model_module_version": "1.1.0",
      "model_name": "LayoutModel",
      "state": {}
     },
     "466752c4369d4c12b5d8481d49c9ba75": {
      "model_module": "@jupyter-widgets/base",
      "model_module_version": "1.1.0",
      "model_name": "LayoutModel",
      "state": {}
     },
     "467901b13ded4e2a95302e8e6401398f": {
      "model_module": "@jupyter-widgets/base",
      "model_module_version": "1.1.0",
      "model_name": "LayoutModel",
      "state": {}
     },
     "46db80c6da6247c8896b205ed67c9fbb": {
      "model_module": "@jupyter-widgets/base",
      "model_module_version": "1.1.0",
      "model_name": "LayoutModel",
      "state": {}
     },
     "4772f966fefc4378bf6131123a5aa79c": {
      "model_module": "@jupyter-widgets/base",
      "model_module_version": "1.1.0",
      "model_name": "LayoutModel",
      "state": {}
     },
     "4788a7d173de4af5a8d3c21743239cd7": {
      "model_module": "@jupyter-widgets/base",
      "model_module_version": "1.1.0",
      "model_name": "LayoutModel",
      "state": {}
     },
     "4790a23ebe1d4546a9d34fc2e2e4b52c": {
      "model_module": "@jupyter-widgets/output",
      "model_module_version": "1.0.0",
      "model_name": "OutputModel",
      "state": {
       "layout": "IPY_MODEL_e6efd0354f6a4c9ca9fa5b5bc6901a1d",
       "outputs": [
        {
         "ename": "AttributeError",
         "evalue": "'Series' object has no attribute 'pivot'",
         "output_type": "error",
         "traceback": [
          "\u001b[0;31m---------------------------------------------------------------------------\u001b[0m",
          "\u001b[0;31mAttributeError\u001b[0m                            Traceback (most recent call last)",
          "\u001b[0;32m/opt/conda/lib/python3.6/site-packages/ipywidgets/widgets/interaction.py\u001b[0m in \u001b[0;36mupdate\u001b[0;34m(self, *args)\u001b[0m\n\u001b[1;32m    249\u001b[0m                     \u001b[0mvalue\u001b[0m \u001b[0;34m=\u001b[0m \u001b[0mwidget\u001b[0m\u001b[0;34m.\u001b[0m\u001b[0mget_interact_value\u001b[0m\u001b[0;34m(\u001b[0m\u001b[0;34m)\u001b[0m\u001b[0;34m\u001b[0m\u001b[0m\n\u001b[1;32m    250\u001b[0m                     \u001b[0mself\u001b[0m\u001b[0;34m.\u001b[0m\u001b[0mkwargs\u001b[0m\u001b[0;34m[\u001b[0m\u001b[0mwidget\u001b[0m\u001b[0;34m.\u001b[0m\u001b[0m_kwarg\u001b[0m\u001b[0;34m]\u001b[0m \u001b[0;34m=\u001b[0m \u001b[0mvalue\u001b[0m\u001b[0;34m\u001b[0m\u001b[0m\n\u001b[0;32m--> 251\u001b[0;31m                 \u001b[0mself\u001b[0m\u001b[0;34m.\u001b[0m\u001b[0mresult\u001b[0m \u001b[0;34m=\u001b[0m \u001b[0mself\u001b[0m\u001b[0;34m.\u001b[0m\u001b[0mf\u001b[0m\u001b[0;34m(\u001b[0m\u001b[0;34m**\u001b[0m\u001b[0mself\u001b[0m\u001b[0;34m.\u001b[0m\u001b[0mkwargs\u001b[0m\u001b[0;34m)\u001b[0m\u001b[0;34m\u001b[0m\u001b[0m\n\u001b[0m\u001b[1;32m    252\u001b[0m                 \u001b[0mshow_inline_matplotlib_plots\u001b[0m\u001b[0;34m(\u001b[0m\u001b[0;34m)\u001b[0m\u001b[0;34m\u001b[0m\u001b[0m\n\u001b[1;32m    253\u001b[0m                 \u001b[0;32mif\u001b[0m \u001b[0mself\u001b[0m\u001b[0;34m.\u001b[0m\u001b[0mauto_display\u001b[0m \u001b[0;32mand\u001b[0m \u001b[0mself\u001b[0m\u001b[0;34m.\u001b[0m\u001b[0mresult\u001b[0m \u001b[0;32mis\u001b[0m \u001b[0;32mnot\u001b[0m \u001b[0;32mNone\u001b[0m\u001b[0;34m:\u001b[0m\u001b[0;34m\u001b[0m\u001b[0m\n",
          "\u001b[0;32m<ipython-input-64-1eaa4ce1c6bf>\u001b[0m in \u001b[0;36mfilter_by_year_month\u001b[0;34m(industry_title, area_type)\u001b[0m\n\u001b[1;32m      4\u001b[0m     \u001b[0;31m#print(data)\u001b[0m\u001b[0;34m\u001b[0m\u001b[0;34m\u001b[0m\u001b[0m\n\u001b[1;32m      5\u001b[0m     \u001b[0;32mif\u001b[0m \u001b[0mlen\u001b[0m\u001b[0;34m(\u001b[0m\u001b[0mdata\u001b[0m\u001b[0;34m)\u001b[0m \u001b[0;34m>\u001b[0m \u001b[0;36m0\u001b[0m\u001b[0;34m:\u001b[0m\u001b[0;34m\u001b[0m\u001b[0m\n\u001b[0;32m----> 6\u001b[0;31m         \u001b[0mdata\u001b[0m\u001b[0;34m[\u001b[0m\u001b[0;34m'current employment'\u001b[0m\u001b[0;34m]\u001b[0m\u001b[0;34m.\u001b[0m\u001b[0mpivot\u001b[0m\u001b[0;34m(\u001b[0m\u001b[0mcolumns\u001b[0m\u001b[0;34m=\u001b[0m\u001b[0;34m'year'\u001b[0m\u001b[0;34m,\u001b[0m \u001b[0mvalues\u001b[0m\u001b[0;34m=\u001b[0m\u001b[0;34m'current employment'\u001b[0m\u001b[0;34m)\u001b[0m\u001b[0;34m.\u001b[0m\u001b[0mplot\u001b[0m\u001b[0;34m(\u001b[0m\u001b[0mkind\u001b[0m\u001b[0;34m=\u001b[0m\u001b[0;34m'box'\u001b[0m\u001b[0;34m)\u001b[0m\u001b[0;34m\u001b[0m\u001b[0m\n\u001b[0m",
          "\u001b[0;32m/opt/conda/lib/python3.6/site-packages/pandas/core/generic.py\u001b[0m in \u001b[0;36m__getattr__\u001b[0;34m(self, name)\u001b[0m\n\u001b[1;32m   4374\u001b[0m             \u001b[0;32mif\u001b[0m \u001b[0mself\u001b[0m\u001b[0;34m.\u001b[0m\u001b[0m_info_axis\u001b[0m\u001b[0;34m.\u001b[0m\u001b[0m_can_hold_identifiers_and_holds_name\u001b[0m\u001b[0;34m(\u001b[0m\u001b[0mname\u001b[0m\u001b[0;34m)\u001b[0m\u001b[0;34m:\u001b[0m\u001b[0;34m\u001b[0m\u001b[0m\n\u001b[1;32m   4375\u001b[0m                 \u001b[0;32mreturn\u001b[0m \u001b[0mself\u001b[0m\u001b[0;34m[\u001b[0m\u001b[0mname\u001b[0m\u001b[0;34m]\u001b[0m\u001b[0;34m\u001b[0m\u001b[0m\n\u001b[0;32m-> 4376\u001b[0;31m             \u001b[0;32mreturn\u001b[0m \u001b[0mobject\u001b[0m\u001b[0;34m.\u001b[0m\u001b[0m__getattribute__\u001b[0m\u001b[0;34m(\u001b[0m\u001b[0mself\u001b[0m\u001b[0;34m,\u001b[0m \u001b[0mname\u001b[0m\u001b[0;34m)\u001b[0m\u001b[0;34m\u001b[0m\u001b[0m\n\u001b[0m\u001b[1;32m   4377\u001b[0m \u001b[0;34m\u001b[0m\u001b[0m\n\u001b[1;32m   4378\u001b[0m     \u001b[0;32mdef\u001b[0m \u001b[0m__setattr__\u001b[0m\u001b[0;34m(\u001b[0m\u001b[0mself\u001b[0m\u001b[0;34m,\u001b[0m \u001b[0mname\u001b[0m\u001b[0;34m,\u001b[0m \u001b[0mvalue\u001b[0m\u001b[0;34m)\u001b[0m\u001b[0;34m:\u001b[0m\u001b[0;34m\u001b[0m\u001b[0m\n",
          "\u001b[0;31mAttributeError\u001b[0m: 'Series' object has no attribute 'pivot'"
         ]
        }
       ]
      }
     },
     "47b3ebf36e5f4889a4ee3538f0d28bf6": {
      "model_module": "@jupyter-widgets/controls",
      "model_module_version": "1.4.0",
      "model_name": "SliderStyleModel",
      "state": {
       "description_width": ""
      }
     },
     "482f8aac905b478cb5de1ca33bfb199e": {
      "model_module": "@jupyter-widgets/controls",
      "model_module_version": "1.4.0",
      "model_name": "VBoxModel",
      "state": {
       "_dom_classes": [
        "widget-interact"
       ],
       "children": [
        "IPY_MODEL_4d96359b42b449c8a495409accb10b4e",
        "IPY_MODEL_db3c95dab4834f10aa7d4b55364fe324",
        "IPY_MODEL_8bcd5005b42c4a70a27895e02054f994",
        "IPY_MODEL_8cd8a418b4a54f1dbe4b5a52b2c7c269",
        "IPY_MODEL_fcc04c148dbd468c85c1b667502d8a9b"
       ],
       "layout": "IPY_MODEL_1b2f293bbe51428892b2f071179a4911"
      }
     },
     "49bb84ed294a4f9584693be603b9781f": {
      "model_module": "@jupyter-widgets/base",
      "model_module_version": "1.1.0",
      "model_name": "LayoutModel",
      "state": {}
     },
     "4adc54221cc34542a7b7fc4ccdea05ef": {
      "model_module": "@jupyter-widgets/base",
      "model_module_version": "1.1.0",
      "model_name": "LayoutModel",
      "state": {}
     },
     "4b7f616d82bd4745a1117a46ce12dfff": {
      "model_module": "@jupyter-widgets/controls",
      "model_module_version": "1.4.0",
      "model_name": "DescriptionStyleModel",
      "state": {
       "description_width": ""
      }
     },
     "4bc1fb0ec5e84b1b9b92a120334f33f0": {
      "model_module": "@jupyter-widgets/base",
      "model_module_version": "1.1.0",
      "model_name": "LayoutModel",
      "state": {}
     },
     "4c15a747e6de4425b71d37a1272e31c3": {
      "model_module": "@jupyter-widgets/controls",
      "model_module_version": "1.4.0",
      "model_name": "VBoxModel",
      "state": {
       "_dom_classes": [
        "widget-interact"
       ],
       "children": [
        "IPY_MODEL_6cb391200a964c34a0df687785b6b707",
        "IPY_MODEL_cd21753395124577a2c0d8837f848413",
        "IPY_MODEL_a07f122c05f942af8c58c9139662f273",
        "IPY_MODEL_fae7c83249ed4c59b85f6a7129412539"
       ],
       "layout": "IPY_MODEL_2e64b74091f74fb7a5812750778ae54b"
      }
     },
     "4cd24c7e0d754e6cba51efbd7a371043": {
      "model_module": "@jupyter-widgets/controls",
      "model_module_version": "1.4.0",
      "model_name": "ButtonModel",
      "state": {
       "description": "Run Interact",
       "layout": "IPY_MODEL_7a1e393c91654db495f37fb7fa269461",
       "style": "IPY_MODEL_07a2a100f1974ad6a52067017806397e"
      }
     },
     "4d4efe5ebae04097b7e1f7757476b0d9": {
      "model_module": "@jupyter-widgets/base",
      "model_module_version": "1.1.0",
      "model_name": "LayoutModel",
      "state": {}
     },
     "4d96359b42b449c8a495409accb10b4e": {
      "model_module": "@jupyter-widgets/controls",
      "model_module_version": "1.4.0",
      "model_name": "DropdownModel",
      "state": {
       "_options_labels": [
        "2019",
        "2018",
        "2017",
        "2016",
        "2015",
        "2014",
        "2013",
        "2012",
        "2011",
        "2010",
        "2009",
        "2008",
        "2007",
        "2006",
        "2005",
        "2004",
        "2003",
        "2002",
        "2001",
        "2000",
        "1999",
        "1998",
        "1997",
        "1996",
        "1995",
        "1994",
        "1993",
        "1992",
        "1991",
        "1990"
       ],
       "description": "year",
       "index": 0,
       "layout": "IPY_MODEL_25e7182ef62740268a7424444be91d9d",
       "style": "IPY_MODEL_abb00ca3ca894148aa5870aeb3e06b95"
      }
     },
     "4e10354e7c4f4256ad352c7383184e68": {
      "model_module": "@jupyter-widgets/base",
      "model_module_version": "1.1.0",
      "model_name": "LayoutModel",
      "state": {}
     },
     "4ec00d94866c4e09be0a812572b138be": {
      "model_module": "@jupyter-widgets/base",
      "model_module_version": "1.1.0",
      "model_name": "LayoutModel",
      "state": {}
     },
     "4ef52ab9246b4053b7daade30c39f42c": {
      "model_module": "@jupyter-widgets/controls",
      "model_module_version": "1.4.0",
      "model_name": "FloatSliderModel",
      "state": {
       "description": "freq",
       "layout": "IPY_MODEL_a1412ce2f75645aaaea5b58345a63259",
       "max": 3,
       "min": -1,
       "step": 0.1,
       "style": "IPY_MODEL_2256ab73b69b45399aed50a346c20117",
       "value": 1
      }
     },
     "4f312463ca3645ee9648efbae052aa71": {
      "model_module": "@jupyter-widgets/controls",
      "model_module_version": "1.4.0",
      "model_name": "ButtonModel",
      "state": {
       "description": "Run Interact",
       "layout": "IPY_MODEL_37cc057f0a9b408fbcb0df4aebdb7d67",
       "style": "IPY_MODEL_8b0729ed93ae4c7bb5a1e683e3f94f3f"
      }
     },
     "4f323f1924e342148cc4fa97b30b1666": {
      "model_module": "@jupyter-widgets/controls",
      "model_module_version": "1.4.0",
      "model_name": "VBoxModel",
      "state": {
       "_dom_classes": [
        "widget-interact"
       ],
       "children": [
        "IPY_MODEL_351b4638216247db9479ea244a0fce92",
        "IPY_MODEL_8ca61f9dde7e471ca920915d4e08fc9e",
        "IPY_MODEL_3c3a9aecbf184109ad872c4a0e5d70ff",
        "IPY_MODEL_27d1e819c73d4439871e5aa33ce8ce29"
       ],
       "layout": "IPY_MODEL_2e600c76b022401c80cbf768d53390d9"
      }
     },
     "4f74fb2af5654b08bb2434e97f6835e3": {
      "model_module": "@jupyter-widgets/controls",
      "model_module_version": "1.4.0",
      "model_name": "DropdownModel",
      "state": {
       "_options_labels": [
        "2019",
        "2018",
        "2017",
        "2016",
        "2015",
        "2014",
        "2013",
        "2012",
        "2011",
        "2010",
        "2009",
        "2008",
        "2007",
        "2006",
        "2005",
        "2004",
        "2003",
        "2002",
        "2001",
        "2000",
        "1999",
        "1998",
        "1997",
        "1996",
        "1995",
        "1994",
        "1993",
        "1992",
        "1991",
        "1990"
       ],
       "description": "year",
       "index": 0,
       "layout": "IPY_MODEL_3487631771274d0c8e2c743fdb043449",
       "style": "IPY_MODEL_a0653e160faa4dd3ba2b5f14a0101d82"
      }
     },
     "500c61e4d5ae4ad1b41ee9164e636788": {
      "model_module": "@jupyter-widgets/controls",
      "model_module_version": "1.4.0",
      "model_name": "ButtonStyleModel",
      "state": {}
     },
     "503e57969ad5459c9c700d62786a811c": {
      "model_module": "@jupyter-widgets/output",
      "model_module_version": "1.0.0",
      "model_name": "OutputModel",
      "state": {
       "layout": "IPY_MODEL_c3e82fd6f79e4d48b1947054447b90de",
       "outputs": [
        {
         "data": {
          "image/png": "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\n",
          "text/plain": "<Figure size 432x288 with 1 Axes>"
         },
         "metadata": {
          "needs_background": "light"
         },
         "output_type": "display_data"
        }
       ]
      }
     },
     "525e5d0b8aa8433d93e93048f4363387": {
      "model_module": "@jupyter-widgets/controls",
      "model_module_version": "1.4.0",
      "model_name": "DropdownModel",
      "state": {
       "_options_labels": [
        "State",
        "Metropolitan Area",
        "County"
       ],
       "description": "area_type",
       "index": 1,
       "layout": "IPY_MODEL_94bb7a5ffeb240228614636ef5b91d29",
       "style": "IPY_MODEL_db19c7e16aa349ffb0a4978c4d52a6cd"
      }
     },
     "525e6fa7c96947b0818a1ebb045482ac": {
      "model_module": "@jupyter-widgets/base",
      "model_module_version": "1.1.0",
      "model_name": "LayoutModel",
      "state": {}
     },
     "5285bda5a60f486ab5efbdc70533bd40": {
      "model_module": "@jupyter-widgets/controls",
      "model_module_version": "1.4.0",
      "model_name": "DropdownModel",
      "state": {
       "_options_labels": [
        "2019",
        "2018",
        "2017",
        "2016",
        "2015",
        "2014",
        "2013",
        "2012",
        "2011",
        "2010",
        "2009",
        "2008",
        "2007",
        "2006",
        "2005",
        "2004",
        "2003",
        "2002",
        "2001",
        "2000",
        "1999",
        "1998",
        "1997",
        "1996",
        "1995",
        "1994",
        "1993",
        "1992",
        "1991",
        "1990"
       ],
       "description": "year",
       "index": 0,
       "layout": "IPY_MODEL_c898c3318ba649609939b52b1b1d1e74",
       "style": "IPY_MODEL_2563dbd40b454e22996e1e9d5a620ab8"
      }
     },
     "52a133c74da44ad18938b24a6bcc4f25": {
      "model_module": "@jupyter-widgets/controls",
      "model_module_version": "1.4.0",
      "model_name": "DescriptionStyleModel",
      "state": {
       "description_width": ""
      }
     },
     "52ac18996dbe4bee819b3a12fe0f037e": {
      "model_module": "@jupyter-widgets/controls",
      "model_module_version": "1.4.0",
      "model_name": "ButtonModel",
      "state": {
       "description": "Run Interact",
       "layout": "IPY_MODEL_cf777d00e29c40428bfcd4e5ba67a31c",
       "style": "IPY_MODEL_1726acb314a1455b82f5eae14b96a1f1"
      }
     },
     "53330718f81549638224bd33a475cb75": {
      "model_module": "@jupyter-widgets/controls",
      "model_module_version": "1.4.0",
      "model_name": "DropdownModel",
      "state": {
       "_options_labels": [
        "State",
        "Metropolitan Area",
        "County"
       ],
       "description": "area_type",
       "index": 0,
       "layout": "IPY_MODEL_bca7d0c42fd9415096b7b90ab73db337",
       "style": "IPY_MODEL_165a42aa4aab4ae39b92c69edb195e72"
      }
     },
     "5398fec2180c404286343044f86f66e3": {
      "model_module": "@jupyter-widgets/base",
      "model_module_version": "1.1.0",
      "model_name": "LayoutModel",
      "state": {}
     },
     "53c3950e5ae9433e91ef1251c859ad1d": {
      "model_module": "@jupyter-widgets/output",
      "model_module_version": "1.0.0",
      "model_name": "OutputModel",
      "state": {
       "layout": "IPY_MODEL_7ca0e382955842d484d2cd0517e8e88b",
       "outputs": [
        {
         "ename": "KeyError",
         "evalue": "'area_type'",
         "output_type": "error",
         "traceback": [
          "\u001b[0;31m---------------------------------------------------------------------------\u001b[0m",
          "\u001b[0;31mKeyError\u001b[0m                                  Traceback (most recent call last)",
          "\u001b[0;32m/opt/conda/lib/python3.6/site-packages/pandas/core/indexes/base.py\u001b[0m in \u001b[0;36mget_loc\u001b[0;34m(self, key, method, tolerance)\u001b[0m\n\u001b[1;32m   3077\u001b[0m             \u001b[0;32mtry\u001b[0m\u001b[0;34m:\u001b[0m\u001b[0;34m\u001b[0m\u001b[0m\n\u001b[0;32m-> 3078\u001b[0;31m                 \u001b[0;32mreturn\u001b[0m \u001b[0mself\u001b[0m\u001b[0;34m.\u001b[0m\u001b[0m_engine\u001b[0m\u001b[0;34m.\u001b[0m\u001b[0mget_loc\u001b[0m\u001b[0;34m(\u001b[0m\u001b[0mkey\u001b[0m\u001b[0;34m)\u001b[0m\u001b[0;34m\u001b[0m\u001b[0m\n\u001b[0m\u001b[1;32m   3079\u001b[0m             \u001b[0;32mexcept\u001b[0m \u001b[0mKeyError\u001b[0m\u001b[0;34m:\u001b[0m\u001b[0;34m\u001b[0m\u001b[0m\n",
          "\u001b[0;32mpandas/_libs/index.pyx\u001b[0m in \u001b[0;36mpandas._libs.index.IndexEngine.get_loc\u001b[0;34m()\u001b[0m\n",
          "\u001b[0;32mpandas/_libs/index.pyx\u001b[0m in \u001b[0;36mpandas._libs.index.IndexEngine.get_loc\u001b[0;34m()\u001b[0m\n",
          "\u001b[0;32mpandas/_libs/hashtable_class_helper.pxi\u001b[0m in \u001b[0;36mpandas._libs.hashtable.PyObjectHashTable.get_item\u001b[0;34m()\u001b[0m\n",
          "\u001b[0;32mpandas/_libs/hashtable_class_helper.pxi\u001b[0m in \u001b[0;36mpandas._libs.hashtable.PyObjectHashTable.get_item\u001b[0;34m()\u001b[0m\n",
          "\u001b[0;31mKeyError\u001b[0m: 'area_type'",
          "\nDuring handling of the above exception, another exception occurred:\n",
          "\u001b[0;31mKeyError\u001b[0m                                  Traceback (most recent call last)",
          "\u001b[0;32m/opt/conda/lib/python3.6/site-packages/ipywidgets/widgets/interaction.py\u001b[0m in \u001b[0;36mupdate\u001b[0;34m(self, *args)\u001b[0m\n\u001b[1;32m    249\u001b[0m                     \u001b[0mvalue\u001b[0m \u001b[0;34m=\u001b[0m \u001b[0mwidget\u001b[0m\u001b[0;34m.\u001b[0m\u001b[0mget_interact_value\u001b[0m\u001b[0;34m(\u001b[0m\u001b[0;34m)\u001b[0m\u001b[0;34m\u001b[0m\u001b[0m\n\u001b[1;32m    250\u001b[0m                     \u001b[0mself\u001b[0m\u001b[0;34m.\u001b[0m\u001b[0mkwargs\u001b[0m\u001b[0;34m[\u001b[0m\u001b[0mwidget\u001b[0m\u001b[0;34m.\u001b[0m\u001b[0m_kwarg\u001b[0m\u001b[0;34m]\u001b[0m \u001b[0;34m=\u001b[0m \u001b[0mvalue\u001b[0m\u001b[0;34m\u001b[0m\u001b[0m\n\u001b[0;32m--> 251\u001b[0;31m                 \u001b[0mself\u001b[0m\u001b[0;34m.\u001b[0m\u001b[0mresult\u001b[0m \u001b[0;34m=\u001b[0m \u001b[0mself\u001b[0m\u001b[0;34m.\u001b[0m\u001b[0mf\u001b[0m\u001b[0;34m(\u001b[0m\u001b[0;34m**\u001b[0m\u001b[0mself\u001b[0m\u001b[0;34m.\u001b[0m\u001b[0mkwargs\u001b[0m\u001b[0;34m)\u001b[0m\u001b[0;34m\u001b[0m\u001b[0m\n\u001b[0m\u001b[1;32m    252\u001b[0m                 \u001b[0mshow_inline_matplotlib_plots\u001b[0m\u001b[0;34m(\u001b[0m\u001b[0;34m)\u001b[0m\u001b[0;34m\u001b[0m\u001b[0m\n\u001b[1;32m    253\u001b[0m                 \u001b[0;32mif\u001b[0m \u001b[0mself\u001b[0m\u001b[0;34m.\u001b[0m\u001b[0mauto_display\u001b[0m \u001b[0;32mand\u001b[0m \u001b[0mself\u001b[0m\u001b[0;34m.\u001b[0m\u001b[0mresult\u001b[0m \u001b[0;32mis\u001b[0m \u001b[0;32mnot\u001b[0m \u001b[0;32mNone\u001b[0m\u001b[0;34m:\u001b[0m\u001b[0;34m\u001b[0m\u001b[0m\n",
          "\u001b[0;32m<ipython-input-38-397e5c5fdc98>\u001b[0m in \u001b[0;36mfilter_by_year_month\u001b[0;34m(year, month, area_type)\u001b[0m\n\u001b[1;32m      1\u001b[0m \u001b[0;34m@\u001b[0m\u001b[0mwidgets\u001b[0m\u001b[0;34m.\u001b[0m\u001b[0minteract_manual\u001b[0m\u001b[0;34m(\u001b[0m\u001b[0myear\u001b[0m\u001b[0;34m=\u001b[0m\u001b[0myears\u001b[0m\u001b[0;34m,\u001b[0m \u001b[0mmonth\u001b[0m\u001b[0;34m=\u001b[0m\u001b[0mmonths\u001b[0m\u001b[0;34m,\u001b[0m \u001b[0marea_type\u001b[0m\u001b[0;34m=\u001b[0m\u001b[0marea_types\u001b[0m\u001b[0;34m)\u001b[0m\u001b[0;34m\u001b[0m\u001b[0m\n\u001b[1;32m      2\u001b[0m \u001b[0;32mdef\u001b[0m \u001b[0mfilter_by_year_month\u001b[0m\u001b[0;34m(\u001b[0m\u001b[0myear\u001b[0m\u001b[0;34m=\u001b[0m\u001b[0myears\u001b[0m\u001b[0;34m[\u001b[0m\u001b[0;36m0\u001b[0m\u001b[0;34m]\u001b[0m\u001b[0;34m,\u001b[0m \u001b[0mmonth\u001b[0m\u001b[0;34m=\u001b[0m\u001b[0mmonths\u001b[0m\u001b[0;34m[\u001b[0m\u001b[0;36m0\u001b[0m\u001b[0;34m]\u001b[0m\u001b[0;34m,\u001b[0m \u001b[0marea_type\u001b[0m\u001b[0;34m=\u001b[0m\u001b[0marea_types\u001b[0m\u001b[0;34m[\u001b[0m\u001b[0;36m0\u001b[0m\u001b[0;34m]\u001b[0m\u001b[0;34m)\u001b[0m\u001b[0;34m:\u001b[0m\u001b[0;34m\u001b[0m\u001b[0m\n\u001b[0;32m----> 3\u001b[0;31m     \u001b[0mdata\u001b[0m\u001b[0;34m=\u001b[0m\u001b[0mdf_em\u001b[0m\u001b[0;34m.\u001b[0m\u001b[0mloc\u001b[0m\u001b[0;34m[\u001b[0m\u001b[0;34m(\u001b[0m\u001b[0mdf_em\u001b[0m\u001b[0;34m[\u001b[0m\u001b[0;34m'year'\u001b[0m\u001b[0;34m]\u001b[0m\u001b[0;34m==\u001b[0m\u001b[0myear\u001b[0m\u001b[0;34m)\u001b[0m \u001b[0;34m&\u001b[0m \u001b[0;34m(\u001b[0m\u001b[0mdf_em\u001b[0m\u001b[0;34m[\u001b[0m\u001b[0;34m'month'\u001b[0m\u001b[0;34m]\u001b[0m\u001b[0;34m==\u001b[0m\u001b[0mmonth\u001b[0m\u001b[0;34m)\u001b[0m \u001b[0;34m&\u001b[0m \u001b[0;34m(\u001b[0m\u001b[0mdf_em\u001b[0m\u001b[0;34m[\u001b[0m\u001b[0;34m'area_type'\u001b[0m\u001b[0;34m]\u001b[0m\u001b[0;34m==\u001b[0m\u001b[0marea_type\u001b[0m\u001b[0;34m)\u001b[0m\u001b[0;34m]\u001b[0m\u001b[0;34m\u001b[0m\u001b[0m\n\u001b[0m\u001b[1;32m      4\u001b[0m     \u001b[0mdata\u001b[0m\u001b[0;34m[\u001b[0m\u001b[0;34m[\u001b[0m\u001b[0;34m'year'\u001b[0m\u001b[0;34m,\u001b[0m \u001b[0;34m'area type'\u001b[0m\u001b[0;34m,\u001b[0m \u001b[0;34m'current employment'\u001b[0m\u001b[0;34m]\u001b[0m\u001b[0;34m]\u001b[0m\u001b[0;34m.\u001b[0m\u001b[0mpivot\u001b[0m\u001b[0;34m(\u001b[0m\u001b[0mcolumns\u001b[0m\u001b[0;34m=\u001b[0m\u001b[0;34m'area type'\u001b[0m\u001b[0;34m,\u001b[0m\u001b[0mvalues\u001b[0m\u001b[0;34m=\u001b[0m\u001b[0;34m'current employment'\u001b[0m\u001b[0;34m)\u001b[0m\u001b[0;34m.\u001b[0m\u001b[0mplot\u001b[0m\u001b[0;34m(\u001b[0m\u001b[0mkind\u001b[0m\u001b[0;34m=\u001b[0m\u001b[0;34m'box'\u001b[0m\u001b[0;34m,\u001b[0m \u001b[0mlogy\u001b[0m\u001b[0;34m=\u001b[0m\u001b[0;32mTrue\u001b[0m\u001b[0;34m)\u001b[0m\u001b[0;34m\u001b[0m\u001b[0m\n",
          "\u001b[0;32m/opt/conda/lib/python3.6/site-packages/pandas/core/frame.py\u001b[0m in \u001b[0;36m__getitem__\u001b[0;34m(self, key)\u001b[0m\n\u001b[1;32m   2686\u001b[0m             \u001b[0;32mreturn\u001b[0m \u001b[0mself\u001b[0m\u001b[0;34m.\u001b[0m\u001b[0m_getitem_multilevel\u001b[0m\u001b[0;34m(\u001b[0m\u001b[0mkey\u001b[0m\u001b[0;34m)\u001b[0m\u001b[0;34m\u001b[0m\u001b[0m\n\u001b[1;32m   2687\u001b[0m         \u001b[0;32melse\u001b[0m\u001b[0;34m:\u001b[0m\u001b[0;34m\u001b[0m\u001b[0m\n\u001b[0;32m-> 2688\u001b[0;31m             \u001b[0;32mreturn\u001b[0m \u001b[0mself\u001b[0m\u001b[0;34m.\u001b[0m\u001b[0m_getitem_column\u001b[0m\u001b[0;34m(\u001b[0m\u001b[0mkey\u001b[0m\u001b[0;34m)\u001b[0m\u001b[0;34m\u001b[0m\u001b[0m\n\u001b[0m\u001b[1;32m   2689\u001b[0m \u001b[0;34m\u001b[0m\u001b[0m\n\u001b[1;32m   2690\u001b[0m     \u001b[0;32mdef\u001b[0m \u001b[0m_getitem_column\u001b[0m\u001b[0;34m(\u001b[0m\u001b[0mself\u001b[0m\u001b[0;34m,\u001b[0m \u001b[0mkey\u001b[0m\u001b[0;34m)\u001b[0m\u001b[0;34m:\u001b[0m\u001b[0;34m\u001b[0m\u001b[0m\n",
          "\u001b[0;32m/opt/conda/lib/python3.6/site-packages/pandas/core/frame.py\u001b[0m in \u001b[0;36m_getitem_column\u001b[0;34m(self, key)\u001b[0m\n\u001b[1;32m   2693\u001b[0m         \u001b[0;31m# get column\u001b[0m\u001b[0;34m\u001b[0m\u001b[0;34m\u001b[0m\u001b[0m\n\u001b[1;32m   2694\u001b[0m         \u001b[0;32mif\u001b[0m \u001b[0mself\u001b[0m\u001b[0;34m.\u001b[0m\u001b[0mcolumns\u001b[0m\u001b[0;34m.\u001b[0m\u001b[0mis_unique\u001b[0m\u001b[0;34m:\u001b[0m\u001b[0;34m\u001b[0m\u001b[0m\n\u001b[0;32m-> 2695\u001b[0;31m             \u001b[0;32mreturn\u001b[0m \u001b[0mself\u001b[0m\u001b[0;34m.\u001b[0m\u001b[0m_get_item_cache\u001b[0m\u001b[0;34m(\u001b[0m\u001b[0mkey\u001b[0m\u001b[0;34m)\u001b[0m\u001b[0;34m\u001b[0m\u001b[0m\n\u001b[0m\u001b[1;32m   2696\u001b[0m \u001b[0;34m\u001b[0m\u001b[0m\n\u001b[1;32m   2697\u001b[0m         \u001b[0;31m# duplicate columns & possible reduce dimensionality\u001b[0m\u001b[0;34m\u001b[0m\u001b[0;34m\u001b[0m\u001b[0m\n",
          "\u001b[0;32m/opt/conda/lib/python3.6/site-packages/pandas/core/generic.py\u001b[0m in \u001b[0;36m_get_item_cache\u001b[0;34m(self, item)\u001b[0m\n\u001b[1;32m   2487\u001b[0m         \u001b[0mres\u001b[0m \u001b[0;34m=\u001b[0m \u001b[0mcache\u001b[0m\u001b[0;34m.\u001b[0m\u001b[0mget\u001b[0m\u001b[0;34m(\u001b[0m\u001b[0mitem\u001b[0m\u001b[0;34m)\u001b[0m\u001b[0;34m\u001b[0m\u001b[0m\n\u001b[1;32m   2488\u001b[0m         \u001b[0;32mif\u001b[0m \u001b[0mres\u001b[0m \u001b[0;32mis\u001b[0m \u001b[0;32mNone\u001b[0m\u001b[0;34m:\u001b[0m\u001b[0;34m\u001b[0m\u001b[0m\n\u001b[0;32m-> 2489\u001b[0;31m             \u001b[0mvalues\u001b[0m \u001b[0;34m=\u001b[0m \u001b[0mself\u001b[0m\u001b[0;34m.\u001b[0m\u001b[0m_data\u001b[0m\u001b[0;34m.\u001b[0m\u001b[0mget\u001b[0m\u001b[0;34m(\u001b[0m\u001b[0mitem\u001b[0m\u001b[0;34m)\u001b[0m\u001b[0;34m\u001b[0m\u001b[0m\n\u001b[0m\u001b[1;32m   2490\u001b[0m             \u001b[0mres\u001b[0m \u001b[0;34m=\u001b[0m \u001b[0mself\u001b[0m\u001b[0;34m.\u001b[0m\u001b[0m_box_item_values\u001b[0m\u001b[0;34m(\u001b[0m\u001b[0mitem\u001b[0m\u001b[0;34m,\u001b[0m \u001b[0mvalues\u001b[0m\u001b[0;34m)\u001b[0m\u001b[0;34m\u001b[0m\u001b[0m\n\u001b[1;32m   2491\u001b[0m             \u001b[0mcache\u001b[0m\u001b[0;34m[\u001b[0m\u001b[0mitem\u001b[0m\u001b[0;34m]\u001b[0m \u001b[0;34m=\u001b[0m \u001b[0mres\u001b[0m\u001b[0;34m\u001b[0m\u001b[0m\n",
          "\u001b[0;32m/opt/conda/lib/python3.6/site-packages/pandas/core/internals.py\u001b[0m in \u001b[0;36mget\u001b[0;34m(self, item, fastpath)\u001b[0m\n\u001b[1;32m   4113\u001b[0m \u001b[0;34m\u001b[0m\u001b[0m\n\u001b[1;32m   4114\u001b[0m             \u001b[0;32mif\u001b[0m \u001b[0;32mnot\u001b[0m \u001b[0misna\u001b[0m\u001b[0;34m(\u001b[0m\u001b[0mitem\u001b[0m\u001b[0;34m)\u001b[0m\u001b[0;34m:\u001b[0m\u001b[0;34m\u001b[0m\u001b[0m\n\u001b[0;32m-> 4115\u001b[0;31m                 \u001b[0mloc\u001b[0m \u001b[0;34m=\u001b[0m \u001b[0mself\u001b[0m\u001b[0;34m.\u001b[0m\u001b[0mitems\u001b[0m\u001b[0;34m.\u001b[0m\u001b[0mget_loc\u001b[0m\u001b[0;34m(\u001b[0m\u001b[0mitem\u001b[0m\u001b[0;34m)\u001b[0m\u001b[0;34m\u001b[0m\u001b[0m\n\u001b[0m\u001b[1;32m   4116\u001b[0m             \u001b[0;32melse\u001b[0m\u001b[0;34m:\u001b[0m\u001b[0;34m\u001b[0m\u001b[0m\n\u001b[1;32m   4117\u001b[0m                 \u001b[0mindexer\u001b[0m \u001b[0;34m=\u001b[0m \u001b[0mnp\u001b[0m\u001b[0;34m.\u001b[0m\u001b[0marange\u001b[0m\u001b[0;34m(\u001b[0m\u001b[0mlen\u001b[0m\u001b[0;34m(\u001b[0m\u001b[0mself\u001b[0m\u001b[0;34m.\u001b[0m\u001b[0mitems\u001b[0m\u001b[0;34m)\u001b[0m\u001b[0;34m)\u001b[0m\u001b[0;34m[\u001b[0m\u001b[0misna\u001b[0m\u001b[0;34m(\u001b[0m\u001b[0mself\u001b[0m\u001b[0;34m.\u001b[0m\u001b[0mitems\u001b[0m\u001b[0;34m)\u001b[0m\u001b[0;34m]\u001b[0m\u001b[0;34m\u001b[0m\u001b[0m\n",
          "\u001b[0;32m/opt/conda/lib/python3.6/site-packages/pandas/core/indexes/base.py\u001b[0m in \u001b[0;36mget_loc\u001b[0;34m(self, key, method, tolerance)\u001b[0m\n\u001b[1;32m   3078\u001b[0m                 \u001b[0;32mreturn\u001b[0m \u001b[0mself\u001b[0m\u001b[0;34m.\u001b[0m\u001b[0m_engine\u001b[0m\u001b[0;34m.\u001b[0m\u001b[0mget_loc\u001b[0m\u001b[0;34m(\u001b[0m\u001b[0mkey\u001b[0m\u001b[0;34m)\u001b[0m\u001b[0;34m\u001b[0m\u001b[0m\n\u001b[1;32m   3079\u001b[0m             \u001b[0;32mexcept\u001b[0m \u001b[0mKeyError\u001b[0m\u001b[0;34m:\u001b[0m\u001b[0;34m\u001b[0m\u001b[0m\n\u001b[0;32m-> 3080\u001b[0;31m                 \u001b[0;32mreturn\u001b[0m \u001b[0mself\u001b[0m\u001b[0;34m.\u001b[0m\u001b[0m_engine\u001b[0m\u001b[0;34m.\u001b[0m\u001b[0mget_loc\u001b[0m\u001b[0;34m(\u001b[0m\u001b[0mself\u001b[0m\u001b[0;34m.\u001b[0m\u001b[0m_maybe_cast_indexer\u001b[0m\u001b[0;34m(\u001b[0m\u001b[0mkey\u001b[0m\u001b[0;34m)\u001b[0m\u001b[0;34m)\u001b[0m\u001b[0;34m\u001b[0m\u001b[0m\n\u001b[0m\u001b[1;32m   3081\u001b[0m \u001b[0;34m\u001b[0m\u001b[0m\n\u001b[1;32m   3082\u001b[0m         \u001b[0mindexer\u001b[0m \u001b[0;34m=\u001b[0m \u001b[0mself\u001b[0m\u001b[0;34m.\u001b[0m\u001b[0mget_indexer\u001b[0m\u001b[0;34m(\u001b[0m\u001b[0;34m[\u001b[0m\u001b[0mkey\u001b[0m\u001b[0;34m]\u001b[0m\u001b[0;34m,\u001b[0m \u001b[0mmethod\u001b[0m\u001b[0;34m=\u001b[0m\u001b[0mmethod\u001b[0m\u001b[0;34m,\u001b[0m \u001b[0mtolerance\u001b[0m\u001b[0;34m=\u001b[0m\u001b[0mtolerance\u001b[0m\u001b[0;34m)\u001b[0m\u001b[0;34m\u001b[0m\u001b[0m\n",
          "\u001b[0;32mpandas/_libs/index.pyx\u001b[0m in \u001b[0;36mpandas._libs.index.IndexEngine.get_loc\u001b[0;34m()\u001b[0m\n",
          "\u001b[0;32mpandas/_libs/index.pyx\u001b[0m in \u001b[0;36mpandas._libs.index.IndexEngine.get_loc\u001b[0;34m()\u001b[0m\n",
          "\u001b[0;32mpandas/_libs/hashtable_class_helper.pxi\u001b[0m in \u001b[0;36mpandas._libs.hashtable.PyObjectHashTable.get_item\u001b[0;34m()\u001b[0m\n",
          "\u001b[0;32mpandas/_libs/hashtable_class_helper.pxi\u001b[0m in \u001b[0;36mpandas._libs.hashtable.PyObjectHashTable.get_item\u001b[0;34m()\u001b[0m\n",
          "\u001b[0;31mKeyError\u001b[0m: 'area_type'"
         ]
        }
       ]
      }
     },
     "54023c5740cf452ca202bfe10a935b40": {
      "model_module": "@jupyter-widgets/controls",
      "model_module_version": "1.4.0",
      "model_name": "ButtonModel",
      "state": {
       "description": "Run Interact",
       "layout": "IPY_MODEL_e649049972c242c3825c49b376a9cac1",
       "style": "IPY_MODEL_995873cecc79439baf228d9c71ead736"
      }
     },
     "5405fce225994bffbe23f8d521f9f2cc": {
      "model_module": "@jupyter-widgets/base",
      "model_module_version": "1.1.0",
      "model_name": "LayoutModel",
      "state": {}
     },
     "5409ab89fd064dd0bd382462a1ab8d8c": {
      "model_module": "@jupyter-widgets/controls",
      "model_module_version": "1.4.0",
      "model_name": "ButtonModel",
      "state": {
       "description": "Run Interact",
       "layout": "IPY_MODEL_9ef90872fe3f4a019005dc3102eef677",
       "style": "IPY_MODEL_a600387d9dda4b57acc8e4e8e208cdd8"
      }
     },
     "544b8e4b60bc465491720f22b5c46545": {
      "model_module": "@jupyter-widgets/controls",
      "model_module_version": "1.4.0",
      "model_name": "DescriptionStyleModel",
      "state": {
       "description_width": ""
      }
     },
     "548792abbdbd405f80ed5f2774c003e3": {
      "model_module": "@jupyter-widgets/controls",
      "model_module_version": "1.4.0",
      "model_name": "DescriptionStyleModel",
      "state": {
       "description_width": ""
      }
     },
     "54d801dcbb7b480b934ce9bdecff0531": {
      "model_module": "@jupyter-widgets/controls",
      "model_module_version": "1.4.0",
      "model_name": "IntSliderModel",
      "state": {
       "description": "lw",
       "layout": "IPY_MODEL_3e6237a7346f41f1aff9393df29d4cd9",
       "max": 6,
       "min": -2,
       "style": "IPY_MODEL_47b3ebf36e5f4889a4ee3538f0d28bf6",
       "value": 2
      }
     },
     "54e3a25df6df40dcbbddbcd5ecb59671": {
      "model_module": "@jupyter-widgets/controls",
      "model_module_version": "1.4.0",
      "model_name": "VBoxModel",
      "state": {
       "_dom_classes": [
        "widget-interact"
       ],
       "children": [
        "IPY_MODEL_07aab0e04cc74544ba641ac4ef6a7dcf",
        "IPY_MODEL_5a374c37194e4433b564f5438b4f3d64"
       ],
       "layout": "IPY_MODEL_8c2ad2bde84b408585a9ebfff8a4ce1f"
      }
     },
     "551f63e36cd94969b7f6572b3980b895": {
      "model_module": "@jupyter-widgets/controls",
      "model_module_version": "1.4.0",
      "model_name": "DescriptionStyleModel",
      "state": {
       "description_width": ""
      }
     },
     "55400b7c4a8e4f9aa2db99fc5975c005": {
      "model_module": "@jupyter-widgets/controls",
      "model_module_version": "1.4.0",
      "model_name": "DescriptionStyleModel",
      "state": {
       "description_width": ""
      }
     },
     "55744e50a69c41ef8d09043398146a8e": {
      "model_module": "@jupyter-widgets/controls",
      "model_module_version": "1.4.0",
      "model_name": "ButtonStyleModel",
      "state": {}
     },
     "558ca8c0fa664244a6943b98dcc5fea1": {
      "model_module": "@jupyter-widgets/base",
      "model_module_version": "1.1.0",
      "model_name": "LayoutModel",
      "state": {}
     },
     "562ef6f01aca49b5be599ef0eba77692": {
      "model_module": "@jupyter-widgets/controls",
      "model_module_version": "1.4.0",
      "model_name": "VBoxModel",
      "state": {
       "_dom_classes": [
        "widget-interact"
       ],
       "children": [
        "IPY_MODEL_4f74fb2af5654b08bb2434e97f6835e3",
        "IPY_MODEL_1aca75581cd3453799ccac993ace38e6",
        "IPY_MODEL_57c4cf04cccb4ff38c91a4180138b1e9",
        "IPY_MODEL_a4e9324235534637afec12b3c344d5a6",
        "IPY_MODEL_2600235b6ced432d836eeddcd18196d4"
       ],
       "layout": "IPY_MODEL_c16526511528449f91923622a29cfbb8"
      }
     },
     "575febf7701146a5bcacefb461518f61": {
      "model_module": "@jupyter-widgets/base",
      "model_module_version": "1.1.0",
      "model_name": "LayoutModel",
      "state": {}
     },
     "57a9b2f834ac4c9b8ace1b903a5d737f": {
      "model_module": "@jupyter-widgets/base",
      "model_module_version": "1.1.0",
      "model_name": "LayoutModel",
      "state": {}
     },
     "57c4cf04cccb4ff38c91a4180138b1e9": {
      "model_module": "@jupyter-widgets/controls",
      "model_module_version": "1.4.0",
      "model_name": "DropdownModel",
      "state": {
       "_options_labels": [
        "State",
        "Metropolitan Area",
        "County"
       ],
       "description": "area_type",
       "index": 0,
       "layout": "IPY_MODEL_5b9edf46ea564f599c6a679b5d569106",
       "style": "IPY_MODEL_e2447458f4cf44a984e841ea18d0cde4"
      }
     },
     "57ccbcd1af7d4c27bc716f613b79f7e0": {
      "model_module": "@jupyter-widgets/base",
      "model_module_version": "1.1.0",
      "model_name": "LayoutModel",
      "state": {}
     },
     "58a3c66e1f5f4d8db87dd0db675d605f": {
      "model_module": "@jupyter-widgets/controls",
      "model_module_version": "1.4.0",
      "model_name": "DropdownModel",
      "state": {
       "_options_labels": [
        "Total Nonfarm",
        "Total Wage and Salary",
        "Total Private",
        "Goods Producing",
        "Service Providing",
        "Private Service Providing",
        "Mining and Logging",
        "Logging",
        "Mining",
        "Oil & Gas Extraction",
        "Mining, except Oil & Gas",
        "Support Activities for Mining",
        "Total Farm",
        "Natural Resources, Mining and Constructi",
        "Construction",
        "Construction of Buildings",
        "Residential Building Construction",
        "Nonresidential Building Construction",
        "Heavy and Civil Engineering Construction",
        "Utility System Const.",
        "L& Subdivision",
        "Highway, Street, and Bridge Const",
        "Other Heavy & Civil Engineer",
        "Specialty Trade Contractors",
        "Building Foundation and Exterior Contrac",
        "Building Equipment Contractors",
        "Building Finishing Contractors",
        "Other Specialty Trade Contract",
        "Manufacturing",
        "Durable Goods",
        "Wood Product Manufacturing",
        "Other Wood Product Mfg.",
        "Nonmetallic Mineral Product Mfg.",
        "Primary Metal Manufacturing",
        "Fabricated Metal Product Mfg",
        "Architectural & Structural Metals Mfg.",
        "Machine Shops & Threaded Product Mfg.",
        "Other Fabricated Metal Product Mfg.",
        "Machinery Manufacturing",
        "Industrial Machinery Manufacturing",
        "Commercial and Service Industry Manufact",
        "Metalworking Machinery Mfg.",
        "ResidualOther General Purpose Machinery",
        "Computer and Electronic Product Manufact",
        "Computer and Peripheral Equipment Manufa",
        "Electronic Computer Manufacturing",
        "Communications Equipment Manufacturing",
        "Semiconductor and Electronic Component M",
        "Bare Printed Circuit Board Manufacturing",
        "Semiconductor and Related Devices Manufa",
        "Electronic Instrument Manufacturing",
        "Electrical Equipment and Appliance Manuf",
        "Transportation Equipment Manufacturing",
        "Motor Vehicle Mfg.",
        "Aerospace Product and Parts Manufacturin",
        "Ship and Boat Building",
        "Furniture and Related Product Manufactur",
        "Household and Institutional Furniture Ma",
        "Miscellaneous Durable Goods Manufacturing",
        "Medical Equipment & Supplies Mfg.",
        "Other Miscellaneous Durable Goods Mfg.",
        "Nondurable Goods",
        "Food Manufacturing",
        "Fruit & Vegetable Preserving & Specialty",
        "Dairy Product Manufacturing",
        "Animal Slaughtering and Processing",
        "Bakeries and Tortilla Manufacturing",
        "Other Food Mfg.",
        "Beverage and Tobacco Product Mfg",
        "ResidualTextile Mills",
        "Textile Product Mills",
        "Apparel Manufacturing",
        "Apparel Knitting Mills",
        "Cut and Sew Apparel Manufacturing",
        "Paper Manufacturing",
        "Converted Paper Product Mfg.",
        "Printing and Related Support Activities",
        "Petroleum and Coal Products Manufacturin",
        "Chemical Manufacturing",
        "Pharmaceutical and Medicine Manufacturin",
        "Soap, Cleaning Compound & Toiletry Mfg.",
        "Plastics and Rubber Products Manufacturi",
        "Trade, Transportation and Utilities",
        "Wholesale Trade",
        "Merchant Wholesalers, Durable Goods",
        "Motor Vehicle and Motor Vehicle Parts Me",
        "Furniture & Home Furnish Merch whole",
        "Lumber & Other Const. Mat Merch whole",
        "Professional and Commercial Equipment Me",
        "Electrical and Electronic Goods Merchant",
        "Hdwr, Plumb & Heating Merchant whole",
        "Machinery, Equipment and Supplies Mercha",
        "Merchant Wholesalers, Nondurable Goods",
        "Paper & Paper Products Merchant whole",
        "Apparel, Piece Gds & Notions Merch whole",
        "Grocery & Related Products Merchant whol",
        "Chemical & Allied Products Merchant whol",
        "Misc Nondurable Merchant Wholesalers",
        "Wholesale Electronic Markets and Agents",
        "Retail Trade",
        "Motor Vehicle and Parts Dealer",
        "Automobile Dealers",
        "Other Motor Vehicle Dealers",
        "Automotive Parts, Accessories and Tire S",
        "Furniture and Home Furnishings Stores",
        "Furniture Stores",
        "Home Furnishings Stores",
        "Electronics and Appliance Stores",
        "Building Material and Garden Equipment S",
        "Building Material and Supplies Dealers",
        "Food and Beverage Stores",
        "Grocery Stores",
        "Specialty Food Stores",
        "Beer, Wine, & Liquor Stores",
        "Health and Personal Care Stores",
        "Gasoline Stations",
        "Clothing and Clothing Accessories Stores",
        "Clothing Stores",
        "Jewelry, Luggage & Leather Gds Stores",
        "Sporting Goods, Hobby, Book and Music St",
        "Sporting Goods, Hobby and Musical Instru",
        "Book, Periodical and Music Stores",
        "General Merchandise Stores",
        "Department Stores",
        "Miscellaneous Store Retailers",
        "Office Supplies, Stationery & Gift Store",
        "Used Merch&ise Stores",
        "Other Miscellaneous Store Retailers",
        "Nonstore Retailers",
        "Electronic Shopping & Mail-Order",
        "Transportation, Warehousing and Utilitie",
        "Utilities",
        "Electric Power Gen, Trans & Distribution",
        "Natural Gas Distribution",
        "Transportation and Warehousing",
        "Air Transportation",
        "Scheduled Air transp.",
        "Truck Transportation",
        "General Freight Trucking",
        "Specialized Freight Trucking",
        "Transit and Ground Passenger Transportat",
        "Support Activities for Transportation",
        "Support Activities for Water transp.",
        "Support Activities for Road transp.",
        "Freight transp. Arrangement",
        "Couriers and Messengers",
        "Warehousing and Storage",
        "Information",
        "Publishing Industries (except Internet)",
        "Newspaper, Periodical, Book and Director",
        "Software Publishers",
        "Motion Picture and Sound Recording",
        "Motion Picture & Video Industries",
        "Motion Picture & Video Production",
        "Broadcasting (except Internet)",
        "Radio and Television Broadcasting",
        "Cable and Other Subscription Programming",
        "Telecommunications",
        "Wired Telecommunications Carriers",
        "Data Processing, Hosting & Related Services",
        "Other Information Serv.",
        "Financial Activities",
        "Finance and Insurance",
        "Credit Intermediation and Related Activi",
        "Depository Credit Intermediation",
        "Nondepository Credit Intermediation",
        "Activities Related to Credit Intermediat",
        "Securities, Commodity Contracts and Inve",
        "Securities & Commodity Contracts",
        "Other Financial Investment Activities",
        "Insurance Carriers and Related",
        "Insurance Carriers",
        "Agencies, Brokerages, and Other Insuranc",
        "Real Estate and Rental and Leasing",
        "Real Estate",
        "Lessors of Real Estate",
        "Offices of Real Estate Agents and Broker",
        "Activities Related to Real Estate",
        "Rental and Leasing Services",
        "Automotive Equipment Rental and Leasing",
        "Consumer Goods Rental",
        "General Rental Centers",
        "Comm & Industrial Mach Rental & Leasing",
        "Professional and Business Services",
        "Professional, Scientific and Technical S",
        "Legal Services",
        "Accounting, Tax Preparation and Bookkeep",
        "Architectural, Engineering and Related S",
        "Specialized Design Services",
        "Computer Systems Design and Related Serv",
        "Management, Scientific and Technical Con",
        "Scientific Research and Development Serv",
        "Advertising and Related Services",
        "Other Professional, Scientific and Techn",
        "Management of Companies and Enterprises",
        "Administrative and Support and Waste Ser",
        "Administrative and Support Services",
        "Office Administrative Services",
        "Facilities Support Serv.",
        "Employment Services",
        "Business Support Services",
        "Travel Arrangement and Reservation Servi",
        "Investigation and Security Services",
        "Services to Buildings and Dwellings",
        "ResidualOther Support Services",
        "Waste Management and Remediation Service",
        "Educational and Health Services",
        "Educational Services",
        "Elementary and Secondary Schools",
        "Junior Colleges",
        "Colleges, Universities and Professional",
        "Other Schools & Instruction",
        "Health Care and Social Assistance",
        "Ambulatory Health Care Services",
        "Offices of Physicians",
        "Offices of Dentists",
        "Offices of Other Health Practitioners",
        "Outpatient Care Centers",
        "Medical & Diagnostic Laboratories",
        "Home Health Care Serv.",
        "Other Ambulatory Health Care Serv.",
        "Hospitals",
        "General Medical & Surgical Hosp.s",
        "Psychiatric & Substance Abuse Hosp",
        "Specialty (not Psych, Sub Abuse) Hosp.",
        "Nursing and Residential Care Facilities",
        "Nursing Care Facilities",
        "Residential Mental Retardation, Mental a",
        "Comm Care Facilities for the Elderly",
        "Other Residential Care Facilities",
        "Social Assistance",
        "Individual and Family Services",
        "Community Food & Housing, & Emergency &",
        "Vocational Rehabilitation Services",
        "Child Day Care Services",
        "Leisure and Hospitality",
        "Arts, Entertainment, and Recreation",
        "Performing Arts, Spectator Sports",
        "Performing Arts Companies",
        "Spectator Sports",
        "Independent Artists, Writers, and Perfor",
        "Museums, Historical Sites, and Similar I",
        "Amusement, Gambling, and Recreation",
        "Amusement Parks and Arcades",
        "Gambling Industries",
        "Other Amusement and Recreation",
        "Accommodation and Food Service",
        "Accommodation",
        "Food Services and Drinking Places",
        "Special Food Services",
        "Drinking Places (Alcoholic Beverages)",
        "Full-Service Restaurants",
        "Limited-Service Eating Places",
        "Other Services",
        "Repair and Maintenance",
        "Auto Repair & Maintenance",
        "Commercial & Industrial Machinery",
        "Personal & Household Goods Repair",
        "Personal and Laundry Services",
        "Personal Care Serv.",
        "Drycleaning & Laundry Serv.",
        "Other Personal Services",
        "Religious, Grantmaking, Civic, Professio",
        "Religious Organizations",
        "Grantmaking & Giving Serv.",
        "Social Advocacy Organizations",
        "Civic & Social Organizations",
        "Bus,Labor, Political & Other like Org.",
        "Government",
        "Federal Government",
        "Federal Government excluding Department of Defense",
        "Department of Defense",
        "State Government",
        "State Government Education",
        "State Government Excluding Education",
        "Local Government",
        "Indian Tribes",
        "Local Government Education",
        "Local Government Excluding Education",
        "County",
        "City",
        "Special Districts",
        "State and Local Government",
        "Miscellaneous Durable Goods Merchant Who",
        "Real Estate and Rental and Leasing - Residual",
        "Restaurants",
        "Special Districts plus Indian Tribes",
        "Private Service Providing - Residual"
       ],
       "description": "industry_title",
       "index": 0,
       "layout": "IPY_MODEL_8dc62070771c4dad86a8e6c8d885d5a0",
       "style": "IPY_MODEL_033af7363e284c1cbfc5d1a6a20dfc24"
      }
     },
     "5997f7ab5e874d3a863744222aaac94e": {
      "model_module": "@jupyter-widgets/base",
      "model_module_version": "1.1.0",
      "model_name": "LayoutModel",
      "state": {}
     },
     "59cec87f1ef54f73a8af3b4e21498c4b": {
      "model_module": "@jupyter-widgets/base",
      "model_module_version": "1.1.0",
      "model_name": "LayoutModel",
      "state": {}
     },
     "5a374c37194e4433b564f5438b4f3d64": {
      "model_module": "@jupyter-widgets/output",
      "model_module_version": "1.0.0",
      "model_name": "OutputModel",
      "state": {
       "layout": "IPY_MODEL_5d0eed6a7ac940ea939d6f15018b2376",
       "outputs": [
        {
         "name": "stdout",
         "output_type": "stream",
         "text": "5\n"
        }
       ]
      }
     },
     "5ac9a2a0a78344bcb7725e22595fae8b": {
      "model_module": "@jupyter-widgets/output",
      "model_module_version": "1.0.0",
      "model_name": "OutputModel",
      "state": {
       "layout": "IPY_MODEL_e812c225b93248b2a920bfb1d3a8c8b5",
       "outputs": [
        {
         "data": {
          "image/png": "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\n",
          "text/plain": "<Figure size 432x288 with 1 Axes>"
         },
         "metadata": {
          "needs_background": "light"
         },
         "output_type": "display_data"
        }
       ]
      }
     },
     "5b5006d9e1274cdd8c10a17f6f26c27f": {
      "model_module": "@jupyter-widgets/controls",
      "model_module_version": "1.4.0",
      "model_name": "DescriptionStyleModel",
      "state": {
       "description_width": ""
      }
     },
     "5b5d102e910344beab26bf6fb050b14f": {
      "model_module": "@jupyter-widgets/base",
      "model_module_version": "1.1.0",
      "model_name": "LayoutModel",
      "state": {}
     },
     "5b7751eea01c49f098e201118f3aec08": {
      "model_module": "@jupyter-widgets/controls",
      "model_module_version": "1.4.0",
      "model_name": "VBoxModel",
      "state": {
       "_dom_classes": [
        "widget-interact"
       ],
       "children": [
        "IPY_MODEL_2092bd135b784f03973cc1731b5fc3a0",
        "IPY_MODEL_fd3c90e4156140f09ca3285ceb7f205c",
        "IPY_MODEL_176b08b65c4248b6a51a18e1d39a01cb",
        "IPY_MODEL_23fa54e28384456e8e0838aefe110a38",
        "IPY_MODEL_70a34419ee174efbb219ea5ca0783244"
       ],
       "layout": "IPY_MODEL_e77b04e3a3924319b325b0f1ddaf0ccc"
      }
     },
     "5b9edf46ea564f599c6a679b5d569106": {
      "model_module": "@jupyter-widgets/base",
      "model_module_version": "1.1.0",
      "model_name": "LayoutModel",
      "state": {}
     },
     "5d0eed6a7ac940ea939d6f15018b2376": {
      "model_module": "@jupyter-widgets/base",
      "model_module_version": "1.1.0",
      "model_name": "LayoutModel",
      "state": {}
     },
     "5d446e8da2494a499c5485cf8b92602c": {
      "model_module": "@jupyter-widgets/controls",
      "model_module_version": "1.4.0",
      "model_name": "DescriptionStyleModel",
      "state": {
       "description_width": ""
      }
     },
     "5d525704723942e9a70b6de0e71b0934": {
      "model_module": "@jupyter-widgets/base",
      "model_module_version": "1.1.0",
      "model_name": "LayoutModel",
      "state": {}
     },
     "5d6a6a15387d463bb7b2fa3e8c5ba468": {
      "model_module": "@jupyter-widgets/controls",
      "model_module_version": "1.4.0",
      "model_name": "ButtonStyleModel",
      "state": {}
     },
     "5e3efe5fcf804846abf958aaec31f90d": {
      "model_module": "@jupyter-widgets/base",
      "model_module_version": "1.1.0",
      "model_name": "LayoutModel",
      "state": {}
     },
     "5e7326bee5b9488a88b4008e361d1ff6": {
      "model_module": "@jupyter-widgets/controls",
      "model_module_version": "1.4.0",
      "model_name": "DropdownModel",
      "state": {
       "_options_labels": [
        "Total Nonfarm",
        "Total Wage and Salary",
        "Total Private",
        "Goods Producing",
        "Service Providing",
        "Private Service Providing",
        "Mining and Logging",
        "Logging",
        "Mining",
        "Oil & Gas Extraction",
        "Mining, except Oil & Gas",
        "Support Activities for Mining",
        "Total Farm",
        "Natural Resources, Mining and Constructi",
        "Construction",
        "Construction of Buildings",
        "Residential Building Construction",
        "Nonresidential Building Construction",
        "Heavy and Civil Engineering Construction",
        "Utility System Const.",
        "L& Subdivision",
        "Highway, Street, and Bridge Const",
        "Other Heavy & Civil Engineer",
        "Specialty Trade Contractors",
        "Building Foundation and Exterior Contrac",
        "Building Equipment Contractors",
        "Building Finishing Contractors",
        "Other Specialty Trade Contract",
        "Manufacturing",
        "Durable Goods",
        "Wood Product Manufacturing",
        "Other Wood Product Mfg.",
        "Nonmetallic Mineral Product Mfg.",
        "Primary Metal Manufacturing",
        "Fabricated Metal Product Mfg",
        "Architectural & Structural Metals Mfg.",
        "Machine Shops & Threaded Product Mfg.",
        "Other Fabricated Metal Product Mfg.",
        "Machinery Manufacturing",
        "Industrial Machinery Manufacturing",
        "Commercial and Service Industry Manufact",
        "Metalworking Machinery Mfg.",
        "ResidualOther General Purpose Machinery",
        "Computer and Electronic Product Manufact",
        "Computer and Peripheral Equipment Manufa",
        "Electronic Computer Manufacturing",
        "Communications Equipment Manufacturing",
        "Semiconductor and Electronic Component M",
        "Bare Printed Circuit Board Manufacturing",
        "Semiconductor and Related Devices Manufa",
        "Electronic Instrument Manufacturing",
        "Electrical Equipment and Appliance Manuf",
        "Transportation Equipment Manufacturing",
        "Motor Vehicle Mfg.",
        "Aerospace Product and Parts Manufacturin",
        "Ship and Boat Building",
        "Furniture and Related Product Manufactur",
        "Household and Institutional Furniture Ma",
        "Miscellaneous Durable Goods Manufacturing",
        "Medical Equipment & Supplies Mfg.",
        "Other Miscellaneous Durable Goods Mfg.",
        "Nondurable Goods",
        "Food Manufacturing",
        "Fruit & Vegetable Preserving & Specialty",
        "Dairy Product Manufacturing",
        "Animal Slaughtering and Processing",
        "Bakeries and Tortilla Manufacturing",
        "Other Food Mfg.",
        "Beverage and Tobacco Product Mfg",
        "ResidualTextile Mills",
        "Textile Product Mills",
        "Apparel Manufacturing",
        "Apparel Knitting Mills",
        "Cut and Sew Apparel Manufacturing",
        "Paper Manufacturing",
        "Converted Paper Product Mfg.",
        "Printing and Related Support Activities",
        "Petroleum and Coal Products Manufacturin",
        "Chemical Manufacturing",
        "Pharmaceutical and Medicine Manufacturin",
        "Soap, Cleaning Compound & Toiletry Mfg.",
        "Plastics and Rubber Products Manufacturi",
        "Trade, Transportation and Utilities",
        "Wholesale Trade",
        "Merchant Wholesalers, Durable Goods",
        "Motor Vehicle and Motor Vehicle Parts Me",
        "Furniture & Home Furnish Merch whole",
        "Lumber & Other Const. Mat Merch whole",
        "Professional and Commercial Equipment Me",
        "Electrical and Electronic Goods Merchant",
        "Hdwr, Plumb & Heating Merchant whole",
        "Machinery, Equipment and Supplies Mercha",
        "Merchant Wholesalers, Nondurable Goods",
        "Paper & Paper Products Merchant whole",
        "Apparel, Piece Gds & Notions Merch whole",
        "Grocery & Related Products Merchant whol",
        "Chemical & Allied Products Merchant whol",
        "Misc Nondurable Merchant Wholesalers",
        "Wholesale Electronic Markets and Agents",
        "Retail Trade",
        "Motor Vehicle and Parts Dealer",
        "Automobile Dealers",
        "Other Motor Vehicle Dealers",
        "Automotive Parts, Accessories and Tire S",
        "Furniture and Home Furnishings Stores",
        "Furniture Stores",
        "Home Furnishings Stores",
        "Electronics and Appliance Stores",
        "Building Material and Garden Equipment S",
        "Building Material and Supplies Dealers",
        "Food and Beverage Stores",
        "Grocery Stores",
        "Specialty Food Stores",
        "Beer, Wine, & Liquor Stores",
        "Health and Personal Care Stores",
        "Gasoline Stations",
        "Clothing and Clothing Accessories Stores",
        "Clothing Stores",
        "Jewelry, Luggage & Leather Gds Stores",
        "Sporting Goods, Hobby, Book and Music St",
        "Sporting Goods, Hobby and Musical Instru",
        "Book, Periodical and Music Stores",
        "General Merchandise Stores",
        "Department Stores",
        "Miscellaneous Store Retailers",
        "Office Supplies, Stationery & Gift Store",
        "Used Merch&ise Stores",
        "Other Miscellaneous Store Retailers",
        "Nonstore Retailers",
        "Electronic Shopping & Mail-Order",
        "Transportation, Warehousing and Utilitie",
        "Utilities",
        "Electric Power Gen, Trans & Distribution",
        "Natural Gas Distribution",
        "Transportation and Warehousing",
        "Air Transportation",
        "Scheduled Air transp.",
        "Truck Transportation",
        "General Freight Trucking",
        "Specialized Freight Trucking",
        "Transit and Ground Passenger Transportat",
        "Support Activities for Transportation",
        "Support Activities for Water transp.",
        "Support Activities for Road transp.",
        "Freight transp. Arrangement",
        "Couriers and Messengers",
        "Warehousing and Storage",
        "Information",
        "Publishing Industries (except Internet)",
        "Newspaper, Periodical, Book and Director",
        "Software Publishers",
        "Motion Picture and Sound Recording",
        "Motion Picture & Video Industries",
        "Motion Picture & Video Production",
        "Broadcasting (except Internet)",
        "Radio and Television Broadcasting",
        "Cable and Other Subscription Programming",
        "Telecommunications",
        "Wired Telecommunications Carriers",
        "Data Processing, Hosting & Related Services",
        "Other Information Serv.",
        "Financial Activities",
        "Finance and Insurance",
        "Credit Intermediation and Related Activi",
        "Depository Credit Intermediation",
        "Nondepository Credit Intermediation",
        "Activities Related to Credit Intermediat",
        "Securities, Commodity Contracts and Inve",
        "Securities & Commodity Contracts",
        "Other Financial Investment Activities",
        "Insurance Carriers and Related",
        "Insurance Carriers",
        "Agencies, Brokerages, and Other Insuranc",
        "Real Estate and Rental and Leasing",
        "Real Estate",
        "Lessors of Real Estate",
        "Offices of Real Estate Agents and Broker",
        "Activities Related to Real Estate",
        "Rental and Leasing Services",
        "Automotive Equipment Rental and Leasing",
        "Consumer Goods Rental",
        "General Rental Centers",
        "Comm & Industrial Mach Rental & Leasing",
        "Professional and Business Services",
        "Professional, Scientific and Technical S",
        "Legal Services",
        "Accounting, Tax Preparation and Bookkeep",
        "Architectural, Engineering and Related S",
        "Specialized Design Services",
        "Computer Systems Design and Related Serv",
        "Management, Scientific and Technical Con",
        "Scientific Research and Development Serv",
        "Advertising and Related Services",
        "Other Professional, Scientific and Techn",
        "Management of Companies and Enterprises",
        "Administrative and Support and Waste Ser",
        "Administrative and Support Services",
        "Office Administrative Services",
        "Facilities Support Serv.",
        "Employment Services",
        "Business Support Services",
        "Travel Arrangement and Reservation Servi",
        "Investigation and Security Services",
        "Services to Buildings and Dwellings",
        "ResidualOther Support Services",
        "Waste Management and Remediation Service",
        "Educational and Health Services",
        "Educational Services",
        "Elementary and Secondary Schools",
        "Junior Colleges",
        "Colleges, Universities and Professional",
        "Other Schools & Instruction",
        "Health Care and Social Assistance",
        "Ambulatory Health Care Services",
        "Offices of Physicians",
        "Offices of Dentists",
        "Offices of Other Health Practitioners",
        "Outpatient Care Centers",
        "Medical & Diagnostic Laboratories",
        "Home Health Care Serv.",
        "Other Ambulatory Health Care Serv.",
        "Hospitals",
        "General Medical & Surgical Hosp.s",
        "Psychiatric & Substance Abuse Hosp",
        "Specialty (not Psych, Sub Abuse) Hosp.",
        "Nursing and Residential Care Facilities",
        "Nursing Care Facilities",
        "Residential Mental Retardation, Mental a",
        "Comm Care Facilities for the Elderly",
        "Other Residential Care Facilities",
        "Social Assistance",
        "Individual and Family Services",
        "Community Food & Housing, & Emergency &",
        "Vocational Rehabilitation Services",
        "Child Day Care Services",
        "Leisure and Hospitality",
        "Arts, Entertainment, and Recreation",
        "Performing Arts, Spectator Sports",
        "Performing Arts Companies",
        "Spectator Sports",
        "Independent Artists, Writers, and Perfor",
        "Museums, Historical Sites, and Similar I",
        "Amusement, Gambling, and Recreation",
        "Amusement Parks and Arcades",
        "Gambling Industries",
        "Other Amusement and Recreation",
        "Accommodation and Food Service",
        "Accommodation",
        "Food Services and Drinking Places",
        "Special Food Services",
        "Drinking Places (Alcoholic Beverages)",
        "Full-Service Restaurants",
        "Limited-Service Eating Places",
        "Other Services",
        "Repair and Maintenance",
        "Auto Repair & Maintenance",
        "Commercial & Industrial Machinery",
        "Personal & Household Goods Repair",
        "Personal and Laundry Services",
        "Personal Care Serv.",
        "Drycleaning & Laundry Serv.",
        "Other Personal Services",
        "Religious, Grantmaking, Civic, Professio",
        "Religious Organizations",
        "Grantmaking & Giving Serv.",
        "Social Advocacy Organizations",
        "Civic & Social Organizations",
        "Bus,Labor, Political & Other like Org.",
        "Government",
        "Federal Government",
        "Federal Government excluding Department of Defense",
        "Department of Defense",
        "State Government",
        "State Government Education",
        "State Government Excluding Education",
        "Local Government",
        "Indian Tribes",
        "Local Government Education",
        "Local Government Excluding Education",
        "County",
        "City",
        "Special Districts",
        "State and Local Government",
        "Miscellaneous Durable Goods Merchant Who",
        "Real Estate and Rental and Leasing - Residual",
        "Restaurants",
        "Special Districts plus Indian Tribes",
        "Private Service Providing - Residual"
       ],
       "description": "industry_title",
       "index": 1,
       "layout": "IPY_MODEL_6444fa5f8808472d8acc4c572babff2a",
       "style": "IPY_MODEL_6a2f9ef7a6cf48abb98b139b1c17faa6"
      }
     },
     "5e946812eba948d1b23fc446bc9164e1": {
      "model_module": "@jupyter-widgets/controls",
      "model_module_version": "1.4.0",
      "model_name": "DescriptionStyleModel",
      "state": {
       "description_width": ""
      }
     },
     "5f41168f3112454aaa8a2ad37c93d525": {
      "model_module": "@jupyter-widgets/controls",
      "model_module_version": "1.4.0",
      "model_name": "VBoxModel",
      "state": {
       "_dom_classes": [
        "widget-interact"
       ],
       "children": [
        "IPY_MODEL_238423aee4044c2f98b85f5a22ef3b2b",
        "IPY_MODEL_947e4994cfb44c09bba328004e8bd649",
        "IPY_MODEL_d94ce997e480475991dd28095abebe7c",
        "IPY_MODEL_eda6f80b22b74423896bb05199e2cebb"
       ],
       "layout": "IPY_MODEL_b269d5a64a154f35bf84cd87cc725ebf"
      }
     },
     "5f5910714a1d46718a8083a3953530f3": {
      "model_module": "@jupyter-widgets/controls",
      "model_module_version": "1.4.0",
      "model_name": "DescriptionStyleModel",
      "state": {
       "description_width": ""
      }
     },
     "5fd639d2bca544128929c7e67fab2f03": {
      "model_module": "@jupyter-widgets/controls",
      "model_module_version": "1.4.0",
      "model_name": "VBoxModel",
      "state": {
       "_dom_classes": [
        "widget-interact"
       ],
       "children": [
        "IPY_MODEL_837f28ef23f94aa3bd122c671ebdfda6",
        "IPY_MODEL_ef6061d870f148c6a348e89dd22f108f",
        "IPY_MODEL_0019ec03907d412eaeaef9f5a252c50c",
        "IPY_MODEL_0fe74a008dba4c64a96c2e591f2259f5"
       ],
       "layout": "IPY_MODEL_a7b50dc8e8fd486c9ba8bc8d3825834f"
      }
     },
     "602e1ff65c304c9891331636dee49174": {
      "model_module": "@jupyter-widgets/base",
      "model_module_version": "1.1.0",
      "model_name": "LayoutModel",
      "state": {}
     },
     "606ade28d5d84c81b3e3dd67d49def0c": {
      "model_module": "@jupyter-widgets/controls",
      "model_module_version": "1.4.0",
      "model_name": "DropdownModel",
      "state": {
       "_options_labels": [
        "Total Nonfarm",
        "Total Wage and Salary",
        "Total Private",
        "Goods Producing",
        "Service Providing",
        "Private Service Providing",
        "Mining and Logging",
        "Logging",
        "Mining",
        "Oil & Gas Extraction",
        "Mining, except Oil & Gas",
        "Support Activities for Mining",
        "Total Farm",
        "Natural Resources, Mining and Constructi",
        "Construction",
        "Construction of Buildings",
        "Residential Building Construction",
        "Nonresidential Building Construction",
        "Heavy and Civil Engineering Construction",
        "Utility System Const.",
        "L& Subdivision",
        "Highway, Street, and Bridge Const",
        "Other Heavy & Civil Engineer",
        "Specialty Trade Contractors",
        "Building Foundation and Exterior Contrac",
        "Building Equipment Contractors",
        "Building Finishing Contractors",
        "Other Specialty Trade Contract",
        "Manufacturing",
        "Durable Goods",
        "Wood Product Manufacturing",
        "Other Wood Product Mfg.",
        "Nonmetallic Mineral Product Mfg.",
        "Primary Metal Manufacturing",
        "Fabricated Metal Product Mfg",
        "Architectural & Structural Metals Mfg.",
        "Machine Shops & Threaded Product Mfg.",
        "Other Fabricated Metal Product Mfg.",
        "Machinery Manufacturing",
        "Industrial Machinery Manufacturing",
        "Commercial and Service Industry Manufact",
        "Metalworking Machinery Mfg.",
        "ResidualOther General Purpose Machinery",
        "Computer and Electronic Product Manufact",
        "Computer and Peripheral Equipment Manufa",
        "Electronic Computer Manufacturing",
        "Communications Equipment Manufacturing",
        "Semiconductor and Electronic Component M",
        "Bare Printed Circuit Board Manufacturing",
        "Semiconductor and Related Devices Manufa",
        "Electronic Instrument Manufacturing",
        "Electrical Equipment and Appliance Manuf",
        "Transportation Equipment Manufacturing",
        "Motor Vehicle Mfg.",
        "Aerospace Product and Parts Manufacturin",
        "Ship and Boat Building",
        "Furniture and Related Product Manufactur",
        "Household and Institutional Furniture Ma",
        "Miscellaneous Durable Goods Manufacturing",
        "Medical Equipment & Supplies Mfg.",
        "Other Miscellaneous Durable Goods Mfg.",
        "Nondurable Goods",
        "Food Manufacturing",
        "Fruit & Vegetable Preserving & Specialty",
        "Dairy Product Manufacturing",
        "Animal Slaughtering and Processing",
        "Bakeries and Tortilla Manufacturing",
        "Other Food Mfg.",
        "Beverage and Tobacco Product Mfg",
        "ResidualTextile Mills",
        "Textile Product Mills",
        "Apparel Manufacturing",
        "Apparel Knitting Mills",
        "Cut and Sew Apparel Manufacturing",
        "Paper Manufacturing",
        "Converted Paper Product Mfg.",
        "Printing and Related Support Activities",
        "Petroleum and Coal Products Manufacturin",
        "Chemical Manufacturing",
        "Pharmaceutical and Medicine Manufacturin",
        "Soap, Cleaning Compound & Toiletry Mfg.",
        "Plastics and Rubber Products Manufacturi",
        "Trade, Transportation and Utilities",
        "Wholesale Trade",
        "Merchant Wholesalers, Durable Goods",
        "Motor Vehicle and Motor Vehicle Parts Me",
        "Furniture & Home Furnish Merch whole",
        "Lumber & Other Const. Mat Merch whole",
        "Professional and Commercial Equipment Me",
        "Electrical and Electronic Goods Merchant",
        "Hdwr, Plumb & Heating Merchant whole",
        "Machinery, Equipment and Supplies Mercha",
        "Merchant Wholesalers, Nondurable Goods",
        "Paper & Paper Products Merchant whole",
        "Apparel, Piece Gds & Notions Merch whole",
        "Grocery & Related Products Merchant whol",
        "Chemical & Allied Products Merchant whol",
        "Misc Nondurable Merchant Wholesalers",
        "Wholesale Electronic Markets and Agents",
        "Retail Trade",
        "Motor Vehicle and Parts Dealer",
        "Automobile Dealers",
        "Other Motor Vehicle Dealers",
        "Automotive Parts, Accessories and Tire S",
        "Furniture and Home Furnishings Stores",
        "Furniture Stores",
        "Home Furnishings Stores",
        "Electronics and Appliance Stores",
        "Building Material and Garden Equipment S",
        "Building Material and Supplies Dealers",
        "Food and Beverage Stores",
        "Grocery Stores",
        "Specialty Food Stores",
        "Beer, Wine, & Liquor Stores",
        "Health and Personal Care Stores",
        "Gasoline Stations",
        "Clothing and Clothing Accessories Stores",
        "Clothing Stores",
        "Jewelry, Luggage & Leather Gds Stores",
        "Sporting Goods, Hobby, Book and Music St",
        "Sporting Goods, Hobby and Musical Instru",
        "Book, Periodical and Music Stores",
        "General Merchandise Stores",
        "Department Stores",
        "Miscellaneous Store Retailers",
        "Office Supplies, Stationery & Gift Store",
        "Used Merch&ise Stores",
        "Other Miscellaneous Store Retailers",
        "Nonstore Retailers",
        "Electronic Shopping & Mail-Order",
        "Transportation, Warehousing and Utilitie",
        "Utilities",
        "Electric Power Gen, Trans & Distribution",
        "Natural Gas Distribution",
        "Transportation and Warehousing",
        "Air Transportation",
        "Scheduled Air transp.",
        "Truck Transportation",
        "General Freight Trucking",
        "Specialized Freight Trucking",
        "Transit and Ground Passenger Transportat",
        "Support Activities for Transportation",
        "Support Activities for Water transp.",
        "Support Activities for Road transp.",
        "Freight transp. Arrangement",
        "Couriers and Messengers",
        "Warehousing and Storage",
        "Information",
        "Publishing Industries (except Internet)",
        "Newspaper, Periodical, Book and Director",
        "Software Publishers",
        "Motion Picture and Sound Recording",
        "Motion Picture & Video Industries",
        "Motion Picture & Video Production",
        "Broadcasting (except Internet)",
        "Radio and Television Broadcasting",
        "Cable and Other Subscription Programming",
        "Telecommunications",
        "Wired Telecommunications Carriers",
        "Data Processing, Hosting & Related Services",
        "Other Information Serv.",
        "Financial Activities",
        "Finance and Insurance",
        "Credit Intermediation and Related Activi",
        "Depository Credit Intermediation",
        "Nondepository Credit Intermediation",
        "Activities Related to Credit Intermediat",
        "Securities, Commodity Contracts and Inve",
        "Securities & Commodity Contracts",
        "Other Financial Investment Activities",
        "Insurance Carriers and Related",
        "Insurance Carriers",
        "Agencies, Brokerages, and Other Insuranc",
        "Real Estate and Rental and Leasing",
        "Real Estate",
        "Lessors of Real Estate",
        "Offices of Real Estate Agents and Broker",
        "Activities Related to Real Estate",
        "Rental and Leasing Services",
        "Automotive Equipment Rental and Leasing",
        "Consumer Goods Rental",
        "General Rental Centers",
        "Comm & Industrial Mach Rental & Leasing",
        "Professional and Business Services",
        "Professional, Scientific and Technical S",
        "Legal Services",
        "Accounting, Tax Preparation and Bookkeep",
        "Architectural, Engineering and Related S",
        "Specialized Design Services",
        "Computer Systems Design and Related Serv",
        "Management, Scientific and Technical Con",
        "Scientific Research and Development Serv",
        "Advertising and Related Services",
        "Other Professional, Scientific and Techn",
        "Management of Companies and Enterprises",
        "Administrative and Support and Waste Ser",
        "Administrative and Support Services",
        "Office Administrative Services",
        "Facilities Support Serv.",
        "Employment Services",
        "Business Support Services",
        "Travel Arrangement and Reservation Servi",
        "Investigation and Security Services",
        "Services to Buildings and Dwellings",
        "ResidualOther Support Services",
        "Waste Management and Remediation Service",
        "Educational and Health Services",
        "Educational Services",
        "Elementary and Secondary Schools",
        "Junior Colleges",
        "Colleges, Universities and Professional",
        "Other Schools & Instruction",
        "Health Care and Social Assistance",
        "Ambulatory Health Care Services",
        "Offices of Physicians",
        "Offices of Dentists",
        "Offices of Other Health Practitioners",
        "Outpatient Care Centers",
        "Medical & Diagnostic Laboratories",
        "Home Health Care Serv.",
        "Other Ambulatory Health Care Serv.",
        "Hospitals",
        "General Medical & Surgical Hosp.s",
        "Psychiatric & Substance Abuse Hosp",
        "Specialty (not Psych, Sub Abuse) Hosp.",
        "Nursing and Residential Care Facilities",
        "Nursing Care Facilities",
        "Residential Mental Retardation, Mental a",
        "Comm Care Facilities for the Elderly",
        "Other Residential Care Facilities",
        "Social Assistance",
        "Individual and Family Services",
        "Community Food & Housing, & Emergency &",
        "Vocational Rehabilitation Services",
        "Child Day Care Services",
        "Leisure and Hospitality",
        "Arts, Entertainment, and Recreation",
        "Performing Arts, Spectator Sports",
        "Performing Arts Companies",
        "Spectator Sports",
        "Independent Artists, Writers, and Perfor",
        "Museums, Historical Sites, and Similar I",
        "Amusement, Gambling, and Recreation",
        "Amusement Parks and Arcades",
        "Gambling Industries",
        "Other Amusement and Recreation",
        "Accommodation and Food Service",
        "Accommodation",
        "Food Services and Drinking Places",
        "Special Food Services",
        "Drinking Places (Alcoholic Beverages)",
        "Full-Service Restaurants",
        "Limited-Service Eating Places",
        "Other Services",
        "Repair and Maintenance",
        "Auto Repair & Maintenance",
        "Commercial & Industrial Machinery",
        "Personal & Household Goods Repair",
        "Personal and Laundry Services",
        "Personal Care Serv.",
        "Drycleaning & Laundry Serv.",
        "Other Personal Services",
        "Religious, Grantmaking, Civic, Professio",
        "Religious Organizations",
        "Grantmaking & Giving Serv.",
        "Social Advocacy Organizations",
        "Civic & Social Organizations",
        "Bus,Labor, Political & Other like Org.",
        "Government",
        "Federal Government",
        "Federal Government excluding Department of Defense",
        "Department of Defense",
        "State Government",
        "State Government Education",
        "State Government Excluding Education",
        "Local Government",
        "Indian Tribes",
        "Local Government Education",
        "Local Government Excluding Education",
        "County",
        "City",
        "Special Districts",
        "State and Local Government",
        "Miscellaneous Durable Goods Merchant Who",
        "Real Estate and Rental and Leasing - Residual",
        "Restaurants",
        "Special Districts plus Indian Tribes",
        "Private Service Providing - Residual"
       ],
       "description": "industry_title",
       "index": 0,
       "layout": "IPY_MODEL_99475e27b5bd4a2a81c272ab3c6563a0",
       "style": "IPY_MODEL_e64fcca1ef844afa8480a42d62167b32"
      }
     },
     "60f28a51d8ca40e681fc25fb0adf6c2c": {
      "model_module": "@jupyter-widgets/controls",
      "model_module_version": "1.4.0",
      "model_name": "DescriptionStyleModel",
      "state": {
       "description_width": ""
      }
     },
     "60f58e55e10c465194b99f34769fdab8": {
      "model_module": "@jupyter-widgets/controls",
      "model_module_version": "1.4.0",
      "model_name": "DropdownModel",
      "state": {
       "_options_labels": [
        "2019",
        "2018",
        "2017",
        "2016",
        "2015",
        "2014",
        "2013",
        "2012",
        "2011",
        "2010",
        "2009",
        "2008",
        "2007",
        "2006",
        "2005",
        "2004",
        "2003",
        "2002",
        "2001",
        "2000",
        "1999",
        "1998",
        "1997",
        "1996",
        "1995",
        "1994",
        "1993",
        "1992",
        "1991",
        "1990"
       ],
       "description": "year",
       "index": 18,
       "layout": "IPY_MODEL_4772f966fefc4378bf6131123a5aa79c",
       "style": "IPY_MODEL_9bf335867d8444b29c587c6178612ddc"
      }
     },
     "6232ca7529e1423f8db88ef3cee128d5": {
      "model_module": "@jupyter-widgets/base",
      "model_module_version": "1.1.0",
      "model_name": "LayoutModel",
      "state": {}
     },
     "6268841c469643d9bb04ebf36b62025f": {
      "model_module": "@jupyter-widgets/output",
      "model_module_version": "1.0.0",
      "model_name": "OutputModel",
      "state": {
       "layout": "IPY_MODEL_865d419dab224cbb97afb367c2f32460",
       "outputs": [
        {
         "name": "stdout",
         "output_type": "stream",
         "text": "Total Nonfarm\n<class 'pandas.core.frame.DataFrame'>\n"
        },
        {
         "data": {
          "image/png": "iVBORw0KGgoAAAANSUhEUgAAA6UAAAJJCAYAAABS0JELAAAABHNCSVQICAgIfAhkiAAAAAlwSFlzAAALEgAACxIB0t1+/AAAADl0RVh0U29mdHdhcmUAbWF0cGxvdGxpYiB2ZXJzaW9uIDIuMi4zLCBodHRwOi8vbWF0cGxvdGxpYi5vcmcvIxREBQAAIABJREFUeJzt3Xm0ZVddJ/Dvj1SaUYJY1e0IBQoiCIlQQmMzFDYqCC0iIEQUETSOcViNDd0OAXEAkQUqHWNMxwjaxSCjQRkMhICoUIGQFEShlULT7TIFETBMQtj9xzmPuknq1btV77za9937+az11jvv3HPP3Xe/M33P3uecaq0FAAAAerhJ7wIAAACwuoRSAAAAuhFKAQAA6EYoBQAAoBuhFAAAgG6EUgAAALrpGkqr6vyqurqqDswx7fOq6rLx5/1V9dETUUYAAAC2TvV8TmlVPSDJtUle2Fr7+mN435lJvqG19qQtKxwAAABbrmtLaWvtkiTXzI6rqq+uqtdV1aVV9daqussR3np6kn0npJAAAABsmR29C3AE5yb5kdbaB6rqPknOTvLNay9W1e2T3CHJmzqVDwAAgIksVCitqlsl+aYkL6uqtdE3vcFkj0vyx621605k2QAAAJjeQoXSDN2JP9paO+0o0zwuyY+foPIAAACwhRbqkTCttY8n+WBVPSZJanDq2uvj9aVfnOQvOxURAACACfV+JMy+DAHza6vqqqp6cpLHJ3lyVb0nyXuTPGLmLY9L8uLW85bBAAAATKbrI2EAAABYbQvVfRcAAIDV0u1GRzt37my7d+/u9fEAAABsoUsvvfTDrbVdG03XLZTu3r07+/fv7/XxAAAAbKGq+tA80+m+CwAAQDdCKQAAAN0IpQAAAHQjlAIAANCNUAoAAEA3QikAAADdCKUAAAB0I5QCAADQjVAKAABAN0IpAAAA3QilAAAAdCOUAgAA0I1QCgAAQDdCKQAAAN0IpQAAAHQjlAIAANCNUAoAAEA3QikAAADdCKUAAAB0I5QCAADQjVAKAABAN0IpAAAA3QilAAAAdLOjdwEAgOlV1aTza61NOj8AWKOlFACWUGttrp/bP/XCuaYDgK0ilAIAANCNUAoAAEA3QikAAADdCKUAAAB0I5QCAADQjUfCwHHyuAUAVon93vymrKtlridYo6UUjtOUj1qwwwFg0XnM0PzUExwboRQAAIBuhFIAAAC6WZlrSl0HAQAAsHhWpqXU9X8AAACLZ2VCKQAAAItHKAUAAKCblbmmFADgSDxTEqAvLaUAwErzTEnoo6om/WH7EkqBLWWHAwAciRuRskYoBbbUvDsSrRAAAKvJNaUAC8J1bQDAKtJSCrAgtCgDAKtIKAUAAKAboRQAAIBuhFIAAAC6EUoBAADoRigFAACgG6EUAACAbjynFAAAYEFN+RzzZDGfZa6llBupqsl+AACA4zfP88m3+7PMhVJuZNkXegAAYHEIpQAAAHTjmlIAtpVVuLYGAFaJllIAtpUpLzEQSAGgP6EUAACAboRSAAAAuhFKAQAA6EYoBQAAoBuhFAAAgG6EUgAAALoRSgEAAOhGKAUAAKAboRQAAIBuhFIAAAC62TCUVtX5VXV1VR1Y5/WfrarLxp8DVXVdVd12+qICAACwbOZpKb0gyUPWe7G19pzW2mmttdOS/Pckb2mtXTNR+QAAAFhiG4bS1tolSeYNmacn2bepEgEAALAyJrumtKpukaFF9eVHmeaMqtpfVfsPHTo01UcDAACwTU15o6P/kuQvjtZ1t7V2bmttT2ttz65duyb8aAAAALajKUPp46LrLgAAAMdgklBaVackeWCSV08xPwAAAFbDjo0mqKp9SfYm2VlVVyU5K8nJSdJaO2ec7JFJ3tBa+8QWlRMAAIAltGEoba2dPsc0F2R4dAwAAADMbcprSgEAAOCYCKUAAAB0I5QCAADQjVAKAABAN0IpAAAA3QilAAAAdCOUAgAA0I1QCgAAQDdCKQAAAN0IpQAAAHQjlAIAANCNUAoAAEA3QikAAADdCKUAAAB0I5QCAADQjVAKAABAN0IpAAAA3QilAAAAdCOUAgAA0I1QCgAAQDdCKQAAAN0IpQAAAHQjlAIAANCNUAoAAEA3QikAAADdCKUAAAB0I5QCAADQjVAKAABAN0IpAAAA3QilAAAAdCOUAgAA0I1QCgAAQDdCKQAAAN0IpQAAAHQjlAIAANCNUAoAAEA3QikAAADdCKUAAAB0I5QCAADQjVAKAABAN0IpAAAA3QilAAAAdCOUAgAA0I1QCgAAQDdCKQAAAN0IpQAAAHQjlAIAANCNUAoAAEA3QikAAADdCKUAAAB0I5QCAADQjVAKAABAN0IpAAAA3QilAAAAdCOUAgAA0I1QCgAAQDdCKQAAAN0IpQAAAHQjlAIAANCNUAoAAEA3QikAAADdCKUAAAB0I5QCAADQjVAKAABAN0IpAAAA3QilAAAAdCOUAgAA0I1QCgAAQDdCKQAAAN0IpQAAAHQjlAIAANCNUAoAAEA3QikAAADdCKUAAAB0I5QCAADQjVAKAABAN0IpAAAA3QilAAAAdCOUAgAA0I1QCgAAQDcbhtKqOr+qrq6qA0eZZm9VXVZV762qt0xbRAAAAJbVPC2lFyR5yHovVtVtkpyd5Dtaa3dL8phpigYAAMCy2zCUttYuSXLNUSb5niSvaK39wzj91ROVDQAAgCU3xTWld07yxVV1cVVdWlVPWG/CqjqjqvZX1f5Dhw5N8NEAAABsZ1OE0h1J7pXkYUm+LckvVNWdjzRha+3c1tqe1tqeXbt2TfDRAAAAbGc7JpjHVUk+0lr7RJJPVNUlSU5N8v4J5g0AAMASm6Kl9NVJ7ldVO6rqFknuk+TKCeYLAADAktuwpbSq9iXZm2RnVV2V5KwkJydJa+2c1tqVVfW6JJcn+XyS81pr6z4+BgAAANZsGEpba6fPMc1zkjxnkhIBAACwMqbovgsAAADHRSgFAACgG6EUAACAboRSAAAAuhFKAQAA6EYoBQAAoBuhFAAAgG6EUgAAALoRSgEAAOhGKAUAAKAboRQAAIBuhFIAAAC6EUoBAADoRigFAACgG6EUAACAboRSAAAAuhFKAQAA6EYoBQAAoBuhFAAAgG6EUgAAALoRSgEAAOhGKAUAAKAboRQAAIBuhFIAAAC6EUoBAADoRigFAACgG6EUAACAboRSAAAAuhFKAQAA6EYoBQAAoBuhFAAAgG6EUgAAALoRSgEAAOhGKAUAAKAboRQAAIBuhFIAAAC6EUoBAADoRigFAACgG6EUAACAboRSAAAAuhFKAQAA6EYoBQAAoBuhFAAAgG529C4AAHBsTn3GG/KxT312svntftprNz2PU25+ct5z1rdOUBoAVo1QCgDbzMc+9dkcfNbDehfjeqYItgCsJt13AQAA6EZLKQDAitMlHOhJKAUAltaUYWuqLsqLGLZ0CQd6WopQaofD1CxTAMtB2AJYfEsRSu1wmJplCgAAToylCKUAALDVFvHa20RvKrY/oRQAAOawiD2pEr2p2P48EgYAAIButJQCx20RuzHpwgQAsL0IpcBxW8RuTLowAUB/nmTAsRBKAQCASTlxzbFwTSkAAADdaCldIa7/AwAAFo1QukJ0owAAgMWh0WgglAKwMNwYA4BVotFoIJQCsDDsnAFg9bjREQAAAN0IpQAAAHSj+y7AFlvEmxgkrpUEABaDUAqwxRbxOsnEtZIAwGLQfRcAAIBuhFIAAAC6EUoBAADoRigFAACgG6EUAACAboRSAAAAuhFKAQAA6EYoBQAAoBuhFAAAgG6EUgAAALoRSgEAAOhGKAUAAKAboRQAAIBuhFIAAAC62TCUVtX5VXV1VR1Y5/W9VfWxqrps/PnF6YsJAADAMtoxxzQXJHlBkhceZZq3ttYePkmJAAAAWBkbtpS21i5Jcs0JKAsAAAArZqprSu9bVe+pqj+rqrutN1FVnVFV+6tq/6FDhyb6aAAAALarKULpu5LcvrV2apLfTvKq9SZsrZ3bWtvTWtuza9euCT4aAACA7WzTobS19vHW2rXj8J8mObmqdm66ZAAAACy9TYfSqvrSqqpx+N7jPD+y2fkCAACw/Da8+25V7UuyN8nOqroqyVlJTk6S1to5SR6d5Eer6nNJPpXkca21tmUlBgAAYGlsGEpba6dv8PoLMjwyBgAAAI7JVHffBQAAgGMmlAIAANCNUAoAAEA3QikAAADdCKUAAAB0I5QCAADQjVAKAABAN0IpAAAA3QilAAAAdCOUAgAA0I1QCgAAQDdCKQAAAN0IpQAAAHQjlAIAANCNUAoAAEA3QikAAADdCKUAAAB0I5QCAADQjVAKAABAN0IpAAAA3ezoXQBYRF/0dU/L3f/gab2LcT1f9HVJ8rDexQAAgEkJpXAE/3rls3LwWYsVAHc/7bW9iwAAAJMTSgFgm9GbA4BlIpQCwDajNwf0sYgnhBInhdj+hFIAAJjDIp4QSpwUYvtz910AAAC60VIKAABMahG7OuvmvLiEUgCAFSdAMLVF7Oqsm/PiEkoBAFacAAH0JJQCAEtLCyCwyGyjBkIpALC0tAACi8w2arAUodQZhvmoJwAAYNEsRSh1hmE+6gkAAFg0nlMKAABAN0vRUgr0oUs4U7NMAcDqEUqB46ZLOFOzTAHA6tF9FwAAgG6EUgAAALrRfRdgiy3idZKJayUBgMUglAJssUW8TjJxrSQAsBh03wUAAKAboRQAAIBuhFIAAAC6EUoBAADoRigFAACgG6EUAACAboRSAAAAuhFKAQAA6EYoBQAAoBuhFAAAgG6EUgAAALoRSgEAAOhGKAUAAKAboRQAAIBuhFIAAAC6EUoBAADoRigFAACgG6EUAACAboRSAAAAuhFKAQAA6EYoBQAAoBuhFAAAgG6EUgAAALoRSgEAAOhGKAUAAKAboRQAAIBuhFIAAAC6EUoBAADoRigFAACgG6EUAACAboRSAAAAuhFKAQAA6EYoBQAAoBuhFAAAgG6EUgAAALoRSgEAAOhGKAUAAKAboRQAAIBuhFIAAAC62TCUVtX5VXV1VR3YYLpvrKrPVdWjpyseAAAAy2yeltILkjzkaBNU1UlJnp3kDROUCQAAgBWxYShtrV2S5JoNJjszycuTXD1FoQAAAFgNm76mtKq+Iskjk/zOHNOeUVX7q2r/oUOHNvvRAAAAbHNT3Ojo+Ume2lr7/EYTttbOba3taa3t2bVr1wQfDQAAwHa2Y4J57Eny4qpKkp1Jvr2qPtdae9UE8wYAAGCJbTqUttbusDZcVRckuVAgBQAAYB4bhtKq2pdkb5KdVXVVkrOSnJwkrbVztrR0AAAALLUNQ2lr7fR5Z9Zae+KmSgMAAMBKmeJGRwAAAHBchFIAAAC6EUoBAADoRigFAACgG6EUAACAboRSAAAAuhFKAQAA6EYoBQAAoBuhFAAAgG6EUgAAALoRSgEAAOhGKAUAAKAboRQAAIBuhFIAAAC6EUoBAADoRigFAACgG6EUAACAboRSAAAAuhFKAQAA6EYoBQAAoBuhFAAAgG6EUgAAALoRSgEAAOhGKAUAAKAboRQAAIBuhFIAAAC6EUoBAADoRigFAACgG6EUAACAboRSAAAAuhFKAQAA6EYoBQAAoBuhFAAAgG6EUgAAALoRSgEAAOhGKAUAAKAboRQAAIBuhFIAAAC6EUoBAADoRigFAACgG6EUAACAboRSAAAAuhFKAQAA6EYoBQAAoJsdvQsAi2r3017buwjXc8rNT+5dBAAAmJxQCkdw8FkPm2Q+u5/22snmBQAAy0j3XQAAALoRSgEAAOhGKAUAAKAboRQAAIBuhFIAAAC6cfddAACY06I9Mi7x2Di2P6EUAADmMOVj3jw2Dg4TSgEAgMktWquyFuXFJZQCAACTmqoVWIvyanCjIwAAALrRUgoAANCJbs5CKQAAQBdunjXQfRcAAIButJQCwDakuxcAy0IoBYBtRncvAJaJ7rsAAAB0I5QCAADQje67K8Y1SAAAwCIRSleIa5AAAIBFI5QCAKA3FdCNUAoAsOL0pgJ6EkoBWChaawBgtQilACyMqVpXtNQAwPbhkTAAAAB0I5QCAADQzdJ033UNEgAAwPazFKHUNUgAAADbk+67AAAAdCOUAgAA0I1QCgAAQDdLcU0pAMB63AwRYLEJpQDA0nIzRIDFp/suAAAA3QilAAAAdLNhKK2q86vq6qo6sM7rj6iqy6vqsqraX1X3m76YAAAALKN5WkovSPKQo7x+UZJTW2unJXlSkvMmKBcAAAArYMNQ2lq7JMk1R3n92tZaG/+8ZZK23rQAAAAwa5K771bVI5P8WpJ/n2TdW9NV1RlJzkiS293udlN8NNCZRy0AALAZk4TS1tork7yyqh6Q5JlJHrzOdOcmOTdJ9uzZo0UVtrkpH4/gcQsAAKtp0rvvjl1971hVO6ecLwAAAMtp06G0qr6mqmocvmeSmyb5yGbnCwAAwPLbsPtuVe1LsjfJzqq6KslZSU5OktbaOUkeleQJVfXZJJ9K8tiZGx8BAADAujYMpa210zd4/dlJnj1ZiQAAAFgZk9zoCICjW7S7FCfuVAwALAahFGCLuUsxAMD6Jr37LgAAABwLoRQAAIBuhFIAAAC6EUoBAADoRigFAACgG6EUAACAboRSAAAAuhFKAQAA6EYoBQAAoBuhFAAAgG6EUgAAALoRSgEAAOhGKAUAAKAboRQAAIBuhFIAAAC6EUoBAADoRigFAACgG6EUAACAboRSAAAAuhFKAQAA6EYoBQAAoBuhFAAAgG6EUgAAALoRSgEAAOhGKAUAAKAboRQAAIBuhFIAAAC6EUoBAADoRigFAACgG6EUAACAboRSAAAAuhFKAQAA6EYoBQAAoBuhFAAAgG6EUgAAALoRSgEAAOhGKAUAAKAboRQAAIBuhFIAAAC6EUoBAADoRigFAACgG6EUAACAboRSAAAAuhFKAQAA6EYoBQAAoBuhFAAAgG6EUgAAALoRSgEAAOhGKAUAAKAboRQAAIBuhFIAAAC6EUoBAADoRigFAACgG6EUAACAboRSAAAAuhFKAQAA6EYoBQAAoBuhFAAAgG6EUgAAALoRSgEAAOhGKAUAAKAboRQAAIBuhFIAAAC6EUoBAADoRigFAACgG6EUAACAboRSAAAAuhFKAQAA6EYoBQAAoBuhFAAAgG529C4AbFdVNd90z55vfq21TZQGAAC2J6EUjpMQCQAAmyeUAgDAhKbsTbXMJ8H1OmONUAoAABMSjuajnuYzb3hPtu+JDqEUAJbQKhzEAKyCVdj+CqXciC4nwCLT3Ws+y/q9toL93nyc6AC2ysqEUgcx81vm7wZsf7ZRTM0yNR/1BGyVDZ9TWlXnV9XVVXVgndcfX1WXV9UVVfX2qjp1+mJuXmtt0h8AAAA2b56W0guSvCDJC9d5/YNJHtha+5eqemiSc5PcZ5riAdud7l4AABzNhqG0tXZJVe0+yutvn/nzr5J85eaLBSwLIRIAgKPZsPvuMXpykj9b78WqOqOq9lfV/kOHDk380QAAAGw3k4XSqnpQhlD61PWmaa2d21rb01rbs2vXrqk+GgAAgG1qkrvvVtU9kpyX5KGttY9MMU8AAACW36ZbSqvqdklekeT7Wmvv33yRAAAAWBUbtpRW1b4ke5PsrKqrkpyV5OQkaa2dk+QXk3xJkrPHu2x+rrW2Z6sKDAAAwPKY5+67p2/w+g8m+cHJSgQAAMDKmOSaUgA2b95nunqeKwCwTIRSgAUhSAIAq2jq55QCAADA3IRSAAAAuhFKAQAA6EYoBQAAoBuhFAAAgG6EUgAAALoRSgEAAOhGKAUAAKAboRQAAIBuhFIAAAC6EUoBAADoRigFAACgG6EUAACAboRSAAAAuhFKAQAA6EYoBQAAoBuhFAAAgG6EUgAAALoRSgEAAOhGKAUAAKAboRQAAIBuhFIAAAC6EUoBAADoplprfT646lCSD3X58PXtTPLh3oXYJtTVfNTT/NTVfNTTfNTT/NTVfNTT/NTVfNTTfNTT/Baxrm7fWtu10UTdQukiqqr9rbU9vcuxHair+ain+amr+ain+ain+amr+ain+amr+ain+ain+W3nutJ9FwAAgG6EUgAAALoRSq/v3N4F2EbU1XzU0/zU1XzU03zU0/zU1XzU0/zU1XzU03zU0/y2bV25phQAAIButJQCAADQjVAKAABANysTSqvqO6uqVdVdjuO951XVXcfhg1W1c/oSnlibqY9NfOZPV9UtTtTnbaSqrquqy6rqvVX1nqr6r1XVZZ2oqmt7fO7xmKm3tZ/dR5l2b1VdeOJKt9i20/95O9ioPqvq4qralrfGn4Ll7cjGfd8fzvy9o6oOTbWtWublbqvrbpGM3/W5M38/paqe3qks23JdrqqvrKpXV9UHqurvquo3q+rfHWX6uY4Tt2N9VNXPjcebl4/HTvc5jnnsrapvmrBMC5VpViaUJjk9ydvG33OrqpNaaz/YWnvf1hSrm+Oqj0366SQLE0qTfKq1dlpr7W5JviXJQ5Oc1blMx6yqdpzgj1yrt7Wfg5udYVWdtMn3n+g62DbUDdzIJ5J8fVXdfPz7W5L832OZwQqvV5uuu23kM0m+a5EO2o9Hr2W1qirJK5K8qrV2pyR3TnKrJL9ylLdt+XFij/qoqvsmeXiSe7bW7pHkwUn+8ThmtTfJZKF0M7aiHlcilFbVrZLcL8mTkzxuHLe3qi6pqtdW1d9W1TlrrWRVdW1VPbeq3pPkvst21vMo9XHhzDQvqKonjsPfXlV/U1WXVtVvrU1XVU+vqqfMvOdAVe2uqluO9fqecdxjq+onk3x5kjdX1ZtP3LedT2vt6iRnJPmJGpxUVc+pqneOZ7V+eG3aqnpqVV0xfr9njeO+uqpeN9bRW9daoKvqgqr6nar6q6r6+7Gez6+qK6vqgtkyVNXzxrNoF1XVrjnme05V/XWSXz8xtbS+o9VXklvPuZ594YxdVe2pqovH4XtX1V9W1bur6u1V9bXj+CdW1Wuq6k1JLqqqF1bVd86U6Y+q6hEnqg7mVVW3Gv/H7xqXo0eM43ePy8XvjcvBG9YO/Ga3QVW1s6oOzrznreO83lXjGdRxOXtrVb0myfuq6peq6qdnyvArVfVTJ/q7b4Wjbbtmxj2pqp4/8/cPVdXzTmAxu9lg236wqp4xsyyubV9uOW6n3jGudwu3Hk3gT5M8bBw+Pcm+tRfm3eaM4260Pxg9Zqy/91fV/U/QdzpRjqfuLqmq02ame1tVnXpCS33sPpfhTqY/c8MXxm3vm8b93UVVdbuqOqWqPjSzj7tlVf1jVZ28wb58WY8RvjnJp1trv58krbXrMtTlk8a6+Y0ajhEvr6oz6wjHiVV1+rh+HaiqZ8/OfJvVx5cl+XBr7TNJ0lr7cGvt/1XVvarqLWN5X19VXzaW9+IaWpUvG7/7vWvolfYjSX5mHH//qtpVVS+v4djrnVX1n8b3P72q/mCsgw9V1XdV1a+Pdfm6qjp5pmz/bRz/jqr6mvH9R5vvi6rqL5K8aPJaaq0t/U+Sxyf5X+Pw25PcK8PZhk8nuWOSk5K8Mcmjx2laku+eef/FSfaMwweT7Oz9nbaoPi6cmeYFSZ6Y5GYZzubcYRy/b226JE9P8pSZ9xxIsjvJo5L83sz4Uxax7pJce4RxH03yHzIE1J8fx900yf4kd8jQmvr2JLcYX7vt+PuiJHcah++T5E3j8AVJXpykkjwiyceT3D3DCaFLk5w2s8w9fhz+xSQvmGO+FyY5qUO9XZfksvHnleO49errWNazLywfSfYkuXgcvnWSHePwg5O8fBx+YpKrZv4HD8xwRjZJTknywbX3LcpPkmuT7Ehy6/HvnUn+z7h87M5wELS2TLw0yfeOwxfn8DZoZ5KD4/AtktxsHL5Tkv3j8N4MLRpr6+3uJO8ah2+S5O+SfEnv+pioPvfmCNuu2XrLcHb+75KcPI5/e5K79y7/AtTPwSRnjsM/luS8cfhXZ5a92yR5f5Jb9v4+E9fLPZL8cYZ93GWz9XQM25z19gcXJ3nuOPztSf6893degLr7/iTPH4fvvLatWuSf8bveelxPTknylCRPH1/7kyTfPw4/KYf3Pa9O8qBx+LEz69TKHCPM1N9PJnneEca/O8lPjcvQ2rKytu4czOHjgC9P8g9JdmXYb74pyXdux/rIsA+6LMO29OwMxysnZ9h+7JpZXs4fhy/OeByd5AFJDozDT8/1j7v/d5L7jcO3S3LlzHRvGz/j1CSfTPLQ8bVXztTjwSQ/Nw4/IYfX46PN99IkN9+KelqV7ienJ/nNcfjF498XJnlHa+3vk6Sq9mVoPfzjDAfdL+9QzhNlvfo4krsk+fvW2gfHv/dlCCBHc0WS545ntS5srb11k+Xt4VuT3KOqHj3+fUqGg/4HJ/n91tonk6S1dk0NLc/flORlVbX2/pvOzOtPWmutqq5I8s+ttSuSpKremyEsXJbk80leMk7/h0leMcd8X9aGM48n2qdaa6fdYNx69fVv2fx6dkqSP6iqO2XYEc2e4Xtja+2aJGmtvaWqzh7PmD4qw8HQ547rG26tSvKrVfWADP/3r8hwIiRJPthau2wcvjTD8nE0Jyd5wdgCcV2Gg70171hbb1trB6vqI1X1DeNnvbu19pFJvs020Fq7tobWrYdX1ZUZwukVvcu1IF4x/r40yXeNw9+a5DvqcE+Ym2U8MDnBZdsyrbXLx5aH0zO0/M2aa5uTI+wPZqabrdfdkxa+s+Osu5cl+YWq+tkMIe6CE1LYTWqtfbyqXpghYH1q5qX75vD68qIcbn17SYZw8eYMPdHOXsFjhHnsTXL22j76BuvOmm/McHL6UDL0fsoQ0F6VbVYf4z7oXknun+RBGcr+y0m+Pskbx/KelOSfZt62b3zvJVV166q6zRFm/eAkd535vrce6yFJ/qy19tlxuTopyevG8Vfk+tukfTO/13oQHW2+r2mtza4Lk1n6UFpVt83QheDuVdUy/GNakteOv2et/f3pBV6RN+Uo9fHqXL87983mmN3njvSe1tr7q+qeGc4Q/3JVXdRa+6Upyr+VquqOGQ7sr84QHM5srb3+BtN82xHeepNrb9FOAAAFs0lEQVQkHz1CUFvzmfH352eG1/5ebx1sc8z3E+uM72G9+tqb+dez2eVpdvl7ZpI3t9YeOR4IXTzz2g3r4IVJvjfDwcAPHNM3OHEen+HM773GHcbBHP6+s8vHdUnWrttar25+Jsk/ZzgTepMMrdJrblg352Vo6fnSJOdv6hssliNuh47gvCT/I8nfJPn9rS7UAtmoftaWuetyeHtUSR7VWvvbLS5bb69J8hsZDpC/ZGb8sWxz1nOkel0mx1R3rbVPVtUbM7QGfneGHlrbxfOTvCvzbTdek+Gk420zfMc3JbllVvMY4X1JHj07oqpuneEE18GJP2vh62M83rk4ycVjUPzxJO9trd13vbds8HcyfOf/2Fqb3fdnDJNrXYU/X1WfbWNTZ268XLUjDB9tvltWj6twTemjk7yotXb71tru1tpXZejWd/8k966qO9TQ//+xGZq6l9169XGTDGdFbjqejfnP4/R/m+SOdfgOq4+dmdfBJPdMkjGE3mEc/vIkn2yt/WGS56xNk+Rfk3zRFn2vTRlb187J0AWkJXl9kh9d63dfVXeuqltm6H76AzXeHa6qbtta+3iSD1bVY8ZxVcd+rcxNcnjj/T1J3jbRfE+U9eormX89O5jDByqPmhl/Sg7fSOOJG5Tjggw3Skhb3JuTnZLk6jGQPijJ7ed4z8EcrpvZnfwpSf6ptfb5JN+X4STTel6Z5CEZzj6//ijTbTcfypG3XdfTWvvrJF+VYf3ad6RpltRc9XMDr09yZo1HIGML+zI6P8kzjtBqPu8250b7g8lLuLiOp+7OS/JbSd7ZWvuXrS3edMZWvJdmuA/HmrdnvCdHhhONbx2nvTbJOzP0RruwtXbdCh8jXJTkFlX1hOQLNzR8bob99OuT/HCNN8uZWXdmjxPfkeSBNdxH4aQMLfNvGV/bVvVRVV879h5Yc1qGnie7argJUmq49vhuM9M8dhx/vyQfa619LDc+jn5DkjNnPme9QH40j535/ZcTzveYrUIoPT3Dwdisl4/j35nh+porMwSzG063jNarj8dl2OgeGH+/O0nGJvofS/K6qro0wwrxsZn33XbsYvITGfrKJ8P1EO+oqssy3M32l8fx547zefMWfK/jcfMaHwmT5M8zrITPGF87L8NZvndV1YEkv5vh2ofXZTgTun/8fmvd2x6f5Mk13LTnvRnOBh+LT2QIbwcytGSvtSxvdr4nyhHra3xt3vXsGUl+s6r2Z2hdWPPrSX6tqt6dDVocWmv/PH7OwrWEjTvfzyT5oyR7xjOlT8jQcreR38gQ+t+d4ZrSNWcn+f5x+bhLjnIGs7X2bxm6lL10GXqCrNVna+0fc4Rt1zpemuQvttMB8fE6zvpZ88wM3S4vH7ePz9yygnbUWruqtfZbR3hprm3OUfYHS+946q61dmmGayYXbvs8h+fm+tveMzOckLg8wwnB2RvHvSRDj52XzIxbuWOE8QT/IzPc9OsDGY4RP52hx8p5Ga4XvXws+/eMb/vCcWJr7Z+SPC3Dfus9SS5trb16nG671cetMnRrf9+4zNw1w7Wwj07y7LG8l+X6d9b99LgenZPDJ0T+JMkjx2PX+2foVr6nhptFvS/DjZCO1RePZfqpHL6p1xTzPWZ1uDV3tdTQrfAprbWH9y7LoquqW4394SvJ/0zygdbaSty5ku1lbLG4IsNt1z+20fQn0njG9vdaa/fu9Pk3ydAF7TGttQ/0KMOUjqc+a7gL7fNaaxdtXckWQ+/lDW5o7EV1cZK7jL07gCOo4ekDT2mt7e9dlhNpFVpK2bwfGs8CvzdD15zf7VweuJGqenCGVtLfXsBA+iMZuoz+fKfPv2uGu/xetCSB9Jjqs6puU1Xvz3CTrlUIpF2XN7ihsQvnX2e406dACtzIyraUAgAA0J+WUgAAALoRSgEAAOhGKAUAAKAboRQAAIBuhFIAAAC6+f8ehzbmRbjz4QAAAABJRU5ErkJggg==\n",
          "text/plain": "<Figure size 1152x720 with 1 Axes>"
         },
         "metadata": {
          "needs_background": "light"
         },
         "output_type": "display_data"
        }
       ]
      }
     },
     "62c6aa9ffade4645a09daf421e752279": {
      "model_module": "@jupyter-widgets/controls",
      "model_module_version": "1.4.0",
      "model_name": "DescriptionStyleModel",
      "state": {
       "description_width": ""
      }
     },
     "6432c3d078964b9bbe314ea0e7256bdb": {
      "model_module": "@jupyter-widgets/controls",
      "model_module_version": "1.4.0",
      "model_name": "ButtonStyleModel",
      "state": {}
     },
     "6444fa5f8808472d8acc4c572babff2a": {
      "model_module": "@jupyter-widgets/base",
      "model_module_version": "1.1.0",
      "model_name": "LayoutModel",
      "state": {}
     },
     "66343ae0955942b0b399d4d43a27fd80": {
      "model_module": "@jupyter-widgets/controls",
      "model_module_version": "1.4.0",
      "model_name": "SliderStyleModel",
      "state": {
       "description_width": ""
      }
     },
     "676209b60ec548a483a6b1c33bdf2203": {
      "model_module": "@jupyter-widgets/controls",
      "model_module_version": "1.4.0",
      "model_name": "VBoxModel",
      "state": {
       "_dom_classes": [
        "widget-interact"
       ],
       "children": [
        "IPY_MODEL_4ef52ab9246b4053b7daade30c39f42c",
        "IPY_MODEL_1875aa32f4554b8bbebc9df508b055e2",
        "IPY_MODEL_3447f4dd53d5430391c42fb417990272",
        "IPY_MODEL_7cbd52a830dc4da18012c19c59abf070",
        "IPY_MODEL_9f45b3b44b8747328f63c5828d171517",
        "IPY_MODEL_15b3b627a4804b9cb67d5e0b3136533e"
       ],
       "layout": "IPY_MODEL_6c5800edf2fb48f0910cddcd13f2425d"
      }
     },
     "67d95aa80b794c998ba7a732754db1e2": {
      "model_module": "@jupyter-widgets/controls",
      "model_module_version": "1.4.0",
      "model_name": "DropdownModel",
      "state": {
       "_options_labels": [
        "Total Nonfarm",
        "Total Wage and Salary",
        "Total Private",
        "Goods Producing",
        "Service Providing",
        "Private Service Providing",
        "Mining and Logging",
        "Logging",
        "Mining",
        "Oil & Gas Extraction",
        "Mining, except Oil & Gas",
        "Support Activities for Mining",
        "Total Farm",
        "Natural Resources, Mining and Constructi",
        "Construction",
        "Construction of Buildings",
        "Residential Building Construction",
        "Nonresidential Building Construction",
        "Heavy and Civil Engineering Construction",
        "Utility System Const.",
        "L& Subdivision",
        "Highway, Street, and Bridge Const",
        "Other Heavy & Civil Engineer",
        "Specialty Trade Contractors",
        "Building Foundation and Exterior Contrac",
        "Building Equipment Contractors",
        "Building Finishing Contractors",
        "Other Specialty Trade Contract",
        "Manufacturing",
        "Durable Goods",
        "Wood Product Manufacturing",
        "Other Wood Product Mfg.",
        "Nonmetallic Mineral Product Mfg.",
        "Primary Metal Manufacturing",
        "Fabricated Metal Product Mfg",
        "Architectural & Structural Metals Mfg.",
        "Machine Shops & Threaded Product Mfg.",
        "Other Fabricated Metal Product Mfg.",
        "Machinery Manufacturing",
        "Industrial Machinery Manufacturing",
        "Commercial and Service Industry Manufact",
        "Metalworking Machinery Mfg.",
        "ResidualOther General Purpose Machinery",
        "Computer and Electronic Product Manufact",
        "Computer and Peripheral Equipment Manufa",
        "Electronic Computer Manufacturing",
        "Communications Equipment Manufacturing",
        "Semiconductor and Electronic Component M",
        "Bare Printed Circuit Board Manufacturing",
        "Semiconductor and Related Devices Manufa",
        "Electronic Instrument Manufacturing",
        "Electrical Equipment and Appliance Manuf",
        "Transportation Equipment Manufacturing",
        "Motor Vehicle Mfg.",
        "Aerospace Product and Parts Manufacturin",
        "Ship and Boat Building",
        "Furniture and Related Product Manufactur",
        "Household and Institutional Furniture Ma",
        "Miscellaneous Durable Goods Manufacturing",
        "Medical Equipment & Supplies Mfg.",
        "Other Miscellaneous Durable Goods Mfg.",
        "Nondurable Goods",
        "Food Manufacturing",
        "Fruit & Vegetable Preserving & Specialty",
        "Dairy Product Manufacturing",
        "Animal Slaughtering and Processing",
        "Bakeries and Tortilla Manufacturing",
        "Other Food Mfg.",
        "Beverage and Tobacco Product Mfg",
        "ResidualTextile Mills",
        "Textile Product Mills",
        "Apparel Manufacturing",
        "Apparel Knitting Mills",
        "Cut and Sew Apparel Manufacturing",
        "Paper Manufacturing",
        "Converted Paper Product Mfg.",
        "Printing and Related Support Activities",
        "Petroleum and Coal Products Manufacturin",
        "Chemical Manufacturing",
        "Pharmaceutical and Medicine Manufacturin",
        "Soap, Cleaning Compound & Toiletry Mfg.",
        "Plastics and Rubber Products Manufacturi",
        "Trade, Transportation and Utilities",
        "Wholesale Trade",
        "Merchant Wholesalers, Durable Goods",
        "Motor Vehicle and Motor Vehicle Parts Me",
        "Furniture & Home Furnish Merch whole",
        "Lumber & Other Const. Mat Merch whole",
        "Professional and Commercial Equipment Me",
        "Electrical and Electronic Goods Merchant",
        "Hdwr, Plumb & Heating Merchant whole",
        "Machinery, Equipment and Supplies Mercha",
        "Merchant Wholesalers, Nondurable Goods",
        "Paper & Paper Products Merchant whole",
        "Apparel, Piece Gds & Notions Merch whole",
        "Grocery & Related Products Merchant whol",
        "Chemical & Allied Products Merchant whol",
        "Misc Nondurable Merchant Wholesalers",
        "Wholesale Electronic Markets and Agents",
        "Retail Trade",
        "Motor Vehicle and Parts Dealer",
        "Automobile Dealers",
        "Other Motor Vehicle Dealers",
        "Automotive Parts, Accessories and Tire S",
        "Furniture and Home Furnishings Stores",
        "Furniture Stores",
        "Home Furnishings Stores",
        "Electronics and Appliance Stores",
        "Building Material and Garden Equipment S",
        "Building Material and Supplies Dealers",
        "Food and Beverage Stores",
        "Grocery Stores",
        "Specialty Food Stores",
        "Beer, Wine, & Liquor Stores",
        "Health and Personal Care Stores",
        "Gasoline Stations",
        "Clothing and Clothing Accessories Stores",
        "Clothing Stores",
        "Jewelry, Luggage & Leather Gds Stores",
        "Sporting Goods, Hobby, Book and Music St",
        "Sporting Goods, Hobby and Musical Instru",
        "Book, Periodical and Music Stores",
        "General Merchandise Stores",
        "Department Stores",
        "Miscellaneous Store Retailers",
        "Office Supplies, Stationery & Gift Store",
        "Used Merch&ise Stores",
        "Other Miscellaneous Store Retailers",
        "Nonstore Retailers",
        "Electronic Shopping & Mail-Order",
        "Transportation, Warehousing and Utilitie",
        "Utilities",
        "Electric Power Gen, Trans & Distribution",
        "Natural Gas Distribution",
        "Transportation and Warehousing",
        "Air Transportation",
        "Scheduled Air transp.",
        "Truck Transportation",
        "General Freight Trucking",
        "Specialized Freight Trucking",
        "Transit and Ground Passenger Transportat",
        "Support Activities for Transportation",
        "Support Activities for Water transp.",
        "Support Activities for Road transp.",
        "Freight transp. Arrangement",
        "Couriers and Messengers",
        "Warehousing and Storage",
        "Information",
        "Publishing Industries (except Internet)",
        "Newspaper, Periodical, Book and Director",
        "Software Publishers",
        "Motion Picture and Sound Recording",
        "Motion Picture & Video Industries",
        "Motion Picture & Video Production",
        "Broadcasting (except Internet)",
        "Radio and Television Broadcasting",
        "Cable and Other Subscription Programming",
        "Telecommunications",
        "Wired Telecommunications Carriers",
        "Data Processing, Hosting & Related Services",
        "Other Information Serv.",
        "Financial Activities",
        "Finance and Insurance",
        "Credit Intermediation and Related Activi",
        "Depository Credit Intermediation",
        "Nondepository Credit Intermediation",
        "Activities Related to Credit Intermediat",
        "Securities, Commodity Contracts and Inve",
        "Securities & Commodity Contracts",
        "Other Financial Investment Activities",
        "Insurance Carriers and Related",
        "Insurance Carriers",
        "Agencies, Brokerages, and Other Insuranc",
        "Real Estate and Rental and Leasing",
        "Real Estate",
        "Lessors of Real Estate",
        "Offices of Real Estate Agents and Broker",
        "Activities Related to Real Estate",
        "Rental and Leasing Services",
        "Automotive Equipment Rental and Leasing",
        "Consumer Goods Rental",
        "General Rental Centers",
        "Comm & Industrial Mach Rental & Leasing",
        "Professional and Business Services",
        "Professional, Scientific and Technical S",
        "Legal Services",
        "Accounting, Tax Preparation and Bookkeep",
        "Architectural, Engineering and Related S",
        "Specialized Design Services",
        "Computer Systems Design and Related Serv",
        "Management, Scientific and Technical Con",
        "Scientific Research and Development Serv",
        "Advertising and Related Services",
        "Other Professional, Scientific and Techn",
        "Management of Companies and Enterprises",
        "Administrative and Support and Waste Ser",
        "Administrative and Support Services",
        "Office Administrative Services",
        "Facilities Support Serv.",
        "Employment Services",
        "Business Support Services",
        "Travel Arrangement and Reservation Servi",
        "Investigation and Security Services",
        "Services to Buildings and Dwellings",
        "ResidualOther Support Services",
        "Waste Management and Remediation Service",
        "Educational and Health Services",
        "Educational Services",
        "Elementary and Secondary Schools",
        "Junior Colleges",
        "Colleges, Universities and Professional",
        "Other Schools & Instruction",
        "Health Care and Social Assistance",
        "Ambulatory Health Care Services",
        "Offices of Physicians",
        "Offices of Dentists",
        "Offices of Other Health Practitioners",
        "Outpatient Care Centers",
        "Medical & Diagnostic Laboratories",
        "Home Health Care Serv.",
        "Other Ambulatory Health Care Serv.",
        "Hospitals",
        "General Medical & Surgical Hosp.s",
        "Psychiatric & Substance Abuse Hosp",
        "Specialty (not Psych, Sub Abuse) Hosp.",
        "Nursing and Residential Care Facilities",
        "Nursing Care Facilities",
        "Residential Mental Retardation, Mental a",
        "Comm Care Facilities for the Elderly",
        "Other Residential Care Facilities",
        "Social Assistance",
        "Individual and Family Services",
        "Community Food & Housing, & Emergency &",
        "Vocational Rehabilitation Services",
        "Child Day Care Services",
        "Leisure and Hospitality",
        "Arts, Entertainment, and Recreation",
        "Performing Arts, Spectator Sports",
        "Performing Arts Companies",
        "Spectator Sports",
        "Independent Artists, Writers, and Perfor",
        "Museums, Historical Sites, and Similar I",
        "Amusement, Gambling, and Recreation",
        "Amusement Parks and Arcades",
        "Gambling Industries",
        "Other Amusement and Recreation",
        "Accommodation and Food Service",
        "Accommodation",
        "Food Services and Drinking Places",
        "Special Food Services",
        "Drinking Places (Alcoholic Beverages)",
        "Full-Service Restaurants",
        "Limited-Service Eating Places",
        "Other Services",
        "Repair and Maintenance",
        "Auto Repair & Maintenance",
        "Commercial & Industrial Machinery",
        "Personal & Household Goods Repair",
        "Personal and Laundry Services",
        "Personal Care Serv.",
        "Drycleaning & Laundry Serv.",
        "Other Personal Services",
        "Religious, Grantmaking, Civic, Professio",
        "Religious Organizations",
        "Grantmaking & Giving Serv.",
        "Social Advocacy Organizations",
        "Civic & Social Organizations",
        "Bus,Labor, Political & Other like Org.",
        "Government",
        "Federal Government",
        "Federal Government excluding Department of Defense",
        "Department of Defense",
        "State Government",
        "State Government Education",
        "State Government Excluding Education",
        "Local Government",
        "Indian Tribes",
        "Local Government Education",
        "Local Government Excluding Education",
        "County",
        "City",
        "Special Districts",
        "State and Local Government",
        "Miscellaneous Durable Goods Merchant Who",
        "Real Estate and Rental and Leasing - Residual",
        "Restaurants",
        "Special Districts plus Indian Tribes",
        "Private Service Providing - Residual"
       ],
       "description": "industry_title",
       "index": 13,
       "layout": "IPY_MODEL_baabe2e751324966bbfd3b032404768c",
       "style": "IPY_MODEL_d9402b9850784522ad9f5a12a9989043"
      }
     },
     "6842701163584724bab7b74bdce4fc92": {
      "model_module": "@jupyter-widgets/controls",
      "model_module_version": "1.4.0",
      "model_name": "DropdownModel",
      "state": {
       "_options_labels": [
        "January",
        "February",
        "March",
        "April",
        "May",
        "June",
        "July",
        "August",
        "September",
        "October",
        "November",
        "December"
       ],
       "description": "month",
       "index": 0,
       "layout": "IPY_MODEL_f0e29a874c4542bab4402c84efc09ce9",
       "style": "IPY_MODEL_b8cdffe7702e46d6be37993d1291c510"
      }
     },
     "6844348e17524bbd898b5fc36aeecebd": {
      "model_module": "@jupyter-widgets/controls",
      "model_module_version": "1.4.0",
      "model_name": "DescriptionStyleModel",
      "state": {
       "description_width": ""
      }
     },
     "689c5df6b8324c3b912fecbb9148de2c": {
      "model_module": "@jupyter-widgets/base",
      "model_module_version": "1.1.0",
      "model_name": "LayoutModel",
      "state": {}
     },
     "68bf48a567a34f3cb7b53413ad72fa7e": {
      "model_module": "@jupyter-widgets/controls",
      "model_module_version": "1.4.0",
      "model_name": "ButtonStyleModel",
      "state": {}
     },
     "696ad5e11dfc4e47acf6d2d70bf45ec2": {
      "model_module": "@jupyter-widgets/controls",
      "model_module_version": "1.4.0",
      "model_name": "DropdownModel",
      "state": {
       "_options_labels": [
        "blue",
        "red",
        "green"
       ],
       "description": "color",
       "index": 0,
       "layout": "IPY_MODEL_217df13065b4495a8a4f90ccd9b2ec2c",
       "style": "IPY_MODEL_5b5006d9e1274cdd8c10a17f6f26c27f"
      }
     },
     "699974d783b04475a0794b0cce87c17a": {
      "model_module": "@jupyter-widgets/base",
      "model_module_version": "1.1.0",
      "model_name": "LayoutModel",
      "state": {}
     },
     "6a2f9ef7a6cf48abb98b139b1c17faa6": {
      "model_module": "@jupyter-widgets/controls",
      "model_module_version": "1.4.0",
      "model_name": "DescriptionStyleModel",
      "state": {
       "description_width": ""
      }
     },
     "6a63ced7abf644f184eed99ad0f3c444": {
      "model_module": "@jupyter-widgets/base",
      "model_module_version": "1.1.0",
      "model_name": "LayoutModel",
      "state": {}
     },
     "6a7292d9a0e749d18e0bd2e3cb096572": {
      "model_module": "@jupyter-widgets/output",
      "model_module_version": "1.0.0",
      "model_name": "OutputModel",
      "state": {
       "layout": "IPY_MODEL_a37361d2950f4f058eccbdd62c4ab5f2",
       "outputs": [
        {
         "name": "stdout",
         "output_type": "stream",
         "text": "Total Nonfarm\n"
        },
        {
         "data": {
          "image/png": "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\n",
          "text/plain": "<Figure size 1152x720 with 1 Axes>"
         },
         "metadata": {
          "needs_background": "light"
         },
         "output_type": "display_data"
        }
       ]
      }
     },
     "6b225fb28afc41799229663decc89490": {
      "model_module": "@jupyter-widgets/base",
      "model_module_version": "1.1.0",
      "model_name": "LayoutModel",
      "state": {}
     },
     "6b6177d1d0d64d2c837d37d9e04150b9": {
      "model_module": "@jupyter-widgets/base",
      "model_module_version": "1.1.0",
      "model_name": "LayoutModel",
      "state": {}
     },
     "6c0306120ed64815b72482a18294f492": {
      "model_module": "@jupyter-widgets/output",
      "model_module_version": "1.0.0",
      "model_name": "OutputModel",
      "state": {
       "layout": "IPY_MODEL_b1f7c319f46e429c9ec3ad2b09129afa",
       "outputs": [
        {
         "name": "stdout",
         "output_type": "stream",
         "text": "Total Nonfarm\n"
        },
        {
         "data": {
          "image/png": "iVBORw0KGgoAAAANSUhEUgAAA6UAAAJJCAYAAABS0JELAAAABHNCSVQICAgIfAhkiAAAAAlwSFlzAAALEgAACxIB0t1+/AAAADl0RVh0U29mdHdhcmUAbWF0cGxvdGxpYiB2ZXJzaW9uIDIuMi4zLCBodHRwOi8vbWF0cGxvdGxpYi5vcmcvIxREBQAAIABJREFUeJzt3Xm0ZVddJ/Dvj1SaUYJY1e0IBQoiCIlQQmMzFDYqCC0iIEQUETSOcViNDd0OAXEAkQUqHWNMxwjaxSCjQRkMhICoUIGQFEShlULT7TIFETBMQtj9xzmPuknq1btV77za9937+az11jvv3HPP3Xe/M33P3uecaq0FAAAAerhJ7wIAAACwuoRSAAAAuhFKAQAA6EYoBQAAoBuhFAAAgG6EUgAAALrpGkqr6vyqurqqDswx7fOq6rLx5/1V9dETUUYAAAC2TvV8TmlVPSDJtUle2Fr7+mN435lJvqG19qQtKxwAAABbrmtLaWvtkiTXzI6rqq+uqtdV1aVV9daqussR3np6kn0npJAAAABsmR29C3AE5yb5kdbaB6rqPknOTvLNay9W1e2T3CHJmzqVDwAAgIksVCitqlsl+aYkL6uqtdE3vcFkj0vyx621605k2QAAAJjeQoXSDN2JP9paO+0o0zwuyY+foPIAAACwhRbqkTCttY8n+WBVPSZJanDq2uvj9aVfnOQvOxURAACACfV+JMy+DAHza6vqqqp6cpLHJ3lyVb0nyXuTPGLmLY9L8uLW85bBAAAATKbrI2EAAABYbQvVfRcAAIDV0u1GRzt37my7d+/u9fEAAABsoUsvvfTDrbVdG03XLZTu3r07+/fv7/XxAAAAbKGq+tA80+m+CwAAQDdCKQAAAN0IpQAAAHQjlAIAANCNUAoAAEA3QikAAADdCKUAAAB0I5QCAADQjVAKAABAN0IpAAAA3QilAAAAdCOUAgAA0I1QCgAAQDdCKQAAAN0IpQAAAHQjlAIAANCNUAoAAEA3QikAAADdCKUAAAB0I5QCAADQjVAKAABAN0IpAAAA3QilAAAAdLOjdwEAgOlV1aTza61NOj8AWKOlFACWUGttrp/bP/XCuaYDgK0ilAIAANCNUAoAAEA3QikAAADdCKUAAAB0I5QCAADQjUfCwHHyuAUAVon93vymrKtlridYo6UUjtOUj1qwwwFg0XnM0PzUExwboRQAAIBuhFIAAAC6WZlrSl0HAQAAsHhWpqXU9X8AAACLZ2VCKQAAAItHKAUAAKCblbmmFADgSDxTEqAvLaUAwErzTEnoo6om/WH7EkqBLWWHAwAciRuRskYoBbbUvDsSrRAAAKvJNaUAC8J1bQDAKtJSCrAgtCgDAKtIKAUAAKAboRQAAIBuhFIAAAC6EUoBAADoRigFAACgG6EUAACAbjynFAAAYEFN+RzzZDGfZa6llBupqsl+AACA4zfP88m3+7PMhVJuZNkXegAAYHEIpQAAAHTjmlIAtpVVuLYGAFaJllIAtpUpLzEQSAGgP6EUAACAboRSAAAAuhFKAQAA6EYoBQAAoBuhFAAAgG6EUgAAALoRSgEAAOhGKAUAAKAboRQAAIBuhFIAAAC62TCUVtX5VXV1VR1Y5/WfrarLxp8DVXVdVd12+qICAACwbOZpKb0gyUPWe7G19pzW2mmttdOS/Pckb2mtXTNR+QAAAFhiG4bS1tolSeYNmacn2bepEgEAALAyJrumtKpukaFF9eVHmeaMqtpfVfsPHTo01UcDAACwTU15o6P/kuQvjtZ1t7V2bmttT2ttz65duyb8aAAAALajKUPp46LrLgAAAMdgklBaVackeWCSV08xPwAAAFbDjo0mqKp9SfYm2VlVVyU5K8nJSdJaO2ec7JFJ3tBa+8QWlRMAAIAltGEoba2dPsc0F2R4dAwAAADMbcprSgEAAOCYCKUAAAB0I5QCAADQjVAKAABAN0IpAAAA3QilAAAAdCOUAgAA0I1QCgAAQDdCKQAAAN0IpQAAAHQjlAIAANCNUAoAAEA3QikAAADdCKUAAAB0I5QCAADQjVAKAABAN0IpAAAA3QilAAAAdCOUAgAA0I1QCgAAQDdCKQAAAN0IpQAAAHQjlAIAANCNUAoAAEA3QikAAADdCKUAAAB0I5QCAADQjVAKAABAN0IpAAAA3QilAAAAdCOUAgAA0I1QCgAAQDdCKQAAAN0IpQAAAHQjlAIAANCNUAoAAEA3QikAAADdCKUAAAB0I5QCAADQjVAKAABAN0IpAAAA3QilAAAAdCOUAgAA0I1QCgAAQDdCKQAAAN0IpQAAAHQjlAIAANCNUAoAAEA3QikAAADdCKUAAAB0I5QCAADQjVAKAABAN0IpAAAA3QilAAAAdCOUAgAA0I1QCgAAQDdCKQAAAN0IpQAAAHQjlAIAANCNUAoAAEA3QikAAADdCKUAAAB0I5QCAADQjVAKAABAN0IpAAAA3QilAAAAdCOUAgAA0I1QCgAAQDdCKQAAAN0IpQAAAHQjlAIAANCNUAoAAEA3QikAAADdCKUAAAB0I5QCAADQjVAKAABAN0IpAAAA3QilAAAAdCOUAgAA0I1QCgAAQDcbhtKqOr+qrq6qA0eZZm9VXVZV762qt0xbRAAAAJbVPC2lFyR5yHovVtVtkpyd5Dtaa3dL8phpigYAAMCy2zCUttYuSXLNUSb5niSvaK39wzj91ROVDQAAgCU3xTWld07yxVV1cVVdWlVPWG/CqjqjqvZX1f5Dhw5N8NEAAABsZ1OE0h1J7pXkYUm+LckvVNWdjzRha+3c1tqe1tqeXbt2TfDRAAAAbGc7JpjHVUk+0lr7RJJPVNUlSU5N8v4J5g0AAMASm6Kl9NVJ7ldVO6rqFknuk+TKCeYLAADAktuwpbSq9iXZm2RnVV2V5KwkJydJa+2c1tqVVfW6JJcn+XyS81pr6z4+BgAAANZsGEpba6fPMc1zkjxnkhIBAACwMqbovgsAAADHRSgFAACgG6EUAACAboRSAAAAuhFKAQAA6EYoBQAAoBuhFAAAgG6EUgAAALoRSgEAAOhGKAUAAKAboRQAAIBuhFIAAAC6EUoBAADoRigFAACgG6EUAACAboRSAAAAuhFKAQAA6EYoBQAAoBuhFAAAgG6EUgAAALoRSgEAAOhGKAUAAKAboRQAAIBuhFIAAAC6EUoBAADoRigFAACgG6EUAACAboRSAAAAuhFKAQAA6EYoBQAAoBuhFAAAgG6EUgAAALoRSgEAAOhGKAUAAKAboRQAAIBuhFIAAAC6EUoBAADoRigFAACgG6EUAACAboRSAAAAuhFKAQAA6EYoBQAAoBuhFAAAgG529C4AAHBsTn3GG/KxT312svntftprNz2PU25+ct5z1rdOUBoAVo1QCgDbzMc+9dkcfNbDehfjeqYItgCsJt13AQAA6EZLKQDAitMlHOhJKAUAltaUYWuqLsqLGLZ0CQd6WopQaofD1CxTAMtB2AJYfEsRSu1wmJplCgAAToylCKUAALDVFvHa20RvKrY/oRQAAOawiD2pEr2p2P48EgYAAIButJQCx20RuzHpwgQAsL0IpcBxW8RuTLowAUB/nmTAsRBKAQCASTlxzbFwTSkAAADdaCldIa7/AwAAFo1QukJ0owAAgMWh0WgglAKwMNwYA4BVotFoIJQCsDDsnAFg9bjREQAAAN0IpQAAAHSj+y7AFlvEmxgkrpUEABaDUAqwxRbxOsnEtZIAwGLQfRcAAIBuhFIAAAC6EUoBAADoRigFAACgG6EUAACAboRSAAAAuhFKAQAA6EYoBQAAoBuhFAAAgG6EUgAAALoRSgEAAOhGKAUAAKAboRQAAIBuhFIAAAC62TCUVtX5VXV1VR1Y5/W9VfWxqrps/PnF6YsJAADAMtoxxzQXJHlBkhceZZq3ttYePkmJAAAAWBkbtpS21i5Jcs0JKAsAAAArZqprSu9bVe+pqj+rqrutN1FVnVFV+6tq/6FDhyb6aAAAALarKULpu5LcvrV2apLfTvKq9SZsrZ3bWtvTWtuza9euCT4aAACA7WzTobS19vHW2rXj8J8mObmqdm66ZAAAACy9TYfSqvrSqqpx+N7jPD+y2fkCAACw/Da8+25V7UuyN8nOqroqyVlJTk6S1to5SR6d5Eer6nNJPpXkca21tmUlBgAAYGlsGEpba6dv8PoLMjwyBgAAAI7JVHffBQAAgGMmlAIAANCNUAoAAEA3QikAAADdCKUAAAB0I5QCAADQjVAKAABAN0IpAAAA3QilAAAAdCOUAgAA0I1QCgAAQDdCKQAAAN0IpQAAAHQjlAIAANCNUAoAAEA3QikAAADdCKUAAAB0I5QCAADQjVAKAABAN0IpAAAA3ezoXQBYRF/0dU/L3f/gab2LcT1f9HVJ8rDexQAAgEkJpXAE/3rls3LwWYsVAHc/7bW9iwAAAJMTSgFgm9GbA4BlIpQCwDajNwf0sYgnhBInhdj+hFIAAJjDIp4QSpwUYvtz910AAAC60VIKAABMahG7OuvmvLiEUgCAFSdAMLVF7Oqsm/PiEkoBAFacAAH0JJQCAEtLCyCwyGyjBkIpALC0tAACi8w2arAUodQZhvmoJwAAYNEsRSh1hmE+6gkAAFg0nlMKAABAN0vRUgr0oUs4U7NMAcDqEUqB46ZLOFOzTAHA6tF9FwAAgG6EUgAAALrRfRdgiy3idZKJayUBgMUglAJssUW8TjJxrSQAsBh03wUAAKAboRQAAIBuhFIAAAC6EUoBAADoRigFAACgG6EUAACAboRSAAAAuhFKAQAA6EYoBQAAoBuhFAAAgG6EUgAAALoRSgEAAOhGKAUAAKAboRQAAIBuhFIAAAC6EUoBAADoRigFAACgG6EUAACAboRSAAAAuhFKAQAA6EYoBQAAoBuhFAAAgG6EUgAAALoRSgEAAOhGKAUAAKAboRQAAIBuhFIAAAC6EUoBAADoRigFAACgG6EUAACAboRSAAAAuhFKAQAA6EYoBQAAoBuhFAAAgG6EUgAAALoRSgEAAOhGKAUAAKAboRQAAIBuhFIAAAC62TCUVtX5VXV1VR3YYLpvrKrPVdWjpyseAAAAy2yeltILkjzkaBNU1UlJnp3kDROUCQAAgBWxYShtrV2S5JoNJjszycuTXD1FoQAAAFgNm76mtKq+Iskjk/zOHNOeUVX7q2r/oUOHNvvRAAAAbHNT3Ojo+Ume2lr7/EYTttbOba3taa3t2bVr1wQfDQAAwHa2Y4J57Eny4qpKkp1Jvr2qPtdae9UE8wYAAGCJbTqUttbusDZcVRckuVAgBQAAYB4bhtKq2pdkb5KdVXVVkrOSnJwkrbVztrR0AAAALLUNQ2lr7fR5Z9Zae+KmSgMAAMBKmeJGRwAAAHBchFIAAAC6EUoBAADoRigFAACgG6EUAACAboRSAAAAuhFKAQAA6EYoBQAAoBuhFAAAgG6EUgAAALoRSgEAAOhGKAUAAKAboRQAAIBuhFIAAAC6EUoBAADoRigFAACgG6EUAACAboRSAAAAuhFKAQAA6EYoBQAAoBuhFAAAgG6EUgAAALoRSgEAAOhGKAUAAKAboRQAAIBuhFIAAAC6EUoBAADoRigFAACgG6EUAACAboRSAAAAuhFKAQAA6EYoBQAAoBuhFAAAgG6EUgAAALoRSgEAAOhGKAUAAKAboRQAAIBuhFIAAAC6EUoBAADoRigFAACgG6EUAACAboRSAAAAuhFKAQAA6EYoBQAAoJsdvQsAi2r3017buwjXc8rNT+5dBAAAmJxQCkdw8FkPm2Q+u5/22snmBQAAy0j3XQAAALoRSgEAAOhGKAUAAKAboRQAAIBuhFIAAAC6cfddAACY06I9Mi7x2Di2P6EUAADmMOVj3jw2Dg4TSgEAgMktWquyFuXFJZQCAACTmqoVWIvyanCjIwAAALrRUgoAANCJbs5CKQAAQBdunjXQfRcAAIButJQCwDakuxcAy0IoBYBtRncvAJaJ7rsAAAB0I5QCAADQje67K8Y1SAAAwCIRSleIa5AAAIBFI5QCAKA3FdCNUAoAsOL0pgJ6EkoBWChaawBgtQilACyMqVpXtNQAwPbhkTAAAAB0I5QCAADQzdJ033UNEgAAwPazFKHUNUgAAADbk+67AAAAdCOUAgAA0I1QCgAAQDdLcU0pAMB63AwRYLEJpQDA0nIzRIDFp/suAAAA3QilAAAAdLNhKK2q86vq6qo6sM7rj6iqy6vqsqraX1X3m76YAAAALKN5WkovSPKQo7x+UZJTW2unJXlSkvMmKBcAAAArYMNQ2lq7JMk1R3n92tZaG/+8ZZK23rQAAAAwa5K771bVI5P8WpJ/n2TdW9NV1RlJzkiS293udlN8NNCZRy0AALAZk4TS1tork7yyqh6Q5JlJHrzOdOcmOTdJ9uzZo0UVtrkpH4/gcQsAAKtp0rvvjl1971hVO6ecLwAAAMtp06G0qr6mqmocvmeSmyb5yGbnCwAAwPLbsPtuVe1LsjfJzqq6KslZSU5OktbaOUkeleQJVfXZJJ9K8tiZGx8BAADAujYMpa210zd4/dlJnj1ZiQAAAFgZk9zoCICjW7S7FCfuVAwALAahFGCLuUsxAMD6Jr37LgAAABwLoRQAAIBuhFIAAAC6EUoBAADoRigFAACgG6EUAACAboRSAAAAuhFKAQAA6EYoBQAAoBuhFAAAgG6EUgAAALoRSgEAAOhGKAUAAKAboRQAAIBuhFIAAAC6EUoBAADoRigFAACgG6EUAACAboRSAAAAuhFKAQAA6EYoBQAAoBuhFAAAgG6EUgAAALoRSgEAAOhGKAUAAKAboRQAAIBuhFIAAAC6EUoBAADoRigFAACgG6EUAACAboRSAAAAuhFKAQAA6EYoBQAAoBuhFAAAgG6EUgAAALoRSgEAAOhGKAUAAKAboRQAAIBuhFIAAAC6EUoBAADoRigFAACgG6EUAACAboRSAAAAuhFKAQAA6EYoBQAAoBuhFAAAgG6EUgAAALoRSgEAAOhGKAUAAKAboRQAAIBuhFIAAAC6EUoBAADoRigFAACgG6EUAACAboRSAAAAuhFKAQAA6EYoBQAAoBuhFAAAgG6EUgAAALoRSgEAAOhGKAUAAKAboRQAAIBuhFIAAAC6EUoBAADoRigFAACgG6EUAACAboRSAAAAuhFKAQAA6EYoBQAAoBuhFAAAgG529C4AbFdVNd90z55vfq21TZQGAAC2J6EUjpMQCQAAmyeUAgDAhKbsTbXMJ8H1OmONUAoAABMSjuajnuYzb3hPtu+JDqEUAJbQKhzEAKyCVdj+CqXciC4nwCLT3Ws+y/q9toL93nyc6AC2ysqEUgcx81vm7wZsf7ZRTM0yNR/1BGyVDZ9TWlXnV9XVVXVgndcfX1WXV9UVVfX2qjp1+mJuXmtt0h8AAAA2b56W0guSvCDJC9d5/YNJHtha+5eqemiSc5PcZ5riAdud7l4AABzNhqG0tXZJVe0+yutvn/nzr5J85eaLBSwLIRIAgKPZsPvuMXpykj9b78WqOqOq9lfV/kOHDk380QAAAGw3k4XSqnpQhlD61PWmaa2d21rb01rbs2vXrqk+GgAAgG1qkrvvVtU9kpyX5KGttY9MMU8AAACW36ZbSqvqdklekeT7Wmvv33yRAAAAWBUbtpRW1b4ke5PsrKqrkpyV5OQkaa2dk+QXk3xJkrPHu2x+rrW2Z6sKDAAAwPKY5+67p2/w+g8m+cHJSgQAAMDKmOSaUgA2b95nunqeKwCwTIRSgAUhSAIAq2jq55QCAADA3IRSAAAAuhFKAQAA6EYoBQAAoBuhFAAAgG6EUgAAALoRSgEAAOhGKAUAAKAboRQAAIBuhFIAAAC6EUoBAADoRigFAACgG6EUAACAboRSAAAAuhFKAQAA6EYoBQAAoBuhFAAAgG6EUgAAALoRSgEAAOhGKAUAAKAboRQAAIBuhFIAAAC6EUoBAADoplprfT646lCSD3X58PXtTPLh3oXYJtTVfNTT/NTVfNTTfNTT/NTVfNTT/NTVfNTTfNTT/Baxrm7fWtu10UTdQukiqqr9rbU9vcuxHair+ain+amr+ain+ain+amr+ain+amr+ain+ain+W3nutJ9FwAAgG6EUgAAALoRSq/v3N4F2EbU1XzU0/zU1XzU03zU0/zU1XzU0/zU1XzU03zU0/y2bV25phQAAIButJQCAADQjVAKAABANysTSqvqO6uqVdVdjuO951XVXcfhg1W1c/oSnlibqY9NfOZPV9UtTtTnbaSqrquqy6rqvVX1nqr6r1XVZZ2oqmt7fO7xmKm3tZ/dR5l2b1VdeOJKt9i20/95O9ioPqvq4qralrfGn4Ll7cjGfd8fzvy9o6oOTbWtWublbqvrbpGM3/W5M38/paqe3qks23JdrqqvrKpXV9UHqurvquo3q+rfHWX6uY4Tt2N9VNXPjcebl4/HTvc5jnnsrapvmrBMC5VpViaUJjk9ydvG33OrqpNaaz/YWnvf1hSrm+Oqj0366SQLE0qTfKq1dlpr7W5JviXJQ5Oc1blMx6yqdpzgj1yrt7Wfg5udYVWdtMn3n+g62DbUDdzIJ5J8fVXdfPz7W5L832OZwQqvV5uuu23kM0m+a5EO2o9Hr2W1qirJK5K8qrV2pyR3TnKrJL9ylLdt+XFij/qoqvsmeXiSe7bW7pHkwUn+8ThmtTfJZKF0M7aiHlcilFbVrZLcL8mTkzxuHLe3qi6pqtdW1d9W1TlrrWRVdW1VPbeq3pPkvst21vMo9XHhzDQvqKonjsPfXlV/U1WXVtVvrU1XVU+vqqfMvOdAVe2uqluO9fqecdxjq+onk3x5kjdX1ZtP3LedT2vt6iRnJPmJGpxUVc+pqneOZ7V+eG3aqnpqVV0xfr9njeO+uqpeN9bRW9daoKvqgqr6nar6q6r6+7Gez6+qK6vqgtkyVNXzxrNoF1XVrjnme05V/XWSXz8xtbS+o9VXklvPuZ594YxdVe2pqovH4XtX1V9W1bur6u1V9bXj+CdW1Wuq6k1JLqqqF1bVd86U6Y+q6hEnqg7mVVW3Gv/H7xqXo0eM43ePy8XvjcvBG9YO/Ga3QVW1s6oOzrznreO83lXjGdRxOXtrVb0myfuq6peq6qdnyvArVfVTJ/q7b4Wjbbtmxj2pqp4/8/cPVdXzTmAxu9lg236wqp4xsyyubV9uOW6n3jGudwu3Hk3gT5M8bBw+Pcm+tRfm3eaM4260Pxg9Zqy/91fV/U/QdzpRjqfuLqmq02ame1tVnXpCS33sPpfhTqY/c8MXxm3vm8b93UVVdbuqOqWqPjSzj7tlVf1jVZ28wb58WY8RvjnJp1trv58krbXrMtTlk8a6+Y0ajhEvr6oz6wjHiVV1+rh+HaiqZ8/OfJvVx5cl+XBr7TNJ0lr7cGvt/1XVvarqLWN5X19VXzaW9+IaWpUvG7/7vWvolfYjSX5mHH//qtpVVS+v4djrnVX1n8b3P72q/mCsgw9V1XdV1a+Pdfm6qjp5pmz/bRz/jqr6mvH9R5vvi6rqL5K8aPJaaq0t/U+Sxyf5X+Pw25PcK8PZhk8nuWOSk5K8Mcmjx2laku+eef/FSfaMwweT7Oz9nbaoPi6cmeYFSZ6Y5GYZzubcYRy/b226JE9P8pSZ9xxIsjvJo5L83sz4Uxax7pJce4RxH03yHzIE1J8fx900yf4kd8jQmvr2JLcYX7vt+PuiJHcah++T5E3j8AVJXpykkjwiyceT3D3DCaFLk5w2s8w9fhz+xSQvmGO+FyY5qUO9XZfksvHnleO49errWNazLywfSfYkuXgcvnWSHePwg5O8fBx+YpKrZv4HD8xwRjZJTknywbX3LcpPkmuT7Ehy6/HvnUn+z7h87M5wELS2TLw0yfeOwxfn8DZoZ5KD4/AtktxsHL5Tkv3j8N4MLRpr6+3uJO8ah2+S5O+SfEnv+pioPvfmCNuu2XrLcHb+75KcPI5/e5K79y7/AtTPwSRnjsM/luS8cfhXZ5a92yR5f5Jb9v4+E9fLPZL8cYZ93GWz9XQM25z19gcXJ3nuOPztSf6893degLr7/iTPH4fvvLatWuSf8bveelxPTknylCRPH1/7kyTfPw4/KYf3Pa9O8qBx+LEz69TKHCPM1N9PJnneEca/O8lPjcvQ2rKytu4czOHjgC9P8g9JdmXYb74pyXdux/rIsA+6LMO29OwMxysnZ9h+7JpZXs4fhy/OeByd5AFJDozDT8/1j7v/d5L7jcO3S3LlzHRvGz/j1CSfTPLQ8bVXztTjwSQ/Nw4/IYfX46PN99IkN9+KelqV7ienJ/nNcfjF498XJnlHa+3vk6Sq9mVoPfzjDAfdL+9QzhNlvfo4krsk+fvW2gfHv/dlCCBHc0WS545ntS5srb11k+Xt4VuT3KOqHj3+fUqGg/4HJ/n91tonk6S1dk0NLc/flORlVbX2/pvOzOtPWmutqq5I8s+ttSuSpKremyEsXJbk80leMk7/h0leMcd8X9aGM48n2qdaa6fdYNx69fVv2fx6dkqSP6iqO2XYEc2e4Xtja+2aJGmtvaWqzh7PmD4qw8HQ547rG26tSvKrVfWADP/3r8hwIiRJPthau2wcvjTD8nE0Jyd5wdgCcV2Gg70171hbb1trB6vqI1X1DeNnvbu19pFJvs020Fq7tobWrYdX1ZUZwukVvcu1IF4x/r40yXeNw9+a5DvqcE+Ym2U8MDnBZdsyrbXLx5aH0zO0/M2aa5uTI+wPZqabrdfdkxa+s+Osu5cl+YWq+tkMIe6CE1LYTWqtfbyqXpghYH1q5qX75vD68qIcbn17SYZw8eYMPdHOXsFjhHnsTXL22j76BuvOmm/McHL6UDL0fsoQ0F6VbVYf4z7oXknun+RBGcr+y0m+Pskbx/KelOSfZt62b3zvJVV166q6zRFm/eAkd535vrce6yFJ/qy19tlxuTopyevG8Vfk+tukfTO/13oQHW2+r2mtza4Lk1n6UFpVt83QheDuVdUy/GNakteOv2et/f3pBV6RN+Uo9fHqXL87983mmN3njvSe1tr7q+qeGc4Q/3JVXdRa+6Upyr+VquqOGQ7sr84QHM5srb3+BtN82xHeepNrb9FOAAAFs0lEQVQkHz1CUFvzmfH352eG1/5ebx1sc8z3E+uM72G9+tqb+dez2eVpdvl7ZpI3t9YeOR4IXTzz2g3r4IVJvjfDwcAPHNM3OHEen+HM773GHcbBHP6+s8vHdUnWrttar25+Jsk/ZzgTepMMrdJrblg352Vo6fnSJOdv6hssliNuh47gvCT/I8nfJPn9rS7UAtmoftaWuetyeHtUSR7VWvvbLS5bb69J8hsZDpC/ZGb8sWxz1nOkel0mx1R3rbVPVtUbM7QGfneGHlrbxfOTvCvzbTdek+Gk420zfMc3JbllVvMY4X1JHj07oqpuneEE18GJP2vh62M83rk4ycVjUPzxJO9trd13vbds8HcyfOf/2Fqb3fdnDJNrXYU/X1WfbWNTZ268XLUjDB9tvltWj6twTemjk7yotXb71tru1tpXZejWd/8k966qO9TQ//+xGZq6l9169XGTDGdFbjqejfnP4/R/m+SOdfgOq4+dmdfBJPdMkjGE3mEc/vIkn2yt/WGS56xNk+Rfk3zRFn2vTRlb187J0AWkJXl9kh9d63dfVXeuqltm6H76AzXeHa6qbtta+3iSD1bVY8ZxVcd+rcxNcnjj/T1J3jbRfE+U9eormX89O5jDByqPmhl/Sg7fSOOJG5Tjggw3Skhb3JuTnZLk6jGQPijJ7ed4z8EcrpvZnfwpSf6ptfb5JN+X4STTel6Z5CEZzj6//ijTbTcfypG3XdfTWvvrJF+VYf3ad6RpltRc9XMDr09yZo1HIGML+zI6P8kzjtBqPu8250b7g8lLuLiOp+7OS/JbSd7ZWvuXrS3edMZWvJdmuA/HmrdnvCdHhhONbx2nvTbJOzP0RruwtXbdCh8jXJTkFlX1hOQLNzR8bob99OuT/HCNN8uZWXdmjxPfkeSBNdxH4aQMLfNvGV/bVvVRVV879h5Yc1qGnie7argJUmq49vhuM9M8dhx/vyQfa619LDc+jn5DkjNnPme9QH40j535/ZcTzveYrUIoPT3Dwdisl4/j35nh+porMwSzG063jNarj8dl2OgeGH+/O0nGJvofS/K6qro0wwrxsZn33XbsYvITGfrKJ8P1EO+oqssy3M32l8fx547zefMWfK/jcfMaHwmT5M8zrITPGF87L8NZvndV1YEkv5vh2ofXZTgTun/8fmvd2x6f5Mk13LTnvRnOBh+LT2QIbwcytGSvtSxvdr4nyhHra3xt3vXsGUl+s6r2Z2hdWPPrSX6tqt6dDVocWmv/PH7OwrWEjTvfzyT5oyR7xjOlT8jQcreR38gQ+t+d4ZrSNWcn+f5x+bhLjnIGs7X2bxm6lL10GXqCrNVna+0fc4Rt1zpemuQvttMB8fE6zvpZ88wM3S4vH7ePz9yygnbUWruqtfZbR3hprm3OUfYHS+946q61dmmGayYXbvs8h+fm+tveMzOckLg8wwnB2RvHvSRDj52XzIxbuWOE8QT/IzPc9OsDGY4RP52hx8p5Ga4XvXws+/eMb/vCcWJr7Z+SPC3Dfus9SS5trb16nG671cetMnRrf9+4zNw1w7Wwj07y7LG8l+X6d9b99LgenZPDJ0T+JMkjx2PX+2foVr6nhptFvS/DjZCO1RePZfqpHL6p1xTzPWZ1uDV3tdTQrfAprbWH9y7LoquqW4394SvJ/0zygdbaSty5ku1lbLG4IsNt1z+20fQn0njG9vdaa/fu9Pk3ydAF7TGttQ/0KMOUjqc+a7gL7fNaaxdtXckWQ+/lDW5o7EV1cZK7jL07gCOo4ekDT2mt7e9dlhNpFVpK2bwfGs8CvzdD15zf7VweuJGqenCGVtLfXsBA+iMZuoz+fKfPv2uGu/xetCSB9Jjqs6puU1Xvz3CTrlUIpF2XN7ihsQvnX2e406dACtzIyraUAgAA0J+WUgAAALoRSgEAAOhGKAUAAKAboRQAAIBuhFIAAAC6+f8ehzbmRbjz4QAAAABJRU5ErkJggg==\n",
          "text/plain": "<Figure size 1152x720 with 1 Axes>"
         },
         "metadata": {
          "needs_background": "light"
         },
         "output_type": "display_data"
        }
       ]
      }
     },
     "6c5800edf2fb48f0910cddcd13f2425d": {
      "model_module": "@jupyter-widgets/base",
      "model_module_version": "1.1.0",
      "model_name": "LayoutModel",
      "state": {}
     },
     "6cb391200a964c34a0df687785b6b707": {
      "model_module": "@jupyter-widgets/controls",
      "model_module_version": "1.4.0",
      "model_name": "DropdownModel",
      "state": {
       "_options_labels": [
        "Total Nonfarm",
        "Total Wage and Salary",
        "Total Private",
        "Goods Producing",
        "Service Providing",
        "Private Service Providing",
        "Mining and Logging",
        "Logging",
        "Mining",
        "Oil & Gas Extraction",
        "Mining, except Oil & Gas",
        "Support Activities for Mining",
        "Total Farm",
        "Natural Resources, Mining and Constructi",
        "Construction",
        "Construction of Buildings",
        "Residential Building Construction",
        "Nonresidential Building Construction",
        "Heavy and Civil Engineering Construction",
        "Utility System Const.",
        "L& Subdivision",
        "Highway, Street, and Bridge Const",
        "Other Heavy & Civil Engineer",
        "Specialty Trade Contractors",
        "Building Foundation and Exterior Contrac",
        "Building Equipment Contractors",
        "Building Finishing Contractors",
        "Other Specialty Trade Contract",
        "Manufacturing",
        "Durable Goods",
        "Wood Product Manufacturing",
        "Other Wood Product Mfg.",
        "Nonmetallic Mineral Product Mfg.",
        "Primary Metal Manufacturing",
        "Fabricated Metal Product Mfg",
        "Architectural & Structural Metals Mfg.",
        "Machine Shops & Threaded Product Mfg.",
        "Other Fabricated Metal Product Mfg.",
        "Machinery Manufacturing",
        "Industrial Machinery Manufacturing",
        "Commercial and Service Industry Manufact",
        "Metalworking Machinery Mfg.",
        "ResidualOther General Purpose Machinery",
        "Computer and Electronic Product Manufact",
        "Computer and Peripheral Equipment Manufa",
        "Electronic Computer Manufacturing",
        "Communications Equipment Manufacturing",
        "Semiconductor and Electronic Component M",
        "Bare Printed Circuit Board Manufacturing",
        "Semiconductor and Related Devices Manufa",
        "Electronic Instrument Manufacturing",
        "Electrical Equipment and Appliance Manuf",
        "Transportation Equipment Manufacturing",
        "Motor Vehicle Mfg.",
        "Aerospace Product and Parts Manufacturin",
        "Ship and Boat Building",
        "Furniture and Related Product Manufactur",
        "Household and Institutional Furniture Ma",
        "Miscellaneous Durable Goods Manufacturing",
        "Medical Equipment & Supplies Mfg.",
        "Other Miscellaneous Durable Goods Mfg.",
        "Nondurable Goods",
        "Food Manufacturing",
        "Fruit & Vegetable Preserving & Specialty",
        "Dairy Product Manufacturing",
        "Animal Slaughtering and Processing",
        "Bakeries and Tortilla Manufacturing",
        "Other Food Mfg.",
        "Beverage and Tobacco Product Mfg",
        "ResidualTextile Mills",
        "Textile Product Mills",
        "Apparel Manufacturing",
        "Apparel Knitting Mills",
        "Cut and Sew Apparel Manufacturing",
        "Paper Manufacturing",
        "Converted Paper Product Mfg.",
        "Printing and Related Support Activities",
        "Petroleum and Coal Products Manufacturin",
        "Chemical Manufacturing",
        "Pharmaceutical and Medicine Manufacturin",
        "Soap, Cleaning Compound & Toiletry Mfg.",
        "Plastics and Rubber Products Manufacturi",
        "Trade, Transportation and Utilities",
        "Wholesale Trade",
        "Merchant Wholesalers, Durable Goods",
        "Motor Vehicle and Motor Vehicle Parts Me",
        "Furniture & Home Furnish Merch whole",
        "Lumber & Other Const. Mat Merch whole",
        "Professional and Commercial Equipment Me",
        "Electrical and Electronic Goods Merchant",
        "Hdwr, Plumb & Heating Merchant whole",
        "Machinery, Equipment and Supplies Mercha",
        "Merchant Wholesalers, Nondurable Goods",
        "Paper & Paper Products Merchant whole",
        "Apparel, Piece Gds & Notions Merch whole",
        "Grocery & Related Products Merchant whol",
        "Chemical & Allied Products Merchant whol",
        "Misc Nondurable Merchant Wholesalers",
        "Wholesale Electronic Markets and Agents",
        "Retail Trade",
        "Motor Vehicle and Parts Dealer",
        "Automobile Dealers",
        "Other Motor Vehicle Dealers",
        "Automotive Parts, Accessories and Tire S",
        "Furniture and Home Furnishings Stores",
        "Furniture Stores",
        "Home Furnishings Stores",
        "Electronics and Appliance Stores",
        "Building Material and Garden Equipment S",
        "Building Material and Supplies Dealers",
        "Food and Beverage Stores",
        "Grocery Stores",
        "Specialty Food Stores",
        "Beer, Wine, & Liquor Stores",
        "Health and Personal Care Stores",
        "Gasoline Stations",
        "Clothing and Clothing Accessories Stores",
        "Clothing Stores",
        "Jewelry, Luggage & Leather Gds Stores",
        "Sporting Goods, Hobby, Book and Music St",
        "Sporting Goods, Hobby and Musical Instru",
        "Book, Periodical and Music Stores",
        "General Merchandise Stores",
        "Department Stores",
        "Miscellaneous Store Retailers",
        "Office Supplies, Stationery & Gift Store",
        "Used Merch&ise Stores",
        "Other Miscellaneous Store Retailers",
        "Nonstore Retailers",
        "Electronic Shopping & Mail-Order",
        "Transportation, Warehousing and Utilitie",
        "Utilities",
        "Electric Power Gen, Trans & Distribution",
        "Natural Gas Distribution",
        "Transportation and Warehousing",
        "Air Transportation",
        "Scheduled Air transp.",
        "Truck Transportation",
        "General Freight Trucking",
        "Specialized Freight Trucking",
        "Transit and Ground Passenger Transportat",
        "Support Activities for Transportation",
        "Support Activities for Water transp.",
        "Support Activities for Road transp.",
        "Freight transp. Arrangement",
        "Couriers and Messengers",
        "Warehousing and Storage",
        "Information",
        "Publishing Industries (except Internet)",
        "Newspaper, Periodical, Book and Director",
        "Software Publishers",
        "Motion Picture and Sound Recording",
        "Motion Picture & Video Industries",
        "Motion Picture & Video Production",
        "Broadcasting (except Internet)",
        "Radio and Television Broadcasting",
        "Cable and Other Subscription Programming",
        "Telecommunications",
        "Wired Telecommunications Carriers",
        "Data Processing, Hosting & Related Services",
        "Other Information Serv.",
        "Financial Activities",
        "Finance and Insurance",
        "Credit Intermediation and Related Activi",
        "Depository Credit Intermediation",
        "Nondepository Credit Intermediation",
        "Activities Related to Credit Intermediat",
        "Securities, Commodity Contracts and Inve",
        "Securities & Commodity Contracts",
        "Other Financial Investment Activities",
        "Insurance Carriers and Related",
        "Insurance Carriers",
        "Agencies, Brokerages, and Other Insuranc",
        "Real Estate and Rental and Leasing",
        "Real Estate",
        "Lessors of Real Estate",
        "Offices of Real Estate Agents and Broker",
        "Activities Related to Real Estate",
        "Rental and Leasing Services",
        "Automotive Equipment Rental and Leasing",
        "Consumer Goods Rental",
        "General Rental Centers",
        "Comm & Industrial Mach Rental & Leasing",
        "Professional and Business Services",
        "Professional, Scientific and Technical S",
        "Legal Services",
        "Accounting, Tax Preparation and Bookkeep",
        "Architectural, Engineering and Related S",
        "Specialized Design Services",
        "Computer Systems Design and Related Serv",
        "Management, Scientific and Technical Con",
        "Scientific Research and Development Serv",
        "Advertising and Related Services",
        "Other Professional, Scientific and Techn",
        "Management of Companies and Enterprises",
        "Administrative and Support and Waste Ser",
        "Administrative and Support Services",
        "Office Administrative Services",
        "Facilities Support Serv.",
        "Employment Services",
        "Business Support Services",
        "Travel Arrangement and Reservation Servi",
        "Investigation and Security Services",
        "Services to Buildings and Dwellings",
        "ResidualOther Support Services",
        "Waste Management and Remediation Service",
        "Educational and Health Services",
        "Educational Services",
        "Elementary and Secondary Schools",
        "Junior Colleges",
        "Colleges, Universities and Professional",
        "Other Schools & Instruction",
        "Health Care and Social Assistance",
        "Ambulatory Health Care Services",
        "Offices of Physicians",
        "Offices of Dentists",
        "Offices of Other Health Practitioners",
        "Outpatient Care Centers",
        "Medical & Diagnostic Laboratories",
        "Home Health Care Serv.",
        "Other Ambulatory Health Care Serv.",
        "Hospitals",
        "General Medical & Surgical Hosp.s",
        "Psychiatric & Substance Abuse Hosp",
        "Specialty (not Psych, Sub Abuse) Hosp.",
        "Nursing and Residential Care Facilities",
        "Nursing Care Facilities",
        "Residential Mental Retardation, Mental a",
        "Comm Care Facilities for the Elderly",
        "Other Residential Care Facilities",
        "Social Assistance",
        "Individual and Family Services",
        "Community Food & Housing, & Emergency &",
        "Vocational Rehabilitation Services",
        "Child Day Care Services",
        "Leisure and Hospitality",
        "Arts, Entertainment, and Recreation",
        "Performing Arts, Spectator Sports",
        "Performing Arts Companies",
        "Spectator Sports",
        "Independent Artists, Writers, and Perfor",
        "Museums, Historical Sites, and Similar I",
        "Amusement, Gambling, and Recreation",
        "Amusement Parks and Arcades",
        "Gambling Industries",
        "Other Amusement and Recreation",
        "Accommodation and Food Service",
        "Accommodation",
        "Food Services and Drinking Places",
        "Special Food Services",
        "Drinking Places (Alcoholic Beverages)",
        "Full-Service Restaurants",
        "Limited-Service Eating Places",
        "Other Services",
        "Repair and Maintenance",
        "Auto Repair & Maintenance",
        "Commercial & Industrial Machinery",
        "Personal & Household Goods Repair",
        "Personal and Laundry Services",
        "Personal Care Serv.",
        "Drycleaning & Laundry Serv.",
        "Other Personal Services",
        "Religious, Grantmaking, Civic, Professio",
        "Religious Organizations",
        "Grantmaking & Giving Serv.",
        "Social Advocacy Organizations",
        "Civic & Social Organizations",
        "Bus,Labor, Political & Other like Org.",
        "Government",
        "Federal Government",
        "Federal Government excluding Department of Defense",
        "Department of Defense",
        "State Government",
        "State Government Education",
        "State Government Excluding Education",
        "Local Government",
        "Indian Tribes",
        "Local Government Education",
        "Local Government Excluding Education",
        "County",
        "City",
        "Special Districts",
        "State and Local Government",
        "Miscellaneous Durable Goods Merchant Who",
        "Real Estate and Rental and Leasing - Residual",
        "Restaurants",
        "Special Districts plus Indian Tribes",
        "Private Service Providing - Residual"
       ],
       "description": "industry_title",
       "index": 0,
       "layout": "IPY_MODEL_9367fc49ca5f4c299c9774cc5df2bba0",
       "style": "IPY_MODEL_ba5bc8e8a76c4ddabc44319c0c3656e3"
      }
     },
     "6de4145c0f1648c4854769d0af7fd135": {
      "model_module": "@jupyter-widgets/base",
      "model_module_version": "1.1.0",
      "model_name": "LayoutModel",
      "state": {}
     },
     "6ff5fb65349e420cb9e4c0fc6c550ad2": {
      "model_module": "@jupyter-widgets/controls",
      "model_module_version": "1.4.0",
      "model_name": "DescriptionStyleModel",
      "state": {
       "description_width": ""
      }
     },
     "6ffdc4a09e254701a09241f7a88f3be4": {
      "model_module": "@jupyter-widgets/controls",
      "model_module_version": "1.4.0",
      "model_name": "DropdownModel",
      "state": {
       "_options_labels": [
        "State",
        "Metropolitan Area",
        "County"
       ],
       "description": "area_type",
       "index": 0,
       "layout": "IPY_MODEL_90b4cce182f548e885866882a4b93b5a",
       "style": "IPY_MODEL_02e54d8c244743348dfa84fbaa5c821d"
      }
     },
     "7039a23589a44e2d8030c1bcad6e6ec5": {
      "model_module": "@jupyter-widgets/controls",
      "model_module_version": "1.4.0",
      "model_name": "ButtonStyleModel",
      "state": {}
     },
     "7096b9470d1f4c06890f41e5ba1b4bbe": {
      "model_module": "@jupyter-widgets/controls",
      "model_module_version": "1.4.0",
      "model_name": "ButtonStyleModel",
      "state": {}
     },
     "70a34419ee174efbb219ea5ca0783244": {
      "model_module": "@jupyter-widgets/output",
      "model_module_version": "1.0.0",
      "model_name": "OutputModel",
      "state": {
       "layout": "IPY_MODEL_464d52b9b6aa4fd5b7243e08c9896c43",
       "outputs": [
        {
         "data": {
          "image/png": "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\n",
          "text/plain": "<Figure size 432x288 with 1 Axes>"
         },
         "metadata": {
          "needs_background": "light"
         },
         "output_type": "display_data"
        }
       ]
      }
     },
     "70c47589e713492dbcfab628f1637cd9": {
      "model_module": "@jupyter-widgets/base",
      "model_module_version": "1.1.0",
      "model_name": "LayoutModel",
      "state": {}
     },
     "70ee5730a5c64eea8295eda4595df06a": {
      "model_module": "@jupyter-widgets/controls",
      "model_module_version": "1.4.0",
      "model_name": "ButtonModel",
      "state": {
       "description": "Run Interact",
       "layout": "IPY_MODEL_9558c09f25cf429086bf198af624cb95",
       "style": "IPY_MODEL_a4ca8c36bc56469e85bb0278f10b1526"
      }
     },
     "71a3f780534a4e3c9ba041661f017e97": {
      "model_module": "@jupyter-widgets/controls",
      "model_module_version": "1.4.0",
      "model_name": "DescriptionStyleModel",
      "state": {
       "description_width": ""
      }
     },
     "72d0a95f2af64012984920562dfb9562": {
      "model_module": "@jupyter-widgets/controls",
      "model_module_version": "1.4.0",
      "model_name": "DescriptionStyleModel",
      "state": {
       "description_width": ""
      }
     },
     "72d70766b5df43398411019dbde7c5ef": {
      "model_module": "@jupyter-widgets/base",
      "model_module_version": "1.1.0",
      "model_name": "LayoutModel",
      "state": {}
     },
     "72e9555b2e19434aac113555fcc368bb": {
      "model_module": "@jupyter-widgets/controls",
      "model_module_version": "1.4.0",
      "model_name": "ButtonStyleModel",
      "state": {}
     },
     "735285d7ef074ea19aa88948d260e2a3": {
      "model_module": "@jupyter-widgets/output",
      "model_module_version": "1.0.0",
      "model_name": "OutputModel",
      "state": {
       "layout": "IPY_MODEL_7c816b91d3064a7eace425869ea8accf",
       "outputs": [
        {
         "name": "stdout",
         "output_type": "stream",
         "text": "Total Nonfarm\n"
        },
        {
         "ename": "KeyError",
         "evalue": "'month'",
         "output_type": "error",
         "traceback": [
          "\u001b[0;31m---------------------------------------------------------------------------\u001b[0m",
          "\u001b[0;31mKeyError\u001b[0m                                  Traceback (most recent call last)",
          "\u001b[0;32m/opt/conda/lib/python3.6/site-packages/pandas/core/indexes/base.py\u001b[0m in \u001b[0;36mget_loc\u001b[0;34m(self, key, method, tolerance)\u001b[0m\n\u001b[1;32m   3077\u001b[0m             \u001b[0;32mtry\u001b[0m\u001b[0;34m:\u001b[0m\u001b[0;34m\u001b[0m\u001b[0m\n\u001b[0;32m-> 3078\u001b[0;31m                 \u001b[0;32mreturn\u001b[0m \u001b[0mself\u001b[0m\u001b[0;34m.\u001b[0m\u001b[0m_engine\u001b[0m\u001b[0;34m.\u001b[0m\u001b[0mget_loc\u001b[0m\u001b[0;34m(\u001b[0m\u001b[0mkey\u001b[0m\u001b[0;34m)\u001b[0m\u001b[0;34m\u001b[0m\u001b[0m\n\u001b[0m\u001b[1;32m   3079\u001b[0m             \u001b[0;32mexcept\u001b[0m \u001b[0mKeyError\u001b[0m\u001b[0;34m:\u001b[0m\u001b[0;34m\u001b[0m\u001b[0m\n",
          "\u001b[0;32mpandas/_libs/index.pyx\u001b[0m in \u001b[0;36mpandas._libs.index.IndexEngine.get_loc\u001b[0;34m()\u001b[0m\n",
          "\u001b[0;32mpandas/_libs/index.pyx\u001b[0m in \u001b[0;36mpandas._libs.index.IndexEngine.get_loc\u001b[0;34m()\u001b[0m\n",
          "\u001b[0;32mpandas/_libs/hashtable_class_helper.pxi\u001b[0m in \u001b[0;36mpandas._libs.hashtable.PyObjectHashTable.get_item\u001b[0;34m()\u001b[0m\n",
          "\u001b[0;32mpandas/_libs/hashtable_class_helper.pxi\u001b[0m in \u001b[0;36mpandas._libs.hashtable.PyObjectHashTable.get_item\u001b[0;34m()\u001b[0m\n",
          "\u001b[0;31mKeyError\u001b[0m: 'month'",
          "\nDuring handling of the above exception, another exception occurred:\n",
          "\u001b[0;31mKeyError\u001b[0m                                  Traceback (most recent call last)",
          "\u001b[0;32m/opt/conda/lib/python3.6/site-packages/ipywidgets/widgets/interaction.py\u001b[0m in \u001b[0;36mupdate\u001b[0;34m(self, *args)\u001b[0m\n\u001b[1;32m    249\u001b[0m                     \u001b[0mvalue\u001b[0m \u001b[0;34m=\u001b[0m \u001b[0mwidget\u001b[0m\u001b[0;34m.\u001b[0m\u001b[0mget_interact_value\u001b[0m\u001b[0;34m(\u001b[0m\u001b[0;34m)\u001b[0m\u001b[0;34m\u001b[0m\u001b[0m\n\u001b[1;32m    250\u001b[0m                     \u001b[0mself\u001b[0m\u001b[0;34m.\u001b[0m\u001b[0mkwargs\u001b[0m\u001b[0;34m[\u001b[0m\u001b[0mwidget\u001b[0m\u001b[0;34m.\u001b[0m\u001b[0m_kwarg\u001b[0m\u001b[0;34m]\u001b[0m \u001b[0;34m=\u001b[0m \u001b[0mvalue\u001b[0m\u001b[0;34m\u001b[0m\u001b[0m\n\u001b[0;32m--> 251\u001b[0;31m                 \u001b[0mself\u001b[0m\u001b[0;34m.\u001b[0m\u001b[0mresult\u001b[0m \u001b[0;34m=\u001b[0m \u001b[0mself\u001b[0m\u001b[0;34m.\u001b[0m\u001b[0mf\u001b[0m\u001b[0;34m(\u001b[0m\u001b[0;34m**\u001b[0m\u001b[0mself\u001b[0m\u001b[0;34m.\u001b[0m\u001b[0mkwargs\u001b[0m\u001b[0;34m)\u001b[0m\u001b[0;34m\u001b[0m\u001b[0m\n\u001b[0m\u001b[1;32m    252\u001b[0m                 \u001b[0mshow_inline_matplotlib_plots\u001b[0m\u001b[0;34m(\u001b[0m\u001b[0;34m)\u001b[0m\u001b[0;34m\u001b[0m\u001b[0m\n\u001b[1;32m    253\u001b[0m                 \u001b[0;32mif\u001b[0m \u001b[0mself\u001b[0m\u001b[0;34m.\u001b[0m\u001b[0mauto_display\u001b[0m \u001b[0;32mand\u001b[0m \u001b[0mself\u001b[0m\u001b[0;34m.\u001b[0m\u001b[0mresult\u001b[0m \u001b[0;32mis\u001b[0m \u001b[0;32mnot\u001b[0m \u001b[0;32mNone\u001b[0m\u001b[0;34m:\u001b[0m\u001b[0;34m\u001b[0m\u001b[0m\n",
          "\u001b[0;32m<ipython-input-76-6db203f95173>\u001b[0m in \u001b[0;36mfilter_by_year_month\u001b[0;34m(industry_title, area_type)\u001b[0m\n\u001b[1;32m      6\u001b[0m     \u001b[0;32mif\u001b[0m \u001b[0mlen\u001b[0m\u001b[0;34m(\u001b[0m\u001b[0mdata\u001b[0m\u001b[0;34m)\u001b[0m \u001b[0;34m>\u001b[0m \u001b[0;36m0\u001b[0m\u001b[0;34m:\u001b[0m\u001b[0;34m\u001b[0m\u001b[0m\n\u001b[1;32m      7\u001b[0m         \u001b[0mdata_pivot\u001b[0m \u001b[0;34m=\u001b[0m \u001b[0mdata\u001b[0m\u001b[0;34m[\u001b[0m\u001b[0;34m[\u001b[0m\u001b[0;34m'current employment'\u001b[0m\u001b[0;34m,\u001b[0m \u001b[0;34m'month'\u001b[0m\u001b[0;34m]\u001b[0m\u001b[0;34m]\u001b[0m\u001b[0;34m.\u001b[0m\u001b[0mpivot\u001b[0m\u001b[0;34m(\u001b[0m\u001b[0mcolumns\u001b[0m\u001b[0;34m=\u001b[0m\u001b[0;34m'month'\u001b[0m\u001b[0;34m,\u001b[0m \u001b[0mvalues\u001b[0m\u001b[0;34m=\u001b[0m\u001b[0;34m'current employment'\u001b[0m\u001b[0;34m)\u001b[0m\u001b[0;34m\u001b[0m\u001b[0m\n\u001b[0;32m----> 8\u001b[0;31m         \u001b[0mprint\u001b[0m\u001b[0;34m(\u001b[0m\u001b[0;34m(\u001b[0m\u001b[0mdata_pivot\u001b[0m\u001b[0;34m[\u001b[0m\u001b[0;34m'month'\u001b[0m\u001b[0;34m]\u001b[0m\u001b[0;34m)\u001b[0m\u001b[0;34m)\u001b[0m\u001b[0;34m\u001b[0m\u001b[0m\n\u001b[0m\u001b[1;32m      9\u001b[0m         \u001b[0mdata_pivot\u001b[0m\u001b[0;34m.\u001b[0m\u001b[0mplot\u001b[0m\u001b[0;34m(\u001b[0m\u001b[0mkind\u001b[0m\u001b[0;34m=\u001b[0m\u001b[0;34m'box'\u001b[0m\u001b[0;34m,\u001b[0m\u001b[0mfigsize\u001b[0m\u001b[0;34m=\u001b[0m\u001b[0;34m(\u001b[0m\u001b[0;36m16\u001b[0m\u001b[0;34m,\u001b[0m\u001b[0;36m10\u001b[0m\u001b[0;34m)\u001b[0m\u001b[0;34m)\u001b[0m\u001b[0;34m\u001b[0m\u001b[0m\n",
          "\u001b[0;32m/opt/conda/lib/python3.6/site-packages/pandas/core/frame.py\u001b[0m in \u001b[0;36m__getitem__\u001b[0;34m(self, key)\u001b[0m\n\u001b[1;32m   2686\u001b[0m             \u001b[0;32mreturn\u001b[0m \u001b[0mself\u001b[0m\u001b[0;34m.\u001b[0m\u001b[0m_getitem_multilevel\u001b[0m\u001b[0;34m(\u001b[0m\u001b[0mkey\u001b[0m\u001b[0;34m)\u001b[0m\u001b[0;34m\u001b[0m\u001b[0m\n\u001b[1;32m   2687\u001b[0m         \u001b[0;32melse\u001b[0m\u001b[0;34m:\u001b[0m\u001b[0;34m\u001b[0m\u001b[0m\n\u001b[0;32m-> 2688\u001b[0;31m             \u001b[0;32mreturn\u001b[0m \u001b[0mself\u001b[0m\u001b[0;34m.\u001b[0m\u001b[0m_getitem_column\u001b[0m\u001b[0;34m(\u001b[0m\u001b[0mkey\u001b[0m\u001b[0;34m)\u001b[0m\u001b[0;34m\u001b[0m\u001b[0m\n\u001b[0m\u001b[1;32m   2689\u001b[0m \u001b[0;34m\u001b[0m\u001b[0m\n\u001b[1;32m   2690\u001b[0m     \u001b[0;32mdef\u001b[0m \u001b[0m_getitem_column\u001b[0m\u001b[0;34m(\u001b[0m\u001b[0mself\u001b[0m\u001b[0;34m,\u001b[0m \u001b[0mkey\u001b[0m\u001b[0;34m)\u001b[0m\u001b[0;34m:\u001b[0m\u001b[0;34m\u001b[0m\u001b[0m\n",
          "\u001b[0;32m/opt/conda/lib/python3.6/site-packages/pandas/core/frame.py\u001b[0m in \u001b[0;36m_getitem_column\u001b[0;34m(self, key)\u001b[0m\n\u001b[1;32m   2693\u001b[0m         \u001b[0;31m# get column\u001b[0m\u001b[0;34m\u001b[0m\u001b[0;34m\u001b[0m\u001b[0m\n\u001b[1;32m   2694\u001b[0m         \u001b[0;32mif\u001b[0m \u001b[0mself\u001b[0m\u001b[0;34m.\u001b[0m\u001b[0mcolumns\u001b[0m\u001b[0;34m.\u001b[0m\u001b[0mis_unique\u001b[0m\u001b[0;34m:\u001b[0m\u001b[0;34m\u001b[0m\u001b[0m\n\u001b[0;32m-> 2695\u001b[0;31m             \u001b[0;32mreturn\u001b[0m \u001b[0mself\u001b[0m\u001b[0;34m.\u001b[0m\u001b[0m_get_item_cache\u001b[0m\u001b[0;34m(\u001b[0m\u001b[0mkey\u001b[0m\u001b[0;34m)\u001b[0m\u001b[0;34m\u001b[0m\u001b[0m\n\u001b[0m\u001b[1;32m   2696\u001b[0m \u001b[0;34m\u001b[0m\u001b[0m\n\u001b[1;32m   2697\u001b[0m         \u001b[0;31m# duplicate columns & possible reduce dimensionality\u001b[0m\u001b[0;34m\u001b[0m\u001b[0;34m\u001b[0m\u001b[0m\n",
          "\u001b[0;32m/opt/conda/lib/python3.6/site-packages/pandas/core/generic.py\u001b[0m in \u001b[0;36m_get_item_cache\u001b[0;34m(self, item)\u001b[0m\n\u001b[1;32m   2487\u001b[0m         \u001b[0mres\u001b[0m \u001b[0;34m=\u001b[0m \u001b[0mcache\u001b[0m\u001b[0;34m.\u001b[0m\u001b[0mget\u001b[0m\u001b[0;34m(\u001b[0m\u001b[0mitem\u001b[0m\u001b[0;34m)\u001b[0m\u001b[0;34m\u001b[0m\u001b[0m\n\u001b[1;32m   2488\u001b[0m         \u001b[0;32mif\u001b[0m \u001b[0mres\u001b[0m \u001b[0;32mis\u001b[0m \u001b[0;32mNone\u001b[0m\u001b[0;34m:\u001b[0m\u001b[0;34m\u001b[0m\u001b[0m\n\u001b[0;32m-> 2489\u001b[0;31m             \u001b[0mvalues\u001b[0m \u001b[0;34m=\u001b[0m \u001b[0mself\u001b[0m\u001b[0;34m.\u001b[0m\u001b[0m_data\u001b[0m\u001b[0;34m.\u001b[0m\u001b[0mget\u001b[0m\u001b[0;34m(\u001b[0m\u001b[0mitem\u001b[0m\u001b[0;34m)\u001b[0m\u001b[0;34m\u001b[0m\u001b[0m\n\u001b[0m\u001b[1;32m   2490\u001b[0m             \u001b[0mres\u001b[0m \u001b[0;34m=\u001b[0m \u001b[0mself\u001b[0m\u001b[0;34m.\u001b[0m\u001b[0m_box_item_values\u001b[0m\u001b[0;34m(\u001b[0m\u001b[0mitem\u001b[0m\u001b[0;34m,\u001b[0m \u001b[0mvalues\u001b[0m\u001b[0;34m)\u001b[0m\u001b[0;34m\u001b[0m\u001b[0m\n\u001b[1;32m   2491\u001b[0m             \u001b[0mcache\u001b[0m\u001b[0;34m[\u001b[0m\u001b[0mitem\u001b[0m\u001b[0;34m]\u001b[0m \u001b[0;34m=\u001b[0m \u001b[0mres\u001b[0m\u001b[0;34m\u001b[0m\u001b[0m\n",
          "\u001b[0;32m/opt/conda/lib/python3.6/site-packages/pandas/core/internals.py\u001b[0m in \u001b[0;36mget\u001b[0;34m(self, item, fastpath)\u001b[0m\n\u001b[1;32m   4113\u001b[0m \u001b[0;34m\u001b[0m\u001b[0m\n\u001b[1;32m   4114\u001b[0m             \u001b[0;32mif\u001b[0m \u001b[0;32mnot\u001b[0m \u001b[0misna\u001b[0m\u001b[0;34m(\u001b[0m\u001b[0mitem\u001b[0m\u001b[0;34m)\u001b[0m\u001b[0;34m:\u001b[0m\u001b[0;34m\u001b[0m\u001b[0m\n\u001b[0;32m-> 4115\u001b[0;31m                 \u001b[0mloc\u001b[0m \u001b[0;34m=\u001b[0m \u001b[0mself\u001b[0m\u001b[0;34m.\u001b[0m\u001b[0mitems\u001b[0m\u001b[0;34m.\u001b[0m\u001b[0mget_loc\u001b[0m\u001b[0;34m(\u001b[0m\u001b[0mitem\u001b[0m\u001b[0;34m)\u001b[0m\u001b[0;34m\u001b[0m\u001b[0m\n\u001b[0m\u001b[1;32m   4116\u001b[0m             \u001b[0;32melse\u001b[0m\u001b[0;34m:\u001b[0m\u001b[0;34m\u001b[0m\u001b[0m\n\u001b[1;32m   4117\u001b[0m                 \u001b[0mindexer\u001b[0m \u001b[0;34m=\u001b[0m \u001b[0mnp\u001b[0m\u001b[0;34m.\u001b[0m\u001b[0marange\u001b[0m\u001b[0;34m(\u001b[0m\u001b[0mlen\u001b[0m\u001b[0;34m(\u001b[0m\u001b[0mself\u001b[0m\u001b[0;34m.\u001b[0m\u001b[0mitems\u001b[0m\u001b[0;34m)\u001b[0m\u001b[0;34m)\u001b[0m\u001b[0;34m[\u001b[0m\u001b[0misna\u001b[0m\u001b[0;34m(\u001b[0m\u001b[0mself\u001b[0m\u001b[0;34m.\u001b[0m\u001b[0mitems\u001b[0m\u001b[0;34m)\u001b[0m\u001b[0;34m]\u001b[0m\u001b[0;34m\u001b[0m\u001b[0m\n",
          "\u001b[0;32m/opt/conda/lib/python3.6/site-packages/pandas/core/indexes/base.py\u001b[0m in \u001b[0;36mget_loc\u001b[0;34m(self, key, method, tolerance)\u001b[0m\n\u001b[1;32m   3078\u001b[0m                 \u001b[0;32mreturn\u001b[0m \u001b[0mself\u001b[0m\u001b[0;34m.\u001b[0m\u001b[0m_engine\u001b[0m\u001b[0;34m.\u001b[0m\u001b[0mget_loc\u001b[0m\u001b[0;34m(\u001b[0m\u001b[0mkey\u001b[0m\u001b[0;34m)\u001b[0m\u001b[0;34m\u001b[0m\u001b[0m\n\u001b[1;32m   3079\u001b[0m             \u001b[0;32mexcept\u001b[0m \u001b[0mKeyError\u001b[0m\u001b[0;34m:\u001b[0m\u001b[0;34m\u001b[0m\u001b[0m\n\u001b[0;32m-> 3080\u001b[0;31m                 \u001b[0;32mreturn\u001b[0m \u001b[0mself\u001b[0m\u001b[0;34m.\u001b[0m\u001b[0m_engine\u001b[0m\u001b[0;34m.\u001b[0m\u001b[0mget_loc\u001b[0m\u001b[0;34m(\u001b[0m\u001b[0mself\u001b[0m\u001b[0;34m.\u001b[0m\u001b[0m_maybe_cast_indexer\u001b[0m\u001b[0;34m(\u001b[0m\u001b[0mkey\u001b[0m\u001b[0;34m)\u001b[0m\u001b[0;34m)\u001b[0m\u001b[0;34m\u001b[0m\u001b[0m\n\u001b[0m\u001b[1;32m   3081\u001b[0m \u001b[0;34m\u001b[0m\u001b[0m\n\u001b[1;32m   3082\u001b[0m         \u001b[0mindexer\u001b[0m \u001b[0;34m=\u001b[0m \u001b[0mself\u001b[0m\u001b[0;34m.\u001b[0m\u001b[0mget_indexer\u001b[0m\u001b[0;34m(\u001b[0m\u001b[0;34m[\u001b[0m\u001b[0mkey\u001b[0m\u001b[0;34m]\u001b[0m\u001b[0;34m,\u001b[0m \u001b[0mmethod\u001b[0m\u001b[0;34m=\u001b[0m\u001b[0mmethod\u001b[0m\u001b[0;34m,\u001b[0m \u001b[0mtolerance\u001b[0m\u001b[0;34m=\u001b[0m\u001b[0mtolerance\u001b[0m\u001b[0;34m)\u001b[0m\u001b[0;34m\u001b[0m\u001b[0m\n",
          "\u001b[0;32mpandas/_libs/index.pyx\u001b[0m in \u001b[0;36mpandas._libs.index.IndexEngine.get_loc\u001b[0;34m()\u001b[0m\n",
          "\u001b[0;32mpandas/_libs/index.pyx\u001b[0m in \u001b[0;36mpandas._libs.index.IndexEngine.get_loc\u001b[0;34m()\u001b[0m\n",
          "\u001b[0;32mpandas/_libs/hashtable_class_helper.pxi\u001b[0m in \u001b[0;36mpandas._libs.hashtable.PyObjectHashTable.get_item\u001b[0;34m()\u001b[0m\n",
          "\u001b[0;32mpandas/_libs/hashtable_class_helper.pxi\u001b[0m in \u001b[0;36mpandas._libs.hashtable.PyObjectHashTable.get_item\u001b[0;34m()\u001b[0m\n",
          "\u001b[0;31mKeyError\u001b[0m: 'month'"
         ]
        }
       ]
      }
     },
     "7394846555594cc89fc50b6f966d281e": {
      "model_module": "@jupyter-widgets/base",
      "model_module_version": "1.1.0",
      "model_name": "LayoutModel",
      "state": {}
     },
     "746ff358da5044cb9aeb83cedcb31921": {
      "model_module": "@jupyter-widgets/controls",
      "model_module_version": "1.4.0",
      "model_name": "ButtonStyleModel",
      "state": {}
     },
     "74b14e749e1a43a7a0af2ba4e1bdf2c1": {
      "model_module": "@jupyter-widgets/controls",
      "model_module_version": "1.4.0",
      "model_name": "DropdownModel",
      "state": {
       "_options_labels": [
        "State",
        "Metropolitan Area",
        "County"
       ],
       "description": "area_type",
       "index": 0,
       "layout": "IPY_MODEL_c1986f8849794a1b9758be47ca97f94a",
       "style": "IPY_MODEL_4b7f616d82bd4745a1117a46ce12dfff"
      }
     },
     "74d32e03c9664e79906976c7ff527303": {
      "model_module": "@jupyter-widgets/base",
      "model_module_version": "1.1.0",
      "model_name": "LayoutModel",
      "state": {}
     },
     "74ed77b0ce3b4799bee46a08eb2a39ee": {
      "model_module": "@jupyter-widgets/controls",
      "model_module_version": "1.4.0",
      "model_name": "ButtonModel",
      "state": {
       "description": "Run Interact",
       "layout": "IPY_MODEL_f55700950b974479b75987e1de58c456",
       "style": "IPY_MODEL_6432c3d078964b9bbe314ea0e7256bdb"
      }
     },
     "75616d2079ce4dc4a2abb0a62d4dde41": {
      "model_module": "@jupyter-widgets/controls",
      "model_module_version": "1.4.0",
      "model_name": "DropdownModel",
      "state": {
       "_options_labels": [
        "State",
        "Metropolitan Area",
        "County"
       ],
       "description": "area_type",
       "index": 0,
       "layout": "IPY_MODEL_4546160b561244848083af2f48575264",
       "style": "IPY_MODEL_2410dc916f01468585fefaf2f4311fb1"
      }
     },
     "75b6b019d0ae44a19b047e2a8fc13a65": {
      "model_module": "@jupyter-widgets/controls",
      "model_module_version": "1.4.0",
      "model_name": "ButtonStyleModel",
      "state": {}
     },
     "760fb56ce20947cea6aa8828f1b29764": {
      "model_module": "@jupyter-widgets/controls",
      "model_module_version": "1.4.0",
      "model_name": "ButtonModel",
      "state": {
       "description": "Run Interact",
       "layout": "IPY_MODEL_dcc74f3660f54e0fa141952e9fb189d9",
       "style": "IPY_MODEL_e5e015d73f7249e291f07ad3e2a78a10"
      }
     },
     "77242dd26b9f4795aff13e74a96d8273": {
      "model_module": "@jupyter-widgets/base",
      "model_module_version": "1.1.0",
      "model_name": "LayoutModel",
      "state": {}
     },
     "777f0c4f9c3f4bbbbd21ae722e2153b9": {
      "model_module": "@jupyter-widgets/controls",
      "model_module_version": "1.4.0",
      "model_name": "DescriptionStyleModel",
      "state": {
       "description_width": ""
      }
     },
     "77968496e13c453aa9476d79d500ab6e": {
      "model_module": "@jupyter-widgets/controls",
      "model_module_version": "1.4.0",
      "model_name": "VBoxModel",
      "state": {
       "_dom_classes": [
        "widget-interact"
       ],
       "children": [
        "IPY_MODEL_9c12761b622e4d13b190afdb769fa6da",
        "IPY_MODEL_6842701163584724bab7b74bdce4fc92",
        "IPY_MODEL_92f9cbe4354e43c4b16b451815be116f",
        "IPY_MODEL_760fb56ce20947cea6aa8828f1b29764",
        "IPY_MODEL_33fd457b55ee41199b78d9ae224b1149"
       ],
       "layout": "IPY_MODEL_602e1ff65c304c9891331636dee49174"
      }
     },
     "7835592829d040228287c97ab55d6a1d": {
      "model_module": "@jupyter-widgets/base",
      "model_module_version": "1.1.0",
      "model_name": "LayoutModel",
      "state": {}
     },
     "79adf2382e30478a8a0b1e61630f7555": {
      "model_module": "@jupyter-widgets/base",
      "model_module_version": "1.1.0",
      "model_name": "LayoutModel",
      "state": {}
     },
     "7a1e393c91654db495f37fb7fa269461": {
      "model_module": "@jupyter-widgets/base",
      "model_module_version": "1.1.0",
      "model_name": "LayoutModel",
      "state": {}
     },
     "7a6fea17d59842eb8088c802ef3ecc6c": {
      "model_module": "@jupyter-widgets/base",
      "model_module_version": "1.1.0",
      "model_name": "LayoutModel",
      "state": {}
     },
     "7aa9f02534474c6c901ac4bbbcafc0a2": {
      "model_module": "@jupyter-widgets/controls",
      "model_module_version": "1.4.0",
      "model_name": "VBoxModel",
      "state": {
       "_dom_classes": [
        "widget-interact"
       ],
       "children": [
        "IPY_MODEL_34b35f1407a1478bba36683076b62aab",
        "IPY_MODEL_f006da537aa94bb0b994e4d99f04ced5",
        "IPY_MODEL_257da1d1eb21453ca547a98eaa67eb7f",
        "IPY_MODEL_87bdadd131c54b27ad09fec866b18fc0"
       ],
       "layout": "IPY_MODEL_c129eacfaf6940e4b4f55ab336dd6764"
      }
     },
     "7ad1ad3d57ba453ba6056f861accdc4c": {
      "model_module": "@jupyter-widgets/base",
      "model_module_version": "1.1.0",
      "model_name": "LayoutModel",
      "state": {}
     },
     "7b6f611e22e449e5b9455d8503f2f7eb": {
      "model_module": "@jupyter-widgets/base",
      "model_module_version": "1.1.0",
      "model_name": "LayoutModel",
      "state": {}
     },
     "7b7759f7d9b24d2daa4ebae12bacb082": {
      "model_module": "@jupyter-widgets/controls",
      "model_module_version": "1.4.0",
      "model_name": "VBoxModel",
      "state": {
       "_dom_classes": [
        "widget-interact"
       ],
       "children": [
        "IPY_MODEL_67d95aa80b794c998ba7a732754db1e2",
        "IPY_MODEL_ae640dff7bf94cd584a2667f5920c4fb",
        "IPY_MODEL_9ecedb055cde494ba89fc834d06ed2e0",
        "IPY_MODEL_0c9561713e8346ffbeab26d20bb07577"
       ],
       "layout": "IPY_MODEL_edfd0781d40f44c0b324ba08ccac9398"
      }
     },
     "7c77d2d0bdaa4465ba9ddff984ad6041": {
      "model_module": "@jupyter-widgets/base",
      "model_module_version": "1.1.0",
      "model_name": "LayoutModel",
      "state": {}
     },
     "7c816b91d3064a7eace425869ea8accf": {
      "model_module": "@jupyter-widgets/base",
      "model_module_version": "1.1.0",
      "model_name": "LayoutModel",
      "state": {}
     },
     "7ca0e382955842d484d2cd0517e8e88b": {
      "model_module": "@jupyter-widgets/base",
      "model_module_version": "1.1.0",
      "model_name": "LayoutModel",
      "state": {}
     },
     "7cbd52a830dc4da18012c19c59abf070": {
      "model_module": "@jupyter-widgets/controls",
      "model_module_version": "1.4.0",
      "model_name": "CheckboxModel",
      "state": {
       "description": "grid",
       "disabled": false,
       "layout": "IPY_MODEL_ab5038d817a841de9fff1cff7393a4c7",
       "style": "IPY_MODEL_f9d5cfb66cc64b1fac14c4a9575c843c",
       "value": true
      }
     },
     "7d3c67d5d7b447cfba0867d3a6ab9bd4": {
      "model_module": "@jupyter-widgets/base",
      "model_module_version": "1.1.0",
      "model_name": "LayoutModel",
      "state": {}
     },
     "7d3e07b0d981404f82ec306851ead7e8": {
      "model_module": "@jupyter-widgets/controls",
      "model_module_version": "1.4.0",
      "model_name": "DescriptionStyleModel",
      "state": {
       "description_width": ""
      }
     },
     "7e1e5b2f70f349a7a9ba5457544f57a3": {
      "model_module": "@jupyter-widgets/base",
      "model_module_version": "1.1.0",
      "model_name": "LayoutModel",
      "state": {}
     },
     "80061b23d1de40979217caece4b63f39": {
      "model_module": "@jupyter-widgets/controls",
      "model_module_version": "1.4.0",
      "model_name": "ButtonStyleModel",
      "state": {}
     },
     "802e5d32460840a89e7883e2a5f8c148": {
      "model_module": "@jupyter-widgets/controls",
      "model_module_version": "1.4.0",
      "model_name": "DescriptionStyleModel",
      "state": {
       "description_width": ""
      }
     },
     "80e97c64085e41d99f0a2ea2f0c7b3dd": {
      "model_module": "@jupyter-widgets/base",
      "model_module_version": "1.1.0",
      "model_name": "LayoutModel",
      "state": {}
     },
     "82309c0dade1447c9d84a47a94631aa2": {
      "model_module": "@jupyter-widgets/controls",
      "model_module_version": "1.4.0",
      "model_name": "ButtonModel",
      "state": {
       "description": "Run Interact",
       "layout": "IPY_MODEL_22b1dd9a79ce4518baa8dae1a55129e0",
       "style": "IPY_MODEL_e9e92882f2764fd7ac1001af5bbc5dad"
      }
     },
     "824606c577cf4db982018d75e9cc73f5": {
      "model_module": "@jupyter-widgets/base",
      "model_module_version": "1.1.0",
      "model_name": "LayoutModel",
      "state": {}
     },
     "824f4a8b081444f38b8acdfa9e45922d": {
      "model_module": "@jupyter-widgets/controls",
      "model_module_version": "1.4.0",
      "model_name": "DescriptionStyleModel",
      "state": {
       "description_width": ""
      }
     },
     "837f28ef23f94aa3bd122c671ebdfda6": {
      "model_module": "@jupyter-widgets/controls",
      "model_module_version": "1.4.0",
      "model_name": "DropdownModel",
      "state": {
       "_options_labels": [
        "2019",
        "2018",
        "2017",
        "2016",
        "2015",
        "2014",
        "2013",
        "2012",
        "2011",
        "2010",
        "2009",
        "2008",
        "2007",
        "2006",
        "2005",
        "2004",
        "2003",
        "2002",
        "2001",
        "2000",
        "1999",
        "1998",
        "1997",
        "1996",
        "1995",
        "1994",
        "1993",
        "1992",
        "1991",
        "1990"
       ],
       "description": "year",
       "index": 0,
       "layout": "IPY_MODEL_2cbfe836fd954450a511fc1626abc3d5",
       "style": "IPY_MODEL_0102202e544d485ab1c10ac0f941841d"
      }
     },
     "84749d5944b14182b84a1ef6c2a48112": {
      "model_module": "@jupyter-widgets/base",
      "model_module_version": "1.1.0",
      "model_name": "LayoutModel",
      "state": {}
     },
     "84ee80a7a460489795b28e618d4e9313": {
      "model_module": "@jupyter-widgets/base",
      "model_module_version": "1.1.0",
      "model_name": "LayoutModel",
      "state": {}
     },
     "85de30523f264d678c02fb74c4c8953d": {
      "model_module": "@jupyter-widgets/base",
      "model_module_version": "1.1.0",
      "model_name": "LayoutModel",
      "state": {}
     },
     "865d419dab224cbb97afb367c2f32460": {
      "model_module": "@jupyter-widgets/base",
      "model_module_version": "1.1.0",
      "model_name": "LayoutModel",
      "state": {}
     },
     "86d68764890341b6ab4116bda5fb31c3": {
      "model_module": "@jupyter-widgets/controls",
      "model_module_version": "1.4.0",
      "model_name": "DescriptionStyleModel",
      "state": {
       "description_width": ""
      }
     },
     "87bdadd131c54b27ad09fec866b18fc0": {
      "model_module": "@jupyter-widgets/output",
      "model_module_version": "1.0.0",
      "model_name": "OutputModel",
      "state": {
       "layout": "IPY_MODEL_eb38ab10eebd4fbd8b5c6a4ee86388c3",
       "outputs": [
        {
         "data": {
          "image/png": "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\n",
          "text/plain": "<Figure size 432x288 with 1 Axes>"
         },
         "metadata": {
          "needs_background": "light"
         },
         "output_type": "display_data"
        }
       ]
      }
     },
     "884b45785caa4876b78fad8a4ae4bcaf": {
      "model_module": "@jupyter-widgets/base",
      "model_module_version": "1.1.0",
      "model_name": "LayoutModel",
      "state": {}
     },
     "884f17fa2f554f4d8ac6e62a3c2f600b": {
      "model_module": "@jupyter-widgets/controls",
      "model_module_version": "1.4.0",
      "model_name": "SliderStyleModel",
      "state": {
       "description_width": ""
      }
     },
     "8a6fc87bf91b48d4ad1c1097ccc6a4aa": {
      "model_module": "@jupyter-widgets/controls",
      "model_module_version": "1.4.0",
      "model_name": "FloatSliderModel",
      "state": {
       "description": "freq",
       "layout": "IPY_MODEL_e4ce4f8818904ed8b3b27add9aa59681",
       "max": 3,
       "min": -1,
       "step": 0.1,
       "style": "IPY_MODEL_66343ae0955942b0b399d4d43a27fd80",
       "value": 1
      }
     },
     "8aadfecb6eeb4ac88a0c69800822ba97": {
      "model_module": "@jupyter-widgets/base",
      "model_module_version": "1.1.0",
      "model_name": "LayoutModel",
      "state": {}
     },
     "8ae4e16c480c4de99e97d33c1e5e8803": {
      "model_module": "@jupyter-widgets/controls",
      "model_module_version": "1.4.0",
      "model_name": "ButtonStyleModel",
      "state": {}
     },
     "8b0729ed93ae4c7bb5a1e683e3f94f3f": {
      "model_module": "@jupyter-widgets/controls",
      "model_module_version": "1.4.0",
      "model_name": "ButtonStyleModel",
      "state": {}
     },
     "8bcd5005b42c4a70a27895e02054f994": {
      "model_module": "@jupyter-widgets/controls",
      "model_module_version": "1.4.0",
      "model_name": "DropdownModel",
      "state": {
       "_options_labels": [
        "State",
        "Metropolitan Area",
        "County"
       ],
       "description": "area_type",
       "index": 0,
       "layout": "IPY_MODEL_301dec84ff544c3b93eba74fcfb707b1",
       "style": "IPY_MODEL_e63924c4ae1c4fcdabde27c43607c34b"
      }
     },
     "8c2ad2bde84b408585a9ebfff8a4ce1f": {
      "model_module": "@jupyter-widgets/base",
      "model_module_version": "1.1.0",
      "model_name": "LayoutModel",
      "state": {}
     },
     "8c9ec7a6d3dd4d599692badf59a2dcb7": {
      "model_module": "@jupyter-widgets/base",
      "model_module_version": "1.1.0",
      "model_name": "LayoutModel",
      "state": {}
     },
     "8ca61f9dde7e471ca920915d4e08fc9e": {
      "model_module": "@jupyter-widgets/controls",
      "model_module_version": "1.4.0",
      "model_name": "DropdownModel",
      "state": {
       "_options_labels": [
        "State",
        "Metropolitan Area",
        "County"
       ],
       "description": "area_type",
       "index": 0,
       "layout": "IPY_MODEL_525e6fa7c96947b0818a1ebb045482ac",
       "style": "IPY_MODEL_f70400371a9142c9b495cb3f2ed5b5bc"
      }
     },
     "8cd8a418b4a54f1dbe4b5a52b2c7c269": {
      "model_module": "@jupyter-widgets/controls",
      "model_module_version": "1.4.0",
      "model_name": "ButtonModel",
      "state": {
       "description": "Run Interact",
       "layout": "IPY_MODEL_689c5df6b8324c3b912fecbb9148de2c",
       "style": "IPY_MODEL_114f103bcf2b401baf558e1db8e1f7fe"
      }
     },
     "8dc62070771c4dad86a8e6c8d885d5a0": {
      "model_module": "@jupyter-widgets/base",
      "model_module_version": "1.1.0",
      "model_name": "LayoutModel",
      "state": {}
     },
     "8e1816920f7c4d1db4a90eece224c2f2": {
      "model_module": "@jupyter-widgets/base",
      "model_module_version": "1.1.0",
      "model_name": "LayoutModel",
      "state": {}
     },
     "8e5afb48d11b4a938691e5a37278ff1a": {
      "model_module": "@jupyter-widgets/controls",
      "model_module_version": "1.4.0",
      "model_name": "DropdownModel",
      "state": {
       "_options_labels": [
        "area type",
        "area name",
        "year",
        "month",
        "date",
        "series code",
        "industry title",
        "seasonally adjusted",
        "current employment"
       ],
       "description": "Columns",
       "index": 3,
       "layout": "IPY_MODEL_ef778311fb524759a04c80e0f23a86e3",
       "style": "IPY_MODEL_eb67d489001f4874b1be7cb93986a693"
      }
     },
     "8e9727a2271b4751b80d6842def6c7bc": {
      "model_module": "@jupyter-widgets/base",
      "model_module_version": "1.1.0",
      "model_name": "LayoutModel",
      "state": {}
     },
     "8eb5d706e3a448499fc81bb27fba5772": {
      "model_module": "@jupyter-widgets/controls",
      "model_module_version": "1.4.0",
      "model_name": "ButtonStyleModel",
      "state": {}
     },
     "907155f28685437b827aa82c0ab46985": {
      "model_module": "@jupyter-widgets/controls",
      "model_module_version": "1.4.0",
      "model_name": "DescriptionStyleModel",
      "state": {
       "description_width": ""
      }
     },
     "907dac24616a4ad08f86c6fb09236077": {
      "model_module": "@jupyter-widgets/base",
      "model_module_version": "1.1.0",
      "model_name": "LayoutModel",
      "state": {}
     },
     "90b4cce182f548e885866882a4b93b5a": {
      "model_module": "@jupyter-widgets/base",
      "model_module_version": "1.1.0",
      "model_name": "LayoutModel",
      "state": {}
     },
     "90b953be378d401593b4fe286708ac80": {
      "model_module": "@jupyter-widgets/controls",
      "model_module_version": "1.4.0",
      "model_name": "DescriptionStyleModel",
      "state": {
       "description_width": ""
      }
     },
     "91caebecb8534044bc279694cadc0fbf": {
      "model_module": "@jupyter-widgets/controls",
      "model_module_version": "1.4.0",
      "model_name": "VBoxModel",
      "state": {
       "_dom_classes": [
        "widget-interact"
       ],
       "children": [
        "IPY_MODEL_1865a9b857674d3498c89a6251bb1310",
        "IPY_MODEL_b3530ab347114947972e942e2fa317c9",
        "IPY_MODEL_3a54544996a043929f7351b61ce7a93f",
        "IPY_MODEL_c8aa262cb4d645f3b4d4e88adf9dbbbf"
       ],
       "layout": "IPY_MODEL_e37be2b2632045b2a5e8fc9a1bccbf8f"
      }
     },
     "9207553ea58149a2b182d03296e5710b": {
      "model_module": "@jupyter-widgets/base",
      "model_module_version": "1.1.0",
      "model_name": "LayoutModel",
      "state": {}
     },
     "92f9cbe4354e43c4b16b451815be116f": {
      "model_module": "@jupyter-widgets/controls",
      "model_module_version": "1.4.0",
      "model_name": "DropdownModel",
      "state": {
       "_options_labels": [
        "State",
        "Metropolitan Area",
        "County"
       ],
       "description": "area_type",
       "index": 0,
       "layout": "IPY_MODEL_a8c1c48eb0634d6595eebc06780e8bce",
       "style": "IPY_MODEL_20d2228577e3446c879713267710a7fb"
      }
     },
     "9367fc49ca5f4c299c9774cc5df2bba0": {
      "model_module": "@jupyter-widgets/base",
      "model_module_version": "1.1.0",
      "model_name": "LayoutModel",
      "state": {}
     },
     "93c93d89475344538809c5339d263c48": {
      "model_module": "@jupyter-widgets/base",
      "model_module_version": "1.1.0",
      "model_name": "LayoutModel",
      "state": {}
     },
     "944e37c367b64693ad94465b60875a5c": {
      "model_module": "@jupyter-widgets/controls",
      "model_module_version": "1.4.0",
      "model_name": "DescriptionStyleModel",
      "state": {
       "description_width": ""
      }
     },
     "9451903295c742e789c1b9d366296c64": {
      "model_module": "@jupyter-widgets/base",
      "model_module_version": "1.1.0",
      "model_name": "LayoutModel",
      "state": {}
     },
     "94735ae359754e32b7ef5e507f0ddd82": {
      "model_module": "@jupyter-widgets/controls",
      "model_module_version": "1.4.0",
      "model_name": "DropdownModel",
      "state": {
       "_options_labels": [
        "June",
        "May",
        "April",
        "March",
        "February",
        "January",
        "December",
        "November",
        "October",
        "September",
        "August",
        "July"
       ],
       "description": "month",
       "index": 11,
       "layout": "IPY_MODEL_4788a7d173de4af5a8d3c21743239cd7",
       "style": "IPY_MODEL_409aa0c3c65a42f7a2c086a2621753d2"
      }
     },
     "947e4994cfb44c09bba328004e8bd649": {
      "model_module": "@jupyter-widgets/controls",
      "model_module_version": "1.4.0",
      "model_name": "DropdownModel",
      "state": {
       "_options_labels": [
        "State",
        "Metropolitan Area",
        "County"
       ],
       "description": "area_type",
       "index": 0,
       "layout": "IPY_MODEL_6b6177d1d0d64d2c837d37d9e04150b9",
       "style": "IPY_MODEL_a0ece4803726484e9ee74edb3ccc809f"
      }
     },
     "948134b1cf9a4831bc9b05010e819bda": {
      "model_module": "@jupyter-widgets/base",
      "model_module_version": "1.1.0",
      "model_name": "LayoutModel",
      "state": {}
     },
     "94bb7a5ffeb240228614636ef5b91d29": {
      "model_module": "@jupyter-widgets/base",
      "model_module_version": "1.1.0",
      "model_name": "LayoutModel",
      "state": {}
     },
     "94c9b136806d4d44beefa1d61cb840b8": {
      "model_module": "@jupyter-widgets/base",
      "model_module_version": "1.1.0",
      "model_name": "LayoutModel",
      "state": {}
     },
     "95532045ea27417c9ddb762b1a3b1a92": {
      "model_module": "@jupyter-widgets/controls",
      "model_module_version": "1.4.0",
      "model_name": "VBoxModel",
      "state": {
       "_dom_classes": [
        "widget-interact"
       ],
       "children": [
        "IPY_MODEL_e06f1562edc34237984ae8a0737318b4",
        "IPY_MODEL_f8e58406d2574767b944d2571785ae45",
        "IPY_MODEL_df087bc7de3042a9acf297a7cd5541b5",
        "IPY_MODEL_ef0f49f371764634879bdc818a5668d8",
        "IPY_MODEL_c1bd40e8b41a4bfa89935b88a2f010a8"
       ],
       "layout": "IPY_MODEL_015ff7e2b89942268bd040f430046f89"
      }
     },
     "9558c09f25cf429086bf198af624cb95": {
      "model_module": "@jupyter-widgets/base",
      "model_module_version": "1.1.0",
      "model_name": "LayoutModel",
      "state": {}
     },
     "956e45b6ce19406ba0d808f747cb6bf0": {
      "model_module": "@jupyter-widgets/base",
      "model_module_version": "1.1.0",
      "model_name": "LayoutModel",
      "state": {}
     },
     "964d06dd06f1403a856d7b1bba0d3c0f": {
      "model_module": "@jupyter-widgets/base",
      "model_module_version": "1.1.0",
      "model_name": "LayoutModel",
      "state": {}
     },
     "97117674793d4796b34cc21febc678e9": {
      "model_module": "@jupyter-widgets/base",
      "model_module_version": "1.1.0",
      "model_name": "LayoutModel",
      "state": {}
     },
     "973ab8f266bb4797ab92fdc0b6a05fdf": {
      "model_module": "@jupyter-widgets/controls",
      "model_module_version": "1.4.0",
      "model_name": "DescriptionStyleModel",
      "state": {
       "description_width": ""
      }
     },
     "9862f6c59dac41df843af1d77c868455": {
      "model_module": "@jupyter-widgets/base",
      "model_module_version": "1.1.0",
      "model_name": "LayoutModel",
      "state": {}
     },
     "99475e27b5bd4a2a81c272ab3c6563a0": {
      "model_module": "@jupyter-widgets/base",
      "model_module_version": "1.1.0",
      "model_name": "LayoutModel",
      "state": {}
     },
     "995873cecc79439baf228d9c71ead736": {
      "model_module": "@jupyter-widgets/controls",
      "model_module_version": "1.4.0",
      "model_name": "ButtonStyleModel",
      "state": {}
     },
     "9bf335867d8444b29c587c6178612ddc": {
      "model_module": "@jupyter-widgets/controls",
      "model_module_version": "1.4.0",
      "model_name": "DescriptionStyleModel",
      "state": {
       "description_width": ""
      }
     },
     "9c12761b622e4d13b190afdb769fa6da": {
      "model_module": "@jupyter-widgets/controls",
      "model_module_version": "1.4.0",
      "model_name": "DropdownModel",
      "state": {
       "_options_labels": [
        "2019",
        "2018",
        "2017",
        "2016",
        "2015",
        "2014",
        "2013",
        "2012",
        "2011",
        "2010",
        "2009",
        "2008",
        "2007",
        "2006",
        "2005",
        "2004",
        "2003",
        "2002",
        "2001",
        "2000",
        "1999",
        "1998",
        "1997",
        "1996",
        "1995",
        "1994",
        "1993",
        "1992",
        "1991",
        "1990"
       ],
       "description": "year",
       "index": 0,
       "layout": "IPY_MODEL_85de30523f264d678c02fb74c4c8953d",
       "style": "IPY_MODEL_04f6b66769134b48ad1fc8b475d556b2"
      }
     },
     "9d2c630996be4a9a962c1fb5fc4a5cd1": {
      "model_module": "@jupyter-widgets/controls",
      "model_module_version": "1.4.0",
      "model_name": "ButtonStyleModel",
      "state": {}
     },
     "9ecedb055cde494ba89fc834d06ed2e0": {
      "model_module": "@jupyter-widgets/controls",
      "model_module_version": "1.4.0",
      "model_name": "ButtonModel",
      "state": {
       "description": "Run Interact",
       "layout": "IPY_MODEL_c99e49bc0a034b72abc0a271cc01bdfb",
       "style": "IPY_MODEL_9d2c630996be4a9a962c1fb5fc4a5cd1"
      }
     },
     "9ef7039ef02a4774b17fe71bc2e25404": {
      "model_module": "@jupyter-widgets/base",
      "model_module_version": "1.1.0",
      "model_name": "LayoutModel",
      "state": {}
     },
     "9ef8baff7fbf4bbe89bb8401627b2864": {
      "model_module": "@jupyter-widgets/controls",
      "model_module_version": "1.4.0",
      "model_name": "VBoxModel",
      "state": {
       "_dom_classes": [
        "widget-interact"
       ],
       "children": [
        "IPY_MODEL_0b83315a63124d729f406dcf94209f4d",
        "IPY_MODEL_f369dd81869d40e394940ffe291035a9",
        "IPY_MODEL_3029b2f34bf9463b9e03516dc49dc50a",
        "IPY_MODEL_0087f8bc3632411cad0b8be673717c01"
       ],
       "layout": "IPY_MODEL_4adc54221cc34542a7b7fc4ccdea05ef"
      }
     },
     "9ef90872fe3f4a019005dc3102eef677": {
      "model_module": "@jupyter-widgets/base",
      "model_module_version": "1.1.0",
      "model_name": "LayoutModel",
      "state": {}
     },
     "9f3c4c3216c44dd488242738ff20038f": {
      "model_module": "@jupyter-widgets/controls",
      "model_module_version": "1.4.0",
      "model_name": "ButtonModel",
      "state": {
       "description": "Run Interact",
       "layout": "IPY_MODEL_3016ef035baa48b7a260711b23cbc273",
       "style": "IPY_MODEL_5d6a6a15387d463bb7b2fa3e8c5ba468"
      }
     },
     "9f45b3b44b8747328f63c5828d171517": {
      "model_module": "@jupyter-widgets/controls",
      "model_module_version": "1.4.0",
      "model_name": "ButtonModel",
      "state": {
       "description": "Run Interact",
       "layout": "IPY_MODEL_d988549c0d07463881ce79626daedfa4",
       "style": "IPY_MODEL_8eb5d706e3a448499fc81bb27fba5772"
      }
     },
     "a0653e160faa4dd3ba2b5f14a0101d82": {
      "model_module": "@jupyter-widgets/controls",
      "model_module_version": "1.4.0",
      "model_name": "DescriptionStyleModel",
      "state": {
       "description_width": ""
      }
     },
     "a07f122c05f942af8c58c9139662f273": {
      "model_module": "@jupyter-widgets/controls",
      "model_module_version": "1.4.0",
      "model_name": "ButtonModel",
      "state": {
       "description": "Run Interact",
       "layout": "IPY_MODEL_f89aa39d194c4de7b1ab9ce047a89bda",
       "style": "IPY_MODEL_d63b1ae12e404ee38320f6b6ce6cb02b"
      }
     },
     "a0ab0a6fae7d4e47a9d9d653a66592f6": {
      "model_module": "@jupyter-widgets/base",
      "model_module_version": "1.1.0",
      "model_name": "LayoutModel",
      "state": {}
     },
     "a0ece4803726484e9ee74edb3ccc809f": {
      "model_module": "@jupyter-widgets/controls",
      "model_module_version": "1.4.0",
      "model_name": "DescriptionStyleModel",
      "state": {
       "description_width": ""
      }
     },
     "a1412ce2f75645aaaea5b58345a63259": {
      "model_module": "@jupyter-widgets/base",
      "model_module_version": "1.1.0",
      "model_name": "LayoutModel",
      "state": {}
     },
     "a168f3c83c3d4421a48e089d9226a4ca": {
      "model_module": "@jupyter-widgets/controls",
      "model_module_version": "1.4.0",
      "model_name": "DropdownModel",
      "state": {
       "_options_labels": [
        "Total Nonfarm",
        "Total Wage and Salary",
        "Total Private",
        "Goods Producing",
        "Service Providing",
        "Private Service Providing",
        "Mining and Logging",
        "Logging",
        "Mining",
        "Oil & Gas Extraction",
        "Mining, except Oil & Gas",
        "Support Activities for Mining",
        "Total Farm",
        "Natural Resources, Mining and Constructi",
        "Construction",
        "Construction of Buildings",
        "Residential Building Construction",
        "Nonresidential Building Construction",
        "Heavy and Civil Engineering Construction",
        "Utility System Const.",
        "L& Subdivision",
        "Highway, Street, and Bridge Const",
        "Other Heavy & Civil Engineer",
        "Specialty Trade Contractors",
        "Building Foundation and Exterior Contrac",
        "Building Equipment Contractors",
        "Building Finishing Contractors",
        "Other Specialty Trade Contract",
        "Manufacturing",
        "Durable Goods",
        "Wood Product Manufacturing",
        "Other Wood Product Mfg.",
        "Nonmetallic Mineral Product Mfg.",
        "Primary Metal Manufacturing",
        "Fabricated Metal Product Mfg",
        "Architectural & Structural Metals Mfg.",
        "Machine Shops & Threaded Product Mfg.",
        "Other Fabricated Metal Product Mfg.",
        "Machinery Manufacturing",
        "Industrial Machinery Manufacturing",
        "Commercial and Service Industry Manufact",
        "Metalworking Machinery Mfg.",
        "ResidualOther General Purpose Machinery",
        "Computer and Electronic Product Manufact",
        "Computer and Peripheral Equipment Manufa",
        "Electronic Computer Manufacturing",
        "Communications Equipment Manufacturing",
        "Semiconductor and Electronic Component M",
        "Bare Printed Circuit Board Manufacturing",
        "Semiconductor and Related Devices Manufa",
        "Electronic Instrument Manufacturing",
        "Electrical Equipment and Appliance Manuf",
        "Transportation Equipment Manufacturing",
        "Motor Vehicle Mfg.",
        "Aerospace Product and Parts Manufacturin",
        "Ship and Boat Building",
        "Furniture and Related Product Manufactur",
        "Household and Institutional Furniture Ma",
        "Miscellaneous Durable Goods Manufacturing",
        "Medical Equipment & Supplies Mfg.",
        "Other Miscellaneous Durable Goods Mfg.",
        "Nondurable Goods",
        "Food Manufacturing",
        "Fruit & Vegetable Preserving & Specialty",
        "Dairy Product Manufacturing",
        "Animal Slaughtering and Processing",
        "Bakeries and Tortilla Manufacturing",
        "Other Food Mfg.",
        "Beverage and Tobacco Product Mfg",
        "ResidualTextile Mills",
        "Textile Product Mills",
        "Apparel Manufacturing",
        "Apparel Knitting Mills",
        "Cut and Sew Apparel Manufacturing",
        "Paper Manufacturing",
        "Converted Paper Product Mfg.",
        "Printing and Related Support Activities",
        "Petroleum and Coal Products Manufacturin",
        "Chemical Manufacturing",
        "Pharmaceutical and Medicine Manufacturin",
        "Soap, Cleaning Compound & Toiletry Mfg.",
        "Plastics and Rubber Products Manufacturi",
        "Trade, Transportation and Utilities",
        "Wholesale Trade",
        "Merchant Wholesalers, Durable Goods",
        "Motor Vehicle and Motor Vehicle Parts Me",
        "Furniture & Home Furnish Merch whole",
        "Lumber & Other Const. Mat Merch whole",
        "Professional and Commercial Equipment Me",
        "Electrical and Electronic Goods Merchant",
        "Hdwr, Plumb & Heating Merchant whole",
        "Machinery, Equipment and Supplies Mercha",
        "Merchant Wholesalers, Nondurable Goods",
        "Paper & Paper Products Merchant whole",
        "Apparel, Piece Gds & Notions Merch whole",
        "Grocery & Related Products Merchant whol",
        "Chemical & Allied Products Merchant whol",
        "Misc Nondurable Merchant Wholesalers",
        "Wholesale Electronic Markets and Agents",
        "Retail Trade",
        "Motor Vehicle and Parts Dealer",
        "Automobile Dealers",
        "Other Motor Vehicle Dealers",
        "Automotive Parts, Accessories and Tire S",
        "Furniture and Home Furnishings Stores",
        "Furniture Stores",
        "Home Furnishings Stores",
        "Electronics and Appliance Stores",
        "Building Material and Garden Equipment S",
        "Building Material and Supplies Dealers",
        "Food and Beverage Stores",
        "Grocery Stores",
        "Specialty Food Stores",
        "Beer, Wine, & Liquor Stores",
        "Health and Personal Care Stores",
        "Gasoline Stations",
        "Clothing and Clothing Accessories Stores",
        "Clothing Stores",
        "Jewelry, Luggage & Leather Gds Stores",
        "Sporting Goods, Hobby, Book and Music St",
        "Sporting Goods, Hobby and Musical Instru",
        "Book, Periodical and Music Stores",
        "General Merchandise Stores",
        "Department Stores",
        "Miscellaneous Store Retailers",
        "Office Supplies, Stationery & Gift Store",
        "Used Merch&ise Stores",
        "Other Miscellaneous Store Retailers",
        "Nonstore Retailers",
        "Electronic Shopping & Mail-Order",
        "Transportation, Warehousing and Utilitie",
        "Utilities",
        "Electric Power Gen, Trans & Distribution",
        "Natural Gas Distribution",
        "Transportation and Warehousing",
        "Air Transportation",
        "Scheduled Air transp.",
        "Truck Transportation",
        "General Freight Trucking",
        "Specialized Freight Trucking",
        "Transit and Ground Passenger Transportat",
        "Support Activities for Transportation",
        "Support Activities for Water transp.",
        "Support Activities for Road transp.",
        "Freight transp. Arrangement",
        "Couriers and Messengers",
        "Warehousing and Storage",
        "Information",
        "Publishing Industries (except Internet)",
        "Newspaper, Periodical, Book and Director",
        "Software Publishers",
        "Motion Picture and Sound Recording",
        "Motion Picture & Video Industries",
        "Motion Picture & Video Production",
        "Broadcasting (except Internet)",
        "Radio and Television Broadcasting",
        "Cable and Other Subscription Programming",
        "Telecommunications",
        "Wired Telecommunications Carriers",
        "Data Processing, Hosting & Related Services",
        "Other Information Serv.",
        "Financial Activities",
        "Finance and Insurance",
        "Credit Intermediation and Related Activi",
        "Depository Credit Intermediation",
        "Nondepository Credit Intermediation",
        "Activities Related to Credit Intermediat",
        "Securities, Commodity Contracts and Inve",
        "Securities & Commodity Contracts",
        "Other Financial Investment Activities",
        "Insurance Carriers and Related",
        "Insurance Carriers",
        "Agencies, Brokerages, and Other Insuranc",
        "Real Estate and Rental and Leasing",
        "Real Estate",
        "Lessors of Real Estate",
        "Offices of Real Estate Agents and Broker",
        "Activities Related to Real Estate",
        "Rental and Leasing Services",
        "Automotive Equipment Rental and Leasing",
        "Consumer Goods Rental",
        "General Rental Centers",
        "Comm & Industrial Mach Rental & Leasing",
        "Professional and Business Services",
        "Professional, Scientific and Technical S",
        "Legal Services",
        "Accounting, Tax Preparation and Bookkeep",
        "Architectural, Engineering and Related S",
        "Specialized Design Services",
        "Computer Systems Design and Related Serv",
        "Management, Scientific and Technical Con",
        "Scientific Research and Development Serv",
        "Advertising and Related Services",
        "Other Professional, Scientific and Techn",
        "Management of Companies and Enterprises",
        "Administrative and Support and Waste Ser",
        "Administrative and Support Services",
        "Office Administrative Services",
        "Facilities Support Serv.",
        "Employment Services",
        "Business Support Services",
        "Travel Arrangement and Reservation Servi",
        "Investigation and Security Services",
        "Services to Buildings and Dwellings",
        "ResidualOther Support Services",
        "Waste Management and Remediation Service",
        "Educational and Health Services",
        "Educational Services",
        "Elementary and Secondary Schools",
        "Junior Colleges",
        "Colleges, Universities and Professional",
        "Other Schools & Instruction",
        "Health Care and Social Assistance",
        "Ambulatory Health Care Services",
        "Offices of Physicians",
        "Offices of Dentists",
        "Offices of Other Health Practitioners",
        "Outpatient Care Centers",
        "Medical & Diagnostic Laboratories",
        "Home Health Care Serv.",
        "Other Ambulatory Health Care Serv.",
        "Hospitals",
        "General Medical & Surgical Hosp.s",
        "Psychiatric & Substance Abuse Hosp",
        "Specialty (not Psych, Sub Abuse) Hosp.",
        "Nursing and Residential Care Facilities",
        "Nursing Care Facilities",
        "Residential Mental Retardation, Mental a",
        "Comm Care Facilities for the Elderly",
        "Other Residential Care Facilities",
        "Social Assistance",
        "Individual and Family Services",
        "Community Food & Housing, & Emergency &",
        "Vocational Rehabilitation Services",
        "Child Day Care Services",
        "Leisure and Hospitality",
        "Arts, Entertainment, and Recreation",
        "Performing Arts, Spectator Sports",
        "Performing Arts Companies",
        "Spectator Sports",
        "Independent Artists, Writers, and Perfor",
        "Museums, Historical Sites, and Similar I",
        "Amusement, Gambling, and Recreation",
        "Amusement Parks and Arcades",
        "Gambling Industries",
        "Other Amusement and Recreation",
        "Accommodation and Food Service",
        "Accommodation",
        "Food Services and Drinking Places",
        "Special Food Services",
        "Drinking Places (Alcoholic Beverages)",
        "Full-Service Restaurants",
        "Limited-Service Eating Places",
        "Other Services",
        "Repair and Maintenance",
        "Auto Repair & Maintenance",
        "Commercial & Industrial Machinery",
        "Personal & Household Goods Repair",
        "Personal and Laundry Services",
        "Personal Care Serv.",
        "Drycleaning & Laundry Serv.",
        "Other Personal Services",
        "Religious, Grantmaking, Civic, Professio",
        "Religious Organizations",
        "Grantmaking & Giving Serv.",
        "Social Advocacy Organizations",
        "Civic & Social Organizations",
        "Bus,Labor, Political & Other like Org.",
        "Government",
        "Federal Government",
        "Federal Government excluding Department of Defense",
        "Department of Defense",
        "State Government",
        "State Government Education",
        "State Government Excluding Education",
        "Local Government",
        "Indian Tribes",
        "Local Government Education",
        "Local Government Excluding Education",
        "County",
        "City",
        "Special Districts",
        "State and Local Government",
        "Miscellaneous Durable Goods Merchant Who",
        "Real Estate and Rental and Leasing - Residual",
        "Restaurants",
        "Special Districts plus Indian Tribes",
        "Private Service Providing - Residual"
       ],
       "description": "industry_title",
       "index": 0,
       "layout": "IPY_MODEL_ad76280dba344ecdbe0e801adbc1303c",
       "style": "IPY_MODEL_5f5910714a1d46718a8083a3953530f3"
      }
     },
     "a1c96bf388c64ac09d205faf24a314c5": {
      "model_module": "@jupyter-widgets/base",
      "model_module_version": "1.1.0",
      "model_name": "LayoutModel",
      "state": {}
     },
     "a232731f0b3b4789bf98249dd6ca980b": {
      "model_module": "@jupyter-widgets/base",
      "model_module_version": "1.1.0",
      "model_name": "LayoutModel",
      "state": {}
     },
     "a36fd13ee3024612a763431c57f3eb11": {
      "model_module": "@jupyter-widgets/base",
      "model_module_version": "1.1.0",
      "model_name": "LayoutModel",
      "state": {}
     },
     "a37361d2950f4f058eccbdd62c4ab5f2": {
      "model_module": "@jupyter-widgets/base",
      "model_module_version": "1.1.0",
      "model_name": "LayoutModel",
      "state": {}
     },
     "a3a2dde242494784b85f91df849773b4": {
      "model_module": "@jupyter-widgets/controls",
      "model_module_version": "1.4.0",
      "model_name": "ButtonModel",
      "state": {
       "description": "Run Interact",
       "layout": "IPY_MODEL_9207553ea58149a2b182d03296e5710b",
       "style": "IPY_MODEL_500c61e4d5ae4ad1b41ee9164e636788"
      }
     },
     "a3b4a740b2304d0987e7e6b6994d7a85": {
      "model_module": "@jupyter-widgets/controls",
      "model_module_version": "1.4.0",
      "model_name": "DropdownModel",
      "state": {
       "_options_labels": [
        "State",
        "Metropolitan Area",
        "County"
       ],
       "description": "area_type",
       "index": 0,
       "layout": "IPY_MODEL_5405fce225994bffbe23f8d521f9f2cc",
       "style": "IPY_MODEL_2ea110994ae7400a996b45f4fdd928a3"
      }
     },
     "a4ca8c36bc56469e85bb0278f10b1526": {
      "model_module": "@jupyter-widgets/controls",
      "model_module_version": "1.4.0",
      "model_name": "ButtonStyleModel",
      "state": {}
     },
     "a4e9324235534637afec12b3c344d5a6": {
      "model_module": "@jupyter-widgets/controls",
      "model_module_version": "1.4.0",
      "model_name": "ButtonModel",
      "state": {
       "description": "Run Interact",
       "layout": "IPY_MODEL_f63b027304ed49acb46a76b461f24993",
       "style": "IPY_MODEL_e0e93f08f8ac4ed3947e0bebd636bfb1"
      }
     },
     "a500fb25ba2d413db4932265322bf151": {
      "model_module": "@jupyter-widgets/controls",
      "model_module_version": "1.4.0",
      "model_name": "DescriptionStyleModel",
      "state": {
       "description_width": ""
      }
     },
     "a50e38482dec4876a40dbcc9cfadd412": {
      "model_module": "@jupyter-widgets/controls",
      "model_module_version": "1.4.0",
      "model_name": "DropdownModel",
      "state": {
       "_options_labels": [
        "Total Nonfarm",
        "Total Wage and Salary",
        "Total Private",
        "Goods Producing",
        "Service Providing",
        "Private Service Providing",
        "Mining and Logging",
        "Logging",
        "Mining",
        "Oil & Gas Extraction",
        "Mining, except Oil & Gas",
        "Support Activities for Mining",
        "Total Farm",
        "Natural Resources, Mining and Constructi",
        "Construction",
        "Construction of Buildings",
        "Residential Building Construction",
        "Nonresidential Building Construction",
        "Heavy and Civil Engineering Construction",
        "Utility System Const.",
        "L& Subdivision",
        "Highway, Street, and Bridge Const",
        "Other Heavy & Civil Engineer",
        "Specialty Trade Contractors",
        "Building Foundation and Exterior Contrac",
        "Building Equipment Contractors",
        "Building Finishing Contractors",
        "Other Specialty Trade Contract",
        "Manufacturing",
        "Durable Goods",
        "Wood Product Manufacturing",
        "Other Wood Product Mfg.",
        "Nonmetallic Mineral Product Mfg.",
        "Primary Metal Manufacturing",
        "Fabricated Metal Product Mfg",
        "Architectural & Structural Metals Mfg.",
        "Machine Shops & Threaded Product Mfg.",
        "Other Fabricated Metal Product Mfg.",
        "Machinery Manufacturing",
        "Industrial Machinery Manufacturing",
        "Commercial and Service Industry Manufact",
        "Metalworking Machinery Mfg.",
        "ResidualOther General Purpose Machinery",
        "Computer and Electronic Product Manufact",
        "Computer and Peripheral Equipment Manufa",
        "Electronic Computer Manufacturing",
        "Communications Equipment Manufacturing",
        "Semiconductor and Electronic Component M",
        "Bare Printed Circuit Board Manufacturing",
        "Semiconductor and Related Devices Manufa",
        "Electronic Instrument Manufacturing",
        "Electrical Equipment and Appliance Manuf",
        "Transportation Equipment Manufacturing",
        "Motor Vehicle Mfg.",
        "Aerospace Product and Parts Manufacturin",
        "Ship and Boat Building",
        "Furniture and Related Product Manufactur",
        "Household and Institutional Furniture Ma",
        "Miscellaneous Durable Goods Manufacturing",
        "Medical Equipment & Supplies Mfg.",
        "Other Miscellaneous Durable Goods Mfg.",
        "Nondurable Goods",
        "Food Manufacturing",
        "Fruit & Vegetable Preserving & Specialty",
        "Dairy Product Manufacturing",
        "Animal Slaughtering and Processing",
        "Bakeries and Tortilla Manufacturing",
        "Other Food Mfg.",
        "Beverage and Tobacco Product Mfg",
        "ResidualTextile Mills",
        "Textile Product Mills",
        "Apparel Manufacturing",
        "Apparel Knitting Mills",
        "Cut and Sew Apparel Manufacturing",
        "Paper Manufacturing",
        "Converted Paper Product Mfg.",
        "Printing and Related Support Activities",
        "Petroleum and Coal Products Manufacturin",
        "Chemical Manufacturing",
        "Pharmaceutical and Medicine Manufacturin",
        "Soap, Cleaning Compound & Toiletry Mfg.",
        "Plastics and Rubber Products Manufacturi",
        "Trade, Transportation and Utilities",
        "Wholesale Trade",
        "Merchant Wholesalers, Durable Goods",
        "Motor Vehicle and Motor Vehicle Parts Me",
        "Furniture & Home Furnish Merch whole",
        "Lumber & Other Const. Mat Merch whole",
        "Professional and Commercial Equipment Me",
        "Electrical and Electronic Goods Merchant",
        "Hdwr, Plumb & Heating Merchant whole",
        "Machinery, Equipment and Supplies Mercha",
        "Merchant Wholesalers, Nondurable Goods",
        "Paper & Paper Products Merchant whole",
        "Apparel, Piece Gds & Notions Merch whole",
        "Grocery & Related Products Merchant whol",
        "Chemical & Allied Products Merchant whol",
        "Misc Nondurable Merchant Wholesalers",
        "Wholesale Electronic Markets and Agents",
        "Retail Trade",
        "Motor Vehicle and Parts Dealer",
        "Automobile Dealers",
        "Other Motor Vehicle Dealers",
        "Automotive Parts, Accessories and Tire S",
        "Furniture and Home Furnishings Stores",
        "Furniture Stores",
        "Home Furnishings Stores",
        "Electronics and Appliance Stores",
        "Building Material and Garden Equipment S",
        "Building Material and Supplies Dealers",
        "Food and Beverage Stores",
        "Grocery Stores",
        "Specialty Food Stores",
        "Beer, Wine, & Liquor Stores",
        "Health and Personal Care Stores",
        "Gasoline Stations",
        "Clothing and Clothing Accessories Stores",
        "Clothing Stores",
        "Jewelry, Luggage & Leather Gds Stores",
        "Sporting Goods, Hobby, Book and Music St",
        "Sporting Goods, Hobby and Musical Instru",
        "Book, Periodical and Music Stores",
        "General Merchandise Stores",
        "Department Stores",
        "Miscellaneous Store Retailers",
        "Office Supplies, Stationery & Gift Store",
        "Used Merch&ise Stores",
        "Other Miscellaneous Store Retailers",
        "Nonstore Retailers",
        "Electronic Shopping & Mail-Order",
        "Transportation, Warehousing and Utilitie",
        "Utilities",
        "Electric Power Gen, Trans & Distribution",
        "Natural Gas Distribution",
        "Transportation and Warehousing",
        "Air Transportation",
        "Scheduled Air transp.",
        "Truck Transportation",
        "General Freight Trucking",
        "Specialized Freight Trucking",
        "Transit and Ground Passenger Transportat",
        "Support Activities for Transportation",
        "Support Activities for Water transp.",
        "Support Activities for Road transp.",
        "Freight transp. Arrangement",
        "Couriers and Messengers",
        "Warehousing and Storage",
        "Information",
        "Publishing Industries (except Internet)",
        "Newspaper, Periodical, Book and Director",
        "Software Publishers",
        "Motion Picture and Sound Recording",
        "Motion Picture & Video Industries",
        "Motion Picture & Video Production",
        "Broadcasting (except Internet)",
        "Radio and Television Broadcasting",
        "Cable and Other Subscription Programming",
        "Telecommunications",
        "Wired Telecommunications Carriers",
        "Data Processing, Hosting & Related Services",
        "Other Information Serv.",
        "Financial Activities",
        "Finance and Insurance",
        "Credit Intermediation and Related Activi",
        "Depository Credit Intermediation",
        "Nondepository Credit Intermediation",
        "Activities Related to Credit Intermediat",
        "Securities, Commodity Contracts and Inve",
        "Securities & Commodity Contracts",
        "Other Financial Investment Activities",
        "Insurance Carriers and Related",
        "Insurance Carriers",
        "Agencies, Brokerages, and Other Insuranc",
        "Real Estate and Rental and Leasing",
        "Real Estate",
        "Lessors of Real Estate",
        "Offices of Real Estate Agents and Broker",
        "Activities Related to Real Estate",
        "Rental and Leasing Services",
        "Automotive Equipment Rental and Leasing",
        "Consumer Goods Rental",
        "General Rental Centers",
        "Comm & Industrial Mach Rental & Leasing",
        "Professional and Business Services",
        "Professional, Scientific and Technical S",
        "Legal Services",
        "Accounting, Tax Preparation and Bookkeep",
        "Architectural, Engineering and Related S",
        "Specialized Design Services",
        "Computer Systems Design and Related Serv",
        "Management, Scientific and Technical Con",
        "Scientific Research and Development Serv",
        "Advertising and Related Services",
        "Other Professional, Scientific and Techn",
        "Management of Companies and Enterprises",
        "Administrative and Support and Waste Ser",
        "Administrative and Support Services",
        "Office Administrative Services",
        "Facilities Support Serv.",
        "Employment Services",
        "Business Support Services",
        "Travel Arrangement and Reservation Servi",
        "Investigation and Security Services",
        "Services to Buildings and Dwellings",
        "ResidualOther Support Services",
        "Waste Management and Remediation Service",
        "Educational and Health Services",
        "Educational Services",
        "Elementary and Secondary Schools",
        "Junior Colleges",
        "Colleges, Universities and Professional",
        "Other Schools & Instruction",
        "Health Care and Social Assistance",
        "Ambulatory Health Care Services",
        "Offices of Physicians",
        "Offices of Dentists",
        "Offices of Other Health Practitioners",
        "Outpatient Care Centers",
        "Medical & Diagnostic Laboratories",
        "Home Health Care Serv.",
        "Other Ambulatory Health Care Serv.",
        "Hospitals",
        "General Medical & Surgical Hosp.s",
        "Psychiatric & Substance Abuse Hosp",
        "Specialty (not Psych, Sub Abuse) Hosp.",
        "Nursing and Residential Care Facilities",
        "Nursing Care Facilities",
        "Residential Mental Retardation, Mental a",
        "Comm Care Facilities for the Elderly",
        "Other Residential Care Facilities",
        "Social Assistance",
        "Individual and Family Services",
        "Community Food & Housing, & Emergency &",
        "Vocational Rehabilitation Services",
        "Child Day Care Services",
        "Leisure and Hospitality",
        "Arts, Entertainment, and Recreation",
        "Performing Arts, Spectator Sports",
        "Performing Arts Companies",
        "Spectator Sports",
        "Independent Artists, Writers, and Perfor",
        "Museums, Historical Sites, and Similar I",
        "Amusement, Gambling, and Recreation",
        "Amusement Parks and Arcades",
        "Gambling Industries",
        "Other Amusement and Recreation",
        "Accommodation and Food Service",
        "Accommodation",
        "Food Services and Drinking Places",
        "Special Food Services",
        "Drinking Places (Alcoholic Beverages)",
        "Full-Service Restaurants",
        "Limited-Service Eating Places",
        "Other Services",
        "Repair and Maintenance",
        "Auto Repair & Maintenance",
        "Commercial & Industrial Machinery",
        "Personal & Household Goods Repair",
        "Personal and Laundry Services",
        "Personal Care Serv.",
        "Drycleaning & Laundry Serv.",
        "Other Personal Services",
        "Religious, Grantmaking, Civic, Professio",
        "Religious Organizations",
        "Grantmaking & Giving Serv.",
        "Social Advocacy Organizations",
        "Civic & Social Organizations",
        "Bus,Labor, Political & Other like Org.",
        "Government",
        "Federal Government",
        "Federal Government excluding Department of Defense",
        "Department of Defense",
        "State Government",
        "State Government Education",
        "State Government Excluding Education",
        "Local Government",
        "Indian Tribes",
        "Local Government Education",
        "Local Government Excluding Education",
        "County",
        "City",
        "Special Districts",
        "State and Local Government",
        "Miscellaneous Durable Goods Merchant Who",
        "Real Estate and Rental and Leasing - Residual",
        "Restaurants",
        "Special Districts plus Indian Tribes",
        "Private Service Providing - Residual"
       ],
       "description": "industry_title",
       "index": 0,
       "layout": "IPY_MODEL_57a9b2f834ac4c9b8ace1b903a5d737f",
       "style": "IPY_MODEL_72d0a95f2af64012984920562dfb9562"
      }
     },
     "a522f7b2839c4fedb2dff5374b32ff72": {
      "model_module": "@jupyter-widgets/output",
      "model_module_version": "1.0.0",
      "model_name": "OutputModel",
      "state": {
       "layout": "IPY_MODEL_5398fec2180c404286343044f86f66e3",
       "outputs": [
        {
         "data": {
          "image/png": "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\n",
          "text/plain": "<Figure size 432x288 with 1 Axes>"
         },
         "metadata": {
          "needs_background": "light"
         },
         "output_type": "display_data"
        }
       ]
      }
     },
     "a5b954ed45e14867a28047f8e93516ce": {
      "model_module": "@jupyter-widgets/controls",
      "model_module_version": "1.4.0",
      "model_name": "DescriptionStyleModel",
      "state": {
       "description_width": ""
      }
     },
     "a600387d9dda4b57acc8e4e8e208cdd8": {
      "model_module": "@jupyter-widgets/controls",
      "model_module_version": "1.4.0",
      "model_name": "ButtonStyleModel",
      "state": {}
     },
     "a613c73e859449ed8fcbed03b6ac96b3": {
      "model_module": "@jupyter-widgets/base",
      "model_module_version": "1.1.0",
      "model_name": "LayoutModel",
      "state": {}
     },
     "a619fcda81814f02b491079ec611336d": {
      "model_module": "@jupyter-widgets/base",
      "model_module_version": "1.1.0",
      "model_name": "LayoutModel",
      "state": {}
     },
     "a785e1be10e94c0883368c0725f6d64a": {
      "model_module": "@jupyter-widgets/controls",
      "model_module_version": "1.4.0",
      "model_name": "DropdownModel",
      "state": {
       "_options_labels": [
        "2019",
        "2018",
        "2017",
        "2016",
        "2015",
        "2014",
        "2013",
        "2012",
        "2011",
        "2010",
        "2009",
        "2008",
        "2007",
        "2006",
        "2005",
        "2004",
        "2003",
        "2002",
        "2001",
        "2000",
        "1999",
        "1998",
        "1997",
        "1996",
        "1995",
        "1994",
        "1993",
        "1992",
        "1991",
        "1990"
       ],
       "description": "year",
       "index": 0,
       "layout": "IPY_MODEL_2c4d70a531544542aac923a85c03bc47",
       "style": "IPY_MODEL_777f0c4f9c3f4bbbbd21ae722e2153b9"
      }
     },
     "a7b50dc8e8fd486c9ba8bc8d3825834f": {
      "model_module": "@jupyter-widgets/base",
      "model_module_version": "1.1.0",
      "model_name": "LayoutModel",
      "state": {}
     },
     "a7e6a1b572c04c4f810d5c339bf91142": {
      "model_module": "@jupyter-widgets/controls",
      "model_module_version": "1.4.0",
      "model_name": "ButtonModel",
      "state": {
       "description": "Run Interact",
       "layout": "IPY_MODEL_d7b361e838ae489b87d4ea4f5a417524",
       "style": "IPY_MODEL_3d2e09ca231f48448164351e944acad8"
      }
     },
     "a828ffbfeb0345dd91fc4b9b9ee97cdc": {
      "model_module": "@jupyter-widgets/base",
      "model_module_version": "1.1.0",
      "model_name": "LayoutModel",
      "state": {}
     },
     "a8c1c48eb0634d6595eebc06780e8bce": {
      "model_module": "@jupyter-widgets/base",
      "model_module_version": "1.1.0",
      "model_name": "LayoutModel",
      "state": {}
     },
     "a9bdcc71eda94a9580c0376ef6a1c602": {
      "model_module": "@jupyter-widgets/controls",
      "model_module_version": "1.4.0",
      "model_name": "DropdownModel",
      "state": {
       "_options_labels": [
        "June",
        "May",
        "April",
        "March",
        "February",
        "January",
        "December",
        "November",
        "October",
        "September",
        "August",
        "July"
       ],
       "description": "month",
       "index": 7,
       "layout": "IPY_MODEL_befbb54ec96e45a59da44b6895331d75",
       "style": "IPY_MODEL_c9c7bd57d10a499993c3e56a5b789ff1"
      }
     },
     "a9c77f282f3c42bcaa94ec2c224579c9": {
      "model_module": "@jupyter-widgets/base",
      "model_module_version": "1.1.0",
      "model_name": "LayoutModel",
      "state": {}
     },
     "aaf8c636a2ae4d35a6fd7e8f5cc97cd0": {
      "model_module": "@jupyter-widgets/controls",
      "model_module_version": "1.4.0",
      "model_name": "VBoxModel",
      "state": {
       "_dom_classes": [
        "widget-interact"
       ],
       "children": [
        "IPY_MODEL_60f58e55e10c465194b99f34769fdab8",
        "IPY_MODEL_a9bdcc71eda94a9580c0376ef6a1c602",
        "IPY_MODEL_28c9e33b23484ca29e5f1f5a7c18a45b",
        "IPY_MODEL_f6344380163447e6902735cfaa3a9f55"
       ],
       "layout": "IPY_MODEL_d52536827e3d4c1e8f067f9dbecb228a"
      }
     },
     "ab5038d817a841de9fff1cff7393a4c7": {
      "model_module": "@jupyter-widgets/base",
      "model_module_version": "1.1.0",
      "model_name": "LayoutModel",
      "state": {}
     },
     "abb00ca3ca894148aa5870aeb3e06b95": {
      "model_module": "@jupyter-widgets/controls",
      "model_module_version": "1.4.0",
      "model_name": "DescriptionStyleModel",
      "state": {
       "description_width": ""
      }
     },
     "ac246a472d8c4f0bb4d2a70a187109aa": {
      "model_module": "@jupyter-widgets/base",
      "model_module_version": "1.1.0",
      "model_name": "LayoutModel",
      "state": {}
     },
     "ad6da4fca5cf4de8a737809bc272ee35": {
      "model_module": "@jupyter-widgets/controls",
      "model_module_version": "1.4.0",
      "model_name": "DropdownModel",
      "state": {
       "_options_labels": [
        "January",
        "February",
        "March",
        "April",
        "May",
        "June",
        "July",
        "August",
        "September",
        "October",
        "November",
        "December"
       ],
       "description": "month",
       "index": 0,
       "layout": "IPY_MODEL_2c732230e1e64c34831f5444032c1139",
       "style": "IPY_MODEL_824f4a8b081444f38b8acdfa9e45922d"
      }
     },
     "ad76280dba344ecdbe0e801adbc1303c": {
      "model_module": "@jupyter-widgets/base",
      "model_module_version": "1.1.0",
      "model_name": "LayoutModel",
      "state": {}
     },
     "ad79a31006ca47c8aef10b8b38c559f0": {
      "model_module": "@jupyter-widgets/base",
      "model_module_version": "1.1.0",
      "model_name": "LayoutModel",
      "state": {}
     },
     "ad90c76259ae426a9401230cdcd93370": {
      "model_module": "@jupyter-widgets/base",
      "model_module_version": "1.1.0",
      "model_name": "LayoutModel",
      "state": {}
     },
     "ae5d5fdb45034dd8821333b7840dbf6c": {
      "model_module": "@jupyter-widgets/controls",
      "model_module_version": "1.4.0",
      "model_name": "DropdownModel",
      "state": {
       "_options_labels": [
        "2019",
        "2018",
        "2017",
        "2016",
        "2015",
        "2014",
        "2013",
        "2012",
        "2011",
        "2010",
        "2009",
        "2008",
        "2007",
        "2006",
        "2005",
        "2004",
        "2003",
        "2002",
        "2001",
        "2000",
        "1999",
        "1998",
        "1997",
        "1996",
        "1995",
        "1994",
        "1993",
        "1992",
        "1991",
        "1990"
       ],
       "description": "year",
       "index": 0,
       "layout": "IPY_MODEL_212c59b176bb452dbe80b3a2ca78ed26",
       "style": "IPY_MODEL_45f8195912df40178f84d5bd2a8d07d0"
      }
     },
     "ae640dff7bf94cd584a2667f5920c4fb": {
      "model_module": "@jupyter-widgets/controls",
      "model_module_version": "1.4.0",
      "model_name": "DropdownModel",
      "state": {
       "_options_labels": [
        "State",
        "Metropolitan Area",
        "County"
       ],
       "description": "area_type",
       "index": 0,
       "layout": "IPY_MODEL_4d4efe5ebae04097b7e1f7757476b0d9",
       "style": "IPY_MODEL_7d3e07b0d981404f82ec306851ead7e8"
      }
     },
     "ae676ddccd8b47d98e7effdab17e21fc": {
      "model_module": "@jupyter-widgets/controls",
      "model_module_version": "1.4.0",
      "model_name": "ButtonStyleModel",
      "state": {}
     },
     "af7b7ae9a52a4b9397f9fcb84ab70b1f": {
      "model_module": "@jupyter-widgets/controls",
      "model_module_version": "1.4.0",
      "model_name": "ButtonModel",
      "state": {
       "description": "Run Interact",
       "layout": "IPY_MODEL_558ca8c0fa664244a6943b98dcc5fea1",
       "style": "IPY_MODEL_68bf48a567a34f3cb7b53413ad72fa7e"
      }
     },
     "af89f8109fd24c69b96955e1f23c9eb8": {
      "model_module": "@jupyter-widgets/controls",
      "model_module_version": "1.4.0",
      "model_name": "DescriptionStyleModel",
      "state": {
       "description_width": ""
      }
     },
     "b11e03958b344bf4bb58e41c75dca4da": {
      "model_module": "@jupyter-widgets/base",
      "model_module_version": "1.1.0",
      "model_name": "LayoutModel",
      "state": {}
     },
     "b18e993e3c10427c9fe3a082c31d41bf": {
      "model_module": "@jupyter-widgets/controls",
      "model_module_version": "1.4.0",
      "model_name": "ButtonStyleModel",
      "state": {}
     },
     "b1f7c319f46e429c9ec3ad2b09129afa": {
      "model_module": "@jupyter-widgets/base",
      "model_module_version": "1.1.0",
      "model_name": "LayoutModel",
      "state": {}
     },
     "b260bd48eba247958d2f267d2614c4dd": {
      "model_module": "@jupyter-widgets/base",
      "model_module_version": "1.1.0",
      "model_name": "LayoutModel",
      "state": {}
     },
     "b269d5a64a154f35bf84cd87cc725ebf": {
      "model_module": "@jupyter-widgets/base",
      "model_module_version": "1.1.0",
      "model_name": "LayoutModel",
      "state": {}
     },
     "b286be5e746845629848a68f2bbcf703": {
      "model_module": "@jupyter-widgets/controls",
      "model_module_version": "1.4.0",
      "model_name": "CheckboxModel",
      "state": {
       "description": "grid",
       "disabled": false,
       "layout": "IPY_MODEL_70c47589e713492dbcfab628f1637cd9",
       "style": "IPY_MODEL_1feed5fb46494f09be8f2d45cec87944",
       "value": true
      }
     },
     "b3530ab347114947972e942e2fa317c9": {
      "model_module": "@jupyter-widgets/controls",
      "model_module_version": "1.4.0",
      "model_name": "DropdownModel",
      "state": {
       "_options_labels": [
        "June",
        "May",
        "April",
        "March",
        "February",
        "January",
        "December",
        "November",
        "October",
        "September",
        "August",
        "July"
       ],
       "description": "month",
       "index": 2,
       "layout": "IPY_MODEL_49bb84ed294a4f9584693be603b9781f",
       "style": "IPY_MODEL_c6942c58f0e641f6bb28277477c5db6a"
      }
     },
     "b461d364057142848d6da3a163a138d4": {
      "model_module": "@jupyter-widgets/output",
      "model_module_version": "1.0.0",
      "model_name": "OutputModel",
      "state": {
       "layout": "IPY_MODEL_ef4dfb1c0d9644a896b355808c695669",
       "outputs": [
        {
         "data": {
          "image/png": "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\n",
          "text/plain": "<Figure size 1152x720 with 1 Axes>"
         },
         "metadata": {
          "needs_background": "light"
         },
         "output_type": "display_data"
        }
       ]
      }
     },
     "b76e639556694061b97b4a392ba76318": {
      "model_module": "@jupyter-widgets/controls",
      "model_module_version": "1.4.0",
      "model_name": "DescriptionStyleModel",
      "state": {
       "description_width": ""
      }
     },
     "b8cdffe7702e46d6be37993d1291c510": {
      "model_module": "@jupyter-widgets/controls",
      "model_module_version": "1.4.0",
      "model_name": "DescriptionStyleModel",
      "state": {
       "description_width": ""
      }
     },
     "b91f8b5507da494c85d1bbbd84eabc4a": {
      "model_module": "@jupyter-widgets/controls",
      "model_module_version": "1.4.0",
      "model_name": "DescriptionStyleModel",
      "state": {
       "description_width": ""
      }
     },
     "ba5bc8e8a76c4ddabc44319c0c3656e3": {
      "model_module": "@jupyter-widgets/controls",
      "model_module_version": "1.4.0",
      "model_name": "DescriptionStyleModel",
      "state": {
       "description_width": ""
      }
     },
     "ba95ba38e154490295ea9828e887be0f": {
      "model_module": "@jupyter-widgets/controls",
      "model_module_version": "1.4.0",
      "model_name": "ButtonStyleModel",
      "state": {}
     },
     "baabe2e751324966bbfd3b032404768c": {
      "model_module": "@jupyter-widgets/base",
      "model_module_version": "1.1.0",
      "model_name": "LayoutModel",
      "state": {}
     },
     "bca7d0c42fd9415096b7b90ab73db337": {
      "model_module": "@jupyter-widgets/base",
      "model_module_version": "1.1.0",
      "model_name": "LayoutModel",
      "state": {}
     },
     "bd3bd49c8c854018b88efe1ba4498743": {
      "model_module": "@jupyter-widgets/controls",
      "model_module_version": "1.4.0",
      "model_name": "VBoxModel",
      "state": {
       "_dom_classes": [
        "widget-interact"
       ],
       "children": [
        "IPY_MODEL_f6f7e7806c304b2e80e50e981461ebd9",
        "IPY_MODEL_ef536ddf209f4d0fb0c8dddaf2c08519",
        "IPY_MODEL_cae018a07c9f49c5bfa75a00551d7f43",
        "IPY_MODEL_cc931a9d23dd421ca18e67153aeb3fcf"
       ],
       "layout": "IPY_MODEL_22fd2d784014442bbc13960d09e0481f"
      }
     },
     "be240b31334d42778adb049505a3b1b4": {
      "model_module": "@jupyter-widgets/base",
      "model_module_version": "1.1.0",
      "model_name": "LayoutModel",
      "state": {}
     },
     "befbb54ec96e45a59da44b6895331d75": {
      "model_module": "@jupyter-widgets/base",
      "model_module_version": "1.1.0",
      "model_name": "LayoutModel",
      "state": {}
     },
     "bf232a40ab164f57a3ff8c4e046d2d44": {
      "model_module": "@jupyter-widgets/controls",
      "model_module_version": "1.4.0",
      "model_name": "DescriptionStyleModel",
      "state": {
       "description_width": ""
      }
     },
     "bf4f0948fbb74052afd96f01c2c1a5ad": {
      "model_module": "@jupyter-widgets/controls",
      "model_module_version": "1.4.0",
      "model_name": "DropdownModel",
      "state": {
       "_options_labels": [
        "Total Nonfarm",
        "Total Wage and Salary",
        "Total Private",
        "Goods Producing",
        "Service Providing",
        "Private Service Providing",
        "Mining and Logging",
        "Logging",
        "Mining",
        "Oil & Gas Extraction",
        "Mining, except Oil & Gas",
        "Support Activities for Mining",
        "Total Farm",
        "Natural Resources, Mining and Constructi",
        "Construction",
        "Construction of Buildings",
        "Residential Building Construction",
        "Nonresidential Building Construction",
        "Heavy and Civil Engineering Construction",
        "Utility System Const.",
        "L& Subdivision",
        "Highway, Street, and Bridge Const",
        "Other Heavy & Civil Engineer",
        "Specialty Trade Contractors",
        "Building Foundation and Exterior Contrac",
        "Building Equipment Contractors",
        "Building Finishing Contractors",
        "Other Specialty Trade Contract",
        "Manufacturing",
        "Durable Goods",
        "Wood Product Manufacturing",
        "Other Wood Product Mfg.",
        "Nonmetallic Mineral Product Mfg.",
        "Primary Metal Manufacturing",
        "Fabricated Metal Product Mfg",
        "Architectural & Structural Metals Mfg.",
        "Machine Shops & Threaded Product Mfg.",
        "Other Fabricated Metal Product Mfg.",
        "Machinery Manufacturing",
        "Industrial Machinery Manufacturing",
        "Commercial and Service Industry Manufact",
        "Metalworking Machinery Mfg.",
        "ResidualOther General Purpose Machinery",
        "Computer and Electronic Product Manufact",
        "Computer and Peripheral Equipment Manufa",
        "Electronic Computer Manufacturing",
        "Communications Equipment Manufacturing",
        "Semiconductor and Electronic Component M",
        "Bare Printed Circuit Board Manufacturing",
        "Semiconductor and Related Devices Manufa",
        "Electronic Instrument Manufacturing",
        "Electrical Equipment and Appliance Manuf",
        "Transportation Equipment Manufacturing",
        "Motor Vehicle Mfg.",
        "Aerospace Product and Parts Manufacturin",
        "Ship and Boat Building",
        "Furniture and Related Product Manufactur",
        "Household and Institutional Furniture Ma",
        "Miscellaneous Durable Goods Manufacturing",
        "Medical Equipment & Supplies Mfg.",
        "Other Miscellaneous Durable Goods Mfg.",
        "Nondurable Goods",
        "Food Manufacturing",
        "Fruit & Vegetable Preserving & Specialty",
        "Dairy Product Manufacturing",
        "Animal Slaughtering and Processing",
        "Bakeries and Tortilla Manufacturing",
        "Other Food Mfg.",
        "Beverage and Tobacco Product Mfg",
        "ResidualTextile Mills",
        "Textile Product Mills",
        "Apparel Manufacturing",
        "Apparel Knitting Mills",
        "Cut and Sew Apparel Manufacturing",
        "Paper Manufacturing",
        "Converted Paper Product Mfg.",
        "Printing and Related Support Activities",
        "Petroleum and Coal Products Manufacturin",
        "Chemical Manufacturing",
        "Pharmaceutical and Medicine Manufacturin",
        "Soap, Cleaning Compound & Toiletry Mfg.",
        "Plastics and Rubber Products Manufacturi",
        "Trade, Transportation and Utilities",
        "Wholesale Trade",
        "Merchant Wholesalers, Durable Goods",
        "Motor Vehicle and Motor Vehicle Parts Me",
        "Furniture & Home Furnish Merch whole",
        "Lumber & Other Const. Mat Merch whole",
        "Professional and Commercial Equipment Me",
        "Electrical and Electronic Goods Merchant",
        "Hdwr, Plumb & Heating Merchant whole",
        "Machinery, Equipment and Supplies Mercha",
        "Merchant Wholesalers, Nondurable Goods",
        "Paper & Paper Products Merchant whole",
        "Apparel, Piece Gds & Notions Merch whole",
        "Grocery & Related Products Merchant whol",
        "Chemical & Allied Products Merchant whol",
        "Misc Nondurable Merchant Wholesalers",
        "Wholesale Electronic Markets and Agents",
        "Retail Trade",
        "Motor Vehicle and Parts Dealer",
        "Automobile Dealers",
        "Other Motor Vehicle Dealers",
        "Automotive Parts, Accessories and Tire S",
        "Furniture and Home Furnishings Stores",
        "Furniture Stores",
        "Home Furnishings Stores",
        "Electronics and Appliance Stores",
        "Building Material and Garden Equipment S",
        "Building Material and Supplies Dealers",
        "Food and Beverage Stores",
        "Grocery Stores",
        "Specialty Food Stores",
        "Beer, Wine, & Liquor Stores",
        "Health and Personal Care Stores",
        "Gasoline Stations",
        "Clothing and Clothing Accessories Stores",
        "Clothing Stores",
        "Jewelry, Luggage & Leather Gds Stores",
        "Sporting Goods, Hobby, Book and Music St",
        "Sporting Goods, Hobby and Musical Instru",
        "Book, Periodical and Music Stores",
        "General Merchandise Stores",
        "Department Stores",
        "Miscellaneous Store Retailers",
        "Office Supplies, Stationery & Gift Store",
        "Used Merch&ise Stores",
        "Other Miscellaneous Store Retailers",
        "Nonstore Retailers",
        "Electronic Shopping & Mail-Order",
        "Transportation, Warehousing and Utilitie",
        "Utilities",
        "Electric Power Gen, Trans & Distribution",
        "Natural Gas Distribution",
        "Transportation and Warehousing",
        "Air Transportation",
        "Scheduled Air transp.",
        "Truck Transportation",
        "General Freight Trucking",
        "Specialized Freight Trucking",
        "Transit and Ground Passenger Transportat",
        "Support Activities for Transportation",
        "Support Activities for Water transp.",
        "Support Activities for Road transp.",
        "Freight transp. Arrangement",
        "Couriers and Messengers",
        "Warehousing and Storage",
        "Information",
        "Publishing Industries (except Internet)",
        "Newspaper, Periodical, Book and Director",
        "Software Publishers",
        "Motion Picture and Sound Recording",
        "Motion Picture & Video Industries",
        "Motion Picture & Video Production",
        "Broadcasting (except Internet)",
        "Radio and Television Broadcasting",
        "Cable and Other Subscription Programming",
        "Telecommunications",
        "Wired Telecommunications Carriers",
        "Data Processing, Hosting & Related Services",
        "Other Information Serv.",
        "Financial Activities",
        "Finance and Insurance",
        "Credit Intermediation and Related Activi",
        "Depository Credit Intermediation",
        "Nondepository Credit Intermediation",
        "Activities Related to Credit Intermediat",
        "Securities, Commodity Contracts and Inve",
        "Securities & Commodity Contracts",
        "Other Financial Investment Activities",
        "Insurance Carriers and Related",
        "Insurance Carriers",
        "Agencies, Brokerages, and Other Insuranc",
        "Real Estate and Rental and Leasing",
        "Real Estate",
        "Lessors of Real Estate",
        "Offices of Real Estate Agents and Broker",
        "Activities Related to Real Estate",
        "Rental and Leasing Services",
        "Automotive Equipment Rental and Leasing",
        "Consumer Goods Rental",
        "General Rental Centers",
        "Comm & Industrial Mach Rental & Leasing",
        "Professional and Business Services",
        "Professional, Scientific and Technical S",
        "Legal Services",
        "Accounting, Tax Preparation and Bookkeep",
        "Architectural, Engineering and Related S",
        "Specialized Design Services",
        "Computer Systems Design and Related Serv",
        "Management, Scientific and Technical Con",
        "Scientific Research and Development Serv",
        "Advertising and Related Services",
        "Other Professional, Scientific and Techn",
        "Management of Companies and Enterprises",
        "Administrative and Support and Waste Ser",
        "Administrative and Support Services",
        "Office Administrative Services",
        "Facilities Support Serv.",
        "Employment Services",
        "Business Support Services",
        "Travel Arrangement and Reservation Servi",
        "Investigation and Security Services",
        "Services to Buildings and Dwellings",
        "ResidualOther Support Services",
        "Waste Management and Remediation Service",
        "Educational and Health Services",
        "Educational Services",
        "Elementary and Secondary Schools",
        "Junior Colleges",
        "Colleges, Universities and Professional",
        "Other Schools & Instruction",
        "Health Care and Social Assistance",
        "Ambulatory Health Care Services",
        "Offices of Physicians",
        "Offices of Dentists",
        "Offices of Other Health Practitioners",
        "Outpatient Care Centers",
        "Medical & Diagnostic Laboratories",
        "Home Health Care Serv.",
        "Other Ambulatory Health Care Serv.",
        "Hospitals",
        "General Medical & Surgical Hosp.s",
        "Psychiatric & Substance Abuse Hosp",
        "Specialty (not Psych, Sub Abuse) Hosp.",
        "Nursing and Residential Care Facilities",
        "Nursing Care Facilities",
        "Residential Mental Retardation, Mental a",
        "Comm Care Facilities for the Elderly",
        "Other Residential Care Facilities",
        "Social Assistance",
        "Individual and Family Services",
        "Community Food & Housing, & Emergency &",
        "Vocational Rehabilitation Services",
        "Child Day Care Services",
        "Leisure and Hospitality",
        "Arts, Entertainment, and Recreation",
        "Performing Arts, Spectator Sports",
        "Performing Arts Companies",
        "Spectator Sports",
        "Independent Artists, Writers, and Perfor",
        "Museums, Historical Sites, and Similar I",
        "Amusement, Gambling, and Recreation",
        "Amusement Parks and Arcades",
        "Gambling Industries",
        "Other Amusement and Recreation",
        "Accommodation and Food Service",
        "Accommodation",
        "Food Services and Drinking Places",
        "Special Food Services",
        "Drinking Places (Alcoholic Beverages)",
        "Full-Service Restaurants",
        "Limited-Service Eating Places",
        "Other Services",
        "Repair and Maintenance",
        "Auto Repair & Maintenance",
        "Commercial & Industrial Machinery",
        "Personal & Household Goods Repair",
        "Personal and Laundry Services",
        "Personal Care Serv.",
        "Drycleaning & Laundry Serv.",
        "Other Personal Services",
        "Religious, Grantmaking, Civic, Professio",
        "Religious Organizations",
        "Grantmaking & Giving Serv.",
        "Social Advocacy Organizations",
        "Civic & Social Organizations",
        "Bus,Labor, Political & Other like Org.",
        "Government",
        "Federal Government",
        "Federal Government excluding Department of Defense",
        "Department of Defense",
        "State Government",
        "State Government Education",
        "State Government Excluding Education",
        "Local Government",
        "Indian Tribes",
        "Local Government Education",
        "Local Government Excluding Education",
        "County",
        "City",
        "Special Districts",
        "State and Local Government",
        "Miscellaneous Durable Goods Merchant Who",
        "Real Estate and Rental and Leasing - Residual",
        "Restaurants",
        "Special Districts plus Indian Tribes",
        "Private Service Providing - Residual"
       ],
       "description": "industry_title",
       "index": 0,
       "layout": "IPY_MODEL_dcb213221154459caf8e90bbaffe064b",
       "style": "IPY_MODEL_e714aff7c3d54778b89dc70df6cddc11"
      }
     },
     "bfa5daba98c64847b99a4fa1887f9bb7": {
      "model_module": "@jupyter-widgets/base",
      "model_module_version": "1.1.0",
      "model_name": "LayoutModel",
      "state": {}
     },
     "bff8f056f669429ebc5b18fd596eba2f": {
      "model_module": "@jupyter-widgets/controls",
      "model_module_version": "1.4.0",
      "model_name": "DescriptionStyleModel",
      "state": {
       "description_width": ""
      }
     },
     "c026679d53894f24809b90e79104fbe1": {
      "model_module": "@jupyter-widgets/controls",
      "model_module_version": "1.4.0",
      "model_name": "DescriptionStyleModel",
      "state": {
       "description_width": ""
      }
     },
     "c0aa1ac5cbad4d3a86ec45b1c8253b16": {
      "model_module": "@jupyter-widgets/controls",
      "model_module_version": "1.4.0",
      "model_name": "VBoxModel",
      "state": {
       "_dom_classes": [
        "widget-interact"
       ],
       "children": [
        "IPY_MODEL_58a3c66e1f5f4d8db87dd0db675d605f",
        "IPY_MODEL_123007703c5544e3ac41dff32f5c1729",
        "IPY_MODEL_54023c5740cf452ca202bfe10a935b40",
        "IPY_MODEL_2215ddbf70244a0ab016767813f00f95"
       ],
       "layout": "IPY_MODEL_8e9727a2271b4751b80d6842def6c7bc"
      }
     },
     "c0e1174df5684e2498965f1f2f7cb902": {
      "model_module": "@jupyter-widgets/base",
      "model_module_version": "1.1.0",
      "model_name": "LayoutModel",
      "state": {}
     },
     "c129eacfaf6940e4b4f55ab336dd6764": {
      "model_module": "@jupyter-widgets/base",
      "model_module_version": "1.1.0",
      "model_name": "LayoutModel",
      "state": {}
     },
     "c14e56bb9cf34096acbb57e363a32b28": {
      "model_module": "@jupyter-widgets/controls",
      "model_module_version": "1.4.0",
      "model_name": "DescriptionStyleModel",
      "state": {
       "description_width": ""
      }
     },
     "c16526511528449f91923622a29cfbb8": {
      "model_module": "@jupyter-widgets/base",
      "model_module_version": "1.1.0",
      "model_name": "LayoutModel",
      "state": {}
     },
     "c1986f8849794a1b9758be47ca97f94a": {
      "model_module": "@jupyter-widgets/base",
      "model_module_version": "1.1.0",
      "model_name": "LayoutModel",
      "state": {}
     },
     "c1bd40e8b41a4bfa89935b88a2f010a8": {
      "model_module": "@jupyter-widgets/output",
      "model_module_version": "1.0.0",
      "model_name": "OutputModel",
      "state": {
       "layout": "IPY_MODEL_b260bd48eba247958d2f267d2614c4dd",
       "outputs": [
        {
         "data": {
          "image/png": "iVBORw0KGgoAAAANSUhEUgAAAXoAAAD8CAYAAAB5Pm/hAAAABHNCSVQICAgIfAhkiAAAAAlwSFlzAAALEgAACxIB0t1+/AAAADl0RVh0U29mdHdhcmUAbWF0cGxvdGxpYiB2ZXJzaW9uIDIuMi4zLCBodHRwOi8vbWF0cGxvdGxpYi5vcmcvIxREBQAAEnpJREFUeJzt3X1sXfV9x/HP59pAwHnAqQ2ayFNFUuokTdvg0jXNNKhGDOsSso6pRFs7ShRkAlG1ql2JmDRFXQRi0qrNhVGGGLTqQGmFQihISdW4g7ZExdAHkkYohJDiMiUxiS03NSTkfveHj9ObO5vcXNs5vr+8X//Y53fPwzc39icn3/M79zgiBABIVyHvAgAA44ugB4DEEfQAkDiCHgASR9ADQOIIegBIHEEPAIkj6AEgcQQ9ACSuPu8CJKmpqSnmzJmTdxkAUFNefPHFnohoPt16EyLo58yZo66urrzLAICaYnt/JevRugGAxOUa9LaX236wr68vzzIAIGm5Bn1EPBURt06bNi3PMgAgabRuACBxBD0AJI6gB4bR1tamQqEg2yoUCmpra8u7JKBqXIwFyrS1tWnbtm1qb29Xb2+v2tvbtW3bNsIeNcsT4VGCra2twTx6TBSFQkHt7e26//77T46tXbtWDzzwgIrFYo6VAaey/WJEtJ5uPVo3QJmI0JVXXqmFCxeqrq5OCxcu1JVXXqmJcFIEVIOgB4axbt06HT16VBGho0ePat26dXmXBFSNoAfKXHDBBRoYGNCiRYt08OBBLVq0SAMDA7rgggvyLg2oSq6fdWN7uaTlc+fOzbMM4BTvvPOOFi9erKeeekrNzc2yrcWLF+ull17KuzSgKtwZCwyjra1N8+fPV6FQ0Pz585lxg5pG6wYoM336dN1777265ZZb1N/fr1tuuUX33nuvpk+fnndpQFUIeqDMRRddpMmTJ6ujo0NTpkxRR0eHJk+erIsuuijv0oCqEPRAmTfffFMdHR1qaGiQJDU0NKijo0NvvvlmzpUB1ZkQDx4BJpKWlhbNmDFDO3fuPDnW2dmplpaWHKsCqscZPVDmrrvu0urVq9XZ2anjx4+rs7NTq1ev1l133ZV3aUBVOKMHyqxatUrS4E1Tu3fvVktLizZu3HhyHKg1uX7WTck8+jV79uzJrQ4AqEU18Vk3zKMHgPFHjx4AEkfQA0DiCHoASBxBDwCJI+gBIHEEPQAkjqAHgMQR9ACQuFyD3vZy2w/29fXlWQYAJI07YwEgcbRugGG0tbWpUCjItgqFAo8SRE0j6IEybW1t2rZtm9rb29Xb26v29nZt27aNsEfNyvXTK4e0trZGV1dX3mUAkqRCoaDGxkYdPnz45Nj06dN15MgRFYvFHCsDTlUTn14JTEQRocOHD2vFihU6dOiQVqxYocOHD2sinBQB1SDogWE0NTVp7969uvTSS7V37141NTXlXRJQNYIeGEZPT48uv/xyHThwQJdffrl6enryLgmoGo8SBIZx4YUXasuWLWpubj65PDAwkHNVQHU4oweGMTAwINuSJNuEPGoaQQ+UKRQGfy2GLr4OfR0aB2oNP7lAmWKxqMbGRm3fvl3Hjh3T9u3b1djYyNRK1CyCHhjGmjVrtG7dOk2aNEnr1q3TmjVr8i4JqBoXY4Ey9fX1euihh/S9731PS5cu1Y9//GPdeOONqq/n1wW1acx/cm0XJH1N0lRJXRHx6FgfAxhP7e3tuu+++3TttdfqxIkTqqurU7FY1O233553aUBVKmrd2H7Y9kHbO8vGr7P9iu1Xbd+ZDd8gaYak45K6x7ZcYPwtWbJEkydPPnnxtVAoaPLkyVqyZEnOlQHVqbRH/4ik60oHbNdJuk/S9ZLmS1ple76kKyT9NCK+JOm2sSsVODs2btyoJ598UseOHVNE6NixY3ryySe1cePGvEsDqlJR0EfEs5IOlw1fJenViHgtIo5JelyDZ/Pdko5k65wYaZ+2b7XdZbvr0KFDZ145ME52796tpUuXnjK2dOlS7d69O6eKgNEZzaybyyS9UbLcnY09IanNdoekZ0faOCIejIjWiGgduvsQmAhaWlq0YcMGLVy4UHV1dVq4cKE2bNiglpaWvEsDqjLmF2Mj4veSVo/1foGz5ZprrtHdd9+tSy65RJL01ltv6e6779batWtzrgyozmjO6H8raWbJ8oxsrGI8MxYT0ebNmzV16lRNmjRJEaFJkyZp6tSp2rx5c96lAVUZTdC/IGme7ffbPl/STZK2nMkOeGYsJqLu7m5t2rRJ+/btU7FY1L59+7Rp0yZ1dzOJDLWp0umVj0l6XtIVtrttr46IdyXdIWmrpN2SNkXErvErFQBQjVwfJWh7uaTlc+fOXbNnz57c6gBKzZw5U/39/WpsbNRvfvMbzZo1S0eOHNGUKVP0xhtvnH4HwFlSE48SpHWDiWjlypXq7+/XwMCAisWiBgYG1N/fr5UrV+ZdGlAVPtQMKNPZ2an169erqalJhUJBTU1NWr9+vTo7O/MuDagKrRugTF1dnd5++22dd955J8eOHz+uSZMm6cSJEe8BBM46WjdAlbhhCqmhdQOUGbph6q233pL0hxumrrnmmpwrA6pD0ANluGEKqck16LkzFhNRd3e3brvtNjU0NMi2GhoadNttt3HDFGpWrhdjh7S2tkZXV1feZQCSJNuaNm2aGhsbtX//fs2ePVtHjhxRX1+fJsLvCzCk0ouxPBsNKFNXV6e+vr6TrZuBgQH19fWprq4u79KAqtCjB8qUTqG0Pew4UEsIemAYS5YsUW9vryJCvb29PEYQNY2LscAwduzYoYsvvliSdPHFF2vHjh05VwRUjxumgDJ1dXUqFovq6emRJPX09KhYLNKjR82idQOUGerFNzc3q1AoaOhRl/ToUasIemAY8+bN04EDB1QsFnXgwAHNmzcv75KAqhH0wDD27Nmj9vZ29fb2qr29XXzoHmoZN0wBZWzL9ik3Rw0tT4TfF2BITXx6JbNuMFFFxMk59OWhD9QaZt0AwygUCqqvH7xxvL6+XoUCXU7ULj4CARhGsVg8+f2JEydOWQZqDacpwAiGwp2QR60j6IERLFiwQPv379eCBQvyLgUYFVo3wAh27dql2bNn510GMGqc0QMjGLoAy4VY1DqmVwIjoEePVDC9EgASx/9JASBxBD0AJI6gB4DEEfQAkDiCHgASR9ADQOIIegBIHEEPAInjzlgASBx3xgJA4mjdAEDiCHoASBxBDwCJI+gBIHEEPQAkjqAHgMQR9ACQOIIeABJH0ANA4gh6AEgcQQ8AiSPoASBxYx70tq+2/ZztB2xfPdb7BwCcmYqC3vbDtg/a3lk2fp3tV2y/avvObDgk/U7SJEndY1suAOBMVXpG/4ik60oHbNdJuk/S9ZLmS1ple76k5yLieklflbRh7EoFAFSjoqCPiGclHS4bvkrSqxHxWkQck/S4pBsiopi9fkTSBSPt0/attrtsdx06dKiK0gEAlRhNj/4ySW+ULHdLusz2Z2x/U9K3JX1jpI0j4sGIaI2I1ubm5lGUAQB4L/VjvcOIeELSE2O9XwBAdUZzRv9bSTNLlmdkYxXjmbEAMP5GE/QvSJpn+/22z5d0k6QtZ7IDnhkLAOOv0umVj0l6XtIVtrttr46IdyXdIWmrpN2SNkXErvErFQBQjYp69BGxaoTxZyQ9U+3BbS+XtHzu3LnV7gIAcBq5fgQCrRsAGH981g0AJI6gB4DE5Rr0TK8EgPFHjx4AEjfmd8YCE5nts7J9RIzqOMBYyjXomV6Js62SAH6vMCfAUYto3QBlli1bdkbjwETHrBugzNatW7Vs2bKTZ/a2tWzZMm3dujXnyoDqEPTAMLZu3apisajZX/2+isUiIY+aRtADQOKYRw8AieNiLAAkjtYNACSOoAeAxBH0AJA4gh4AEsesGwBIHLNuACBxtG4AIHEEPQAkjqAHgMQR9ACQOIIeABLH9EoASBzTKwEgcbRuACBxuT4cHBiND2/Ypr6B4+N+nDl3Pj3ux5h24Xn65T/xTFqMD4IeNatv4Lhev+fTeZcxJs7GPyY4d9G6AYDEEfQAkDiCHgASR9ADQOIIegBIHHfGAkDiuDMWABJH6wYAEkfQA0DiCHoASBxBDwCJI+gBIHEEPQAkjqAHgMQR9ACQOIIeABJH0ANA4gh6AEgcQQ8AiRuXoLfdYLvL9l+Mx/4BAJWrKOhtP2z7oO2dZePX2X7F9qu27yx56auSNo1loQCA6lR6Rv+IpOtKB2zXSbpP0vWS5ktaZXu+7Wsl/VrSwTGsEwBQpfpKVoqIZ23PKRu+StKrEfGaJNl+XNINkiZLatBg+A/YfiYiimNWMQDgjFQU9CO4TNIbJcvdkj4eEXdIku2bJfWMFPK2b5V0qyTNmjVrFGUAAN7LuM26iYhHIuL77/H6gxHRGhGtzc3N41UGAJzzRhP0v5U0s2R5RjZWMZ4ZCwDjbzRB/4Kkebbfb/t8STdJ2nImO+CZsQAw/iqdXvmYpOclXWG72/bqiHhX0h2StkraLWlTROwav1IBANWodNbNqhHGn5H0TLUHt71c0vK5c+dWuwsAwGk4IvKuQa2trdHV1ZV3GagxH3r0Q3mXMKZe/ruX8y4BNcb2ixHRerr1RjO9EshV/+579Po9n867jDEx586n8y4BCeNDzQAgcbkGPdMrAWD85Rr0TK8EgPFH6wYAEkfQA0Di6NEDQOLo0QNA4mjdAEDiCHoASBw9egBIHD16AEgcrRsASBxBDwCJI+gBIHEEPQAkjlk3AJA4Zt0AQOJo3QBA4gh6AEgcQQ8AiSPoASBxBD0AJI7plQCQOKZXAkDiaN0AQOIIegBIHEEPAIkj6AEgcQQ9ACSOoAeAxBH0AJA4gh4AEsedsQCQOO6MBYDE0boBgMTV510AMBpz7nw67xLGxLQLz8u7BCSMoEfNev2eT4/7Mebc+fRZOQ4wnmjdAEDiCHoASBxBDwCJI+gBIHEEPQAkjqAHgMQR9ACQOIIeABLniMi7Btk+JGl/3nUAw2iS1JN3EcAIZkdE8+lWmhBBD0xUtrsiojXvOoDRoHUDAIkj6AEgcQQ98N4ezLsAYLTo0QNA4jijB4DEEfRIku2rbS85y8e82fY3zuYxT8f2Stvz864D+SLoMaHYri9btu1qfk6vlnRWg36CWimJoD/HEfQYF7Y/b/tXtn9p+9vZ2CO2byxZ53fZ16ttP2d7i6Rf255j+xXb35K0U9JM28tsP2/7JdvftT052/Z12xuy8Zdtf9D2HEntkv7e9i9s/0lZbQ22H7b9M9s/t31DNn6z7c22f5Dt9w7bX8rW2WF7erbej2z/W7bvnbavGubPP8f29uw9+KHtWban2N5n+7xsnalDy9k+v267y/Zu2x+z/YTtPbb/uWS/f5vV/Qvb37RdN/Re2t6Yvd87bF+a/Y9mhaR/yda/fIz+elFjCHqMOdsLJP2jpE9FxIclfbGCzRZL+mJEfCBbnifp/ohYIOlotr8/i4jFkrokfalk255s/D8kfTkiXpf0gKSvR8RHIuK5smPdJWl7RFwl6RoNBmFD9tpCSZ+R9DFJGyX9PiI+Kul5SZ8v2cdFEfERSWslPTzMn6dD0qMRsUjSdyT9e0T0S/qRpKFnE94k6YmIOJ4tH8tuznpA0pOSbs/qudn2+2y3SPqspE9mxz4h6W+ybRsk7cje72clrYmIn0raIukr2fuwd5g6cQ7gmbEYD5+S9N2I6JGkiDhcwTY/i4h9Jcv7I2JH9v0fa7D98BPbknS+BoN3yBPZ1xc1GNKns0zSCttfzpYnSZqVfd+ZBXK/7T5JT2XjL0taVLKPxyQpIp7NzswvLjvGJ0pq+bake7PvH5L0D5I2S/qCpDUl22wpOdauiPhfSbL9mqSZkpZKulLSC9n7cKGkg9k2xyR9P/v+RUnXnv5twLmCoMfZ9K6y/0VmfffzS147WrZu6bIl/SAiVo2w33eyrydU2c+0Jf1VRLxyyqD98ZJ9SVKxZLlYtu/yeckVzVOOiJ9kbZ2rJdVFxM6Sl0uPVV5HfVb3oxGxfphdH48/zJWu9H3AOYLWDcbDdkl/bft9kjTU25b0ugbPSKXB3vF5Fe5vh6RP2p6b7a/B9gdOs02/pCkjvLZV0jpnp8W2P1phHaU+m227VFJfRPSVvf5TDbZmpMH2Smn76FuS/lvSf53hMX8o6Ubbl2THnm579mm2ea/3AecIgh5jLiJ2abC//T+2fynpX7OX/lPSn2Zjn9D/P4sfaX+HJN0s6THbv9Jg2+aDp9nsKUl/OdzFWElf0+A/Mr+yvStbPlNv2/65Bvvpq4d5fZ2kL2T1fk6nXqf4jqRGZe2fSkXErzV4rWJbtt8fSPqj02z2uKSvZBeUuRh7juLOWOAM2f6RBi/6dlW5/Y2SboiIz41pYcAI6OMBZ5HtDknXS/rzvGvBuYMzegBIHD16AEgcQQ8AiSPoASBxBD0AJI6gB4DEEfQAkLj/AxL81ci+qCtIAAAAAElFTkSuQmCC\n",
          "text/plain": "<Figure size 432x288 with 1 Axes>"
         },
         "metadata": {
          "needs_background": "light"
         },
         "output_type": "display_data"
        }
       ]
      }
     },
     "c1d80a2cfe054a1aa343f63b97d6d2dd": {
      "model_module": "@jupyter-widgets/base",
      "model_module_version": "1.1.0",
      "model_name": "LayoutModel",
      "state": {}
     },
     "c3036d37509d4ebc8ed03d80a0788170": {
      "model_module": "@jupyter-widgets/base",
      "model_module_version": "1.1.0",
      "model_name": "LayoutModel",
      "state": {}
     },
     "c3341b771ac54d7f84f887ac44c31f2e": {
      "model_module": "@jupyter-widgets/base",
      "model_module_version": "1.1.0",
      "model_name": "LayoutModel",
      "state": {}
     },
     "c3bba830a0e04b528e827c13b400d0fc": {
      "model_module": "@jupyter-widgets/base",
      "model_module_version": "1.1.0",
      "model_name": "LayoutModel",
      "state": {}
     },
     "c3e82fd6f79e4d48b1947054447b90de": {
      "model_module": "@jupyter-widgets/base",
      "model_module_version": "1.1.0",
      "model_name": "LayoutModel",
      "state": {}
     },
     "c4b97f337f0e43d29e1f78747a4344af": {
      "model_module": "@jupyter-widgets/controls",
      "model_module_version": "1.4.0",
      "model_name": "DescriptionStyleModel",
      "state": {
       "description_width": ""
      }
     },
     "c565631f2c85412188a6de6c8d0ce75f": {
      "model_module": "@jupyter-widgets/controls",
      "model_module_version": "1.4.0",
      "model_name": "ButtonModel",
      "state": {
       "description": "Run Interact",
       "layout": "IPY_MODEL_081be684b5444002943fe3dd13eb9bb1",
       "style": "IPY_MODEL_7039a23589a44e2d8030c1bcad6e6ec5"
      }
     },
     "c5a0031585964c12baa642a3061d4394": {
      "model_module": "@jupyter-widgets/controls",
      "model_module_version": "1.4.0",
      "model_name": "VBoxModel",
      "state": {
       "_dom_classes": [
        "widget-interact"
       ],
       "children": [
        "IPY_MODEL_5e7326bee5b9488a88b4008e361d1ff6",
        "IPY_MODEL_af7b7ae9a52a4b9397f9fcb84ab70b1f",
        "IPY_MODEL_315aa3cde0de4f40a4fddfadfcd84073"
       ],
       "layout": "IPY_MODEL_84ee80a7a460489795b28e618d4e9313"
      }
     },
     "c6942c58f0e641f6bb28277477c5db6a": {
      "model_module": "@jupyter-widgets/controls",
      "model_module_version": "1.4.0",
      "model_name": "DescriptionStyleModel",
      "state": {
       "description_width": ""
      }
     },
     "c6fd8b4ee936447eb8a69cea68631f60": {
      "model_module": "@jupyter-widgets/base",
      "model_module_version": "1.1.0",
      "model_name": "LayoutModel",
      "state": {}
     },
     "c7c4811c24764764aa6651fb975fa291": {
      "model_module": "@jupyter-widgets/controls",
      "model_module_version": "1.4.0",
      "model_name": "ButtonModel",
      "state": {
       "description": "Run Interact",
       "layout": "IPY_MODEL_09e303080f084d5fbcfbce20dff1cedf",
       "style": "IPY_MODEL_b18e993e3c10427c9fe3a082c31d41bf"
      }
     },
     "c84730d2e185467d840161d346499021": {
      "model_module": "@jupyter-widgets/base",
      "model_module_version": "1.1.0",
      "model_name": "LayoutModel",
      "state": {}
     },
     "c898c3318ba649609939b52b1b1d1e74": {
      "model_module": "@jupyter-widgets/base",
      "model_module_version": "1.1.0",
      "model_name": "LayoutModel",
      "state": {}
     },
     "c8aa262cb4d645f3b4d4e88adf9dbbbf": {
      "model_module": "@jupyter-widgets/output",
      "model_module_version": "1.0.0",
      "model_name": "OutputModel",
      "state": {
       "layout": "IPY_MODEL_d7bab3d54690409dbbfafe15f77400cb",
       "outputs": [
        {
         "data": {
          "image/png": "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\n",
          "text/plain": "<Figure size 432x288 with 1 Axes>"
         },
         "metadata": {
          "needs_background": "light"
         },
         "output_type": "display_data"
        }
       ]
      }
     },
     "c99e49bc0a034b72abc0a271cc01bdfb": {
      "model_module": "@jupyter-widgets/base",
      "model_module_version": "1.1.0",
      "model_name": "LayoutModel",
      "state": {}
     },
     "c9c01abba2604084a4627b80e8ccb845": {
      "model_module": "@jupyter-widgets/controls",
      "model_module_version": "1.4.0",
      "model_name": "ButtonStyleModel",
      "state": {}
     },
     "c9c7bd57d10a499993c3e56a5b789ff1": {
      "model_module": "@jupyter-widgets/controls",
      "model_module_version": "1.4.0",
      "model_name": "DescriptionStyleModel",
      "state": {
       "description_width": ""
      }
     },
     "caabeb2aef1847728bc8e5905e769451": {
      "model_module": "@jupyter-widgets/base",
      "model_module_version": "1.1.0",
      "model_name": "LayoutModel",
      "state": {}
     },
     "cae018a07c9f49c5bfa75a00551d7f43": {
      "model_module": "@jupyter-widgets/controls",
      "model_module_version": "1.4.0",
      "model_name": "ButtonModel",
      "state": {
       "description": "Run Interact",
       "layout": "IPY_MODEL_078fd2e93bb14dc282a83254ecbb776d",
       "style": "IPY_MODEL_ae676ddccd8b47d98e7effdab17e21fc"
      }
     },
     "cc63f56643e347ab96267bdb6edcc1eb": {
      "model_module": "@jupyter-widgets/base",
      "model_module_version": "1.1.0",
      "model_name": "LayoutModel",
      "state": {}
     },
     "cc931a9d23dd421ca18e67153aeb3fcf": {
      "model_module": "@jupyter-widgets/output",
      "model_module_version": "1.0.0",
      "model_name": "OutputModel",
      "state": {
       "layout": "IPY_MODEL_2da7b73c9f574c349e02da9c868ebe67",
       "outputs": [
        {
         "name": "stdout",
         "output_type": "stream",
         "text": "Total Nonfarm\n"
        },
        {
         "data": {
          "image/png": "iVBORw0KGgoAAAANSUhEUgAAA6UAAAJJCAYAAABS0JELAAAABHNCSVQICAgIfAhkiAAAAAlwSFlzAAALEgAACxIB0t1+/AAAADl0RVh0U29mdHdhcmUAbWF0cGxvdGxpYiB2ZXJzaW9uIDIuMi4zLCBodHRwOi8vbWF0cGxvdGxpYi5vcmcvIxREBQAAIABJREFUeJzt3Xu0JVddJ/DvDzrDKxLE7hmf0KAggpAILQwOSOMwCsKICAgBRQSNT1TW4MCMjgHxASILUCbGkIkRdMJDngblYSAERIUOJKEDCqMEyYzLNETA8FAIe/6ouvRJ0vfe033r9j7n3M9nrbu6zjl1qnbtrlNV39q7qqq1FgAAAOjhRr0LAAAAwM4llAIAANCNUAoAAEA3QikAAADdCKUAAAB0I5QCAADQTddQWlXnVNVVVXVwjnGfV1WXjH8frKpPHI8yAgAAsH2q53NKq+rbk1yT5MWttW8+iu89Kcm3tNaesG2FAwAAYNt1bSltrV2U5OrZ96rq66vqDVV1cVW9varudISvnprkvONSSAAAALbNrt4FOIKzkvx4a+1DVXWvJGck+Y61D6vqtklul+QtncoHAADARBYqlFbViUm+Lckrqmrt7Ztcb7RHJ/mj1tq1x7NsAAAATG+hQmmG7sSfaK2dssE4j07yU8epPAAAAGyjhXokTGvtU0k+XFWPTJIanLz2+Xh96Zcn+YtORQQAAGBCvR8Jc16GgPmNVXVlVT0xyWOTPLGqLk1yeZKHznzl0Ule2nreMhgAAIDJdH0kDAAAADvbQnXfBQAAYGfpdqOj3bt3t7179/aaPQAAANvo4osv/lhrbc9m43ULpXv37s2BAwd6zR4AAIBtVFUfmWc83XcBAADoRigFAACgG6EUAACAboRSAAAAuhFKAQAA6EYoBQAAoBuhFAAAgG6EUgAAALoRSgEAAOhGKAUAAKAboRQAAIBuhFIAAAC6EUoBAADoRigFAACgG6EUAACAboRSAAAAuhFKAQAA6EYoBQAAoBuhFAAAgG6EUgAAALoRSgEAAOhGKAUAAKAboRQAAIBudvUuAAAwvaqadHqttUmnBwBrtJQCwApqrc31d9unnj/XeACwXYRSAAAAuhFKAQAA6EYoBQAAoBuhFAAAgG6EUgAAALrxSBg4Rh63AMBOYr83vynrapXrCdZoKYVjNOWjFuxwAFh0HjM0P/UER0coBQAAoBuhFAAAgG52zDWlroMAAABYPDumpdT1fwAAAItnx4RSAAAAFo9QCgAAQDc75ppSAIAj8UxJgL60lAIAO5pnSkIfVTXpH8tLKAW2lR0OAHAkbkTKGqEU2Fbz7ki0QgAA7EyuKQVYEK5rAwB2Ii2lAAtCizIAsBMJpQAAAHQjlAIAANCNUAoAAEA3QikAAADdCKUAAAB0I5QCAADQjeeUAgAALKgpn2OeLOazzLWUcgNVNdkfAABw7OZ5PvmyP8tcKOUGVn2lBwAAFodQCgAAQDeuKQVgqeyEa2sAYCfRUgrAUpnyEgOBFAD6E0oBAADoRigFAACgG6EUAACAboRSAAAAuhFKAQAA6EYoBQAAoBuhFAAAgG6EUgAAALoRSgEAAOhGKAUAAKCbTUNpVZ1TVVdV1cF1Pv/5qrpk/DtYVddW1a2nLyoAAACrZp6W0nOTPHC9D1trz2mtndJaOyXJf0vyttba1ROVDwAAgBW2aShtrV2UZN6QeWqS87ZUIgAAAHaMya4praqbZ2hRfeUG45xWVQeq6sChQ4emmjUAAABLasobHf3nJH++Udfd1tpZrbV9rbV9e/bsmXDWAAAALKMpQ+mjo+suAAAAR2GSUFpVJyW5X5LXTjE9AAAAdoZdm41QVecl2Z9kd1VdmeT0JCckSWvtzHG0hyV5U2vt09tUTgAAAFbQpqG0tXbqHOOcm+HRMQAAADC3Ka8pBQAAgKMilAIAANCNUAoAAEA3QikAAADdCKUAAAB0I5QCAADQjVAKAABAN0IpAAAA3QilAAAAdCOUAgAA0I1QCgAAQDdCKQAAAN0IpQAAAHQjlAIAANCNUAoAAEA3QikAAADdCKUAAAB0I5QCAADQjVAKAABAN0IpAAAA3QilAAAAdCOUAgAA0I1QCgAAQDdCKQAAAN0IpQAAAHQjlAIAANCNUAoAAEA3QikAAADdCKUAAAB0I5QCAADQjVAKAABAN0IpAAAA3QilAAAAdCOUAgAA0I1QCgAAQDdCKQAAAN0IpQAAAHQjlAIAANCNUAoAAEA3QikAAADdCKUAAAB0I5QCAADQjVAKAABAN0IpAAAA3QilAAAAdCOUAgAA0I1QCgAAQDdCKQAAAN0IpQAAAHQjlAIAANCNUAoAAEA3QikAAADdCKUAAAB0I5QCAADQjVAKAABAN0IpAAAA3QilAAAAdCOUAgAA0I1QCgAAQDdCKQAAAN0IpQAAAHQjlAIAANCNUAoAAEA3QikAAADdCKUAAAB0I5QCAADQjVAKAABAN0IpAAAA3QilAAAAdCOUAgAA0I1QCgAAQDdCKQAAAN0IpQAAAHQjlAIAANCNUAoAAEA3QikAAADdCKUAAAB0I5QCAADQjVAKAABAN0IpAAAA3WwaSqvqnKq6qqoObjDO/qq6pKour6q3TVtEAAAAVtU8LaXnJnngeh9W1a2SnJHke1prd0nyyGmKBgAAwKrbNJS21i5KcvUGozwmyataa38/jn/VRGUDAABgxU1xTekdk3x5VV1YVRdX1ePWG7GqTquqA1V14NChQxPMGgAAgGU2RSjdleQeSR6c5LuS/I+quuORRmytndVa29da27dnz54JZg0AAMAy2zXBNK5M8vHW2qeTfLqqLkpycpIPTjBtAAAAVtgULaWvTXKfqtpVVTdPcq8kH5hgugAAAKy4TVtKq+q8JPuT7K6qK5OcnuSEJGmtndla+0BVvSHJZUm+mOTs1tq6j48BAACANZuG0tbaqXOM85wkz5mkRAAAAOwYU3TfBQAAgGMilAIAANCNUAoAAEA3QikAAADdCKUAAAB0I5QCAADQjVAKAABAN0IpAAAA3QilAAAAdCOUAgAA0I1QCgAAQDdCKQAAAN0IpQAAAHQjlAIAANCNUAoAAEA3QikAAADdCKUAAAB0I5QCAADQjVAKAABAN0IpAAAA3QilAAAAdCOUAgAA0I1QCgAAQDdCKQAAAN0IpQAAAHQjlAIAANCNUAoAAEA3QikAAADdCKUAAAB0I5QCAADQjVAKAABAN0IpAAAA3QilAAAAdCOUAgAA0I1QCgAAQDdCKQAAAN0IpQAAAHQjlAIAANCNUAoAAEA3QikAAADdCKUAAAB0I5QCAADQjVAKAABAN7t6FwAAODonP+NN+eRnPz/Z9PY+7fVbnsZJNzshl57+nROUBoCdRigFgCXzyc9+Plc868G9i3EdUwRbAHYm3XcBAADoRkspAMAOp0s40JNQCgCsrCnD1lRdlBcxbOkSDvS0EqHUDoepWacAVoOwBbD4ViKU2uEwNesUAAAcHysRSgEAYLst4rW3id5ULD+hFAAA5rCIPakSvalYfh4JAwAAQDdaSoFjtojdmHRhAgBYLkIpcMwWsRuTLkwA0J8nGXA0hFIAAGBSTlxzNFxTCgAAQDdaSncQ1/8BAACLRijdQXSjAACAxaHRaCCUArAw3BgDgJ1Eo9FAKAVgYdg5A8DO40ZHAAAAdCOUAgAA0I3uuwDbbBFvYpC4VhIAWAxCKcA2W8TrJBPXSgIAi0H3XQAAALoRSgEAAOhGKAUAAKAboRQAAIBuhFIAAAC6EUoBAADoRigFAACgG6EUAACAboRSAAAAuhFKAQAA6EYoBQAAoBuhFAAAgG6EUgAAALoRSgEAAOhm01BaVedU1VVVdXCdz/dX1Ser6pLx75emLyYAAACraNcc45yb5IVJXrzBOG9vrT1kkhIBAACwY2zaUtpauyjJ1cehLAAAAOwwU11Teu+qurSq/rSq7rLeSFV1WlUdqKoDhw4dmmjWAAAALKspQul7kty2tXZykt9O8pr1RmytndVa29da27dnz54JZg0AAMAy23Ioba19qrV2zTj8J0lOqKrdWy4ZAAAAK2/LobSqvrKqahy+5zjNj291ugAAAKy+Te++W1XnJdmfZHdVXZnk9CQnJElr7cwkj0jyE1X1hSSfTfLo1lrbthIDAACwMjYNpa21Uzf5/IUZHhkDAAAAR2Wqu+8CAADAURNKAQAA6EYoBQAAoBuhFAAAgG6EUgAAALoRSgEAAOhGKAUAAKAboRQAAIBuhFIAAAC6EUoBAADoRigFAACgG6EUAACAboRSAAAAuhFKAQAA6EYoBQAAoBuhFAAAgG6EUgAAALoRSgEAAOhGKAUAAKAboRQAAIBudvUuACyiL/ump+Wuv/+03sW4ji/7piR5cO9iAADApIRSOIJ//sCzcsWzFisA7n3a63sXAQAAJieUAsCS0ZsDgFUilALAktGbA/pYxBNCiZNCLD+hFAAA5rCIJ4QSJ4VYfu6+CwAAQDdaSgEAgEktYldn3ZwXl1AKALDDCRBMbRG7OuvmvLiEUgCAHU6AAHoSSgGAlaUFEFhktlEDoRQAWFlaAIFFZhs1WIlQ6gzDfNQTAACwaFYilDrDMB/1BAAALBrPKQUAAKCblWgpBfrQJZypWacAYOcRSoFjpks4U7NOAcDOo/suAAAA3QilAAAAdKP7LsA2W8TrJBPXSgIAi0EoBdhmi3idZOJaSQBgMei+CwAAQDdCKQAAAN0IpQAAAHQjlAIAANCNUAoAAEA3QikAAADdCKUAAAB0I5QCAADQjVAKAABAN0IpAAAA3QilAAAAdCOUAgAA0I1QCgAAQDdCKQAAAN0IpQAAAHQjlAIAANCNUAoAAEA3QikAAADdCKUAAAB0I5QCAADQjVAKAABAN0IpAAAA3QilAAAAdCOUAgAA0I1QCgAAQDdCKQAAAN0IpQAAAHQjlAIAANCNUAoAAEA3QikAAADdCKUAAAB0I5QCAADQjVAKAABAN0IpAAAA3QilAAAAdCOUAgAA0I1QCgAAQDdCKQAAAN0IpQAAAHSzaSitqnOq6qqqOrjJeN9aVV+oqkdMVzwAAABW2TwtpecmeeBGI1TVjZM8O8mbJigTAAAAO8SmobS1dlGSqzcZ7UlJXpnkqikKBQAAwM6w5WtKq+prkjwsye/MMe5pVXWgqg4cOnRoq7MGAABgyU1xo6PnJ3lqa+2Lm43YWjurtbavtbZvz549E8waAACAZbZrgmnsS/LSqkqS3Um+u6q+0Fp7zQTTBgAAYIVtOZS21m63NlxV5yY5XyAFAABgHpuG0qo6L8n+JLur6sokpyc5IUlaa2dua+kAAABYaZuG0tbaqfNOrLX2+C2VBgAAgB1lihsdAQAAwDERSgEAAOhGKAUAAKAboRQAAIBuhFIAAAC6EUoBAADoRigFAACgG6EUAACAboRSAAAAuhFKAQAA6EYoBQAAoBuhFAAAgG6EUgAAALoRSgEAAOhGKAUAAKAboRQAAIBuhFIAAAC6EUoBAADoRigFAACgG6EUAACAboRSAAAAuhFKAQAA6EYoBQAAoBuhFAAAgG6EUgAAALoRSgEAAOhGKAUAAKAboRQAAIBuhFIAAAC6EUoBAADoRigFAACgG6EUAACAboRSAAAAuhFKAQAA6EYoBQAAoBuhFAAAgG6EUgAAALoRSgEAAOhGKAUAAKAboRQAAIBuhFIAAAC6EUoBAADoRigFAACgG6EUAACAbnb1LgAsqr1Pe33vIlzHSTc7oXcRAABgckIpHMEVz3rwJNPZ+7TXTzYtAABYRbrvAgAA0I1QCgAAQDdCKQAAAN0IpQAAAHQjlAIAANCNu+8CAMCcFu2RcYnHxrH8hFIAAJjDlI9589g4OEwoBQAAJrdorcpalBeXUAoAAExqqlZgLco7gxsdAQAA0I2WUgAAgE50cxZKAQAAunDzrIHuuwAAAHSjpRQAlpDuXgCsCqEUAJaM7l4ArBLddwEAAOhGKAUAAKAb3Xd3GNcgAQAAi0Qo3UFcgwQAACwaoRQAAL2pgG6EUgCAHU5vKqAnoRSAhaK1BgB2FqEUgIUxVeuKlhoAWB4eCQMAAEA3QikAAADdrEz3XdcgAQAALJ+VCKWuQQIAAFhOuu8CAADQjVAKAABAN0IpAAAA3azENaUAAOtxM0SAxSaUAgAry80QARaf7rsAAAB0I5QCAADQzaahtKrOqaqrqurgOp8/tKouq6pLqupAVd1n+mICAACwiuZpKT03yQM3+PyCJCe31k5J8oQkZ09QLgAAAHaATUNpa+2iJFdv8Pk1rbU2vrxFkrbeuAAAADBrkrvvVtXDkvx6kn+bZN1b01XVaUlOS5Lb3OY2U8wa6MyjFgAA2IpJQmlr7dVJXl1V357kmUkesM54ZyU5K0n27dunRRWW3JSPR/C4BQCAnWnSu++OXX1vX1W7p5wuAAAAq2nLobSqvqGqahy+e5KbJPn4VqcLAADA6tu0+25VnZdkf5LdVXVlktOTnJAkrbUzkzw8yeOq6vNJPpvkUTM3PgIAAIB1bRpKW2unbvL5s5M8e7ISAQAAsGNMcqMjADa2aHcpTtypGABYDEIpwDZzl2IAgPVNevddAAAAOBpCKQAAAN0IpQAAAHQjlAIAANCNUAoAAEA3QikAAADdCKUAAAB0I5QCAADQjVAKAABAN0IpAAAA3QilAAAAdCOUAgAA0I1QCgAAQDdCKQAAAN0IpQAAAHQjlAIAANCNUAoAAEA3QikAAADdCKUAAAB0I5QCAADQjVAKAABAN0IpAAAA3QilAAAAdCOUAgAA0I1QCgAAQDdCKQAAAN0IpQAAAHQjlAIAANCNUAoAAEA3QikAAADdCKUAAAB0I5QCAADQjVAKAABAN0IpAAAA3QilAAAAdCOUAgAA0I1QCgAAQDdCKQAAAN0IpQAAAHQjlAIAANCNUAoAAEA3QikAAADdCKUAAAB0I5QCAADQjVAKAABAN0IpAAAA3QilAAAAdCOUAgAA0I1QCgAAQDdCKQAAAN0IpQAAAHQjlAIAANCNUAoAAEA3QikAAADdCKUAAAB0I5QCAADQjVAKAABAN0IpAAAA3QilAAAAdCOUAgAA0I1QCgAAQDdCKQAAAN0IpQAAAHQjlAIAANCNUAoAAEA3QikAAADdCKUAAAB0I5QCAADQjVAKAABAN0IpAAAA3ezqXQBYVlU133jPnm96rbUtlAYAAJaTUArHSIgEAICtE0oBAGBCU/amWuWT4HqdsUYoBQCACQlH81FP85k3vCfLe6JDKAWAFbQTDmIAdoKdsP0VSrkBXU6ARaa713xWdbm2g/3efJzoALbLjgmlDmLmt8rLBiw/2yimZp2aj3oCtsumzymtqnOq6qqqOrjO54+tqsuq6n1V9c6qOnn6Ym5da23SPwAAALZunpbSc5O8MMmL1/n8w0nu11r7p6p6UJKzktxrmuIBy053LwAANrJpKG2tXVRVezf4/J0zL/8yydduvVjAqhAiAQDYyKbdd4/SE5P86XofVtVpVXWgqg4cOnRo4lkDAACwbCYLpVV1/wyh9KnrjdNaO6u1tq+1tm/Pnj1TzRoAAIAlNcndd6vqbknOTvKg1trHp5gmAAAAq2/LLaVVdZskr0ryg621D269SAAAAOwUm7aUVtV5SfYn2V1VVyY5PckJSdJaOzPJLyX5iiRnjHfZ/EJrbd92FRgAAIDVMc/dd0/d5PMfSfIjk5UIAACAHWOSa0oB2Lp5n+nqea4AwCoRSgEWhCAJAOxEUz+nFAAAAOYmlAIAANCNUAoAAEA3QikAAADdCKUAAAB0I5QCAADQjVAKAABAN0IpAAAA3QilAAAAdCOUAgAA0I1QCgAAQDdCKQAAAN0IpQAAAHQjlAIAANCNUAoAAEA3QikAAADdCKUAAAB0I5QCAADQjVAKAABAN0IpAAAA3QilAAAAdCOUAgAA0I1QCgAAQDfVWusz46pDST7SZebr253kY70LsSTU1XzU0/zU1XzU03zU0/zU1XzU0/zU1XzU03zU0/wWsa5u21rbs9lI3ULpIqqqA621fb3LsQzU1XzU0/zU1XzU03zU0/zU1XzU0/zU1XzU03zU0/yWua503wUAAKAboRQAAIBuhNLrOqt3AZaIupqPepqfupqPepqPepqfupqPepqfupqPepqPeprf0taVa0oBAADoRkspAAAA3QilAAAAdLMyobSqruldhkVUVddW1SUzf3s3GHd/VZ1//Eq3PKqqVdUfzLzeVVWHpqqvqrqwqpbyFt6bqarvHevvTsfw3bOr6s7j8BVVtXv6Ei6O7V7PVoXt/dHZrL5WeftzfVvZHm1hnj9XVTc/XvPbSFX9QlVdXlWXjccE9zqGaeyvqm+bsExLt22vqq+tqtdW1Yeq6m+r6gVV9W82GH+udWBZt23jb+q5M6+fUlVP71SWha3DmWPyy6vq0qr6L1XVJYstYj2tTCjtoap29S7DHD7bWjtl5u+KrU6wqm68xe8vQ71d36eTfHNV3Wx8/Z+S/N+jmcCSLvcUTk3yjvHfuVXVjVtrP9Jae//2FGshbXk9AzZ0TNujLfq5JN1DaVXdO8lDkty9tXa3JA9I8tFjmNT+JJOF0q3osV+tqkryqiSvaa3dIckdk5yY5Fc3+Nq2rwOdjzH+Jcn3LdvJhes7DnW4dkx+lwz79wclOX2b5zm57aqnlQqlVXViVV1QVe+pqvdV1UPH9/dW1Qeq6kXj2Yk3rR30zZ4hrqrdVXXFzHfePk7rPWtnBcczhG+vqtcleX9V/XJV/dxMGX61qn72eC/70aiqG1fVc6rq3ePZ0h+b+fiWVfX6qvqbqjpz7QxOVV1TVc+tqkuT3Hv2zGZV7auqC8fhe1bVX1TVe6vqnVX1jeP7j6+q11XVW5JcUFUvrqrvnSnTH679fy2wP0ny4HH41CTnrX0w73KP7z11XD8vrapnzUz/kVX1rqr6YFXd9zgt07aqqhOT3CfJE5M8enxvf1VdNOd6tmNacGYcy3p2UVWdMjPeO6rq5ONa6uOsrtezo6peWFWPH4evqKpnzOwL7jS+f4uqOmf8nb13CbY5k9movmbee0JVPX/m9Y9W1fOOYzG31Qbbo/XWo++uqr+uqour6rfWxquqp1fVU2a+c3A8ZrjFuF27dHzvUVX1M0m+Oslbq+qtx29pj+irknystfYvSdJa+1hr7f9V1T2q6m3jcr6xqr4q+dLx0QtqaNk5OG5/9ib58SRPHt+/b1XtqapXjscU766q/zB+/+lV9fs1HDN9pKq+r6p+Y/xNvqGqTpgp238d339XVX3D+P2NpvuSqvrzJC85brV32Hck+Vxr7feSpLV2bZInJ3nCuA785lhfl1XVk460DlTVqePyHqyqZ89OvKqeV8Ox6gVVtWd87+vHOrt4rM+1bdq54z70r5L8xvGrghv4Qoa7vj75+h+Mv423jPVxQVXdpqpOGteJtX3/Larqo1V1wibL+jtV9ZdV9Xfjb/ecGo7vz73ePBe+DltrVyU5LclP12DdY/M6wnHjStZTa20l/pJck2RXkluOr3cn+T9JKsneDD+YU8bPXp7kB8bhC5Psm/nOFePwzZPcdBy+Q5ID4/D+DK0Ztxtf703ynnH4Rkn+NslX9K6PmXq5Nskl49+rx/dOS/KL4/BNkhxIcrtx2T6X5PZJbpzkzUkeMY7Xknz/zHSvSLJ7HN6X5MJx+JZJdo3DD0jyynH48UmuTHLr8fX9MpxlTJKTknx47XuL+DeuX3dL8kdJbjrW5/4k5x/lcj8oyTuT3Hx8vfb+hUmeOw5/d5I/673ME9XbY5P8r3H4nUnucZTr2ezv80vr3Kr+bWE9+6Ekzx+H75hxe7Wqf2M9falexvdemOTxM+vKk8bhn0xy9jj8azm87b9Vkg8muUXv5VmA+roww3b8xAz7sBPG99+Z5K69yz9hPay3PbpBvYy/v4/m8L7+vJnf4dOTPGXmOwczHAs8PMmLZt4/aWZ97L7tGv9/LxnX+zMy7IdPGOtizzjOo5KcM7NevGgc/vYkB9dZ/v+d5D7j8G2SfGBmvHeM8zg5yWeSPGj87NVJvnemfn5hHH7cTD1vNN2Lk9ysUz3+TJLnHeH99yb52Qzb77Xt9No+/kvrQIaA+vdJ9mQ4bn3LTF20JI8dh38pyQvH4QuS3GEcvleSt4zD5yY5P8mNO69b12TYP12R4ZjuKUmePn72x0l+aBx+Qg4f+702yf1n1ru17fRGy/rSDMf1D03yqSR3zXDsfXEOH+MvbB0mueYI730iyb/L+sfm6x03rlw9rVp3wkrya1X17Um+mORrMvxHJ8mHW2uXjMMXZ9iBbOSEJC+sofXh2gwHemve1Vr7cJK01q6oqo9X1beM83pva+3jkyzNND7bWjvleu99Z5K7VdUjxtcnZQje/5ph2f4uSarqvAxnlf8oQx28co75nZTk96vqDhlW+NkzoW9urV2dJK21t1XVGeOZmYdnOLj+wjEt4XHSWrushrPEp2ZozZo113JnCBK/11r7zDjNq2fGe9X47zzr57I4NckLxuGXjq/Pz9bXs5V1jOvZK5L8j6r6+Qw7/XOPS2EX2+zv6fvG4e9M8j11uJXrphkPdo9z2RZSa+2aGnp1PKSqPpAhnL6vd7kmtN726EjulOTv1vb1GULpaZtM/31Jnju2fJ3fWnv7Fss7qfH/9x5J7pvk/kleluRXknxzkjdXVTKcKPyHma+dN373oqq6ZVXd6giTfkCSO4/fT4YeVyeOw3/aWvt8Vb1vnPYbxvffl+vu586b+XetdX6j6b6utfbZeZf9ONqf5Iy145nr7ePXfGuGE/mHkqGnWIbQ/5oMx64vG8f7gySvGpf525K8YqYubjIzvVe0obW2q9bap6rqxRlC++z/zb1zeBv8khxuZXtZhjD61gw9F86YY1n/uLXWxvXpH9e2T1V1eYb16ZIsbx2ud2x+g+PGVa2nVQulj81w5uke40bwigwHHcnQ333NtUnWrtn6Qg53Y77pzDhPTvKPGc7u3ShDy86aT19vvmdnOLP6lUnO2dISHB+VoRXhjdd5s2p/hgPdWWuvP3e9FXG9entmkre21h7V5eeCAAAFsklEQVQ2HlhfOPPZ9evtxUl+IMPG6IePagn6eV2S38yw4/mKmfePZrnXs7aOXpsV+G1W1a0zdHO6a1W1DAckLcnrM/96tlMd1XrWWvtMVb05w1nR78/QArTqZrdByXW3Q8mRf0+V5OGttb/Z5rItos3qa83ZSf57kr9O8nvbXajjZYPt0WszX73MOmJdttY+WFV3z9Db5Veq6oLW2i9PUf6pjNvXC5NcOB6w/lSSy1tr917vK5u8Toa6+PettdnjpIwHtWtdhb9YVZ9vY5NLhgPi2f1cO8LwRtOdd7+6Hd6f5BGzb1TVLTOc4Lpi4nm1DPXwiSM0MKzpWRfX9/wk78l8247XZWhIunWGfdZbktwiGy/r2nb9i7nucf3116dZC1uHVXX7DPuoq7L+sfl3HeGrmy3PUtbTSl1TmuGswlVjIL1/ktvO8Z0rcvgAbnYjc1KSf2itfTHJD2bYga3n1UkemOHs1xs3GG9RvDHJT9R4PUdV3bGqbjF+ds+qul0N/fwflaHrzZFckcP19vCZ90/K4RuzPH6Tcpyb4eL/tOW5mc05SZ5xhNaDeZf7zUl+uMa78I0b41X1iCQvaa3dtrW2t7X2dRm6ad83869nO9WxrGdnJ/mtJO9urf3T9hZvIXwkQyvKTcbWm/84x3femORJNR7Vjj1cdoq56qu19ldJvi7JYzJzPfMKWG97dKMcuV7+Jsnt6/Ad6x81M60rktw9ScYQertx+KuTfKa19gdJnrM2TpJ/TvJl27Rcc6uqbxx7Waw5JUMvgT013AQpNVzTd5eZcR41vn+fJJ9srX0yN1yeNyV50sx81jug3cijZv79iwmnux0uSHLzqnpc8qWbPz43wzHNG5P8WI03gpnZx8/W2buS3K+G+5jcOEOL/dvGz26Uw8eij0nyjtbap5J8uKoeOU6zakHvGTC2DL88w3Xba96Z8RruDI1Hbx/HvSbJuzP0Xji/tXbtRMu6FHU49hQ8M0O32Zb1j81vcNy4qvW0EqF0/PH/S5I/TLJvPPv3uAxnejfzmxlWgvdmuKZ0zRlJfqiGG67cKRucHWit/WuG7gcvX5JWnrMznOl7T1UdTPK7OXzm5N0Zrqn5QIYd9qvXmcYzkrygqg5kOMuz5jeS/PpYnxu29rXW/nGcz9KcjW+tXdla+60jfDTXcrfW3pDh7OCBqrokw3UXq+rU3HD9eeX4/rzr2Y50LOtZa+3iDNeOLM3v6Visbe9bax/NcPBzcPz3vXN8/ZkZujxfNnZjeua2FXRBHGN9vTzJn6/YyY31tkePzhHqZewa+pNJ3lBVF2cIFZ+c+d6tx3XopzNco5kM1229a9y2n56ha2wy3ADmDdX/RkcnZuj+//6quizJnTNcS/aIJM8ej3cuyXXvrPu5cXtzZg4HjT9O8rAab3SUobvmvhpuzvL+DDdCOlpfPpbpZ3P4ZjlTTHdyY4B4WIabE34ow///5zL0MDg7w/Wil431+Zjxa19aB1pr/5DkaRmOGy9NcnFr7bXjeJ/OcNL2YIaW/bWW9scmeeI4zcsz9IpZVM/NdY+nn5QhVF2WoZFn9magL8vQY+5lM+9tdVkXuQ5vNv5uLk/yZxlOvDxj/OyIx+YbHDeuXD3V4Z4Uy2tM8S9qrd2z0/xvlKG7wiNbax/qUYZlNJ71eV+G29N/crPxWQ01dBN/SmvtIb3LskrGVpoLk9xp7OGxknpv75fNsdRXDXeZfV5r7YLtK9niq6oTx+swK8n/TPKh1trK3I14MzXcVf8prbUDvcsCrL6lbymtqh/P0MXoFzvN/84Z7vJ7gUA6v6p6QIZWst8WSGFrxm5kf5XhDparHEi7bu+XzdHWV1Xdqqo+mOEGeTs6kI5+dGyZuDxD1/nf7VwegJW1Ei2lAAAALKelbykFAABgeQmlAAAAdCOUAgAA0I1QCgAAQDdCKQAAAN38f1OWNuZ/VLfhAAAAAElFTkSuQmCC\n",
          "text/plain": "<Figure size 1152x720 with 1 Axes>"
         },
         "metadata": {
          "needs_background": "light"
         },
         "output_type": "display_data"
        }
       ]
      }
     },
     "cd019aa1036d4d8db8686f4e5c413db5": {
      "model_module": "@jupyter-widgets/controls",
      "model_module_version": "1.4.0",
      "model_name": "VBoxModel",
      "state": {
       "_dom_classes": [
        "widget-interact"
       ],
       "children": [
        "IPY_MODEL_30f7af9b9ad446d8b1c8088a9cee782f",
        "IPY_MODEL_3c1f38d76f6043bb9178652314178125",
        "IPY_MODEL_54d801dcbb7b480b934ce9bdecff0531",
        "IPY_MODEL_ec127995a54b4694a10c1c0288dba99b",
        "IPY_MODEL_dc0e5515a18b41b8b2bf8415b6154426",
        "IPY_MODEL_cd6b532ef5744d7c83220ecd39e1c9ba"
       ],
       "layout": "IPY_MODEL_2ab7a352dc4f48aeba14610518a1541b"
      }
     },
     "cd21753395124577a2c0d8837f848413": {
      "model_module": "@jupyter-widgets/controls",
      "model_module_version": "1.4.0",
      "model_name": "DropdownModel",
      "state": {
       "_options_labels": [
        "State",
        "Metropolitan Area",
        "County"
       ],
       "description": "area_type",
       "index": 0,
       "layout": "IPY_MODEL_c0e1174df5684e2498965f1f2f7cb902",
       "style": "IPY_MODEL_079503a51cb54c8aa5e21e0bd2397f88"
      }
     },
     "cd604c72b041471d991132d3a542b93d": {
      "model_module": "@jupyter-widgets/output",
      "model_module_version": "1.0.0",
      "model_name": "OutputModel",
      "state": {
       "layout": "IPY_MODEL_12f0a2985399448db11328fef4dcc978"
      }
     },
     "cd6b532ef5744d7c83220ecd39e1c9ba": {
      "model_module": "@jupyter-widgets/output",
      "model_module_version": "1.0.0",
      "model_name": "OutputModel",
      "state": {
       "layout": "IPY_MODEL_4e10354e7c4f4256ad352c7383184e68"
      }
     },
     "cdd23a9cc42a4ed683e771baab71da65": {
      "model_module": "@jupyter-widgets/base",
      "model_module_version": "1.1.0",
      "model_name": "LayoutModel",
      "state": {}
     },
     "cf6451d2b9df43bfa34bde34ea21ec93": {
      "model_module": "@jupyter-widgets/base",
      "model_module_version": "1.1.0",
      "model_name": "LayoutModel",
      "state": {}
     },
     "cf777d00e29c40428bfcd4e5ba67a31c": {
      "model_module": "@jupyter-widgets/base",
      "model_module_version": "1.1.0",
      "model_name": "LayoutModel",
      "state": {}
     },
     "cfc15fc678a746dbb7e30a63cd0ded96": {
      "model_module": "@jupyter-widgets/output",
      "model_module_version": "1.0.0",
      "model_name": "OutputModel",
      "state": {
       "layout": "IPY_MODEL_c3bba830a0e04b528e827c13b400d0fc"
      }
     },
     "d12163660aee4a178ccfcc859c48a4fb": {
      "model_module": "@jupyter-widgets/controls",
      "model_module_version": "1.4.0",
      "model_name": "VBoxModel",
      "state": {
       "_dom_classes": [
        "widget-interact"
       ],
       "children": [
        "IPY_MODEL_233f9a8760824eaf92057d331081ecf7",
        "IPY_MODEL_eddc5fcb837c4af9b41b8e8cc2180eac",
        "IPY_MODEL_6ffdc4a09e254701a09241f7a88f3be4",
        "IPY_MODEL_fd77b2d0906941b5872a9f67fce42676",
        "IPY_MODEL_0f8c814796af4daaa808278697ff9541"
       ],
       "layout": "IPY_MODEL_0d738f47cfd1415b9b6e81403382780f"
      }
     },
     "d1a65fce7fe8495c9f727906cc7a9ff4": {
      "model_module": "@jupyter-widgets/controls",
      "model_module_version": "1.4.0",
      "model_name": "DropdownModel",
      "state": {
       "_options_labels": [
        "State",
        "Metropolitan Area",
        "County"
       ],
       "description": "area_type",
       "index": 0,
       "layout": "IPY_MODEL_6b225fb28afc41799229663decc89490",
       "style": "IPY_MODEL_e11e867a311444a89a76bde43d52eba6"
      }
     },
     "d23d9969833044c3b8aec27fa09c569b": {
      "model_module": "@jupyter-widgets/controls",
      "model_module_version": "1.4.0",
      "model_name": "DropdownModel",
      "state": {
       "_options_labels": [
        "State",
        "Metropolitan Area",
        "County"
       ],
       "description": "area_type",
       "index": 0,
       "layout": "IPY_MODEL_ea05e3c680214a6a88054ce0ebcdde4b",
       "style": "IPY_MODEL_b76e639556694061b97b4a392ba76318"
      }
     },
     "d322e0f239e24985bab5e2dbd8ccf27a": {
      "model_module": "@jupyter-widgets/controls",
      "model_module_version": "1.4.0",
      "model_name": "DropdownModel",
      "state": {
       "_options_labels": [
        "Total Nonfarm",
        "Total Wage and Salary",
        "Total Private",
        "Goods Producing",
        "Service Providing",
        "Private Service Providing",
        "Mining and Logging",
        "Logging",
        "Mining",
        "Oil & Gas Extraction",
        "Mining, except Oil & Gas",
        "Support Activities for Mining",
        "Total Farm",
        "Natural Resources, Mining and Constructi",
        "Construction",
        "Construction of Buildings",
        "Residential Building Construction",
        "Nonresidential Building Construction",
        "Heavy and Civil Engineering Construction",
        "Utility System Const.",
        "L& Subdivision",
        "Highway, Street, and Bridge Const",
        "Other Heavy & Civil Engineer",
        "Specialty Trade Contractors",
        "Building Foundation and Exterior Contrac",
        "Building Equipment Contractors",
        "Building Finishing Contractors",
        "Other Specialty Trade Contract",
        "Manufacturing",
        "Durable Goods",
        "Wood Product Manufacturing",
        "Other Wood Product Mfg.",
        "Nonmetallic Mineral Product Mfg.",
        "Primary Metal Manufacturing",
        "Fabricated Metal Product Mfg",
        "Architectural & Structural Metals Mfg.",
        "Machine Shops & Threaded Product Mfg.",
        "Other Fabricated Metal Product Mfg.",
        "Machinery Manufacturing",
        "Industrial Machinery Manufacturing",
        "Commercial and Service Industry Manufact",
        "Metalworking Machinery Mfg.",
        "ResidualOther General Purpose Machinery",
        "Computer and Electronic Product Manufact",
        "Computer and Peripheral Equipment Manufa",
        "Electronic Computer Manufacturing",
        "Communications Equipment Manufacturing",
        "Semiconductor and Electronic Component M",
        "Bare Printed Circuit Board Manufacturing",
        "Semiconductor and Related Devices Manufa",
        "Electronic Instrument Manufacturing",
        "Electrical Equipment and Appliance Manuf",
        "Transportation Equipment Manufacturing",
        "Motor Vehicle Mfg.",
        "Aerospace Product and Parts Manufacturin",
        "Ship and Boat Building",
        "Furniture and Related Product Manufactur",
        "Household and Institutional Furniture Ma",
        "Miscellaneous Durable Goods Manufacturing",
        "Medical Equipment & Supplies Mfg.",
        "Other Miscellaneous Durable Goods Mfg.",
        "Nondurable Goods",
        "Food Manufacturing",
        "Fruit & Vegetable Preserving & Specialty",
        "Dairy Product Manufacturing",
        "Animal Slaughtering and Processing",
        "Bakeries and Tortilla Manufacturing",
        "Other Food Mfg.",
        "Beverage and Tobacco Product Mfg",
        "ResidualTextile Mills",
        "Textile Product Mills",
        "Apparel Manufacturing",
        "Apparel Knitting Mills",
        "Cut and Sew Apparel Manufacturing",
        "Paper Manufacturing",
        "Converted Paper Product Mfg.",
        "Printing and Related Support Activities",
        "Petroleum and Coal Products Manufacturin",
        "Chemical Manufacturing",
        "Pharmaceutical and Medicine Manufacturin",
        "Soap, Cleaning Compound & Toiletry Mfg.",
        "Plastics and Rubber Products Manufacturi",
        "Trade, Transportation and Utilities",
        "Wholesale Trade",
        "Merchant Wholesalers, Durable Goods",
        "Motor Vehicle and Motor Vehicle Parts Me",
        "Furniture & Home Furnish Merch whole",
        "Lumber & Other Const. Mat Merch whole",
        "Professional and Commercial Equipment Me",
        "Electrical and Electronic Goods Merchant",
        "Hdwr, Plumb & Heating Merchant whole",
        "Machinery, Equipment and Supplies Mercha",
        "Merchant Wholesalers, Nondurable Goods",
        "Paper & Paper Products Merchant whole",
        "Apparel, Piece Gds & Notions Merch whole",
        "Grocery & Related Products Merchant whol",
        "Chemical & Allied Products Merchant whol",
        "Misc Nondurable Merchant Wholesalers",
        "Wholesale Electronic Markets and Agents",
        "Retail Trade",
        "Motor Vehicle and Parts Dealer",
        "Automobile Dealers",
        "Other Motor Vehicle Dealers",
        "Automotive Parts, Accessories and Tire S",
        "Furniture and Home Furnishings Stores",
        "Furniture Stores",
        "Home Furnishings Stores",
        "Electronics and Appliance Stores",
        "Building Material and Garden Equipment S",
        "Building Material and Supplies Dealers",
        "Food and Beverage Stores",
        "Grocery Stores",
        "Specialty Food Stores",
        "Beer, Wine, & Liquor Stores",
        "Health and Personal Care Stores",
        "Gasoline Stations",
        "Clothing and Clothing Accessories Stores",
        "Clothing Stores",
        "Jewelry, Luggage & Leather Gds Stores",
        "Sporting Goods, Hobby, Book and Music St",
        "Sporting Goods, Hobby and Musical Instru",
        "Book, Periodical and Music Stores",
        "General Merchandise Stores",
        "Department Stores",
        "Miscellaneous Store Retailers",
        "Office Supplies, Stationery & Gift Store",
        "Used Merch&ise Stores",
        "Other Miscellaneous Store Retailers",
        "Nonstore Retailers",
        "Electronic Shopping & Mail-Order",
        "Transportation, Warehousing and Utilitie",
        "Utilities",
        "Electric Power Gen, Trans & Distribution",
        "Natural Gas Distribution",
        "Transportation and Warehousing",
        "Air Transportation",
        "Scheduled Air transp.",
        "Truck Transportation",
        "General Freight Trucking",
        "Specialized Freight Trucking",
        "Transit and Ground Passenger Transportat",
        "Support Activities for Transportation",
        "Support Activities for Water transp.",
        "Support Activities for Road transp.",
        "Freight transp. Arrangement",
        "Couriers and Messengers",
        "Warehousing and Storage",
        "Information",
        "Publishing Industries (except Internet)",
        "Newspaper, Periodical, Book and Director",
        "Software Publishers",
        "Motion Picture and Sound Recording",
        "Motion Picture & Video Industries",
        "Motion Picture & Video Production",
        "Broadcasting (except Internet)",
        "Radio and Television Broadcasting",
        "Cable and Other Subscription Programming",
        "Telecommunications",
        "Wired Telecommunications Carriers",
        "Data Processing, Hosting & Related Services",
        "Other Information Serv.",
        "Financial Activities",
        "Finance and Insurance",
        "Credit Intermediation and Related Activi",
        "Depository Credit Intermediation",
        "Nondepository Credit Intermediation",
        "Activities Related to Credit Intermediat",
        "Securities, Commodity Contracts and Inve",
        "Securities & Commodity Contracts",
        "Other Financial Investment Activities",
        "Insurance Carriers and Related",
        "Insurance Carriers",
        "Agencies, Brokerages, and Other Insuranc",
        "Real Estate and Rental and Leasing",
        "Real Estate",
        "Lessors of Real Estate",
        "Offices of Real Estate Agents and Broker",
        "Activities Related to Real Estate",
        "Rental and Leasing Services",
        "Automotive Equipment Rental and Leasing",
        "Consumer Goods Rental",
        "General Rental Centers",
        "Comm & Industrial Mach Rental & Leasing",
        "Professional and Business Services",
        "Professional, Scientific and Technical S",
        "Legal Services",
        "Accounting, Tax Preparation and Bookkeep",
        "Architectural, Engineering and Related S",
        "Specialized Design Services",
        "Computer Systems Design and Related Serv",
        "Management, Scientific and Technical Con",
        "Scientific Research and Development Serv",
        "Advertising and Related Services",
        "Other Professional, Scientific and Techn",
        "Management of Companies and Enterprises",
        "Administrative and Support and Waste Ser",
        "Administrative and Support Services",
        "Office Administrative Services",
        "Facilities Support Serv.",
        "Employment Services",
        "Business Support Services",
        "Travel Arrangement and Reservation Servi",
        "Investigation and Security Services",
        "Services to Buildings and Dwellings",
        "ResidualOther Support Services",
        "Waste Management and Remediation Service",
        "Educational and Health Services",
        "Educational Services",
        "Elementary and Secondary Schools",
        "Junior Colleges",
        "Colleges, Universities and Professional",
        "Other Schools & Instruction",
        "Health Care and Social Assistance",
        "Ambulatory Health Care Services",
        "Offices of Physicians",
        "Offices of Dentists",
        "Offices of Other Health Practitioners",
        "Outpatient Care Centers",
        "Medical & Diagnostic Laboratories",
        "Home Health Care Serv.",
        "Other Ambulatory Health Care Serv.",
        "Hospitals",
        "General Medical & Surgical Hosp.s",
        "Psychiatric & Substance Abuse Hosp",
        "Specialty (not Psych, Sub Abuse) Hosp.",
        "Nursing and Residential Care Facilities",
        "Nursing Care Facilities",
        "Residential Mental Retardation, Mental a",
        "Comm Care Facilities for the Elderly",
        "Other Residential Care Facilities",
        "Social Assistance",
        "Individual and Family Services",
        "Community Food & Housing, & Emergency &",
        "Vocational Rehabilitation Services",
        "Child Day Care Services",
        "Leisure and Hospitality",
        "Arts, Entertainment, and Recreation",
        "Performing Arts, Spectator Sports",
        "Performing Arts Companies",
        "Spectator Sports",
        "Independent Artists, Writers, and Perfor",
        "Museums, Historical Sites, and Similar I",
        "Amusement, Gambling, and Recreation",
        "Amusement Parks and Arcades",
        "Gambling Industries",
        "Other Amusement and Recreation",
        "Accommodation and Food Service",
        "Accommodation",
        "Food Services and Drinking Places",
        "Special Food Services",
        "Drinking Places (Alcoholic Beverages)",
        "Full-Service Restaurants",
        "Limited-Service Eating Places",
        "Other Services",
        "Repair and Maintenance",
        "Auto Repair & Maintenance",
        "Commercial & Industrial Machinery",
        "Personal & Household Goods Repair",
        "Personal and Laundry Services",
        "Personal Care Serv.",
        "Drycleaning & Laundry Serv.",
        "Other Personal Services",
        "Religious, Grantmaking, Civic, Professio",
        "Religious Organizations",
        "Grantmaking & Giving Serv.",
        "Social Advocacy Organizations",
        "Civic & Social Organizations",
        "Bus,Labor, Political & Other like Org.",
        "Government",
        "Federal Government",
        "Federal Government excluding Department of Defense",
        "Department of Defense",
        "State Government",
        "State Government Education",
        "State Government Excluding Education",
        "Local Government",
        "Indian Tribes",
        "Local Government Education",
        "Local Government Excluding Education",
        "County",
        "City",
        "Special Districts",
        "State and Local Government",
        "Miscellaneous Durable Goods Merchant Who",
        "Real Estate and Rental and Leasing - Residual",
        "Restaurants",
        "Special Districts plus Indian Tribes",
        "Private Service Providing - Residual"
       ],
       "description": "industry_title",
       "index": 18,
       "layout": "IPY_MODEL_061b07f6e9e34b8c88b674a3f755a926",
       "style": "IPY_MODEL_b91f8b5507da494c85d1bbbd84eabc4a"
      }
     },
     "d3a0f8eb36ab4f18878de511f8fcc16c": {
      "model_module": "@jupyter-widgets/base",
      "model_module_version": "1.1.0",
      "model_name": "LayoutModel",
      "state": {}
     },
     "d3f606deae814cee8c167101b4d904a2": {
      "model_module": "@jupyter-widgets/base",
      "model_module_version": "1.1.0",
      "model_name": "LayoutModel",
      "state": {}
     },
     "d4f7535763f74af4bd54401fc4bcb7fb": {
      "model_module": "@jupyter-widgets/base",
      "model_module_version": "1.1.0",
      "model_name": "LayoutModel",
      "state": {}
     },
     "d502066d59124a0699d19bfc9d3edf2f": {
      "model_module": "@jupyter-widgets/output",
      "model_module_version": "1.0.0",
      "model_name": "OutputModel",
      "state": {
       "layout": "IPY_MODEL_be240b31334d42778adb049505a3b1b4",
       "outputs": [
        {
         "data": {
          "image/png": "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\n",
          "text/plain": "<Figure size 432x288 with 1 Axes>"
         },
         "metadata": {
          "needs_background": "light"
         },
         "output_type": "display_data"
        }
       ]
      }
     },
     "d502eccb5a7844ddbd51697dc7367c50": {
      "model_module": "@jupyter-widgets/controls",
      "model_module_version": "1.4.0",
      "model_name": "DropdownModel",
      "state": {
       "_options_labels": [
        "January",
        "February",
        "March",
        "April",
        "May",
        "June",
        "July",
        "August",
        "September",
        "October",
        "November",
        "December"
       ],
       "description": "month",
       "index": 0,
       "layout": "IPY_MODEL_1bb0eeec01fd4741b5401d9fbc8febb6",
       "style": "IPY_MODEL_c026679d53894f24809b90e79104fbe1"
      }
     },
     "d52536827e3d4c1e8f067f9dbecb228a": {
      "model_module": "@jupyter-widgets/base",
      "model_module_version": "1.1.0",
      "model_name": "LayoutModel",
      "state": {}
     },
     "d62bdcea750144bc910b2f403016e059": {
      "model_module": "@jupyter-widgets/base",
      "model_module_version": "1.1.0",
      "model_name": "LayoutModel",
      "state": {}
     },
     "d63b1ae12e404ee38320f6b6ce6cb02b": {
      "model_module": "@jupyter-widgets/controls",
      "model_module_version": "1.4.0",
      "model_name": "ButtonStyleModel",
      "state": {}
     },
     "d67513f900914830bf35e58587b7be9a": {
      "model_module": "@jupyter-widgets/base",
      "model_module_version": "1.1.0",
      "model_name": "LayoutModel",
      "state": {}
     },
     "d676981496194188899569a722103421": {
      "model_module": "@jupyter-widgets/base",
      "model_module_version": "1.1.0",
      "model_name": "LayoutModel",
      "state": {}
     },
     "d7853847989144b5bcb7016be6c4a298": {
      "model_module": "@jupyter-widgets/controls",
      "model_module_version": "1.4.0",
      "model_name": "FloatSliderModel",
      "state": {
       "description": "lw",
       "layout": "IPY_MODEL_8aadfecb6eeb4ac88a0c69800822ba97",
       "max": 10,
       "min": 1,
       "step": 0.1,
       "style": "IPY_MODEL_1bca73ed410f4910acc74a9d97a73044",
       "value": 2
      }
     },
     "d7b361e838ae489b87d4ea4f5a417524": {
      "model_module": "@jupyter-widgets/base",
      "model_module_version": "1.1.0",
      "model_name": "LayoutModel",
      "state": {}
     },
     "d7bab3d54690409dbbfafe15f77400cb": {
      "model_module": "@jupyter-widgets/base",
      "model_module_version": "1.1.0",
      "model_name": "LayoutModel",
      "state": {}
     },
     "d9402b9850784522ad9f5a12a9989043": {
      "model_module": "@jupyter-widgets/controls",
      "model_module_version": "1.4.0",
      "model_name": "DescriptionStyleModel",
      "state": {
       "description_width": ""
      }
     },
     "d94ce997e480475991dd28095abebe7c": {
      "model_module": "@jupyter-widgets/controls",
      "model_module_version": "1.4.0",
      "model_name": "ButtonModel",
      "state": {
       "description": "Run Interact",
       "layout": "IPY_MODEL_2c147c256f654b72977ac00b9f3368ca",
       "style": "IPY_MODEL_3c0e2f87fc8d46b2869dbc1bb8fcecdc"
      }
     },
     "d974fdb3d5394ed7a91911683d8cdf0c": {
      "model_module": "@jupyter-widgets/base",
      "model_module_version": "1.1.0",
      "model_name": "LayoutModel",
      "state": {}
     },
     "d988549c0d07463881ce79626daedfa4": {
      "model_module": "@jupyter-widgets/base",
      "model_module_version": "1.1.0",
      "model_name": "LayoutModel",
      "state": {}
     },
     "d9bfa4f101034fe0aceb1c1cb5e8c5fc": {
      "model_module": "@jupyter-widgets/controls",
      "model_module_version": "1.4.0",
      "model_name": "ButtonStyleModel",
      "state": {}
     },
     "db19c7e16aa349ffb0a4978c4d52a6cd": {
      "model_module": "@jupyter-widgets/controls",
      "model_module_version": "1.4.0",
      "model_name": "DescriptionStyleModel",
      "state": {
       "description_width": ""
      }
     },
     "db3c95dab4834f10aa7d4b55364fe324": {
      "model_module": "@jupyter-widgets/controls",
      "model_module_version": "1.4.0",
      "model_name": "DropdownModel",
      "state": {
       "_options_labels": [
        "June",
        "May",
        "April",
        "March",
        "February",
        "January",
        "December",
        "November",
        "October",
        "September",
        "August",
        "July"
       ],
       "description": "month",
       "index": 0,
       "layout": "IPY_MODEL_04a043ed713249c496ac74eceb1cc70c",
       "style": "IPY_MODEL_544b8e4b60bc465491720f22b5c46545"
      }
     },
     "dbecf518398d4af59b3f15d14389cc60": {
      "model_module": "@jupyter-widgets/controls",
      "model_module_version": "1.4.0",
      "model_name": "VBoxModel",
      "state": {
       "_dom_classes": [
        "widget-interact"
       ],
       "children": [
        "IPY_MODEL_2fc942f3f7724f76a0887ed40164cff9",
        "IPY_MODEL_15fd9ee888eb42119b0d424181ab74ac",
        "IPY_MODEL_3cbdeae002ef4dbda817c0c19316364e"
       ],
       "layout": "IPY_MODEL_42a555d842f2475580a4efe665a28d13"
      }
     },
     "dc0e5515a18b41b8b2bf8415b6154426": {
      "model_module": "@jupyter-widgets/controls",
      "model_module_version": "1.4.0",
      "model_name": "ButtonModel",
      "state": {
       "description": "Run Interact",
       "layout": "IPY_MODEL_f7eb271eac9b41218b73cae26768f808",
       "style": "IPY_MODEL_134d3b6ae95d41b48f8238c5eec69577"
      }
     },
     "dcb213221154459caf8e90bbaffe064b": {
      "model_module": "@jupyter-widgets/base",
      "model_module_version": "1.1.0",
      "model_name": "LayoutModel",
      "state": {}
     },
     "dcc74f3660f54e0fa141952e9fb189d9": {
      "model_module": "@jupyter-widgets/base",
      "model_module_version": "1.1.0",
      "model_name": "LayoutModel",
      "state": {}
     },
     "de8bdd468c6a460682e8934eca30ea2e": {
      "model_module": "@jupyter-widgets/controls",
      "model_module_version": "1.4.0",
      "model_name": "DescriptionStyleModel",
      "state": {
       "description_width": ""
      }
     },
     "df087bc7de3042a9acf297a7cd5541b5": {
      "model_module": "@jupyter-widgets/controls",
      "model_module_version": "1.4.0",
      "model_name": "DropdownModel",
      "state": {
       "_options_labels": [
        "State",
        "Metropolitan Area",
        "County"
       ],
       "description": "area_type",
       "index": 2,
       "layout": "IPY_MODEL_28d03854caa64c47bad14307375306e1",
       "style": "IPY_MODEL_05a2999b50f44ba6a2548977de182a31"
      }
     },
     "df1ce72167144ae5ae544cc1f1571c75": {
      "model_module": "@jupyter-widgets/controls",
      "model_module_version": "1.4.0",
      "model_name": "DescriptionStyleModel",
      "state": {
       "description_width": ""
      }
     },
     "e06f1562edc34237984ae8a0737318b4": {
      "model_module": "@jupyter-widgets/controls",
      "model_module_version": "1.4.0",
      "model_name": "DropdownModel",
      "state": {
       "_options_labels": [
        "2019",
        "2018",
        "2017",
        "2016",
        "2015",
        "2014",
        "2013",
        "2012",
        "2011",
        "2010",
        "2009",
        "2008",
        "2007",
        "2006",
        "2005",
        "2004",
        "2003",
        "2002",
        "2001",
        "2000",
        "1999",
        "1998",
        "1997",
        "1996",
        "1995",
        "1994",
        "1993",
        "1992",
        "1991",
        "1990"
       ],
       "description": "year",
       "index": 0,
       "layout": "IPY_MODEL_4bc1fb0ec5e84b1b9b92a120334f33f0",
       "style": "IPY_MODEL_de8bdd468c6a460682e8934eca30ea2e"
      }
     },
     "e0d3cee400c04128b4788f9b43a00f16": {
      "model_module": "@jupyter-widgets/controls",
      "model_module_version": "1.4.0",
      "model_name": "DropdownModel",
      "state": {
       "_options_labels": [
        "June",
        "May",
        "April",
        "March",
        "February",
        "January",
        "December",
        "November",
        "October",
        "September",
        "August",
        "July"
       ],
       "description": "month",
       "index": 0,
       "layout": "IPY_MODEL_6232ca7529e1423f8db88ef3cee128d5",
       "style": "IPY_MODEL_1e514b5bc4764d5eb03e24123410877b"
      }
     },
     "e0d3f08d01624882896f20ca4a1a705b": {
      "model_module": "@jupyter-widgets/controls",
      "model_module_version": "1.4.0",
      "model_name": "DescriptionStyleModel",
      "state": {
       "description_width": ""
      }
     },
     "e0e93f08f8ac4ed3947e0bebd636bfb1": {
      "model_module": "@jupyter-widgets/controls",
      "model_module_version": "1.4.0",
      "model_name": "ButtonStyleModel",
      "state": {}
     },
     "e11e867a311444a89a76bde43d52eba6": {
      "model_module": "@jupyter-widgets/controls",
      "model_module_version": "1.4.0",
      "model_name": "DescriptionStyleModel",
      "state": {
       "description_width": ""
      }
     },
     "e19962292545474e9b3b70e5d77d2987": {
      "model_module": "@jupyter-widgets/controls",
      "model_module_version": "1.4.0",
      "model_name": "DescriptionStyleModel",
      "state": {
       "description_width": ""
      }
     },
     "e2447458f4cf44a984e841ea18d0cde4": {
      "model_module": "@jupyter-widgets/controls",
      "model_module_version": "1.4.0",
      "model_name": "DescriptionStyleModel",
      "state": {
       "description_width": ""
      }
     },
     "e2dcfdb4d83840d4ac78d34ab4df952e": {
      "model_module": "@jupyter-widgets/controls",
      "model_module_version": "1.4.0",
      "model_name": "ButtonModel",
      "state": {
       "description": "Run Interact",
       "layout": "IPY_MODEL_1cd121ccd1624a17b8ea4932352e3415",
       "style": "IPY_MODEL_458f3e17dd9b464d989042d7edc47574"
      }
     },
     "e34014722df5475a9a63cc0bb783aabd": {
      "model_module": "@jupyter-widgets/controls",
      "model_module_version": "1.4.0",
      "model_name": "VBoxModel",
      "state": {
       "_dom_classes": [
        "widget-interact"
       ],
       "children": [
        "IPY_MODEL_060e7da1399644a38a112c7cce36559f",
        "IPY_MODEL_22462374451b41988b217b84b4d42049",
        "IPY_MODEL_5409ab89fd064dd0bd382462a1ab8d8c",
        "IPY_MODEL_6268841c469643d9bb04ebf36b62025f"
       ],
       "layout": "IPY_MODEL_316c71083b8c41d6817a8f7d2b59e462"
      }
     },
     "e37be2b2632045b2a5e8fc9a1bccbf8f": {
      "model_module": "@jupyter-widgets/base",
      "model_module_version": "1.1.0",
      "model_name": "LayoutModel",
      "state": {}
     },
     "e3d02f47532c4e9ab63d68cefbfac3cb": {
      "model_module": "@jupyter-widgets/controls",
      "model_module_version": "1.4.0",
      "model_name": "DropdownModel",
      "state": {
       "_options_labels": [
        "2019",
        "2018",
        "2017",
        "2016",
        "2015",
        "2014",
        "2013",
        "2012",
        "2011",
        "2010",
        "2009",
        "2008",
        "2007",
        "2006",
        "2005",
        "2004",
        "2003",
        "2002",
        "2001",
        "2000",
        "1999",
        "1998",
        "1997",
        "1996",
        "1995",
        "1994",
        "1993",
        "1992",
        "1991",
        "1990"
       ],
       "description": "year",
       "index": 0,
       "layout": "IPY_MODEL_77242dd26b9f4795aff13e74a96d8273",
       "style": "IPY_MODEL_459abcdf6b15413f80582833a26b6a84"
      }
     },
     "e415c143ccd9407f91dbdf319faf2535": {
      "model_module": "@jupyter-widgets/controls",
      "model_module_version": "1.4.0",
      "model_name": "SliderStyleModel",
      "state": {
       "description_width": ""
      }
     },
     "e4ce2804e39444418c04ce70a5f5e86f": {
      "model_module": "@jupyter-widgets/controls",
      "model_module_version": "1.4.0",
      "model_name": "DescriptionStyleModel",
      "state": {
       "description_width": ""
      }
     },
     "e4ce4f8818904ed8b3b27add9aa59681": {
      "model_module": "@jupyter-widgets/base",
      "model_module_version": "1.1.0",
      "model_name": "LayoutModel",
      "state": {}
     },
     "e52d7fd4802f498e8fe3e722078872f1": {
      "model_module": "@jupyter-widgets/controls",
      "model_module_version": "1.4.0",
      "model_name": "DropdownModel",
      "state": {
       "_options_labels": [
        "State",
        "Metropolitan Area",
        "County"
       ],
       "description": "area_type",
       "index": 2,
       "layout": "IPY_MODEL_a619fcda81814f02b491079ec611336d",
       "style": "IPY_MODEL_3b6dcb11380b441aa2c812f2014ffe98"
      }
     },
     "e55b4f01c9494b4bb327c26e5ea5178e": {
      "model_module": "@jupyter-widgets/controls",
      "model_module_version": "1.4.0",
      "model_name": "DropdownModel",
      "state": {
       "_options_labels": [
        "2019",
        "2018",
        "2017",
        "2016",
        "2015",
        "2014",
        "2013",
        "2012",
        "2011",
        "2010",
        "2009",
        "2008",
        "2007",
        "2006",
        "2005",
        "2004",
        "2003",
        "2002",
        "2001",
        "2000",
        "1999",
        "1998",
        "1997",
        "1996",
        "1995",
        "1994",
        "1993",
        "1992",
        "1991",
        "1990"
       ],
       "description": "year",
       "index": 0,
       "layout": "IPY_MODEL_113865af36f24cb9b8d494ff9e20897d",
       "style": "IPY_MODEL_ec4fd3edebb34377b639fdca1b2f7de9"
      }
     },
     "e5e015d73f7249e291f07ad3e2a78a10": {
      "model_module": "@jupyter-widgets/controls",
      "model_module_version": "1.4.0",
      "model_name": "ButtonStyleModel",
      "state": {}
     },
     "e63924c4ae1c4fcdabde27c43607c34b": {
      "model_module": "@jupyter-widgets/controls",
      "model_module_version": "1.4.0",
      "model_name": "DescriptionStyleModel",
      "state": {
       "description_width": ""
      }
     },
     "e649049972c242c3825c49b376a9cac1": {
      "model_module": "@jupyter-widgets/base",
      "model_module_version": "1.1.0",
      "model_name": "LayoutModel",
      "state": {}
     },
     "e64fcca1ef844afa8480a42d62167b32": {
      "model_module": "@jupyter-widgets/controls",
      "model_module_version": "1.4.0",
      "model_name": "DescriptionStyleModel",
      "state": {
       "description_width": ""
      }
     },
     "e652982e293644a3883545e3d7861fd4": {
      "model_module": "@jupyter-widgets/controls",
      "model_module_version": "1.4.0",
      "model_name": "ButtonStyleModel",
      "state": {}
     },
     "e66251d621214bd8b335424cba661a50": {
      "model_module": "@jupyter-widgets/controls",
      "model_module_version": "1.4.0",
      "model_name": "VBoxModel",
      "state": {
       "_dom_classes": [
        "widget-interact"
       ],
       "children": [
        "IPY_MODEL_e3d02f47532c4e9ab63d68cefbfac3cb",
        "IPY_MODEL_ad6da4fca5cf4de8a737809bc272ee35",
        "IPY_MODEL_53330718f81549638224bd33a475cb75",
        "IPY_MODEL_e9e44cfc5759443fb06b9d4fb7482c65",
        "IPY_MODEL_46123dffeb074f6a888f321b7209ef01"
       ],
       "layout": "IPY_MODEL_575febf7701146a5bcacefb461518f61"
      }
     },
     "e6efd0354f6a4c9ca9fa5b5bc6901a1d": {
      "model_module": "@jupyter-widgets/base",
      "model_module_version": "1.1.0",
      "model_name": "LayoutModel",
      "state": {}
     },
     "e6f7fe37dfb349df844e059141430956": {
      "model_module": "@jupyter-widgets/controls",
      "model_module_version": "1.4.0",
      "model_name": "DropdownModel",
      "state": {
       "_options_labels": [
        "June",
        "May",
        "April",
        "March",
        "February",
        "January",
        "December",
        "November",
        "October",
        "September",
        "August",
        "July"
       ],
       "description": "month",
       "index": 0,
       "layout": "IPY_MODEL_d3a0f8eb36ab4f18878de511f8fcc16c",
       "style": "IPY_MODEL_f383362509404dec8169e4d61dbb7d78"
      }
     },
     "e6fccf1964234cb898b7d0d70f3f1796": {
      "model_module": "@jupyter-widgets/controls",
      "model_module_version": "1.4.0",
      "model_name": "ButtonStyleModel",
      "state": {}
     },
     "e714aff7c3d54778b89dc70df6cddc11": {
      "model_module": "@jupyter-widgets/controls",
      "model_module_version": "1.4.0",
      "model_name": "DescriptionStyleModel",
      "state": {
       "description_width": ""
      }
     },
     "e74af5985c2d4acfb8254bf9f7502132": {
      "model_module": "@jupyter-widgets/base",
      "model_module_version": "1.1.0",
      "model_name": "LayoutModel",
      "state": {}
     },
     "e77b04e3a3924319b325b0f1ddaf0ccc": {
      "model_module": "@jupyter-widgets/base",
      "model_module_version": "1.1.0",
      "model_name": "LayoutModel",
      "state": {}
     },
     "e812c225b93248b2a920bfb1d3a8c8b5": {
      "model_module": "@jupyter-widgets/base",
      "model_module_version": "1.1.0",
      "model_name": "LayoutModel",
      "state": {}
     },
     "e9e44cfc5759443fb06b9d4fb7482c65": {
      "model_module": "@jupyter-widgets/controls",
      "model_module_version": "1.4.0",
      "model_name": "ButtonModel",
      "state": {
       "description": "Run Interact",
       "layout": "IPY_MODEL_29b10e1a3ab74a638b92c235e2907e61",
       "style": "IPY_MODEL_f7417d30ab9a4bb8a85067492c00b7d1"
      }
     },
     "e9e92882f2764fd7ac1001af5bbc5dad": {
      "model_module": "@jupyter-widgets/controls",
      "model_module_version": "1.4.0",
      "model_name": "ButtonStyleModel",
      "state": {}
     },
     "ea05e3c680214a6a88054ce0ebcdde4b": {
      "model_module": "@jupyter-widgets/base",
      "model_module_version": "1.1.0",
      "model_name": "LayoutModel",
      "state": {}
     },
     "eb08dcd41ec44ae3a72b39a500a09412": {
      "model_module": "@jupyter-widgets/base",
      "model_module_version": "1.1.0",
      "model_name": "LayoutModel",
      "state": {}
     },
     "eb38ab10eebd4fbd8b5c6a4ee86388c3": {
      "model_module": "@jupyter-widgets/base",
      "model_module_version": "1.1.0",
      "model_name": "LayoutModel",
      "state": {}
     },
     "eb67d489001f4874b1be7cb93986a693": {
      "model_module": "@jupyter-widgets/controls",
      "model_module_version": "1.4.0",
      "model_name": "DescriptionStyleModel",
      "state": {
       "description_width": ""
      }
     },
     "ec127995a54b4694a10c1c0288dba99b": {
      "model_module": "@jupyter-widgets/controls",
      "model_module_version": "1.4.0",
      "model_name": "CheckboxModel",
      "state": {
       "description": "grid",
       "disabled": false,
       "layout": "IPY_MODEL_5d525704723942e9a70b6de0e71b0934",
       "style": "IPY_MODEL_f203bbcff79a4836a5a0d8f3ad57a1c1",
       "value": true
      }
     },
     "ec4fd3edebb34377b639fdca1b2f7de9": {
      "model_module": "@jupyter-widgets/controls",
      "model_module_version": "1.4.0",
      "model_name": "DescriptionStyleModel",
      "state": {
       "description_width": ""
      }
     },
     "ed0affd370154fef8b14bf69ece6fc2b": {
      "model_module": "@jupyter-widgets/controls",
      "model_module_version": "1.4.0",
      "model_name": "VBoxModel",
      "state": {
       "_dom_classes": [
        "widget-interact"
       ],
       "children": [
        "IPY_MODEL_3cf160b1e0b94a59ba82acf1b5b9d355",
        "IPY_MODEL_f2d7511fa869425486eac0d9cdb4e4e4",
        "IPY_MODEL_74ed77b0ce3b4799bee46a08eb2a39ee",
        "IPY_MODEL_503e57969ad5459c9c700d62786a811c"
       ],
       "layout": "IPY_MODEL_40952c4bd780488c9099e1bbc7c1024b"
      }
     },
     "eda6f80b22b74423896bb05199e2cebb": {
      "model_module": "@jupyter-widgets/output",
      "model_module_version": "1.0.0",
      "model_name": "OutputModel",
      "state": {
       "layout": "IPY_MODEL_93c93d89475344538809c5339d263c48",
       "outputs": [
        {
         "name": "stdout",
         "output_type": "stream",
         "text": "Industry title : Natural Resources, Mining and Constructi\n"
        },
        {
         "data": {
          "image/png": "iVBORw0KGgoAAAANSUhEUgAAA8EAAAJCCAYAAADgG8XCAAAABHNCSVQICAgIfAhkiAAAAAlwSFlzAAALEgAACxIB0t1+/AAAADl0RVh0U29mdHdhcmUAbWF0cGxvdGxpYiB2ZXJzaW9uIDIuMi4zLCBodHRwOi8vbWF0cGxvdGxpYi5vcmcvIxREBQAAIABJREFUeJzs3X2UZGd9H/jvz2iwBywGAUIrI6QmMXbGK1kEZkFOZBuZMBbIGzjZNUZJjEwmaLMQYmePN2ofrc9YxvIZZbNZmyRLwslgj/Iigl9YFA1YIxNpY8URQXIQb2NHMhZGsgAZ4UEJ47jtPPvHvYO6R93VPdVV1d11P59z6nTVc19+t7qrq+637nOfW621AAAAwBB83VZvAAAAAMyKEAwAAMBgCMEAAAAMhhAMAADAYAjBAAAADIYQDAAAwGAIwQAAAAyGEAwAAMBgCMEAAAAMxllbvQGz8rznPa8tLCxs9WYAAAAwBffdd9/vt9bOXW++wYTghYWF3HvvvVu9GQAAAExBVX12I/PpDg0AAMBgCMEAAAAMhhAMAADAYAjBAAAADIYQDAAAwGAIwQAAAAyGEAwAAMBgCMEAAAAMhhAMAADAYAjBAAAADIYQDAAAwGCsG4Kr6j1V9cWq+uSytudU1R1V9UD/85y+varqnVX1YFV9vKpeumyZa/r5H6iqa5a1v6yqPtEv886qqnFrAAAAwCgbORL880muPK1tMcmHW2svTvLh/nGSvCbJi/vbtUnelXSBNsnBJK9I8vIkB0+F2n6etyxb7spxagAAAMB61g3BrbV/m+Tx05pfl+RIf/9Iktcva7+5de5J8uyqOj/J9ya5o7X2eGvty0nuSHJlP+1ZrbV7Wmstyc2nretMagAAAMBI454TfF5r7dH+/ueTnNfff0GSzy2b7+G+bVT7w6u0j1MDAAAARtr0wFj9Edw2gW2ZeI2quraq7q2qex977LEpbBkAAAA7ybgh+AunuiD3P7/Ytz+S5IXL5rugbxvVfsEq7ePUeIrW2rtba/taa/vOPffcM3qCAAAAzJ9xQ/CtSU6N8HxNkg8sa39TP4LzZUlO9F2ab0+yv6rO6QfE2p/k9n7aV6rqsn5U6Dedtq4zqQEAAAAjnbXeDFV1S5JXJnleVT2cbpTnQ0neV1UHknw2yRv62T+Y5LVJHkzy1SRvTpLW2uNV9Y4kH+3n+8nW2qnBtt6abgTq3Uk+1N9ypjUAAABgPdWdbjv/9u3b1+69996t3gwAAACmoKrua63tW2++TQ+MBQAAADuFEAwAAMBgCMEAAAAMxroDYwEATEN3YYjRhjJ2CQCz40gwALAlWmsrbhddd9tT2gBg0oRgAAAABkMIBgAAYDCEYAAAAAZDCAYAAGAwhGAAAAAGQwgGAABgMFwnGACYmUtvOJYTJ5fWnL6weHTNaXt278r9B/dPY7MAGBAhGACYmRMnl/LQoavGWnZUQAaAjdIdGgAAgMEQggEAABgMIRgAAIDBEIIBAAAYDCEYAACAwRCCAQAAGAwhGAAAgMEQggEAABgMIRgAAIDBOGurNwAA2HpVNXJ6a21GWwIA0+VIMACQ1trXbhddd9uKxwIwAPNECAYAAGAwhGAAAAAGQwgGAABgMIRgAAAABsPo0AAwQJfecCwnTi6tOX1h8eia0/bs3pX7D+6fxmYBwNQJwQAwQCdOLuWhQ1eNteyogAwA253u0AAAAAyGEAwAAMBgCMEAAAAMhhAMAADAYAjBAAAADIbRoQGAmTl772IuObI45rJJMt6I1gBwihAMAMzME8cPuTQTAFtKd2gAAAAGQwgGAABgMIRgAAAABkMIBgAAYDCEYAAAAAZDCAYAAGAwhGAAAAAGw3WCAWCAzt67mEuOLI65bJKMd63f7aCq1p2ntTaDLQFgKwjBADBATxw/lIcOjRdkFxaPTnhrZuv0gLuweHTs3wUAO4/u0AAAAAyGEAwAAMBgCMEAAAAMhhAMAADAYAjBAAAADIYQDAAAwGAIwQAAAAyGEAwAAMBgnLXVGwAADMvC4tGxltuze9eEtwSAIRKCAYCZeejQVWtOW1g8OnL6uC694VhOnFwaOc9awXzP7l25/+D+iW8TAFtHCAYA5tqJk0tjh+txj1oDsH05JxgAAIDBcCQYAACALVFV687TWptoTUeCAQAA2BKttRW3i6677SltkyYEAwAAMBhCMAAAAIMhBAMAADAYBsYCALbEaoOh1E0rH0/jXDAAhk0IBgC2hIALwFbQHRoAAIDBEIIBAAAYDCEYAACAwRCCAQAAGAwhGAAAgMEQggEAABgMIRgAAIDBcJ1gAGCunb13MZccWRxz2SS5aqLbA8DWEoIBgLn2xPFDeejQeEF2YfHohLcGgK2mOzQAAACDIQQDAAAwGEIwAAAAgyEEAwAAMBgGxgKAbaSqRk5vrc1oSwAYmqF8BgnBALCNnL6DsbB4dOyRjQHgTCz/DJrm58+lNxzLiZNLa05fa2T+Pbt35f6D+zddXwgGAABgZk6cXBorYE/qsnXOCQYAAGAwhGAAAAAGY1MhuKp+uKo+WVWfqqof6dueU1V3VNUD/c9z+vaqqndW1YNV9fGqeumy9VzTz/9AVV2zrP1lVfWJfpl3Vn+m9lo1AAAAYJSxzwmuqouTvCXJy5P8UZJfqarbklyb5MOttUNVtZhkMcl1SV6T5MX97RVJ3pXkFVX1nCQHk+xL0pLcV1W3tta+3M/zliQfSfLBJFcm+VC/ztVqAAAAsAHjDlCVTG6Qqq2wmYGx9ib5SGvtq0lSVf9fkr+U5HVJXtnPcyTJXekC6uuS3Ny6IcfuqapnV9X5/bx3tNYe79dzR5Irq+quJM9qrd3Tt9+c5PXpQvBaNQAAnmLcwVT27N414S0B2D7GHaAqmdwgVVthMyH4k0lurKrnJjmZ5LVJ7k1yXmvt0X6ezyc5r7//giSfW7b8w33bqPaHV2nPiBorVNW16Y5M58ILLzzDpwcAzIP1dvBchgpgWMYOwa2141V1U5JjSf5Lko8l+ZPT5mlVNdUrKo+q0Vp7d5J3J8m+ffvm48rOAMyV9bqiJdO/XiIADMmmrhPcWjuc5HCSVNVPpzta+4WqOr+19mjf3fmL/eyPJHnhssUv6NseyZNdm0+139W3X7DK/BlRAwB2lKF2RQOArbKpEFxVz2+tfbGqLkx3PvBlSV6U5Jokh/qfH+hnvzXJ36yq96YbGOtEH2JvT/LTy0Z43p/kx1prj1fVV6rqsnQDY70pyT9Ytq7VagAAG+Q8WQCGaFMhOMkv9ecELyV5W2vtD6rqUJL3VdWBJJ9N8oZ+3g+mO2/4wSRfTfLmJOnD7juSfLSf7ydPDZKV5K1Jfj7J7nQDYn2ob1+rBgCwAaOOPjtHFoB5ttnu0N+5StuXkrxqlfaW5G1rrOc9Sd6zSvu9SS7eaA0AAAAY5eu2egMAAABgVoRgAAAABkMIBgAAYDCEYAAAAAZDCAYAAGAwhGAAAAAGY7PXCQYAAGAHOnvvYi45sjjmskky3jXlx627mZrLCcEAAAAD9MTxQ3no0HihcmHx6MzrbqbmckIwAGyhrfoWHgCGSggGgC20Vd/CA8BQGRgLAACAwRCCAQAAGAwhGAAAgMEQggEAABgMIRgAAIDBEIIBAAAYDJdIAgAGpaqe2nbTysettRltDQCzJgQDAIMi4AIMm+7QAAAADIYQDAAAwGAIwQAAAAyGEAwAAMBgCMEAAAAMhtGhAQAAmKmFxaNnvMye3bsmUlsIBgAAYGYeOnTVmtMWFo+OnD4JQjAAAMBAjXNENpncUdmtIAQDAAAM0FYfkd0qBsYCAABgMBwJBgAA2EaqauT01tqMtmQ+ORIMAACwjbTWvna76LrbVjwWgDdPCAYAAGAwdIcGAABgS6zW9btuWvl40ke/hWAAAIAtdOkNx3Li5NKa00ddxmjP7l25/+D+aWzWTGxF924hGAAAYAudOLk09uWIxr3O75A5JxgAAIDBEIIBAAAYDCEYAACAwRCCAQAAGAwhGAAAgMEQggEAABgMIRgAAIDBcJ1gAFhFVa07T2ttBlsCwLw7e+9iLjmyOOaySTLeNYaHSggGgFWcHnAXFo/moUN2MgCYvCeOHxr7M2Zh8eiEt2b+6Q4NAADAYDgSDABbbNxv8ffs3jXhLQGA+ScEA8AWWq/726y6YZ9+DnTdtHK6858BmBdCMAAg5AIwGEIwACS59IZjOXFyaeQ8a3Vb3rN7V+4/uH8amwUATJgQDABJTpxcMjInAAyAEAzAhq137VxdagGA7c4lkgDYsNba124XXXfbiscCMACwEwjBAAAADIbu0AAAAAzmcnlCMAAAAHMTctejOzQAAACD4UgwAMAMGF0dYHtwJBgAYAZOH0399BHWAZgNIRgAAIDB0B0aAJKcvXcxlxxZHHPZJLlqotvDznfpDcdy4uTSyHkWFo+u2r5n967cf3D/NDYLYPCEYABI8sTxQ3no0HhBdq0gw7CdOLnkNQWwDQnBAABToHcBwPYkBAMATIHeBQDbk4GxAAAAGAxHggHY1ta7tmri+qoAwMYJwQCsab3RbUd12ZzU6LanB9yFxaNjdzEFABCCAViT0W0BgHkjBAMAAKxivVNynI6zMxkYCwAAYBWttRW3i667bcVjdiYhGAAAgMHQHRoAACDrDwiZrD3mxaQGhGT6hGAAAIAYEHIodIcGAABgMIRgAAAABkN3aAC2nfXOyRrV5cw5WQDAKEIwANvOkM/JWu2alHXTk/ddkgMANkcIBoBtRMidL+N+KbNn964Jbwmw3Xm/mB0hGABgCtbrzbCweHTsHg/AfBn1XuC9YvIMjAUAAMBgOBIMwJrO3ruYS44sjrlskvjmGgDYXoRgANb0xPFDgx2gCgCYT7pDAwAAMBhCMAAAAIOxqe7QVfW3k/z1JC3JJ5K8Ocn5Sd6b5LlJ7kvyg621P6qqr09yc5KXJflSkh9orT3Ur+fHkhxI8idJ/lZr7fa+/cokP5vkaUn+aWvtUN/+otVqbOa5ALB9OBcZAJiWsUNwVb0gyd9K8m2ttZNV9b4kb0zy2iT/d2vtvVX1j9OF23f1P7/cWvvmqnpjkpuS/EBVfVu/3H+f5JuS/GpVfUtf5h8leXWSh5N8tKpuba19ul92tRoAzAHnIgMA07LZgbHOSrK7qpaSPCPJo0m+J8lf7qcfSfIT6QLq6/r7SfKLSf5hVVXf/t7W2n9N8jtV9WCSl/fzPdha+0ySVNV7k7yuqo6PqAEAADAWPZGGYewQ3Fp7pKr+XpLfTXIyybF0XZP/oLX2x/1sDyd5QX//BUk+1y/7x1V1Il135hckuWfZqpcv87nT2l/RL7NWDQAAgLHoiTQMYw+MVVXnpDuK+6J03ZifmeTKCW3XRFTVtVV1b1Xd+9hjj2315gAAALDFNjM69F9I8juttcdaa0tJfjnJn0/y7Ko6dYT5giSP9PcfSfLCJOmn70k3QNbX2k9bZq32L42osUJr7d2ttX2ttX3nnnvuJp4qAAAA82AzIfh3k1xWVc/oz+19VZJPJ7kzyf/cz3NNkg/092/tH6ef/m9aa61vf2NVfX0/6vOLk/yHJB9N8uKqelFVPT3d4Fm39susVQMAYFuqqhW3z970fSseAzAbmzkn+CNV9YtJfiPJHyf5j0neneRokvdW1U/1bYf7RQ4n+Wf9wFePpwu1aa19qh9Z+tP9et7WWvuTJKmqv5nk9nSXSHpPa+1T/bquW6MGwCCst8PcfV8IbCf+LwG2h02NDt1aO5jk4GnNn8mTozsvn/cPk3z/Guu5McmNq7R/MMkHV2lftQbAUJy+M72weHTsgTwAAIZkM92hAQAAYEfZ7HWCAQAApmoj58075YCNciQYAADY1lprK24XXXfbU9pgoxwJBtgBLr3hWE6cXBo5z8Li0VXb9+zelfsP7p/GZgEA7DhCMMAOcOLk0tgDX60VjgEAhkgIBmCkcUP0nt27Jrwl0zek5woAQyUEA7CmUUef5+2yTOs9l3l7vgAwVAbGAgAAYDCEYAAAAAZDCAYAAGAwnBMMAABsO+tdHtClARmXEAwAAGw7414ecLOXBnSlgPknBAMAAMSVAobCOcEAAAAMhhAMAADAYAjBAAAADIZzggHYlgxMAgBMgxAMwLYzatARg5Kw091yyy258cYbc/z48ezduzfXX399rr766q3eLIDBEIIBAGbklltuyfXXX5/Dhw/n8ssvz913350DBw4kiSAMMCNCMMAOcPbexVxyZHHMZZPEkVPYDm688cYcPnw4V1xxRZLkiiuuyOHDh/P2t79dCAaYESEYYAd44vihsbsAj3tu7dBV1VPbblr5uLU2o61hXhw/fjyXX375irbLL788x48f36ItAhgeo0MDwCpaa+ve4Ezt3bs3d99994q2u+++O3v37t2iLQIYHiEYAGBGrr/++hw4cCB33nlnlpaWcuedd+bAgQO5/vrrt3rTAAZDd2gAgBk5dd7v29/+9q+NDn3jjTc6HxhghoRgAIAZuvrqq4Ve2IBxB4WchwEhTx+XwpgUkyUEAwAA2864g0LOw4CQQu50OScYAACAwRCCAQAAGAwhGAAAgMFwTjAAG2agDgBgpxOCAdgwIReAITn9y99k5RfAPhd3JiEYAABgFULufHJOMAAAAIPhSDAA29p6XdES39QDABsnBAOwrQm4AMAk6Q4NAADAYAjBAAAADIYQDAAwQ7fccksuvvjiPO1pT8vFF1+cW265Zas3CWBQnBMMADAjt9xyS66//vocPnw4l19+ee6+++4cOHAgSXL11Vdv8dYBDIMjwQAAM3LjjTfm8OHDueKKK7Jr165cccUVOXz4cG688cat3jSAwRCCAQBm5Pjx47n88stXtF1++eU5fvz4Fm0RwPAIwQAAM7J3797cfffdK9ruvvvu7N27d4u2CGB4hGAAgBm5/vrrc+DAgdx5551ZWlrKnXfemQMHDuT666/f6k0DGAwDYwEAzMipwa/e/va35/jx49m7d29uvPFGg2IBzJAQDLAJVbXuPK21GWwJsFNcffXVQi/AFtIdGmATWmsrbhddd9tT2gAA2D6EYAAAAAZDCAYAAGAwhGAAAAAGw8BYAGfg0huO5cTJpZHzLCweXbV9z+5duf/g/mlsFgAAGyQEA5yBEyeX8tChq8Zadq1wDADA7OgODQAAwGAIwQAAAAyGEAwAAMBgCMEAAAAMhhAMAADAYBgdGgAA2JbGubLCnt27prAlzBMhGAAA2HZGXZJwYfHo2JcsBN2hAQAAGAwhGAAAgMHQHRoAANiQqlp3ntbaDLYExudIMAAAsCGttRW3i6677SltsN05EgwAAKzp0huO5cTJpTWnjxrBec/uXbn/4P5pbBaMTQgG2CHGuUxE4lIRAGzOiZNLY4/EPO5nF0yTEAywA6y38+FSEQAAGyMEA5yBs/cu5pIji2MumySCKgDAVhKCAc7AE8cP6RIGALCDGR0aAACAwRCCAQAAGAwhGAAAgMEQggEAABgMIRgAAIDBEIIBAAAYDCEYAACAwRCCAQAAGAwhGAAAgMEQggEAABiMs7Z6AwAAAEapqqe23bTycWttRlvDTicEAwAAazp772IuObI45rJJctWmt0HAZZKEYAAAYE1PHD+Uhw6NF2QXFo9OeGtg85wTDAAAwGAIwQAAAAzG2CG4qr61qj627PaVqvqRqnpOVd1RVQ/0P8/p56+qemdVPVhVH6+qly5b1zX9/A9U1TXL2l9WVZ/ol3ln9WfEr1UDAAAARhk7BLfWfqu19pLW2kuSvCzJV5O8P8likg+31l6c5MP94yR5TZIX97drk7wr6QJtkoNJXpHk5UkOLgu170rylmXLXdm3r1VjIqpq3RsAAAA7z6S6Q78qyW+31j6b5HVJjvTtR5K8vr//uiQ3t849SZ5dVecn+d4kd7TWHm+tfTnJHUmu7Kc9q7V2T+uGg7v5tHWtVmMiWmsrbhddd9tT2gAAANh5JjU69BuT3NLfP6+19mh///NJzuvvvyDJ55Yt83DfNqr94VXaR9UAGIT1rpfoyzoAgNVt+khwVT09yV9M8gunT+uP4E51T2xUjaq6tqrurap7H3vssWluBsBMnd47RW8VYC1O8QJYaRLdoV+T5Ddaa1/oH3+h78qc/ucX+/ZHkrxw2XIX9G2j2i9YpX1UjRVaa+9ure1rre0799xzx3x6AAA7l1O8AFaaRAi+Ok92hU6SW5OcGuH5miQfWNb+pn6U6MuSnOi7NN+eZH9VndMPiLU/ye39tK9U1WX9qNBvOm1dq9UAAACANW3qnOCqemaSVyf5X5Y1H0ryvqo6kOSzSd7Qt38wyWuTPJhuJOk3J0lr7fGqekeSj/bz/WRr7fH+/luT/HyS3Uk+1N9G1QAAAIA1bSoEt9b+S5Lnntb2pXSjRZ8+b0vytjXW854k71ml/d4kF6/SvmqNzbj0hmM5cXJpzekLi0dXbd+ze1fuP7h/kpsCAADAlExqdOgd78TJpTx06KozXm6tcAwAAMD2M6nrBAMAAMC2JwQDAAAwGLpDA3NhI9e6dCkQAObJep99PvdgdY4EA3Ph9OteuhYmAPPO5x6MRwgGAABgMHSHBgCAHWDcS3omLusJywnBAACwA4x7Sc/EZT1hOd2hAQAAGAwhGAAAgMHQHRrYscY9N8p5UQBwZsbtTr1n964JbwlsnhAM7FjjnhvlvCgA2LhRn7ULi0fHPk8Ztoru0AAAAAyGI8G9s/cu5pIji2MslyS+/QIAANgJhODeE8cP6VYJAAAw53SHBgAAYDAcCQY4Q0bIBADYuYRggDOw3mkTRskEANjehGAAANgBxh3ItVs2MZgrdIRgAADYAcYdyDUxmCssZ2AsAAAABkMIBgAAYDCEYAAAAAZDCAYAAGAwhGAAAAAGQwgGAABgMFwiaZlxho7fs3vXFLYEAAC2n6p6attNKx+31ma0NTAeIbg36pprC4tHx74mGwAAzAsBl3mgOzQAAACDIQQDAAAwGEIwAAAAgyEEAwAAMBgGxgIAmCOX3nAsJ04urTl91NUw9uzelfsP7p/GZgFsG0IwAMAcOXFyaeyrWoxzuUiAnUZ3aAAAAAZDCAYAAGAwdIcGdqyz9y7mkiOLYyyXJON1FQQAYGcTgoEd64njh8Y6722S57xV1VPbblr5uLU2sXoAAGyOEAywCQIuAMDO4pxgAAAABkMIBgAAYDB0hwYAmCPjDhrYLZsYOBCYd0LwKgx0AwDsVOMOGphMduBAgO1KCF6FgAsAADCfhGAAANiE1XoRLucAC2wvQjAAAGzC6SF3YfHo2F3S1zNul/U9u3dNeEtg5xKCAQBgBxgVrKcZvGHeuEQSAAAAg+FIMAAAnIFLbziWEyeXRs6zVrflPbt35f6D+6exWcAGCcEAAHAGTpxcchkq2MF0hwYAAGAwhGAAAAAGQwgGAABgMIRgAAAABkMIBgAAYDCEYAAAAAZDCAYAAGAwhGAAAAAGQwgGAABgMM7a6g0AAGCyFhaPjrXcnt27Jrwl8+nsvYu55MjimMsmyVUT3R7gzAjBAABz5KFDaweshcWjI6ezMU8cPzT273HcLyiAydEdGgAAgMEQggEAABgM3aEBAGAHqqqVj29aOb21NsOtgZ1DCAYAgB1IyIXx6A4NAADAYAjBAAAADIYQDAAAwGA4JxiYuNMH6jidc5gAANgqjgQDE9da+9rtoutuW/FYAAYAYCsJwQAAAAyGEAwAAMBgOCd4G3EeJQAAwHQ5EryNnH7e5OnnUgIAALA5jgQDADAX1utVl+hZBzgSDADAnFivV50ADCRCMAAAAAMiBAMAADAYQjAAAACDIQQDAAAwGEaH3kKX3nAsJ04ujZxnYfHoqu17du/K/Qf3T2OzAAB2BPtSwDiE4C104uRSHjp01VjLrvWGDgAwFPalgHHoDg0AAMBgbCoEV9Wzq+oXq+o3q+p4VX1HVT2nqu6oqgf6n+f081ZVvbOqHqyqj1fVS5et55p+/geq6ppl7S+rqk/0y7yz+iugr1UDAAAARtnskeCfTfIrrbU/k+TSJMeTLCb5cGvtxUk+3D9OktckeXF/uzbJu5Iu0CY5mOQVSV6e5OCyUPuuJG9ZttyVfftaNQAAAGBNY58TXFV7knxXkh9KktbaHyX5o6p6XZJX9rMdSXJXkuuSvC7Jza21luSe/ijy+f28d7TWHu/Xe0eSK6vqriTPaq3d07ffnOT1ST7Ur2u1GsAWWG9gklHnXRmYBGD+9J33Rup2CQFmbzMDY70oyWNJfq6qLk1yX5IfTnJea+3Rfp7PJzmvv/+CJJ9btvzDfduo9odXac+IGitU1bXpjjrnwgsvPMOnB2zUVg5MMs7ye3bv2lRNAEY7PeAuLB4d+3MCYNI2E4LPSvLSJG9vrX2kqn42p3VLbq21qprq13yjarTW3p3k3Umyb98+XzfCnBm1Q2WHC6Bz+lHZumnldEdkgaHZzDnBDyd5uLX2kf7xL6YLxV/ouzmn//nFfvojSV64bPkL+rZR7Res0p4RNQAAWKa1NvIGMDRjh+DW2ueTfK6qvrVvelWSTye5NcmpEZ6vSfKB/v6tSd7UjxJ9WZITfZfm25Psr6pz+gGx9ie5vZ/2laq6rB8V+k2nrWu1GgAAALCmzXSHTpK3J/kXVfX0JJ9J8uZ0wfp9VXUgyWeTvKGf94NJXpvkwSRf7edNa+3xqnpHko/28/3kqUGykrw1yc8n2Z1uQKwP9e2H1qgBAAAAa9pUCG6tfSzJvlUmvWqVeVuSt62xnvckec8q7fcmuXiV9i+tVgMAAABG2eyRYDbh7L2LueTIeJc4Pntvkhj0BwDYHlwuD9gphOAt9MTxQ1t2WRkAgEnaisvlOaAAjEMIBgBgR3JAARjHZi6RBAAAADuKI8HApumOBgDATiEEA5umOxoAQzPu59ee3bsmvCXAmRKCAQDYtCH1Clrvi9+FxaNjfzkMTJ8QvMV8iwgAzAO9goCdQgjeQr5FBAAAmC2jQwMAADAYjgQDAMAmVNVT22568n5rbYZbA6xHCAYAgE0QcmFn0R0aAACAwRCCAQAAGAwhGAAAgMEQggEAABgMIRgAAIDBMDo0AADMZoEFAAAWzklEQVQTsbB4dKzl9uzeNeEtAVibEAwAwKY9dOiqNactLB4dOR1glnSHBgAAYDCEYAAAAAZDCAYAAGAwnBO8jVTVU9tuevJ+a22GWwMAADB/hOBtRMhl0lb7YmW5eXrNrfclUjJfzxeAjhGpgTMlBMMcOz30zfPonAIuwPCs95k2z597wPicEwwAAMBgOBIMAMBEOUUF2M6EYJgjl95wLCdOLo2cZ61zp/bs3pX7D+6fxmYBMDACLrCdCcEwR06cXBr73KdxBxYBAICdxDnBAAAADIYQDAAAwGAIwQAAAAyGEAwAAMBgGBgLZmC1S0UsZxRNANg8l2YCNkIIhhk4/QN3YfHo2KM4b1fjji69Z/euCW8JAEMl4AIbIQQDmzYq0M9j4AcAYOdyTjAAAACDIQQDAAAwGEIwAAAAgyEEAwAAMBgGxoIpuPSGYzlxcmnkPGuNprxn967cf3D/NDYLAAAGTwiGKThxcmnsEZHHvdRQkpy9dzGXHFkcc9kkMYozAADzTQiGOfLE8UNbEr4BAGCncE4wAAAAgyEEAwAAMBi6Q5OqGjm9tTajLQEAAJguR4JJa+1rt4uuu23FYwEYAACYJ0IwAAAAgyEEAwAAMBjOCR6gS284lhMnl9acPupSOXt278r9B/dPY7MAAACmTggeoBMnl1xLFgAAGCTdoQEAABgMIRgAAIDB0B0apuDsvYu55MjimMsmyXjd1QEAgNGEYJiCJ44fct41AABsQ7pDAwAAMBhCMAAAAIOhOzSDUlXrztNam8GWAAAAW8GRYAaltbbidtF1tz2lDQAAmF9CMAAAAIMhBAMAADAYQjAAAACDYWCsATp772IuObI45rJJMt71bwEAALaaEDxATxw/lIcOjRdkFxaPTnhrAAAAZkd3aAAAAAbDkWBg4k6/HnPdtHK6S1EBALBVhGBg4oRcAAC2K92hAQAAGAwhGAAAgMEQggEAABgM5wQz9y694VhOnFxac/pal33as3tX7j+4f1qbBQAAbAEhmLl34uTSWNdF3qnXRB53u/fs3jXhLQEAgO1HCIY5sl7YX1g8OtYXAgAAMC+cEwwAAMBgOBI8ULrMAgAAQyQED9Co7rC6ywIAAPNMd2gAAAAGw5Fg5t7ZexdzyZHFMZZLEkfFAQBgngjBbJmqGjm9tTaROk8cPzSoSyQBAABr0x2aLdNa+9rtoutuW/F4UgEYAABgOUeCYY6tdrS9bnryvi8bAAAYGiEY5piQCwAAK22qO3RVPVRVn6iqj1XVvX3bc6rqjqp6oP95Tt9eVfXOqnqwqj5eVS9dtp5r+vkfqKprlrW/rF//g/2yNaoGAAAAjDKJI8FXtNZ+f9njxSQfbq0dqqrF/vF1SV6T5MX97RVJ3pXkFVX1nCQHk+xL0pLcV1W3tta+3M/zliQfSfLBJFcm+dCIGrBtjDuw1p7duya8JQAAwCnT6A79uiSv7O8fSXJXuoD6uiQ3t65/5j1V9eyqOr+f947W2uNJUlV3JLmyqu5K8qzW2j19+81JXp8uBK9VA7aF9UajXlg8OtaI1QAAwOZsNgS3JMeqqiX5J621dyc5r7X2aD/980nO6++/IMnnli37cN82qv3hVdozosYKVXVtkmuT5MILLzzjJ8dkXXrDsZw4ubTm9FFHTvfs3pX7D+6fxmYBAAADstkQfHlr7ZGqen6SO6rqN5dPbK21PiBPzagafSh/d5Ls27fPCEFb7MTJpbGPfrpmLwAAMAmbGhirtfZI//OLSd6f5OVJvtB3c07/84v97I8keeGyxS/o20a1X7BKe0bUYAxV9bXbZ2/6vhWPV7vEDgAAwE41dgiuqmdW1dmn7ifZn+STSW5NcmqE52uSfKC/f2uSN/WjRF+W5ETfpfn2JPur6px+lOf9SW7vp32lqi7rR4V+02nrWq0GY2itjbwBAADMi810hz4vyfv7I4VnJfmXrbVfqaqPJnlfVR1I8tkkb+jn/2CS1yZ5MMlXk7w5SVprj1fVO5J8tJ/vJ08NkpXkrUl+PsnudANifahvP7RGDQAAAFjT2CG4tfaZJJeu0v6lJK9apb0ledsa63pPkves0n5vkos3WgMAAABG2dQ5wQAAALCTCMEAAAAMhhAMAADAYGz2OsGwYWfvXcwlRxbHXDZJxrvGMAAAwClCMDPzxPFDeejQeEF2YfHohLcGAAAYIt2hAQAAGAwhGAAAgMEQggEAABgMIRgAAIDBMDAWgzDOwFp7du+awpYAAABbSQhm7o0akXph8ejYI1YDAAA7j+7QAAAADIYQDAAAwGAIwQAAAAyGEAwAAMBgCMEAAAAMhhAMAADAYLhEEjM1zvV6E9fsBQAAJkMIZmZcrxcAANhqukMDAAAwGEIwAAAAgyEEAwAAMBhCMAAAAIMhBAMAADAYRoeGGaiqp7bd9OT91toMtwYAAIZLCIYZEHIBAGB70B0aAACAwRCCAQAAGAwhGAAAgMEQggEAABgMIRgAAIDBEIIBAAAYDJdIYlDWu15v4nJGAAAwz4RgBkXABQCAYdMdGgAAgMEQggEAABgMIRgAAIDBEIIBAAAYDCEYAACAwRCCAQAAGAyXSGLLnH7NXtfrBQAApk0IZssIuQAAwKzpDg0AAMBgCMEAAAAMhhAMAADAYAjBAAAADIYQDAAAwGAIwQAAAAyGEAwAAMBgCMEAAAAMhhAMAADAYAjBAAAADIYQDAAAwGAIwQAAAAyGEAwAAMBgCMEAAAAMhhAMAADAYAjBAAAADIYQDAAAwGAIwQAAAAyGEAwAAMBgCMEAAAAMhhAMAADAYAjBAAAADIYQDAAAwGBUa22rt2EmquqxJJ8dc/HnJfn9CW7Odq47pOeq7vzWVHd+a6o7vzXVnd+a6s5vTXXnt+ZOrXtRa+3c9WYaTAjejKq6t7W2bwh1h/Rc1Z3fmurOb01157emuvNbU935ranu/Nac97q6QwMAADAYQjAAAACDIQRvzLsHVHdIz1Xd+a2p7vzWVHd+a6o7vzXVnd+a6s5vzbmu65xgAAAABsORYAAAAIajtTa4W5L3JPlikk8ua7s0yb9P8okk/zrJs/r2pyf5ub79/iSvXLbMy/r2B5O8M/2R9RnUvTHJ55L851k93yTPSHI0yW8m+VSSQzP8Pf9K3/apJP84ydOmXXPZsrcuX9cMnutdSX4rycf62/NnVPfp6bqe/Kf+b/w/zeA1dfay5/mxdEPh/8wMnuvVffvH+9fW82b0O/6Bvuankty0gdfUC5PcmeTT/TI/3Lc/J8kdSR7of57Tt1e696EH+zovXbaua/r5H0hyzYxq/kqSP0hy26yea5KX9H+XT/XtPzCjuhcl+Y10r+NPJfkbs/rb9tOfleThJP9wRn/bP8mT/7e3zvB1fGGSY0mO9+tbmMHf9oqsfJ/6wySvn9Hz/bv9Oo5nnX2MCde9Kckn+9ua/0Nj1Pwz6f4//2uSHz1tXVem++x7MMnihF9To+o+5f192nXXWs8M6n5Dkv+QJ/enbpjF77if/rQk/zHrfB5M+G/7ULrP4o8luXeGdZ+d5BfT7UsdT/IdM/jbfmtWvk99JcmPzOC5/u1+HZ9MckuSb5jR7/iH+5qfWut5buQ21kI7/Zbku5K8NCt3aj+a5Lv7+38tyTv6+29L8nP9/ecnuS/J1/WP/0OSy9J9mHwoyWtmVPeyJOdn4yF403XTheAr+vanJ/m1GT7fUwGjkvxSkjdOu2bf9peS/Mts7MNxUs/1riT7tuC1fEOSn+rvf13WD4YT+z0vW/6+JN815dfxWel2eJ7XT/u7SX5iBv8/z03yu0nO7acdSfKqdeqenyd3xM9O9wXFt/XbvNi3L6YP1Elem+59qNK9R3ykb39Oks/0P8/p758zzZr9tFcl+R+zsRA8qef6LUle3N//piSPJnn2DOo+PcnX9/e/Md3O1zdNu+6y9f1suveqUSF4kn/bDX32TKHuXUlevez3/IxZ/Y6X/S89Pou6Sf5ckn+XLjw8Ld3O4CtnUPeqdDuiZyV5Zrr3umdNqObzk/wP6b7IX74D/7Qkv53kT6X7X7o/ybdN8LmuWref9pT392nXXWs9M6hbSb6xv78ryUeSXDbt33E//X9L9x61Xgie5N/2oayzLzOlukeS/PX+/tMz2c+gkb/nZf9Pn093rdxpvp5ekOR3kuzuH78vyQ/N4HV8cboA/Ix071O/muSbN/J3fso2jbPQPNySLGTlTu2JPHmO9AuTfLq//4+S/OCy+T6c5OX9H/M3l7VfneSfTLvuaes6kx2RidXt2382yVtm/Hx3pTvqtt7RnU3XTLeDdXf/D7ruh+ME696VMwjBE6z7uSTPnHXdZW3f0m/Der0pNlWzfw09lu7IXaXrWXDttJ9rujfyDy9r/8Ek/88Z/r4/kOTV6Y6WnN+3nZ/kt/r7/yTJ1cvm/61++or3ptPnm0bNZY9fmQ2E4EnXXdZ+f/pQPKu6efILjzVD8CTrpuuR9N4kP5QRIXjCNTf82TPB1/G3Jbl71nVPW8e1Sf7FjJ7vd6T7Em13up29e5PsnUHd/z3Jjy9rP5zkDZOouWy+n8jKndrvSHL7ssc/luTHJvVc16q7rH0hG/ycn2Td09czy7r9a+o3krxi2jWTXJDus/B7coafB5us+1A2GIIn+Freky4YjtyXmfLfdn+SfzeD5/qCdPttz0kXRm9Lsn8Gdb8/yeFlj388yd8Z5/ftnOAnfSrJ6/r7359uxzbpdqL+YlWdVVUvSrfD8cJ0f/yHly3/cN827bqTMnbdqnp2uiM8H55V3aq6Pd0RvCfSdTOZds13JPm/knz1DGtttm6S/FxVfayqfryqatp1+79nkryjqn6jqn6hqs6bdt3Tln1jkn/V+ne0adVsrS0l+V/TdZH6vXQ71ofPsOYZ103Xxe9bq2qhqs5K8vqcwf9zVS0k+bPpvrk/r7X2aD/p80lO/a1OfSCdcuo9aa32adYc26TqVtXL030L/9uzqFtVL6yqj/fTb2qt/d6061bV16V7n/rRjdSaRM3+/jdU1b1VdU9VvX5Gdb8lyR9U1S9X1X+sqv+zqp42g7rLvTFdl78N2Uzd1tq/T9d18NH+dntr7fi066Z7D7uyqp5RVc9L1x183feqDdZcy9jvI5usO7ZJ1T1tPVOvW1VPq6qPpdufuqO1tm7dCTzXn0nyd5L8tw3MO8m6Lcmxqrqvqq6dUd0Xpfui/ef696l/WlXPnEHd5Tb8PrWZmq21R5L8vXRf+j6a5ERr7di066Y7CvydVfXcqnpGul4tY+UjIfhJfy3JW6vqvnSH6f+ob39Pujfke9P9I/96uvOhBlm334G/Jck7W2ufmVXd1tr3pvuG6OvTfZs4tZpV9ZIkf7q19v4zfnabqNtP+yuttUuSfGd/+8EZ1D0r3Te1v95ae2m6bnd/bwZ1lzujnctxa1bVrnQh+M+m6y778XRHHaZat7X25b7uv0p3KsFD2eD/c1V9Y7rTAH6ktfaV5dP6Lw3O9IuDbVlzknWr6vwk/yzJm1tr6+54TaJua+1zrbVvT/LNSa7ZyBdJE6j71iQfbK09vM58k6yZdN3s9iX5y0l+pqr+9AzqnpXuPfFH0/Ws+FPpjn5Pu+6p9Zyf5JIkt29w/k3VrapvTrI33XvzC5J8T1V957Tr9juxH0z33nVLus+Dke9VO/39YqvqjlrPtOq21v6ktfaSdK+rl1fVxdOsWVXfl+SLrbX71tu2SdbtXd7v07wmyduq6rtmUPesdN3r39Va+7NJ/ku6Lr7TrntqPU9P8heT/MK0a1bVOekOBrwo3f7UM6vqr067bv9l4E3pxof4lXTnQI+Vj84aZ6F51Fr7zXRdCFJV35LuvJi01v443Ynf6af9erp+7F9O9yZyygVJHplB3YnYRN13J3mgtfYzM66b1tofVtUH0v3T3THFmt+dZF9VPZTuf+T5VXVXa+2V036u/Tdraa09UVX/Ml1X2punXPdL6Y54/3I/6ReSHDiTmmPWPfX40iRnnemH5Jg1X9JP/+2+/X3ZwAfUBOqmtfav03XnT/+t9Lpv2n1o/6V0XTBP/X2+UFXnt9Ye7XfMv9i3P5KV34aeek96JF235OXtd0255hmbVN2qela6Qfyub63dM6u6p7TWfq+qPpkusK3Za2VCdb8j3Tfib013CsfTq+o/t9ZWfU1P6rkue5/6TFXdle5LpTWPuE+o7llJPnbqy9eq+n/Tncu6Zk+OCf9t35Dk/a3rTTLShOr+1ST3tNb+c7/OD6X7e//atJ9va+3GdOfhpf8cWnPf4wxrruWM30cmVPeMTaruGuuZet1TWmt/UFV3phuQ7JNTrPnn0/WOem26gbmeVVX/vLW2Zlia1HNd9j71xap6f7r9qX875boPJ3m4PXmE/Rezzj7GhP+2r0nyG621L8yg5l9I8juttcf6df5yurEM/vmU66a1djj9e39V/XRW9szdMEeCe1X1/P7n1yX5P9KdK5jqugQ9s7//6iR/3Fr7dOsO3X+lqi6rqkrypnT926dad5NPc1N1q+qn0p3v8COzqltV39j/U5w6Cn1VuhH3plaztfau1to3tdYWklye5D+daQAe87meVV33s1NvFN+XNT6cJvx8W7pwduo5vird6H1Trbts0asz3lHgcWo+kuTbqurcfhWvTjd647TrLl/mnHRH8P7pOjUq3Zv88dba31826dZ0oz2n//mBZe1vqs5l6bomPZruyNX+qjqnr70/axzNmmDNMzKputV9C/7+JDe31tY9bWKCdS+oqt39Os9J977xW9Ou21r7K621C/v3qh/tn/daAXhSz/Wcqvr6fp3PS7eTu+b7xQRfUx9N8uxl/7vfM6O6p2zofWqCdX83yXf3nwu70n05u+Z71QT/vk+rquf26/z2JN+e7ojLJGqu5aNJXlxVL+r/h9/Yr2NSz3UiJlV3xHqmXffc6k9/6t+vXp019qcmVbO19mOttQv696g3Jvk36wTgST3XZ1bV2afup/vcW3N/aoLP9/NJPldV39o3jdyfmsJred33qQnW/N0kl/X7PZXuuU7yPWrUczi1P3VhnhzE9sy1MU4k3um3dC+QR5Mspfv24EC64bb/U387lHxt0JuFdDszx9ONQHbRsvXsS/dP9dtJ/uGpZWZQ9+/2y/+3/udPTLtuum9mW99+agj2vz6Duuel+4D8eP+7/gfpjhpO9Xe8bH0L2diokZN4rs9MNxDKqcvo/GxGXA5qwq+pi9J9Q/rxdOd6XziLuv30zyT5MzP8v/0bffvH04X/586o7i3pPgw/nREjnC+b//J0/3Mfz5P/c69NN/DSh9NdTuBXkzynn7/SDcz12+nOed63bF1/Ld15yQ+m6yI8i5q/lu7cqJP97+17p1033dGzpay8VMRLZlD31f067u9/jhxsbZK/52Xr/KGMHh16Us/1z+XJS4B9IsmBGb6OT/2eP5Hk55M8fUZ1F9J9gfaUUe2n+Ht+WrrBq05dDurvz6juN+TJ96l7Mtn/n/8u3XvBV9JdPu3h/7+9O7ZBGAaiAPo7Cgp2YADECNQMhcRG7MAEIFp2oThFIKEkTXCB35PS+uQoOvksO5d394djKp8+U6c4lpzrVNyv/P7ruGPjNIi7S7UpGtZTpxbv+GPMQ+b/Dr3UXLepHDW0g2r5Te1TV6LuSS4Z6cbwg7jr1Mm+TcO5nlMbKY/UFaRVo7jXVI66ZabTxtQzLNwAAADg7zkODQAAQDcUwQAAAHRDEQwAAEA3FMEAAAB0QxEMAABANxTBAAAAdEMRDAAAQDcUwQAAAHTjBQG8pO8t4vVHAAAAAElFTkSuQmCC\n",
          "text/plain": "<Figure size 1152x720 with 1 Axes>"
         },
         "metadata": {
          "needs_background": "light"
         },
         "output_type": "display_data"
        }
       ]
      }
     },
     "eddc5fcb837c4af9b41b8e8cc2180eac": {
      "model_module": "@jupyter-widgets/controls",
      "model_module_version": "1.4.0",
      "model_name": "DropdownModel",
      "state": {
       "_options_labels": [
        "June",
        "May",
        "April",
        "March",
        "February",
        "January",
        "December",
        "November",
        "October",
        "September",
        "August",
        "July"
       ],
       "description": "month",
       "index": 0,
       "layout": "IPY_MODEL_467901b13ded4e2a95302e8e6401398f",
       "style": "IPY_MODEL_973ab8f266bb4797ab92fdc0b6a05fdf"
      }
     },
     "edfd0781d40f44c0b324ba08ccac9398": {
      "model_module": "@jupyter-widgets/base",
      "model_module_version": "1.1.0",
      "model_name": "LayoutModel",
      "state": {}
     },
     "ef0f49f371764634879bdc818a5668d8": {
      "model_module": "@jupyter-widgets/controls",
      "model_module_version": "1.4.0",
      "model_name": "ButtonModel",
      "state": {
       "description": "Run Interact",
       "layout": "IPY_MODEL_1a8b5910b34c49c7b2c55783775fbd98",
       "style": "IPY_MODEL_1f7933909e7f4486be28b24c26592081"
      }
     },
     "ef4dfb1c0d9644a896b355808c695669": {
      "model_module": "@jupyter-widgets/base",
      "model_module_version": "1.1.0",
      "model_name": "LayoutModel",
      "state": {}
     },
     "ef536ddf209f4d0fb0c8dddaf2c08519": {
      "model_module": "@jupyter-widgets/controls",
      "model_module_version": "1.4.0",
      "model_name": "DropdownModel",
      "state": {
       "_options_labels": [
        "State",
        "Metropolitan Area",
        "County"
       ],
       "description": "area_type",
       "index": 0,
       "layout": "IPY_MODEL_b11e03958b344bf4bb58e41c75dca4da",
       "style": "IPY_MODEL_1841f64538834dddbd8e9131d6ce763e"
      }
     },
     "ef6061d870f148c6a348e89dd22f108f": {
      "model_module": "@jupyter-widgets/controls",
      "model_module_version": "1.4.0",
      "model_name": "DropdownModel",
      "state": {
       "_options_labels": [
        "June",
        "May",
        "April",
        "March",
        "February",
        "January",
        "December",
        "November",
        "October",
        "September",
        "August",
        "July"
       ],
       "description": "month",
       "index": 0,
       "layout": "IPY_MODEL_37bb1b85761a4fa9b8079a4fbd0a6392",
       "style": "IPY_MODEL_fdcc0c5c7908496f9e9d41091bb84f99"
      }
     },
     "ef778311fb524759a04c80e0f23a86e3": {
      "model_module": "@jupyter-widgets/base",
      "model_module_version": "1.1.0",
      "model_name": "LayoutModel",
      "state": {}
     },
     "efbc2b2f6eed41d1a66b163c9e4df95d": {
      "model_module": "@jupyter-widgets/controls",
      "model_module_version": "1.4.0",
      "model_name": "VBoxModel",
      "state": {
       "_dom_classes": [
        "widget-interact"
       ],
       "children": [
        "IPY_MODEL_2288697ea52e4a48838195ebaaff6b4a",
        "IPY_MODEL_e52d7fd4802f498e8fe3e722078872f1",
        "IPY_MODEL_a7e6a1b572c04c4f810d5c339bf91142",
        "IPY_MODEL_1311855ea25b4cea928cbc17f51eb80f"
       ],
       "layout": "IPY_MODEL_35927230cd8c4d4695459c7661b90c00"
      }
     },
     "f006da537aa94bb0b994e4d99f04ced5": {
      "model_module": "@jupyter-widgets/controls",
      "model_module_version": "1.4.0",
      "model_name": "DropdownModel",
      "state": {
       "_options_labels": [
        "State",
        "Metropolitan Area",
        "County"
       ],
       "description": "area_type",
       "index": 1,
       "layout": "IPY_MODEL_7c77d2d0bdaa4465ba9ddff984ad6041",
       "style": "IPY_MODEL_6844348e17524bbd898b5fc36aeecebd"
      }
     },
     "f0e29a874c4542bab4402c84efc09ce9": {
      "model_module": "@jupyter-widgets/base",
      "model_module_version": "1.1.0",
      "model_name": "LayoutModel",
      "state": {}
     },
     "f1a0b7de03394e3db02a435f3718ee58": {
      "model_module": "@jupyter-widgets/controls",
      "model_module_version": "1.4.0",
      "model_name": "VBoxModel",
      "state": {
       "_dom_classes": [
        "widget-interact"
       ],
       "children": [
        "IPY_MODEL_40e018b5a00b4fbd84211387e64100ab",
        "IPY_MODEL_74b14e749e1a43a7a0af2ba4e1bdf2c1",
        "IPY_MODEL_a3a2dde242494784b85f91df849773b4",
        "IPY_MODEL_cfc15fc678a746dbb7e30a63cd0ded96"
       ],
       "layout": "IPY_MODEL_eb08dcd41ec44ae3a72b39a500a09412"
      }
     },
     "f203bbcff79a4836a5a0d8f3ad57a1c1": {
      "model_module": "@jupyter-widgets/controls",
      "model_module_version": "1.4.0",
      "model_name": "DescriptionStyleModel",
      "state": {
       "description_width": ""
      }
     },
     "f2d7511fa869425486eac0d9cdb4e4e4": {
      "model_module": "@jupyter-widgets/controls",
      "model_module_version": "1.4.0",
      "model_name": "DropdownModel",
      "state": {
       "_options_labels": [
        "State",
        "Metropolitan Area",
        "County"
       ],
       "description": "area_type",
       "index": 0,
       "layout": "IPY_MODEL_4ec00d94866c4e09be0a812572b138be",
       "style": "IPY_MODEL_e19962292545474e9b3b70e5d77d2987"
      }
     },
     "f2e4bdc5a9ff4f3892a668500526be54": {
      "model_module": "@jupyter-widgets/base",
      "model_module_version": "1.1.0",
      "model_name": "LayoutModel",
      "state": {}
     },
     "f31dace9119c43ca861808eaeb8d6314": {
      "model_module": "@jupyter-widgets/controls",
      "model_module_version": "1.4.0",
      "model_name": "DropdownModel",
      "state": {
       "_options_labels": [
        "State",
        "Metropolitan Area",
        "County"
       ],
       "description": "area_type",
       "index": 2,
       "layout": "IPY_MODEL_f515df32ed7e42e3a0a6298cc0bd62a0",
       "style": "IPY_MODEL_c4b97f337f0e43d29e1f78747a4344af"
      }
     },
     "f342a8295b1945ba91973f3764529cda": {
      "model_module": "@jupyter-widgets/output",
      "model_module_version": "1.0.0",
      "model_name": "OutputModel",
      "state": {
       "layout": "IPY_MODEL_a1c96bf388c64ac09d205faf24a314c5",
       "outputs": [
        {
         "name": "stdout",
         "output_type": "stream",
         "text": "    area type   area name  year month        ...         series code                                     industry title seasonally adjusted current employment\n0       State  California  2019  June        ...                   0                                      Total Nonfarm                   Y           17473900\n1       State  California  2019  June        ...                   0                                      Total Nonfarm                   N           17526300\n2       State  California  2019  June        ...             1000000                              Total Wage and Salary                   N           18016400\n3       State  California  2019  June        ...             5000000                                      Total Private                   N           14861900\n4       State  California  2019  June        ...             6000000                                    Goods Producing                   Y            2261000\n5       State  California  2019  June        ...             6000000                                    Goods Producing                   N            2270700\n6       State  California  2019  June        ...             7000000                                  Service Providing                   N           15255600\n7       State  California  2019  June        ...             7000000                                  Service Providing                   Y           15212900\n8       State  California  2019  June        ...             8000000                          Private Service Providing                   N           12591200\n9       State  California  2019  June        ...            10000000                                 Mining and Logging                   N              23300\n10      State  California  2019  June        ...            10000000                                 Mining and Logging                   Y              22900\n11      State  California  2019  June        ...            10113300                                            Logging                   N               2200\n12      State  California  2019  June        ...            10210000                                             Mining                   N              21100\n13      State  California  2019  June        ...            10211000                               Oil & Gas Extraction                   N               5400\n14      State  California  2019  June        ...            10212000                           Mining, except Oil & Gas                   N               5900\n15      State  California  2019  June        ...            10213000                      Support Activities for Mining                   N               9800\n16      State  California  2019  June        ...            11000000                                         Total Farm                   Y             429300\n17      State  California  2019  June        ...            11000000                                         Total Farm                   N             490100\n18      State  California  2019  June        ...            15000000           Natural Resources, Mining and Constructi                   N             930400\n19      State  California  2019  June        ...            20000000                                       Construction                   Y             901200\n20      State  California  2019  June        ...            20000000                                       Construction                   N             907100\n21      State  California  2019  June        ...            20236000                          Construction of Buildings                   N             206100\n22      State  California  2019  June        ...            20236100                  Residential Building Construction                   N             119900\n23      State  California  2019  June        ...            20236200               Nonresidential Building Construction                   N              86200\n24      State  California  2019  June        ...            20237000           Heavy and Civil Engineering Construction                   N              95400\n25      State  California  2019  June        ...            20237100                              Utility System Const.                   N              48800\n26      State  California  2019  June        ...            20237200                                     L& Subdivision                   N               7700\n27      State  California  2019  June        ...            20237300                  Highway, Street, and Bridge Const                   N              28300\n28      State  California  2019  June        ...            20237900                       Other Heavy & Civil Engineer                   N              10600\n29      State  California  2019  June        ...            20238000                        Specialty Trade Contractors                   N             605600\n..        ...         ...   ...   ...        ...                 ...                                                ...                 ...                ...\n286     State  California  2019  June        ...            80811400                  Personal & Household Goods Repair                   N              10300\n287     State  California  2019  June        ...            80812000                      Personal and Laundry Services                   N             188900\n288     State  California  2019  June        ...            80812100                                Personal Care Serv.                   N              86300\n289     State  California  2019  June        ...            80812300                        Drycleaning & Laundry Serv.                   N              35700\n290     State  California  2019  June        ...            80812900                            Other Personal Services                   N              54200\n291     State  California  2019  June        ...            80813000           Religious, Grantmaking, Civic, Professio                   N             236800\n292     State  California  2019  June        ...            80813100                            Religious Organizations                   N              96100\n293     State  California  2019  June        ...            80813200                         Grantmaking & Giving Serv.                   N              26400\n294     State  California  2019  June        ...            80813300                      Social Advocacy Organizations                   N              28300\n295     State  California  2019  June        ...            80813400                       Civic & Social Organizations                   N              43800\n296     State  California  2019  June        ...            80813900             Bus,Labor, Political & Other like Org.                   N              42200\n297     State  California  2019  June        ...            90000000                                         Government                   N            2664400\n298     State  California  2019  June        ...            90000000                                         Government                   Y            2621700\n299     State  California  2019  June        ...            90910000                                 Federal Government                   N             250100\n300     State  California  2019  June        ...            90910000                                 Federal Government                   Y             247700\n301     State  California  2019  June        ...            90912991  Federal Government excluding Department of Def...                   N             189400\n302     State  California  2019  June        ...            90919110                              Department of Defense                   N              60700\n303     State  California  2019  June        ...            90920000                                   State Government                   N             556400\n304     State  California  2019  June        ...            90920000                                   State Government                   Y             548700\n305     State  California  2019  June        ...            90921611                         State Government Education                   N             279000\n306     State  California  2019  June        ...            90922000               State Government Excluding Education                   N             277400\n307     State  California  2019  June        ...            90930000                                   Local Government                   Y            1825300\n308     State  California  2019  June        ...            90930000                                   Local Government                   N            1857900\n309     State  California  2019  June        ...            90931150                                      Indian Tribes                   N              66100\n310     State  California  2019  June        ...            90931611                         Local Government Education                   N            1015200\n311     State  California  2019  June        ...            90932000               Local Government Excluding Education                   N             842700\n312     State  California  2019  June        ...            90939012                                             County                   N             360900\n313     State  California  2019  June        ...            90939022                                               City                   N             282200\n314     State  California  2019  June        ...            90939032                                  Special Districts                   N             133500\n315     State  California  2019  June        ...            90940000                         State and Local Government                   N            2414300\n\n[316 rows x 9 columns]\n"
        },
        {
         "data": {
          "image/png": "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\n",
          "text/plain": "<Figure size 432x288 with 1 Axes>"
         },
         "metadata": {
          "needs_background": "light"
         },
         "output_type": "display_data"
        }
       ]
      }
     },
     "f369dd81869d40e394940ffe291035a9": {
      "model_module": "@jupyter-widgets/controls",
      "model_module_version": "1.4.0",
      "model_name": "DropdownModel",
      "state": {
       "_options_labels": [
        "State",
        "Metropolitan Area",
        "County"
       ],
       "description": "area_type",
       "index": 0,
       "layout": "IPY_MODEL_c84730d2e185467d840161d346499021",
       "style": "IPY_MODEL_39934d4afe9647479368bdf07b3054a6"
      }
     },
     "f383362509404dec8169e4d61dbb7d78": {
      "model_module": "@jupyter-widgets/controls",
      "model_module_version": "1.4.0",
      "model_name": "DescriptionStyleModel",
      "state": {
       "description_width": ""
      }
     },
     "f515df32ed7e42e3a0a6298cc0bd62a0": {
      "model_module": "@jupyter-widgets/base",
      "model_module_version": "1.1.0",
      "model_name": "LayoutModel",
      "state": {}
     },
     "f55700950b974479b75987e1de58c456": {
      "model_module": "@jupyter-widgets/base",
      "model_module_version": "1.1.0",
      "model_name": "LayoutModel",
      "state": {}
     },
     "f585c7aed2cc42d7969b61c260d67ea8": {
      "model_module": "@jupyter-widgets/controls",
      "model_module_version": "1.4.0",
      "model_name": "ButtonModel",
      "state": {
       "description": "Run Interact",
       "layout": "IPY_MODEL_c1d80a2cfe054a1aa343f63b97d6d2dd",
       "style": "IPY_MODEL_3e2f3425433e462e8e002038bffb75cc"
      }
     },
     "f6344380163447e6902735cfaa3a9f55": {
      "model_module": "@jupyter-widgets/output",
      "model_module_version": "1.0.0",
      "model_name": "OutputModel",
      "state": {
       "layout": "IPY_MODEL_11fcba7840c64c92a5f4ad3b37a74c1d",
       "outputs": [
        {
         "name": "stdout",
         "output_type": "stream",
         "text": "       area type          area name  year     month        ...         series code                            industry title seasonally adjusted current employment\n852318     State         California  2001  November        ...                   0                             Total Nonfarm                   Y           14587500\n852319     State         California  2001  November        ...                   0                             Total Nonfarm                   N           14694100\n852320     State         California  2001  November        ...             1000000                     Total Wage and Salary                   N           15028800\n852321     State         California  2001  November        ...             5000000                             Total Private                   N           12247000\n852322     State         California  2001  November        ...             6000000                           Goods Producing                   Y            2500400\n852323     State         California  2001  November        ...             6000000                           Goods Producing                   N            2505500\n852324     State         California  2001  November        ...             7000000                         Service Providing                   Y           12087100\n852325     State         California  2001  November        ...             7000000                         Service Providing                   N           12188600\n852326     State         California  2001  November        ...             8000000                 Private Service Providing                   N            9741500\n852327     State         California  2001  November        ...            10000000                        Mining and Logging                   N              24400\n852328     State         California  2001  November        ...            10000000                        Mining and Logging                   Y              23800\n852329     State         California  2001  November        ...            10113300                                   Logging                   N               3500\n852330     State         California  2001  November        ...            10210000                                    Mining                   N              20900\n852331     State         California  2001  November        ...            10211000                      Oil & Gas Extraction                   N               4500\n852332     State         California  2001  November        ...            10212000                  Mining, except Oil & Gas                   N               6900\n852333     State         California  2001  November        ...            10213000             Support Activities for Mining                   N               9500\n852334     State         California  2001  November        ...            11000000                                Total Farm                   Y             367800\n852335     State         California  2001  November        ...            11000000                                Total Farm                   N             334700\n852336     State         California  2001  November        ...            15000000  Natural Resources, Mining and Constructi                   N             809500\n852337     State         California  2001  November        ...            20000000                              Construction                   Y             776100\n852338     State         California  2001  November        ...            20000000                              Construction                   N             785100\n852339     State         California  2001  November        ...            20236000                 Construction of Buildings                   N             176200\n852340     State         California  2001  November        ...            20236100         Residential Building Construction                   N             109400\n852341     State         California  2001  November        ...            20236200      Nonresidential Building Construction                   N              66800\n852342     State         California  2001  November        ...            20237000  Heavy and Civil Engineering Construction                   N              91300\n852343     State         California  2001  November        ...            20237100                     Utility System Const.                   N              34100\n852344     State         California  2001  November        ...            20237200                            L& Subdivision                   N              14800\n852345     State         California  2001  November        ...            20237300         Highway, Street, and Bridge Const                   N              30600\n852346     State         California  2001  November        ...            20237900              Other Heavy & Civil Engineer                   N              11800\n852347     State         California  2001  November        ...            20238000               Specialty Trade Contractors                   N             517600\n...          ...                ...   ...       ...        ...                 ...                                       ...                 ...                ...\n856332    County      Tehama County  2001  November        ...            90940000                State and Local Government                   N               3760\n856333    County    Tuolumne County  2001  November        ...            90940000                State and Local Government                   N               4340\n856334    County     Ventura County  2001  November        ...            90940000                State and Local Government                   N              38600\n856335    County       Glenn County  2001  November        ...            90940000                State and Local Government                   N               2040\n856336    County      Colusa County  2001  November        ...            90940000                State and Local Government                   N               1720\n856337    County    Humboldt County  2001  November        ...            90940000                State and Local Government                   N              12800\n856338    County   Calaveras County  2001  November        ...            90940000                State and Local Government                   N               2340\n856339    County      Sierra County  2001  November        ...            90940000                State and Local Government                   N                370\n856340    County  Stanislaus County  2001  November        ...            90940000                State and Local Government                   N              25800\n856341    County    Imperial County  2001  November        ...            90940000                State and Local Government                   N              14600\n856342    County      Sonoma County  2001  November        ...            90940000                State and Local Government                   N              27500\n856343    County        Inyo County  2001  November        ...            90940000                State and Local Government                   N               2800\n856344    County   San Diego County  2001  November        ...            90940000                State and Local Government                   N             180800\n856345    County       Butte County  2001  November        ...            90940000                State and Local Government                   N              16700\n856346    County      Amador County  2001  November        ...            90940000                State and Local Government                   N               4400\n856347    County    Monterey County  2001  November        ...            90940000                State and Local Government                   N              26000\n856348    County      Merced County  2001  November        ...            90940000                State and Local Government                   N              12700\n856349    County        Kern County  2001  November        ...            90940000                State and Local Government                   N              46200\n856350    County    Mariposa County  2001  November        ...            90940000                State and Local Government                   N               1130\n856351    County      Alpine County  2001  November        ...            90940000                State and Local Government                   N                210\n856352    County      Orange County  2001  November        ...            90940000                State and Local Government                   N             144200\n856353    County       Kings County  2001  November        ...            90940000                State and Local Government                   N              12500\n856354    County        Napa County  2001  November        ...            90940000                State and Local Government                   N               9600\n856355    County      Nevada County  2001  November        ...            90940000                State and Local Government                   N               5290\n856356    County      Solano County  2001  November        ...            90940000                State and Local Government                   N              21200\n856357    County      Shasta County  2001  November        ...            90940000                State and Local Government                   N              11600\n856358    County   Mendocino County  2001  November        ...            90940000                State and Local Government                   N               6540\n856359    County        Lake County  2001  November        ...            90940000                State and Local Government                   N               3820\n856360    County      Lassen County  2001  November        ...            90940000                State and Local Government                   N               4680\n856361    County    Siskiyou County  2001  November        ...            90940000                State and Local Government                   N               3150\n\n[4044 rows x 9 columns]\n"
        }
       ]
      }
     },
     "f63b027304ed49acb46a76b461f24993": {
      "model_module": "@jupyter-widgets/base",
      "model_module_version": "1.1.0",
      "model_name": "LayoutModel",
      "state": {}
     },
     "f666e29a618f4179a1c0fce60defc048": {
      "model_module": "@jupyter-widgets/controls",
      "model_module_version": "1.4.0",
      "model_name": "VBoxModel",
      "state": {
       "_dom_classes": [
        "widget-interact"
       ],
       "children": [
        "IPY_MODEL_e55b4f01c9494b4bb327c26e5ea5178e",
        "IPY_MODEL_e6f7fe37dfb349df844e059141430956",
        "IPY_MODEL_3816ec8aacd94d10b570f09c0a20d4d1",
        "IPY_MODEL_cd604c72b041471d991132d3a542b93d"
       ],
       "layout": "IPY_MODEL_a9c77f282f3c42bcaa94ec2c224579c9"
      }
     },
     "f6827def799a4ab190ed5688b04ecb25": {
      "model_module": "@jupyter-widgets/base",
      "model_module_version": "1.1.0",
      "model_name": "LayoutModel",
      "state": {}
     },
     "f6f7e7806c304b2e80e50e981461ebd9": {
      "model_module": "@jupyter-widgets/controls",
      "model_module_version": "1.4.0",
      "model_name": "DropdownModel",
      "state": {
       "_options_labels": [
        "Total Nonfarm",
        "Total Wage and Salary",
        "Total Private",
        "Goods Producing",
        "Service Providing",
        "Private Service Providing",
        "Mining and Logging",
        "Logging",
        "Mining",
        "Oil & Gas Extraction",
        "Mining, except Oil & Gas",
        "Support Activities for Mining",
        "Total Farm",
        "Natural Resources, Mining and Constructi",
        "Construction",
        "Construction of Buildings",
        "Residential Building Construction",
        "Nonresidential Building Construction",
        "Heavy and Civil Engineering Construction",
        "Utility System Const.",
        "L& Subdivision",
        "Highway, Street, and Bridge Const",
        "Other Heavy & Civil Engineer",
        "Specialty Trade Contractors",
        "Building Foundation and Exterior Contrac",
        "Building Equipment Contractors",
        "Building Finishing Contractors",
        "Other Specialty Trade Contract",
        "Manufacturing",
        "Durable Goods",
        "Wood Product Manufacturing",
        "Other Wood Product Mfg.",
        "Nonmetallic Mineral Product Mfg.",
        "Primary Metal Manufacturing",
        "Fabricated Metal Product Mfg",
        "Architectural & Structural Metals Mfg.",
        "Machine Shops & Threaded Product Mfg.",
        "Other Fabricated Metal Product Mfg.",
        "Machinery Manufacturing",
        "Industrial Machinery Manufacturing",
        "Commercial and Service Industry Manufact",
        "Metalworking Machinery Mfg.",
        "ResidualOther General Purpose Machinery",
        "Computer and Electronic Product Manufact",
        "Computer and Peripheral Equipment Manufa",
        "Electronic Computer Manufacturing",
        "Communications Equipment Manufacturing",
        "Semiconductor and Electronic Component M",
        "Bare Printed Circuit Board Manufacturing",
        "Semiconductor and Related Devices Manufa",
        "Electronic Instrument Manufacturing",
        "Electrical Equipment and Appliance Manuf",
        "Transportation Equipment Manufacturing",
        "Motor Vehicle Mfg.",
        "Aerospace Product and Parts Manufacturin",
        "Ship and Boat Building",
        "Furniture and Related Product Manufactur",
        "Household and Institutional Furniture Ma",
        "Miscellaneous Durable Goods Manufacturing",
        "Medical Equipment & Supplies Mfg.",
        "Other Miscellaneous Durable Goods Mfg.",
        "Nondurable Goods",
        "Food Manufacturing",
        "Fruit & Vegetable Preserving & Specialty",
        "Dairy Product Manufacturing",
        "Animal Slaughtering and Processing",
        "Bakeries and Tortilla Manufacturing",
        "Other Food Mfg.",
        "Beverage and Tobacco Product Mfg",
        "ResidualTextile Mills",
        "Textile Product Mills",
        "Apparel Manufacturing",
        "Apparel Knitting Mills",
        "Cut and Sew Apparel Manufacturing",
        "Paper Manufacturing",
        "Converted Paper Product Mfg.",
        "Printing and Related Support Activities",
        "Petroleum and Coal Products Manufacturin",
        "Chemical Manufacturing",
        "Pharmaceutical and Medicine Manufacturin",
        "Soap, Cleaning Compound & Toiletry Mfg.",
        "Plastics and Rubber Products Manufacturi",
        "Trade, Transportation and Utilities",
        "Wholesale Trade",
        "Merchant Wholesalers, Durable Goods",
        "Motor Vehicle and Motor Vehicle Parts Me",
        "Furniture & Home Furnish Merch whole",
        "Lumber & Other Const. Mat Merch whole",
        "Professional and Commercial Equipment Me",
        "Electrical and Electronic Goods Merchant",
        "Hdwr, Plumb & Heating Merchant whole",
        "Machinery, Equipment and Supplies Mercha",
        "Merchant Wholesalers, Nondurable Goods",
        "Paper & Paper Products Merchant whole",
        "Apparel, Piece Gds & Notions Merch whole",
        "Grocery & Related Products Merchant whol",
        "Chemical & Allied Products Merchant whol",
        "Misc Nondurable Merchant Wholesalers",
        "Wholesale Electronic Markets and Agents",
        "Retail Trade",
        "Motor Vehicle and Parts Dealer",
        "Automobile Dealers",
        "Other Motor Vehicle Dealers",
        "Automotive Parts, Accessories and Tire S",
        "Furniture and Home Furnishings Stores",
        "Furniture Stores",
        "Home Furnishings Stores",
        "Electronics and Appliance Stores",
        "Building Material and Garden Equipment S",
        "Building Material and Supplies Dealers",
        "Food and Beverage Stores",
        "Grocery Stores",
        "Specialty Food Stores",
        "Beer, Wine, & Liquor Stores",
        "Health and Personal Care Stores",
        "Gasoline Stations",
        "Clothing and Clothing Accessories Stores",
        "Clothing Stores",
        "Jewelry, Luggage & Leather Gds Stores",
        "Sporting Goods, Hobby, Book and Music St",
        "Sporting Goods, Hobby and Musical Instru",
        "Book, Periodical and Music Stores",
        "General Merchandise Stores",
        "Department Stores",
        "Miscellaneous Store Retailers",
        "Office Supplies, Stationery & Gift Store",
        "Used Merch&ise Stores",
        "Other Miscellaneous Store Retailers",
        "Nonstore Retailers",
        "Electronic Shopping & Mail-Order",
        "Transportation, Warehousing and Utilitie",
        "Utilities",
        "Electric Power Gen, Trans & Distribution",
        "Natural Gas Distribution",
        "Transportation and Warehousing",
        "Air Transportation",
        "Scheduled Air transp.",
        "Truck Transportation",
        "General Freight Trucking",
        "Specialized Freight Trucking",
        "Transit and Ground Passenger Transportat",
        "Support Activities for Transportation",
        "Support Activities for Water transp.",
        "Support Activities for Road transp.",
        "Freight transp. Arrangement",
        "Couriers and Messengers",
        "Warehousing and Storage",
        "Information",
        "Publishing Industries (except Internet)",
        "Newspaper, Periodical, Book and Director",
        "Software Publishers",
        "Motion Picture and Sound Recording",
        "Motion Picture & Video Industries",
        "Motion Picture & Video Production",
        "Broadcasting (except Internet)",
        "Radio and Television Broadcasting",
        "Cable and Other Subscription Programming",
        "Telecommunications",
        "Wired Telecommunications Carriers",
        "Data Processing, Hosting & Related Services",
        "Other Information Serv.",
        "Financial Activities",
        "Finance and Insurance",
        "Credit Intermediation and Related Activi",
        "Depository Credit Intermediation",
        "Nondepository Credit Intermediation",
        "Activities Related to Credit Intermediat",
        "Securities, Commodity Contracts and Inve",
        "Securities & Commodity Contracts",
        "Other Financial Investment Activities",
        "Insurance Carriers and Related",
        "Insurance Carriers",
        "Agencies, Brokerages, and Other Insuranc",
        "Real Estate and Rental and Leasing",
        "Real Estate",
        "Lessors of Real Estate",
        "Offices of Real Estate Agents and Broker",
        "Activities Related to Real Estate",
        "Rental and Leasing Services",
        "Automotive Equipment Rental and Leasing",
        "Consumer Goods Rental",
        "General Rental Centers",
        "Comm & Industrial Mach Rental & Leasing",
        "Professional and Business Services",
        "Professional, Scientific and Technical S",
        "Legal Services",
        "Accounting, Tax Preparation and Bookkeep",
        "Architectural, Engineering and Related S",
        "Specialized Design Services",
        "Computer Systems Design and Related Serv",
        "Management, Scientific and Technical Con",
        "Scientific Research and Development Serv",
        "Advertising and Related Services",
        "Other Professional, Scientific and Techn",
        "Management of Companies and Enterprises",
        "Administrative and Support and Waste Ser",
        "Administrative and Support Services",
        "Office Administrative Services",
        "Facilities Support Serv.",
        "Employment Services",
        "Business Support Services",
        "Travel Arrangement and Reservation Servi",
        "Investigation and Security Services",
        "Services to Buildings and Dwellings",
        "ResidualOther Support Services",
        "Waste Management and Remediation Service",
        "Educational and Health Services",
        "Educational Services",
        "Elementary and Secondary Schools",
        "Junior Colleges",
        "Colleges, Universities and Professional",
        "Other Schools & Instruction",
        "Health Care and Social Assistance",
        "Ambulatory Health Care Services",
        "Offices of Physicians",
        "Offices of Dentists",
        "Offices of Other Health Practitioners",
        "Outpatient Care Centers",
        "Medical & Diagnostic Laboratories",
        "Home Health Care Serv.",
        "Other Ambulatory Health Care Serv.",
        "Hospitals",
        "General Medical & Surgical Hosp.s",
        "Psychiatric & Substance Abuse Hosp",
        "Specialty (not Psych, Sub Abuse) Hosp.",
        "Nursing and Residential Care Facilities",
        "Nursing Care Facilities",
        "Residential Mental Retardation, Mental a",
        "Comm Care Facilities for the Elderly",
        "Other Residential Care Facilities",
        "Social Assistance",
        "Individual and Family Services",
        "Community Food & Housing, & Emergency &",
        "Vocational Rehabilitation Services",
        "Child Day Care Services",
        "Leisure and Hospitality",
        "Arts, Entertainment, and Recreation",
        "Performing Arts, Spectator Sports",
        "Performing Arts Companies",
        "Spectator Sports",
        "Independent Artists, Writers, and Perfor",
        "Museums, Historical Sites, and Similar I",
        "Amusement, Gambling, and Recreation",
        "Amusement Parks and Arcades",
        "Gambling Industries",
        "Other Amusement and Recreation",
        "Accommodation and Food Service",
        "Accommodation",
        "Food Services and Drinking Places",
        "Special Food Services",
        "Drinking Places (Alcoholic Beverages)",
        "Full-Service Restaurants",
        "Limited-Service Eating Places",
        "Other Services",
        "Repair and Maintenance",
        "Auto Repair & Maintenance",
        "Commercial & Industrial Machinery",
        "Personal & Household Goods Repair",
        "Personal and Laundry Services",
        "Personal Care Serv.",
        "Drycleaning & Laundry Serv.",
        "Other Personal Services",
        "Religious, Grantmaking, Civic, Professio",
        "Religious Organizations",
        "Grantmaking & Giving Serv.",
        "Social Advocacy Organizations",
        "Civic & Social Organizations",
        "Bus,Labor, Political & Other like Org.",
        "Government",
        "Federal Government",
        "Federal Government excluding Department of Defense",
        "Department of Defense",
        "State Government",
        "State Government Education",
        "State Government Excluding Education",
        "Local Government",
        "Indian Tribes",
        "Local Government Education",
        "Local Government Excluding Education",
        "County",
        "City",
        "Special Districts",
        "State and Local Government",
        "Miscellaneous Durable Goods Merchant Who",
        "Real Estate and Rental and Leasing - Residual",
        "Restaurants",
        "Special Districts plus Indian Tribes",
        "Private Service Providing - Residual"
       ],
       "description": "industry_title",
       "index": 0,
       "layout": "IPY_MODEL_7b6f611e22e449e5b9455d8503f2f7eb",
       "style": "IPY_MODEL_a500fb25ba2d413db4932265322bf151"
      }
     },
     "f70400371a9142c9b495cb3f2ed5b5bc": {
      "model_module": "@jupyter-widgets/controls",
      "model_module_version": "1.4.0",
      "model_name": "DescriptionStyleModel",
      "state": {
       "description_width": ""
      }
     },
     "f7417d30ab9a4bb8a85067492c00b7d1": {
      "model_module": "@jupyter-widgets/controls",
      "model_module_version": "1.4.0",
      "model_name": "ButtonStyleModel",
      "state": {}
     },
     "f7d84bea8426484baf023c2dbb509b82": {
      "model_module": "@jupyter-widgets/controls",
      "model_module_version": "1.4.0",
      "model_name": "ButtonStyleModel",
      "state": {}
     },
     "f7eb271eac9b41218b73cae26768f808": {
      "model_module": "@jupyter-widgets/base",
      "model_module_version": "1.1.0",
      "model_name": "LayoutModel",
      "state": {}
     },
     "f89aa39d194c4de7b1ab9ce047a89bda": {
      "model_module": "@jupyter-widgets/base",
      "model_module_version": "1.1.0",
      "model_name": "LayoutModel",
      "state": {}
     },
     "f8e58406d2574767b944d2571785ae45": {
      "model_module": "@jupyter-widgets/controls",
      "model_module_version": "1.4.0",
      "model_name": "DropdownModel",
      "state": {
       "_options_labels": [
        "January",
        "February",
        "March",
        "April",
        "May",
        "June",
        "July",
        "August",
        "September",
        "October",
        "November",
        "December"
       ],
       "description": "month",
       "index": 0,
       "layout": "IPY_MODEL_13859b83830743db88249d25bb56fabc",
       "style": "IPY_MODEL_5d446e8da2494a499c5485cf8b92602c"
      }
     },
     "f95773b55f1749c19694d19d05b674e3": {
      "model_module": "@jupyter-widgets/base",
      "model_module_version": "1.1.0",
      "model_name": "LayoutModel",
      "state": {}
     },
     "f968f897411341c382eb0c692da1a40f": {
      "model_module": "@jupyter-widgets/base",
      "model_module_version": "1.1.0",
      "model_name": "LayoutModel",
      "state": {}
     },
     "f9769289f9d94edead002ef41296a334": {
      "model_module": "@jupyter-widgets/base",
      "model_module_version": "1.1.0",
      "model_name": "LayoutModel",
      "state": {}
     },
     "f9d5cfb66cc64b1fac14c4a9575c843c": {
      "model_module": "@jupyter-widgets/controls",
      "model_module_version": "1.4.0",
      "model_name": "DescriptionStyleModel",
      "state": {
       "description_width": ""
      }
     },
     "fae7c83249ed4c59b85f6a7129412539": {
      "model_module": "@jupyter-widgets/output",
      "model_module_version": "1.0.0",
      "model_name": "OutputModel",
      "state": {
       "layout": "IPY_MODEL_699974d783b04475a0794b0cce87c17a",
       "outputs": [
        {
         "name": "stdout",
         "output_type": "stream",
         "text": "Total Nonfarm\nIndex(['April', 'August', 'December', 'February', 'January', 'July', 'June',\n       'March', 'May', 'November', 'October', 'September'],\n      dtype='object', name='month')\n"
        },
        {
         "data": {
          "image/png": "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\n",
          "text/plain": "<Figure size 1152x720 with 1 Axes>"
         },
         "metadata": {
          "needs_background": "light"
         },
         "output_type": "display_data"
        }
       ]
      }
     },
     "faf8d701b5184995b3d7dcfcde2de1fd": {
      "model_module": "@jupyter-widgets/controls",
      "model_module_version": "1.4.0",
      "model_name": "VBoxModel",
      "state": {
       "_dom_classes": [
        "widget-interact"
       ],
       "children": [
        "IPY_MODEL_d322e0f239e24985bab5e2dbd8ccf27a",
        "IPY_MODEL_375dc89014eb48d497d351332e9fc0e2",
        "IPY_MODEL_3beba024b9d14ce89bcc419db2b27b84",
        "IPY_MODEL_b461d364057142848d6da3a163a138d4"
       ],
       "layout": "IPY_MODEL_72d70766b5df43398411019dbde7c5ef"
      }
     },
     "fb2fedcdfc31413e976df1670d218d8d": {
      "model_module": "@jupyter-widgets/base",
      "model_module_version": "1.1.0",
      "model_name": "LayoutModel",
      "state": {}
     },
     "fcc04c148dbd468c85c1b667502d8a9b": {
      "model_module": "@jupyter-widgets/output",
      "model_module_version": "1.0.0",
      "model_name": "OutputModel",
      "state": {
       "layout": "IPY_MODEL_cf6451d2b9df43bfa34bde34ea21ec93",
       "outputs": [
        {
         "ename": "KeyError",
         "evalue": "'area_type'",
         "output_type": "error",
         "traceback": [
          "\u001b[0;31m---------------------------------------------------------------------------\u001b[0m",
          "\u001b[0;31mKeyError\u001b[0m                                  Traceback (most recent call last)",
          "\u001b[0;32m/opt/conda/lib/python3.6/site-packages/pandas/core/indexes/base.py\u001b[0m in \u001b[0;36mget_loc\u001b[0;34m(self, key, method, tolerance)\u001b[0m\n\u001b[1;32m   3077\u001b[0m             \u001b[0;32mtry\u001b[0m\u001b[0;34m:\u001b[0m\u001b[0;34m\u001b[0m\u001b[0m\n\u001b[0;32m-> 3078\u001b[0;31m                 \u001b[0;32mreturn\u001b[0m \u001b[0mself\u001b[0m\u001b[0;34m.\u001b[0m\u001b[0m_engine\u001b[0m\u001b[0;34m.\u001b[0m\u001b[0mget_loc\u001b[0m\u001b[0;34m(\u001b[0m\u001b[0mkey\u001b[0m\u001b[0;34m)\u001b[0m\u001b[0;34m\u001b[0m\u001b[0m\n\u001b[0m\u001b[1;32m   3079\u001b[0m             \u001b[0;32mexcept\u001b[0m \u001b[0mKeyError\u001b[0m\u001b[0;34m:\u001b[0m\u001b[0;34m\u001b[0m\u001b[0m\n",
          "\u001b[0;32mpandas/_libs/index.pyx\u001b[0m in \u001b[0;36mpandas._libs.index.IndexEngine.get_loc\u001b[0;34m()\u001b[0m\n",
          "\u001b[0;32mpandas/_libs/index.pyx\u001b[0m in \u001b[0;36mpandas._libs.index.IndexEngine.get_loc\u001b[0;34m()\u001b[0m\n",
          "\u001b[0;32mpandas/_libs/hashtable_class_helper.pxi\u001b[0m in \u001b[0;36mpandas._libs.hashtable.PyObjectHashTable.get_item\u001b[0;34m()\u001b[0m\n",
          "\u001b[0;32mpandas/_libs/hashtable_class_helper.pxi\u001b[0m in \u001b[0;36mpandas._libs.hashtable.PyObjectHashTable.get_item\u001b[0;34m()\u001b[0m\n",
          "\u001b[0;31mKeyError\u001b[0m: 'area_type'",
          "\nDuring handling of the above exception, another exception occurred:\n",
          "\u001b[0;31mKeyError\u001b[0m                                  Traceback (most recent call last)",
          "\u001b[0;32m/opt/conda/lib/python3.6/site-packages/ipywidgets/widgets/interaction.py\u001b[0m in \u001b[0;36mupdate\u001b[0;34m(self, *args)\u001b[0m\n\u001b[1;32m    249\u001b[0m                     \u001b[0mvalue\u001b[0m \u001b[0;34m=\u001b[0m \u001b[0mwidget\u001b[0m\u001b[0;34m.\u001b[0m\u001b[0mget_interact_value\u001b[0m\u001b[0;34m(\u001b[0m\u001b[0;34m)\u001b[0m\u001b[0;34m\u001b[0m\u001b[0m\n\u001b[1;32m    250\u001b[0m                     \u001b[0mself\u001b[0m\u001b[0;34m.\u001b[0m\u001b[0mkwargs\u001b[0m\u001b[0;34m[\u001b[0m\u001b[0mwidget\u001b[0m\u001b[0;34m.\u001b[0m\u001b[0m_kwarg\u001b[0m\u001b[0;34m]\u001b[0m \u001b[0;34m=\u001b[0m \u001b[0mvalue\u001b[0m\u001b[0;34m\u001b[0m\u001b[0m\n\u001b[0;32m--> 251\u001b[0;31m                 \u001b[0mself\u001b[0m\u001b[0;34m.\u001b[0m\u001b[0mresult\u001b[0m \u001b[0;34m=\u001b[0m \u001b[0mself\u001b[0m\u001b[0;34m.\u001b[0m\u001b[0mf\u001b[0m\u001b[0;34m(\u001b[0m\u001b[0;34m**\u001b[0m\u001b[0mself\u001b[0m\u001b[0;34m.\u001b[0m\u001b[0mkwargs\u001b[0m\u001b[0;34m)\u001b[0m\u001b[0;34m\u001b[0m\u001b[0m\n\u001b[0m\u001b[1;32m    252\u001b[0m                 \u001b[0mshow_inline_matplotlib_plots\u001b[0m\u001b[0;34m(\u001b[0m\u001b[0;34m)\u001b[0m\u001b[0;34m\u001b[0m\u001b[0m\n\u001b[1;32m    253\u001b[0m                 \u001b[0;32mif\u001b[0m \u001b[0mself\u001b[0m\u001b[0;34m.\u001b[0m\u001b[0mauto_display\u001b[0m \u001b[0;32mand\u001b[0m \u001b[0mself\u001b[0m\u001b[0;34m.\u001b[0m\u001b[0mresult\u001b[0m \u001b[0;32mis\u001b[0m \u001b[0;32mnot\u001b[0m \u001b[0;32mNone\u001b[0m\u001b[0;34m:\u001b[0m\u001b[0;34m\u001b[0m\u001b[0m\n",
          "\u001b[0;32m<ipython-input-39-9cbcacdb5f04>\u001b[0m in \u001b[0;36mfilter_by_year_month\u001b[0;34m(year, month, area_type)\u001b[0m\n\u001b[1;32m      1\u001b[0m \u001b[0;34m@\u001b[0m\u001b[0mwidgets\u001b[0m\u001b[0;34m.\u001b[0m\u001b[0minteract_manual\u001b[0m\u001b[0;34m(\u001b[0m\u001b[0myear\u001b[0m\u001b[0;34m=\u001b[0m\u001b[0myears\u001b[0m\u001b[0;34m,\u001b[0m \u001b[0mmonth\u001b[0m\u001b[0;34m=\u001b[0m\u001b[0mmonths\u001b[0m\u001b[0;34m,\u001b[0m \u001b[0marea_type\u001b[0m\u001b[0;34m=\u001b[0m\u001b[0marea_types\u001b[0m\u001b[0;34m)\u001b[0m\u001b[0;34m\u001b[0m\u001b[0m\n\u001b[1;32m      2\u001b[0m \u001b[0;32mdef\u001b[0m \u001b[0mfilter_by_year_month\u001b[0m\u001b[0;34m(\u001b[0m\u001b[0myear\u001b[0m\u001b[0;34m=\u001b[0m\u001b[0myears\u001b[0m\u001b[0;34m[\u001b[0m\u001b[0;36m0\u001b[0m\u001b[0;34m]\u001b[0m\u001b[0;34m,\u001b[0m \u001b[0mmonth\u001b[0m\u001b[0;34m=\u001b[0m\u001b[0mmonths\u001b[0m\u001b[0;34m[\u001b[0m\u001b[0;36m0\u001b[0m\u001b[0;34m]\u001b[0m\u001b[0;34m,\u001b[0m \u001b[0marea_type\u001b[0m\u001b[0;34m=\u001b[0m\u001b[0marea_types\u001b[0m\u001b[0;34m[\u001b[0m\u001b[0;36m0\u001b[0m\u001b[0;34m]\u001b[0m\u001b[0;34m)\u001b[0m\u001b[0;34m:\u001b[0m\u001b[0;34m\u001b[0m\u001b[0m\n\u001b[0;32m----> 3\u001b[0;31m     \u001b[0mdata\u001b[0m\u001b[0;34m=\u001b[0m\u001b[0mdf_em\u001b[0m\u001b[0;34m.\u001b[0m\u001b[0mloc\u001b[0m\u001b[0;34m[\u001b[0m\u001b[0;34m(\u001b[0m\u001b[0mdf_em\u001b[0m\u001b[0;34m[\u001b[0m\u001b[0;34m'year'\u001b[0m\u001b[0;34m]\u001b[0m\u001b[0;34m==\u001b[0m\u001b[0myear\u001b[0m\u001b[0;34m)\u001b[0m \u001b[0;34m&\u001b[0m \u001b[0;34m(\u001b[0m\u001b[0mdf_em\u001b[0m\u001b[0;34m[\u001b[0m\u001b[0;34m'month'\u001b[0m\u001b[0;34m]\u001b[0m\u001b[0;34m==\u001b[0m\u001b[0mmonth\u001b[0m\u001b[0;34m)\u001b[0m \u001b[0;34m&\u001b[0m \u001b[0;34m(\u001b[0m\u001b[0mdf_em\u001b[0m\u001b[0;34m[\u001b[0m\u001b[0;34m'area_type'\u001b[0m\u001b[0;34m]\u001b[0m\u001b[0;34m==\u001b[0m\u001b[0marea_type\u001b[0m\u001b[0;34m)\u001b[0m\u001b[0;34m]\u001b[0m\u001b[0;34m\u001b[0m\u001b[0m\n\u001b[0m\u001b[1;32m      4\u001b[0m     \u001b[0mprint\u001b[0m\u001b[0;34m(\u001b[0m\u001b[0mdata\u001b[0m\u001b[0;34m)\u001b[0m\u001b[0;34m\u001b[0m\u001b[0m\n\u001b[1;32m      5\u001b[0m     \u001b[0;31m#data[['year', 'area type', 'current employment']].pivot(columns='area type',values='current employment').plot(kind='box', logy=True)\u001b[0m\u001b[0;34m\u001b[0m\u001b[0;34m\u001b[0m\u001b[0m\n",
          "\u001b[0;32m/opt/conda/lib/python3.6/site-packages/pandas/core/frame.py\u001b[0m in \u001b[0;36m__getitem__\u001b[0;34m(self, key)\u001b[0m\n\u001b[1;32m   2686\u001b[0m             \u001b[0;32mreturn\u001b[0m \u001b[0mself\u001b[0m\u001b[0;34m.\u001b[0m\u001b[0m_getitem_multilevel\u001b[0m\u001b[0;34m(\u001b[0m\u001b[0mkey\u001b[0m\u001b[0;34m)\u001b[0m\u001b[0;34m\u001b[0m\u001b[0m\n\u001b[1;32m   2687\u001b[0m         \u001b[0;32melse\u001b[0m\u001b[0;34m:\u001b[0m\u001b[0;34m\u001b[0m\u001b[0m\n\u001b[0;32m-> 2688\u001b[0;31m             \u001b[0;32mreturn\u001b[0m \u001b[0mself\u001b[0m\u001b[0;34m.\u001b[0m\u001b[0m_getitem_column\u001b[0m\u001b[0;34m(\u001b[0m\u001b[0mkey\u001b[0m\u001b[0;34m)\u001b[0m\u001b[0;34m\u001b[0m\u001b[0m\n\u001b[0m\u001b[1;32m   2689\u001b[0m \u001b[0;34m\u001b[0m\u001b[0m\n\u001b[1;32m   2690\u001b[0m     \u001b[0;32mdef\u001b[0m \u001b[0m_getitem_column\u001b[0m\u001b[0;34m(\u001b[0m\u001b[0mself\u001b[0m\u001b[0;34m,\u001b[0m \u001b[0mkey\u001b[0m\u001b[0;34m)\u001b[0m\u001b[0;34m:\u001b[0m\u001b[0;34m\u001b[0m\u001b[0m\n",
          "\u001b[0;32m/opt/conda/lib/python3.6/site-packages/pandas/core/frame.py\u001b[0m in \u001b[0;36m_getitem_column\u001b[0;34m(self, key)\u001b[0m\n\u001b[1;32m   2693\u001b[0m         \u001b[0;31m# get column\u001b[0m\u001b[0;34m\u001b[0m\u001b[0;34m\u001b[0m\u001b[0m\n\u001b[1;32m   2694\u001b[0m         \u001b[0;32mif\u001b[0m \u001b[0mself\u001b[0m\u001b[0;34m.\u001b[0m\u001b[0mcolumns\u001b[0m\u001b[0;34m.\u001b[0m\u001b[0mis_unique\u001b[0m\u001b[0;34m:\u001b[0m\u001b[0;34m\u001b[0m\u001b[0m\n\u001b[0;32m-> 2695\u001b[0;31m             \u001b[0;32mreturn\u001b[0m \u001b[0mself\u001b[0m\u001b[0;34m.\u001b[0m\u001b[0m_get_item_cache\u001b[0m\u001b[0;34m(\u001b[0m\u001b[0mkey\u001b[0m\u001b[0;34m)\u001b[0m\u001b[0;34m\u001b[0m\u001b[0m\n\u001b[0m\u001b[1;32m   2696\u001b[0m \u001b[0;34m\u001b[0m\u001b[0m\n\u001b[1;32m   2697\u001b[0m         \u001b[0;31m# duplicate columns & possible reduce dimensionality\u001b[0m\u001b[0;34m\u001b[0m\u001b[0;34m\u001b[0m\u001b[0m\n",
          "\u001b[0;32m/opt/conda/lib/python3.6/site-packages/pandas/core/generic.py\u001b[0m in \u001b[0;36m_get_item_cache\u001b[0;34m(self, item)\u001b[0m\n\u001b[1;32m   2487\u001b[0m         \u001b[0mres\u001b[0m \u001b[0;34m=\u001b[0m \u001b[0mcache\u001b[0m\u001b[0;34m.\u001b[0m\u001b[0mget\u001b[0m\u001b[0;34m(\u001b[0m\u001b[0mitem\u001b[0m\u001b[0;34m)\u001b[0m\u001b[0;34m\u001b[0m\u001b[0m\n\u001b[1;32m   2488\u001b[0m         \u001b[0;32mif\u001b[0m \u001b[0mres\u001b[0m \u001b[0;32mis\u001b[0m \u001b[0;32mNone\u001b[0m\u001b[0;34m:\u001b[0m\u001b[0;34m\u001b[0m\u001b[0m\n\u001b[0;32m-> 2489\u001b[0;31m             \u001b[0mvalues\u001b[0m \u001b[0;34m=\u001b[0m \u001b[0mself\u001b[0m\u001b[0;34m.\u001b[0m\u001b[0m_data\u001b[0m\u001b[0;34m.\u001b[0m\u001b[0mget\u001b[0m\u001b[0;34m(\u001b[0m\u001b[0mitem\u001b[0m\u001b[0;34m)\u001b[0m\u001b[0;34m\u001b[0m\u001b[0m\n\u001b[0m\u001b[1;32m   2490\u001b[0m             \u001b[0mres\u001b[0m \u001b[0;34m=\u001b[0m \u001b[0mself\u001b[0m\u001b[0;34m.\u001b[0m\u001b[0m_box_item_values\u001b[0m\u001b[0;34m(\u001b[0m\u001b[0mitem\u001b[0m\u001b[0;34m,\u001b[0m \u001b[0mvalues\u001b[0m\u001b[0;34m)\u001b[0m\u001b[0;34m\u001b[0m\u001b[0m\n\u001b[1;32m   2491\u001b[0m             \u001b[0mcache\u001b[0m\u001b[0;34m[\u001b[0m\u001b[0mitem\u001b[0m\u001b[0;34m]\u001b[0m \u001b[0;34m=\u001b[0m \u001b[0mres\u001b[0m\u001b[0;34m\u001b[0m\u001b[0m\n",
          "\u001b[0;32m/opt/conda/lib/python3.6/site-packages/pandas/core/internals.py\u001b[0m in \u001b[0;36mget\u001b[0;34m(self, item, fastpath)\u001b[0m\n\u001b[1;32m   4113\u001b[0m \u001b[0;34m\u001b[0m\u001b[0m\n\u001b[1;32m   4114\u001b[0m             \u001b[0;32mif\u001b[0m \u001b[0;32mnot\u001b[0m \u001b[0misna\u001b[0m\u001b[0;34m(\u001b[0m\u001b[0mitem\u001b[0m\u001b[0;34m)\u001b[0m\u001b[0;34m:\u001b[0m\u001b[0;34m\u001b[0m\u001b[0m\n\u001b[0;32m-> 4115\u001b[0;31m                 \u001b[0mloc\u001b[0m \u001b[0;34m=\u001b[0m \u001b[0mself\u001b[0m\u001b[0;34m.\u001b[0m\u001b[0mitems\u001b[0m\u001b[0;34m.\u001b[0m\u001b[0mget_loc\u001b[0m\u001b[0;34m(\u001b[0m\u001b[0mitem\u001b[0m\u001b[0;34m)\u001b[0m\u001b[0;34m\u001b[0m\u001b[0m\n\u001b[0m\u001b[1;32m   4116\u001b[0m             \u001b[0;32melse\u001b[0m\u001b[0;34m:\u001b[0m\u001b[0;34m\u001b[0m\u001b[0m\n\u001b[1;32m   4117\u001b[0m                 \u001b[0mindexer\u001b[0m \u001b[0;34m=\u001b[0m \u001b[0mnp\u001b[0m\u001b[0;34m.\u001b[0m\u001b[0marange\u001b[0m\u001b[0;34m(\u001b[0m\u001b[0mlen\u001b[0m\u001b[0;34m(\u001b[0m\u001b[0mself\u001b[0m\u001b[0;34m.\u001b[0m\u001b[0mitems\u001b[0m\u001b[0;34m)\u001b[0m\u001b[0;34m)\u001b[0m\u001b[0;34m[\u001b[0m\u001b[0misna\u001b[0m\u001b[0;34m(\u001b[0m\u001b[0mself\u001b[0m\u001b[0;34m.\u001b[0m\u001b[0mitems\u001b[0m\u001b[0;34m)\u001b[0m\u001b[0;34m]\u001b[0m\u001b[0;34m\u001b[0m\u001b[0m\n",
          "\u001b[0;32m/opt/conda/lib/python3.6/site-packages/pandas/core/indexes/base.py\u001b[0m in \u001b[0;36mget_loc\u001b[0;34m(self, key, method, tolerance)\u001b[0m\n\u001b[1;32m   3078\u001b[0m                 \u001b[0;32mreturn\u001b[0m \u001b[0mself\u001b[0m\u001b[0;34m.\u001b[0m\u001b[0m_engine\u001b[0m\u001b[0;34m.\u001b[0m\u001b[0mget_loc\u001b[0m\u001b[0;34m(\u001b[0m\u001b[0mkey\u001b[0m\u001b[0;34m)\u001b[0m\u001b[0;34m\u001b[0m\u001b[0m\n\u001b[1;32m   3079\u001b[0m             \u001b[0;32mexcept\u001b[0m \u001b[0mKeyError\u001b[0m\u001b[0;34m:\u001b[0m\u001b[0;34m\u001b[0m\u001b[0m\n\u001b[0;32m-> 3080\u001b[0;31m                 \u001b[0;32mreturn\u001b[0m \u001b[0mself\u001b[0m\u001b[0;34m.\u001b[0m\u001b[0m_engine\u001b[0m\u001b[0;34m.\u001b[0m\u001b[0mget_loc\u001b[0m\u001b[0;34m(\u001b[0m\u001b[0mself\u001b[0m\u001b[0;34m.\u001b[0m\u001b[0m_maybe_cast_indexer\u001b[0m\u001b[0;34m(\u001b[0m\u001b[0mkey\u001b[0m\u001b[0;34m)\u001b[0m\u001b[0;34m)\u001b[0m\u001b[0;34m\u001b[0m\u001b[0m\n\u001b[0m\u001b[1;32m   3081\u001b[0m \u001b[0;34m\u001b[0m\u001b[0m\n\u001b[1;32m   3082\u001b[0m         \u001b[0mindexer\u001b[0m \u001b[0;34m=\u001b[0m \u001b[0mself\u001b[0m\u001b[0;34m.\u001b[0m\u001b[0mget_indexer\u001b[0m\u001b[0;34m(\u001b[0m\u001b[0;34m[\u001b[0m\u001b[0mkey\u001b[0m\u001b[0;34m]\u001b[0m\u001b[0;34m,\u001b[0m \u001b[0mmethod\u001b[0m\u001b[0;34m=\u001b[0m\u001b[0mmethod\u001b[0m\u001b[0;34m,\u001b[0m \u001b[0mtolerance\u001b[0m\u001b[0;34m=\u001b[0m\u001b[0mtolerance\u001b[0m\u001b[0;34m)\u001b[0m\u001b[0;34m\u001b[0m\u001b[0m\n",
          "\u001b[0;32mpandas/_libs/index.pyx\u001b[0m in \u001b[0;36mpandas._libs.index.IndexEngine.get_loc\u001b[0;34m()\u001b[0m\n",
          "\u001b[0;32mpandas/_libs/index.pyx\u001b[0m in \u001b[0;36mpandas._libs.index.IndexEngine.get_loc\u001b[0;34m()\u001b[0m\n",
          "\u001b[0;32mpandas/_libs/hashtable_class_helper.pxi\u001b[0m in \u001b[0;36mpandas._libs.hashtable.PyObjectHashTable.get_item\u001b[0;34m()\u001b[0m\n",
          "\u001b[0;32mpandas/_libs/hashtable_class_helper.pxi\u001b[0m in \u001b[0;36mpandas._libs.hashtable.PyObjectHashTable.get_item\u001b[0;34m()\u001b[0m\n",
          "\u001b[0;31mKeyError\u001b[0m: 'area_type'"
         ]
        }
       ]
      }
     },
     "fd3c90e4156140f09ca3285ceb7f205c": {
      "model_module": "@jupyter-widgets/controls",
      "model_module_version": "1.4.0",
      "model_name": "DropdownModel",
      "state": {
       "_options_labels": [
        "June",
        "May",
        "April",
        "March",
        "February",
        "January",
        "December",
        "November",
        "October",
        "September",
        "August",
        "July"
       ],
       "description": "month",
       "index": 0,
       "layout": "IPY_MODEL_ac246a472d8c4f0bb4d2a70a187109aa",
       "style": "IPY_MODEL_a5b954ed45e14867a28047f8e93516ce"
      }
     },
     "fd77b2d0906941b5872a9f67fce42676": {
      "model_module": "@jupyter-widgets/controls",
      "model_module_version": "1.4.0",
      "model_name": "ButtonModel",
      "state": {
       "description": "Run Interact",
       "layout": "IPY_MODEL_07ed6effe9c14d519415f3cafd244c46",
       "style": "IPY_MODEL_75b6b019d0ae44a19b047e2a8fc13a65"
      }
     },
     "fdcc0c5c7908496f9e9d41091bb84f99": {
      "model_module": "@jupyter-widgets/controls",
      "model_module_version": "1.4.0",
      "model_name": "DescriptionStyleModel",
      "state": {
       "description_width": ""
      }
     },
     "ffcdac3da3a3489f89fa62d24f531f03": {
      "model_module": "@jupyter-widgets/controls",
      "model_module_version": "1.4.0",
      "model_name": "ButtonModel",
      "state": {
       "description": "Run Interact",
       "layout": "IPY_MODEL_9451903295c742e789c1b9d366296c64",
       "style": "IPY_MODEL_c9c01abba2604084a4627b80e8ccb845"
      }
     }
    },
    "version_major": 2,
    "version_minor": 0
   }
  }
 },
 "nbformat": 4,
 "nbformat_minor": 2
}
