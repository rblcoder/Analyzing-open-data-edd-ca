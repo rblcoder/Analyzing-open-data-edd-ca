{
 "cells": [
  {
   "cell_type": "markdown",
   "metadata": {},
   "source": [
    "Data : https://data.edd.ca.gov/Labor-Force-and-Unemployment-Rates/Local-Area-Unemployment-Statistics-LAUS-/e6gw-gvii"
   ]
  },
  {
   "cell_type": "code",
   "execution_count": 1,
   "metadata": {},
   "outputs": [],
   "source": [
    "from utils import eda\n",
    "import ipywidgets as widgets\n",
    "import numpy as np\n",
    "import pandas as pd\n",
    "%matplotlib inline"
   ]
  },
  {
   "cell_type": "code",
   "execution_count": 2,
   "metadata": {},
   "outputs": [],
   "source": [
    "eda_iv = eda.Eda()"
   ]
  },
  {
   "cell_type": "code",
   "execution_count": 3,
   "metadata": {},
   "outputs": [
    {
     "name": "stdout",
     "output_type": "stream",
     "text": [
      "Area Type ,Area Name ,Date,Year ,Month,Seasonally Adjusted (Y/N) ,Status (Preliminary / Final) ,Labor Force,Employment ,Unemployment ,Unemployment Rate \r\n",
      "County,Alameda County,06/01/2019,2019,June,N,Preliminary,844400,818500,25800,0.0\r\n",
      "County,Alpine County,06/01/2019,2019,June,N,Preliminary,480,450,40,0.1\r\n"
     ]
    }
   ],
   "source": [
    "#https://ipython.org/ipython-doc/3/interactive/reference.html\n",
    "!head -n3 './Local_Area_Unemployment_Statistics__LAUS_.csv'"
   ]
  },
  {
   "cell_type": "code",
   "execution_count": 4,
   "metadata": {},
   "outputs": [],
   "source": [
    "eda_iv.load_data('./Local_Area_Unemployment_Statistics__LAUS_.csv')"
   ]
  },
  {
   "cell_type": "code",
   "execution_count": 5,
   "metadata": {},
   "outputs": [],
   "source": [
    "df_us = eda_iv.df"
   ]
  },
  {
   "cell_type": "code",
   "execution_count": 6,
   "metadata": {},
   "outputs": [
    {
     "name": "stdout",
     "output_type": "stream",
     "text": [
      "********** info **********\n",
      "<class 'pandas.core.frame.DataFrame'>\n",
      "RangeIndex: 148963 entries, 0 to 148962\n",
      "Data columns (total 11 columns):\n",
      "area type                       148963 non-null object\n",
      "area name                       148963 non-null object\n",
      "date                            148963 non-null object\n",
      "year                            148963 non-null int64\n",
      "month                           148963 non-null object\n",
      "seasonally adjusted (y/n)       148963 non-null object\n",
      "status (preliminary / final)    148963 non-null object\n",
      "labor force                     148963 non-null int64\n",
      "employment                      148963 non-null int64\n",
      "unemployment                    148963 non-null int64\n",
      "unemployment rate               148963 non-null float64\n",
      "dtypes: float64(1), int64(4), object(6)\n",
      "memory usage: 12.5+ MB\n",
      "None\n",
      "********** columns **********\n",
      "Index(['area type', 'area name', 'date', 'year', 'month',\n",
      "       'seasonally adjusted (y/n)', 'status (preliminary / final)',\n",
      "       'labor force', 'employment', 'unemployment', 'unemployment rate'],\n",
      "      dtype='object')\n",
      "********** number of duplicated rows **********\n",
      "0\n",
      "********** number of nulls in columns **********\n",
      "area type                       0\n",
      "area name                       0\n",
      "date                            0\n",
      "year                            0\n",
      "month                           0\n",
      "seasonally adjusted (y/n)       0\n",
      "status (preliminary / final)    0\n",
      "labor force                     0\n",
      "employment                      0\n",
      "unemployment                    0\n",
      "unemployment rate               0\n",
      "dtype: int64\n",
      "********** describe **********\n",
      "                year   labor force    employment  unemployment  \\\n",
      "count  148963.000000  1.489630e+05  1.489630e+05  1.489630e+05   \n",
      "mean     2011.349892  2.600840e+05  2.415197e+05  1.856368e+04   \n",
      "std         6.908028  1.388911e+06  1.290458e+06  1.040383e+05   \n",
      "min      1976.000000  0.000000e+00  0.000000e+00  0.000000e+00   \n",
      "25%      2010.000000  1.900000e+03  1.700000e+03  1.600000e+02   \n",
      "50%      2013.000000  1.090000e+04  9.800000e+03  8.000000e+02   \n",
      "75%      2016.000000  6.130000e+04  5.557800e+04  5.042000e+03   \n",
      "max      2019.000000  1.959630e+07  1.880210e+07  2.316500e+06   \n",
      "\n",
      "       unemployment rate  \n",
      "count      148963.000000  \n",
      "mean            0.088680  \n",
      "std             0.077502  \n",
      "min             0.000000  \n",
      "25%             0.000000  \n",
      "50%             0.100000  \n",
      "75%             0.100000  \n",
      "max             1.000000  \n",
      "********** df.head **********\n",
      "                                           0              1\n",
      "area type                             County         County\n",
      "area name                     Alameda County  Alpine County\n",
      "date                              06/01/2019     06/01/2019\n",
      "year                                    2019           2019\n",
      "month                                   June           June\n",
      "seasonally adjusted (y/n)                  N              N\n",
      "status (preliminary / final)     Preliminary    Preliminary\n",
      "labor force                           844400            480\n",
      "employment                            818500            450\n",
      "unemployment                           25800             40\n",
      "unemployment rate                          0            0.1\n"
     ]
    }
   ],
   "source": [
    "eda_iv.view_data_details()"
   ]
  },
  {
   "cell_type": "code",
   "execution_count": 7,
   "metadata": {},
   "outputs": [],
   "source": [
    "df_us['date'] = pd.to_datetime(df_us['date'])"
   ]
  },
  {
   "cell_type": "code",
   "execution_count": 8,
   "metadata": {},
   "outputs": [
    {
     "name": "stdout",
     "output_type": "stream",
     "text": [
      "<class 'pandas.core.frame.DataFrame'>\n",
      "RangeIndex: 148963 entries, 0 to 148962\n",
      "Data columns (total 11 columns):\n",
      "area type                       148963 non-null object\n",
      "area name                       148963 non-null object\n",
      "date                            148963 non-null datetime64[ns]\n",
      "year                            148963 non-null int64\n",
      "month                           148963 non-null object\n",
      "seasonally adjusted (y/n)       148963 non-null object\n",
      "status (preliminary / final)    148963 non-null object\n",
      "labor force                     148963 non-null int64\n",
      "employment                      148963 non-null int64\n",
      "unemployment                    148963 non-null int64\n",
      "unemployment rate               148963 non-null float64\n",
      "dtypes: datetime64[ns](1), float64(1), int64(4), object(5)\n",
      "memory usage: 12.5+ MB\n"
     ]
    }
   ],
   "source": [
    "df_us.info()"
   ]
  },
  {
   "cell_type": "code",
   "execution_count": 9,
   "metadata": {},
   "outputs": [
    {
     "data": {
      "text/plain": [
       "[]"
      ]
     },
     "execution_count": 9,
     "metadata": {},
     "output_type": "execute_result"
    }
   ],
   "source": [
    "eda_iv.check_for_constant_columns()"
   ]
  },
  {
   "cell_type": "code",
   "execution_count": 10,
   "metadata": {},
   "outputs": [
    {
     "data": {
      "application/vnd.jupyter.widget-view+json": {
       "model_id": "65f530140d374b789f7658226061879b",
       "version_major": 2,
       "version_minor": 0
      },
      "text/plain": [
       "Dropdown(description='Columns', options=('area type', 'area name', 'date', 'year', 'month', 'seasonally adjust…"
      ]
     },
     "metadata": {},
     "output_type": "display_data"
    },
    {
     "name": "stdout",
     "output_type": "stream",
     "text": [
      "Sub-County Place     106134\n",
      "Metropolitan Area     21154\n",
      "County                20799\n",
      "State                   876\n",
      "Name: area type, dtype: int64\n"
     ]
    }
   ],
   "source": [
    "eda_iv.view_column_value_counts()"
   ]
  },
  {
   "cell_type": "code",
   "execution_count": 11,
   "metadata": {},
   "outputs": [
    {
     "name": "stdout",
     "output_type": "stream",
     "text": [
      "Cardinality of data\n",
      "area type : 4\n",
      "area name : 1049\n",
      "date : 522\n",
      "year : 44\n",
      "month : 12\n",
      "seasonally adjusted (y/n) : 2\n",
      "status (preliminary / final) : 2\n",
      "labor force : 21803\n",
      "employment : 21677\n",
      "unemployment : 12734\n",
      "unemployment rate : 10\n"
     ]
    }
   ],
   "source": [
    "eda_iv.view_cardinality_of_data()"
   ]
  },
  {
   "cell_type": "code",
   "execution_count": 12,
   "metadata": {},
   "outputs": [
    {
     "data": {
      "text/plain": [
       "area type\n",
       "County                58\n",
       "Metropolitan Area     59\n",
       "State                  1\n",
       "Sub-County Place     931\n",
       "Name: area name, dtype: int64"
      ]
     },
     "execution_count": 12,
     "metadata": {},
     "output_type": "execute_result"
    }
   ],
   "source": [
    "df_us.groupby('area type')['area name'].nunique()"
   ]
  },
  {
   "cell_type": "code",
   "execution_count": 13,
   "metadata": {},
   "outputs": [
    {
     "data": {
      "text/plain": [
       "Los Angeles County        708\n",
       "Monterey County           354\n",
       "Yolo County               354\n",
       "Santa Clara County        354\n",
       "Amador County             354\n",
       "Placer County             354\n",
       "Contra Costa County       354\n",
       "Mariposa County           354\n",
       "Modoc County              354\n",
       "Sutter County             354\n",
       "San Benito County         354\n",
       "San Bernardino County     354\n",
       "Stanislaus County         354\n",
       "Ventura County            354\n",
       "Del Norte County          354\n",
       "Tuolumne County           354\n",
       "Trinity County            354\n",
       "Alpine County             354\n",
       "Kern County               354\n",
       "Napa County               354\n",
       "Alameda County            354\n",
       "Plumas County             354\n",
       "Mono County               354\n",
       "Sacramento County         354\n",
       "San Francisco County      354\n",
       "Mendocino County          354\n",
       "Colusa County             354\n",
       "San Diego County          354\n",
       "Kings County              354\n",
       "Glenn County              354\n",
       "Santa Cruz County         354\n",
       "Fresno County             354\n",
       "San Mateo County          354\n",
       "Madera County             354\n",
       "Shasta County             354\n",
       "San Joaquin County        354\n",
       "Butte County              354\n",
       "Imperial County           354\n",
       "Merced County             354\n",
       "Humboldt County           354\n",
       "Riverside County          354\n",
       "Nevada County             354\n",
       "Lassen County             354\n",
       "Marin County              354\n",
       "Tulare County             354\n",
       "Santa Barbara County      354\n",
       "Sierra County             354\n",
       "Tehama County             354\n",
       "Solano County             354\n",
       "Calaveras County          354\n",
       "Sonoma County             354\n",
       "San Luis Obispo County    354\n",
       "Lake County               354\n",
       "Inyo County               354\n",
       "El Dorado County          354\n",
       "Siskiyou County           354\n",
       "Yuba County               354\n",
       "Orange County             267\n",
       "Name: area name, dtype: int64"
      ]
     },
     "execution_count": 13,
     "metadata": {},
     "output_type": "execute_result"
    }
   ],
   "source": [
    "df_us.loc[df_us['area type']=='County','area name'].value_counts()"
   ]
  },
  {
   "cell_type": "code",
   "execution_count": 14,
   "metadata": {},
   "outputs": [
    {
     "data": {
      "text/plain": [
       "Los Angeles-Long Beach-Glendale MD                            708\n",
       "Fresno MSA                                                    354\n",
       "Fresno, CA MSA                                                354\n",
       "Redding MSA                                                   354\n",
       "Chico, CA MSA                                                 354\n",
       "Hanford-Corcoran, CA MSA                                      354\n",
       "Visalia-Porterville, CA MSA                                   354\n",
       "Madera MSA                                                    354\n",
       "Sacramento--Roseville--Arden-Arcade, CA MSA                   354\n",
       "Yuba City MSA                                                 354\n",
       "San Francisco-Oakland-Hayward, CA MSA                         354\n",
       "Riverside-San Bernardino-Ontario MSA                          354\n",
       "San Luis Obispo-Paso Robles-Arroyo Grande MSA                 354\n",
       "San Rafael, CA Met Div                                        354\n",
       "Stockton-Lodi MSA                                             354\n",
       "Oxnard-Thousand Oaks-Ventura MSA                              354\n",
       "Santa Rosa, CA MSA                                            354\n",
       "Visalia-Porterville MSA                                       354\n",
       "Napa MSA                                                      354\n",
       "Merced MSA                                                    354\n",
       "San Jose-Sunnyvale-Santa Clara MSA                            354\n",
       "Riverside-San Bernardino-Ontario, CA MSA                      354\n",
       "Vallejo-Fairfield MSA                                         354\n",
       "Stockton-Lodi, CA MSA                                         354\n",
       "San Rafael MD                                                 354\n",
       "Anaheim-Santa Ana-Irvine, CA Met Div                          354\n",
       "Salinas, CA MSA                                               354\n",
       "Santa Rosa MSA                                                354\n",
       "San Francisco-Redwood City-South San Francisco MD             354\n",
       "El Centro, CA MSA                                             354\n",
       "Modesto MSA                                                   354\n",
       "Oakland-Hayward-Berkeley, CA Met Div                          354\n",
       "San Francisco-Redwood City-South San Francisco, CA Met Div    354\n",
       "Yuba City, CA MSA                                             354\n",
       "Vallejo-Fairfield, CA MSA                                     354\n",
       "Santa Maria-Santa Barbara MSA                                 354\n",
       "San Diego-Carlsbad, CA MSA                                    354\n",
       "San Luis Obispo-Paso Robles-Arroyo Grande, CA MSA             354\n",
       "Chico MSA                                                     354\n",
       "San Jose-Sunnyvale-Santa Clara, CA MSA                        354\n",
       "Santa Cruz-Watsonville MSA                                    354\n",
       "Oxnard-Thousand Oaks-Ventura, CA MSA                          354\n",
       "Madera, CA MSA                                                354\n",
       "Bakersfield MSA                                               354\n",
       "Hanford-Corcoran MSA                                          354\n",
       "Modesto, CA MSA                                               354\n",
       "Santa Maria-Santa Barbara, CA MSA                             354\n",
       "El Centro MSA                                                 354\n",
       "Los Angeles-Long Beach-Anaheim, CA MSA                        354\n",
       "Santa Cruz-Watsonville, CA MSA                                354\n",
       "Napa, CA MSA                                                  354\n",
       "Merced, CA MSA                                                354\n",
       "Bakersfield, CA MSA                                           354\n",
       "Sacramento--Roseville--Arden-Arcade MSA                       354\n",
       "San Diego-Carlsbad MSA                                        354\n",
       "Oakland-Hayward-Berkeley MD                                   354\n",
       "Salinas MSA                                                   354\n",
       "Redding, CA MSA                                               354\n",
       "Anaheim-Santa Ana-Irvine MD                                   268\n",
       "Name: area name, dtype: int64"
      ]
     },
     "execution_count": 14,
     "metadata": {},
     "output_type": "execute_result"
    }
   ],
   "source": [
    "df_us.loc[df_us['area type']=='Metropolitan Area','area name'].value_counts()"
   ]
  },
  {
   "cell_type": "code",
   "execution_count": 15,
   "metadata": {},
   "outputs": [
    {
     "data": {
      "text/html": [
       "<div>\n",
       "<style scoped>\n",
       "    .dataframe tbody tr th:only-of-type {\n",
       "        vertical-align: middle;\n",
       "    }\n",
       "\n",
       "    .dataframe tbody tr th {\n",
       "        vertical-align: top;\n",
       "    }\n",
       "\n",
       "    .dataframe thead th {\n",
       "        text-align: right;\n",
       "    }\n",
       "</style>\n",
       "<table border=\"1\" class=\"dataframe\">\n",
       "  <thead>\n",
       "    <tr style=\"text-align: right;\">\n",
       "      <th></th>\n",
       "      <th>date</th>\n",
       "      <th>labor force</th>\n",
       "      <th>employment</th>\n",
       "      <th>unemployment</th>\n",
       "      <th>unemployment rate</th>\n",
       "    </tr>\n",
       "  </thead>\n",
       "  <tbody>\n",
       "    <tr>\n",
       "      <th>119</th>\n",
       "      <td>2019-06-01</td>\n",
       "      <td>19421500</td>\n",
       "      <td>18607800</td>\n",
       "      <td>813700</td>\n",
       "      <td>0.0</td>\n",
       "    </tr>\n",
       "    <tr>\n",
       "      <th>120</th>\n",
       "      <td>2019-06-01</td>\n",
       "      <td>19293700</td>\n",
       "      <td>18493300</td>\n",
       "      <td>800500</td>\n",
       "      <td>0.0</td>\n",
       "    </tr>\n",
       "    <tr>\n",
       "      <th>1171</th>\n",
       "      <td>2019-05-01</td>\n",
       "      <td>19479200</td>\n",
       "      <td>18653100</td>\n",
       "      <td>826100</td>\n",
       "      <td>0.0</td>\n",
       "    </tr>\n",
       "    <tr>\n",
       "      <th>1172</th>\n",
       "      <td>2019-05-01</td>\n",
       "      <td>19290200</td>\n",
       "      <td>18609200</td>\n",
       "      <td>680900</td>\n",
       "      <td>0.0</td>\n",
       "    </tr>\n",
       "    <tr>\n",
       "      <th>2223</th>\n",
       "      <td>2019-04-01</td>\n",
       "      <td>19528400</td>\n",
       "      <td>18692500</td>\n",
       "      <td>835900</td>\n",
       "      <td>0.0</td>\n",
       "    </tr>\n",
       "  </tbody>\n",
       "</table>\n",
       "</div>"
      ],
      "text/plain": [
       "           date  labor force  employment  unemployment  unemployment rate\n",
       "119  2019-06-01     19421500    18607800        813700                0.0\n",
       "120  2019-06-01     19293700    18493300        800500                0.0\n",
       "1171 2019-05-01     19479200    18653100        826100                0.0\n",
       "1172 2019-05-01     19290200    18609200        680900                0.0\n",
       "2223 2019-04-01     19528400    18692500        835900                0.0"
      ]
     },
     "execution_count": 15,
     "metadata": {},
     "output_type": "execute_result"
    }
   ],
   "source": [
    "df_us.loc[df_us['area type']=='State', ['date','labor force', 'employment', 'unemployment', 'unemployment rate']].head()"
   ]
  },
  {
   "cell_type": "code",
   "execution_count": 16,
   "metadata": {},
   "outputs": [
    {
     "data": {
      "text/plain": [
       "Y    522\n",
       "N    354\n",
       "Name: seasonally adjusted (y/n), dtype: int64"
      ]
     },
     "execution_count": 16,
     "metadata": {},
     "output_type": "execute_result"
    }
   ],
   "source": [
    "df_us.loc[df_us['area type']=='State','seasonally adjusted (y/n)'].value_counts()"
   ]
  },
  {
   "cell_type": "code",
   "execution_count": 17,
   "metadata": {},
   "outputs": [
    {
     "data": {
      "text/html": [
       "<div>\n",
       "<style scoped>\n",
       "    .dataframe tbody tr th:only-of-type {\n",
       "        vertical-align: middle;\n",
       "    }\n",
       "\n",
       "    .dataframe tbody tr th {\n",
       "        vertical-align: top;\n",
       "    }\n",
       "\n",
       "    .dataframe thead th {\n",
       "        text-align: right;\n",
       "    }\n",
       "</style>\n",
       "<table border=\"1\" class=\"dataframe\">\n",
       "  <thead>\n",
       "    <tr style=\"text-align: right;\">\n",
       "      <th></th>\n",
       "      <th>area type</th>\n",
       "      <th>area name</th>\n",
       "      <th>date</th>\n",
       "      <th>year</th>\n",
       "      <th>month</th>\n",
       "      <th>seasonally adjusted (y/n)</th>\n",
       "      <th>status (preliminary / final)</th>\n",
       "      <th>labor force</th>\n",
       "      <th>employment</th>\n",
       "      <th>unemployment</th>\n",
       "      <th>unemployment rate</th>\n",
       "    </tr>\n",
       "  </thead>\n",
       "  <tbody>\n",
       "    <tr>\n",
       "      <th>119</th>\n",
       "      <td>State</td>\n",
       "      <td>California</td>\n",
       "      <td>2019-06-01</td>\n",
       "      <td>2019</td>\n",
       "      <td>June</td>\n",
       "      <td>Y</td>\n",
       "      <td>Preliminary</td>\n",
       "      <td>19421500</td>\n",
       "      <td>18607800</td>\n",
       "      <td>813700</td>\n",
       "      <td>0.0</td>\n",
       "    </tr>\n",
       "    <tr>\n",
       "      <th>1171</th>\n",
       "      <td>State</td>\n",
       "      <td>California</td>\n",
       "      <td>2019-05-01</td>\n",
       "      <td>2019</td>\n",
       "      <td>May</td>\n",
       "      <td>Y</td>\n",
       "      <td>Final</td>\n",
       "      <td>19479200</td>\n",
       "      <td>18653100</td>\n",
       "      <td>826100</td>\n",
       "      <td>0.0</td>\n",
       "    </tr>\n",
       "    <tr>\n",
       "      <th>2223</th>\n",
       "      <td>State</td>\n",
       "      <td>California</td>\n",
       "      <td>2019-04-01</td>\n",
       "      <td>2019</td>\n",
       "      <td>April</td>\n",
       "      <td>Y</td>\n",
       "      <td>Final</td>\n",
       "      <td>19528400</td>\n",
       "      <td>18692500</td>\n",
       "      <td>835900</td>\n",
       "      <td>0.0</td>\n",
       "    </tr>\n",
       "    <tr>\n",
       "      <th>3276</th>\n",
       "      <td>State</td>\n",
       "      <td>California</td>\n",
       "      <td>2019-03-01</td>\n",
       "      <td>2019</td>\n",
       "      <td>March</td>\n",
       "      <td>Y</td>\n",
       "      <td>Final</td>\n",
       "      <td>19580200</td>\n",
       "      <td>18741900</td>\n",
       "      <td>838300</td>\n",
       "      <td>0.0</td>\n",
       "    </tr>\n",
       "    <tr>\n",
       "      <th>4328</th>\n",
       "      <td>State</td>\n",
       "      <td>California</td>\n",
       "      <td>2019-02-01</td>\n",
       "      <td>2019</td>\n",
       "      <td>February</td>\n",
       "      <td>Y</td>\n",
       "      <td>Final</td>\n",
       "      <td>19582200</td>\n",
       "      <td>18758000</td>\n",
       "      <td>824200</td>\n",
       "      <td>0.0</td>\n",
       "    </tr>\n",
       "  </tbody>\n",
       "</table>\n",
       "</div>"
      ],
      "text/plain": [
       "     area type   area name       date  year     month  \\\n",
       "119      State  California 2019-06-01  2019      June   \n",
       "1171     State  California 2019-05-01  2019       May   \n",
       "2223     State  California 2019-04-01  2019     April   \n",
       "3276     State  California 2019-03-01  2019     March   \n",
       "4328     State  California 2019-02-01  2019  February   \n",
       "\n",
       "     seasonally adjusted (y/n) status (preliminary / final)  labor force  \\\n",
       "119                          Y                  Preliminary     19421500   \n",
       "1171                         Y                        Final     19479200   \n",
       "2223                         Y                        Final     19528400   \n",
       "3276                         Y                        Final     19580200   \n",
       "4328                         Y                        Final     19582200   \n",
       "\n",
       "      employment  unemployment  unemployment rate  \n",
       "119     18607800        813700                0.0  \n",
       "1171    18653100        826100                0.0  \n",
       "2223    18692500        835900                0.0  \n",
       "3276    18741900        838300                0.0  \n",
       "4328    18758000        824200                0.0  "
      ]
     },
     "execution_count": 17,
     "metadata": {},
     "output_type": "execute_result"
    }
   ],
   "source": [
    "df_us.loc[(df_us['area type']=='State') & (df_us['seasonally adjusted (y/n)']=='Y')].head()"
   ]
  },
  {
   "cell_type": "code",
   "execution_count": 18,
   "metadata": {},
   "outputs": [],
   "source": [
    "df_state_seas_adjusted = df_us.loc[(df_us['area type']=='State') & (df_us['seasonally adjusted (y/n)']=='Y'), ['date','labor force', 'employment', 'unemployment']]"
   ]
  },
  {
   "cell_type": "code",
   "execution_count": 19,
   "metadata": {},
   "outputs": [],
   "source": [
    "#df_state_seas_adjusted['diff'] = df_state_seas_adjusted['labor force'] - df_state_seas_adjusted['employment']"
   ]
  },
  {
   "cell_type": "code",
   "execution_count": 27,
   "metadata": {},
   "outputs": [
    {
     "data": {
      "text/html": [
       "<div>\n",
       "<style scoped>\n",
       "    .dataframe tbody tr th:only-of-type {\n",
       "        vertical-align: middle;\n",
       "    }\n",
       "\n",
       "    .dataframe tbody tr th {\n",
       "        vertical-align: top;\n",
       "    }\n",
       "\n",
       "    .dataframe thead th {\n",
       "        text-align: right;\n",
       "    }\n",
       "</style>\n",
       "<table border=\"1\" class=\"dataframe\">\n",
       "  <thead>\n",
       "    <tr style=\"text-align: right;\">\n",
       "      <th></th>\n",
       "      <th>date</th>\n",
       "      <th>labor force</th>\n",
       "      <th>employment</th>\n",
       "      <th>unemployment</th>\n",
       "    </tr>\n",
       "  </thead>\n",
       "  <tbody>\n",
       "    <tr>\n",
       "      <th>119</th>\n",
       "      <td>2019-06-01</td>\n",
       "      <td>19421500</td>\n",
       "      <td>18607800</td>\n",
       "      <td>813700</td>\n",
       "    </tr>\n",
       "    <tr>\n",
       "      <th>1171</th>\n",
       "      <td>2019-05-01</td>\n",
       "      <td>19479200</td>\n",
       "      <td>18653100</td>\n",
       "      <td>826100</td>\n",
       "    </tr>\n",
       "    <tr>\n",
       "      <th>2223</th>\n",
       "      <td>2019-04-01</td>\n",
       "      <td>19528400</td>\n",
       "      <td>18692500</td>\n",
       "      <td>835900</td>\n",
       "    </tr>\n",
       "    <tr>\n",
       "      <th>3276</th>\n",
       "      <td>2019-03-01</td>\n",
       "      <td>19580200</td>\n",
       "      <td>18741900</td>\n",
       "      <td>838300</td>\n",
       "    </tr>\n",
       "    <tr>\n",
       "      <th>4328</th>\n",
       "      <td>2019-02-01</td>\n",
       "      <td>19582200</td>\n",
       "      <td>18758000</td>\n",
       "      <td>824200</td>\n",
       "    </tr>\n",
       "  </tbody>\n",
       "</table>\n",
       "</div>"
      ],
      "text/plain": [
       "           date  labor force  employment  unemployment\n",
       "119  2019-06-01     19421500    18607800        813700\n",
       "1171 2019-05-01     19479200    18653100        826100\n",
       "2223 2019-04-01     19528400    18692500        835900\n",
       "3276 2019-03-01     19580200    18741900        838300\n",
       "4328 2019-02-01     19582200    18758000        824200"
      ]
     },
     "execution_count": 27,
     "metadata": {},
     "output_type": "execute_result"
    }
   ],
   "source": [
    "df_state_seas_adjusted.head()"
   ]
  },
  {
   "cell_type": "code",
   "execution_count": 21,
   "metadata": {},
   "outputs": [
    {
     "data": {
      "text/plain": [
       "0"
      ]
     },
     "execution_count": 21,
     "metadata": {},
     "output_type": "execute_result"
    }
   ],
   "source": [
    "df_state_seas_adjusted.duplicated().sum()"
   ]
  },
  {
   "cell_type": "code",
   "execution_count": 22,
   "metadata": {},
   "outputs": [
    {
     "data": {
      "text/plain": [
       "DatetimeIndex(['1976-01-01', '1976-02-01', '1976-03-01', '1976-04-01',\n",
       "               '1976-05-01', '1976-06-01', '1976-07-01', '1976-08-01',\n",
       "               '1976-09-01', '1976-10-01',\n",
       "               ...\n",
       "               '2018-09-01', '2018-10-01', '2018-11-01', '2018-12-01',\n",
       "               '2019-01-01', '2019-02-01', '2019-03-01', '2019-04-01',\n",
       "               '2019-05-01', '2019-06-01'],\n",
       "              dtype='datetime64[ns]', name='date', length=522, freq=None)"
      ]
     },
     "execution_count": 22,
     "metadata": {},
     "output_type": "execute_result"
    }
   ],
   "source": [
    "df_state_seas_adjusted.set_index('date').sort_index().index"
   ]
  },
  {
   "cell_type": "code",
   "execution_count": 23,
   "metadata": {},
   "outputs": [],
   "source": [
    "#_=df_state_seas_adjusted.set_index('date').sort_index().rolling(window='365D').mean().plot()"
   ]
  },
  {
   "cell_type": "code",
   "execution_count": 24,
   "metadata": {},
   "outputs": [
    {
     "data": {
      "image/png": "[encoded data removed]",
      "text/plain": [
       "<Figure size 432x288 with 1 Axes>"
      ]
     },
     "metadata": {
      "needs_background": "light"
     },
     "output_type": "display_data"
    }
   ],
   "source": [
    "df_state_seas_adjusted_365_mean = df_state_seas_adjusted.set_index('date').sort_index().rolling(window='365D').mean()\n",
    "_=df_state_seas_adjusted_365_mean.plot()"
   ]
  },
  {
   "cell_type": "code",
   "execution_count": 26,
   "metadata": {},
   "outputs": [
    {
     "data": {
      "image/png": "[encoded data removed]",
      "text/plain": [
       "<Figure size 432x288 with 1 Axes>"
      ]
     },
     "metadata": {
      "needs_background": "light"
     },
     "output_type": "display_data"
    }
   ],
   "source": [
    "df_state_seas_adjusted_365_mean = df_state_seas_adjusted.set_index('date').sort_index().ewm(span=500).mean()\n",
    "_=df_state_seas_adjusted_365_mean.plot()"
   ]
  },
  {
   "cell_type": "code",
   "execution_count": null,
   "metadata": {},
   "outputs": [],
   "source": [
    "#df_state_seas_adjusted.set_index('date').plot()"
   ]
  },
  {
   "cell_type": "code",
   "execution_count": null,
   "metadata": {},
   "outputs": [],
   "source": [
    "df_us.loc[(df_us['area type']=='State') & (df_us['seasonally adjusted (y/n)']=='N')].head()"
   ]
  },
  {
   "cell_type": "code",
   "execution_count": 28,
   "metadata": {},
   "outputs": [],
   "source": [
    "df_state_seas_not_adjusted = df_us.loc[(df_us['area type']=='State') & (df_us['seasonally adjusted (y/n)']=='N'), ['date','labor force', 'employment', 'unemployment']]"
   ]
  },
  {
   "cell_type": "code",
   "execution_count": 29,
   "metadata": {},
   "outputs": [
    {
     "data": {
      "image/png": "[encoded data removed]",
      "text/plain": [
       "<Figure size 432x288 with 1 Axes>"
      ]
     },
     "metadata": {
      "needs_background": "light"
     },
     "output_type": "display_data"
    }
   ],
   "source": [
    "df_state_seas_not_adjusted_365_mean = df_state_seas_not_adjusted.set_index('date').sort_index().rolling(window='365D').mean()\n",
    "_=df_state_seas_not_adjusted_365_mean.plot()"
   ]
  },
  {
   "cell_type": "code",
   "execution_count": 30,
   "metadata": {},
   "outputs": [
    {
     "data": {
      "image/png": "[encoded data removed]",
      "text/plain": [
       "<Figure size 432x288 with 1 Axes>"
      ]
     },
     "metadata": {
      "needs_background": "light"
     },
     "output_type": "display_data"
    }
   ],
   "source": [
    "df_state_seas_not_adjusted_365_mean = df_state_seas_not_adjusted.set_index('date').sort_index().ewm(span=500).mean()\n",
    "_=df_state_seas_not_adjusted_365_mean.plot()"
   ]
  },
  {
   "cell_type": "code",
   "execution_count": null,
   "metadata": {},
   "outputs": [],
   "source": []
  }
 ],
 "metadata": {
  "kernelspec": {
   "display_name": "Python [conda env:for_github]",
   "language": "python",
   "name": "conda-env-for_github-py"
  },
  "language_info": {
   "codemirror_mode": {
    "name": "ipython",
    "version": 3
   },
   "file_extension": ".py",
   "mimetype": "text/x-python",
   "name": "python",
   "nbconvert_exporter": "python",
   "pygments_lexer": "ipython3",
   "version": "3.7.3"
  }
 },
 "nbformat": 4,
 "nbformat_minor": 2
}
